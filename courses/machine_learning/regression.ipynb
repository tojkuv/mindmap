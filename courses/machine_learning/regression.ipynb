{
 "cells": [
  {
   "cell_type": "markdown",
   "metadata": {
    "id": "e4cnBhHe-dlE"
   },
   "source": [
    "# Regression\n",
    "\n",
    "So far, in our exploration of machine learning, we have build sysems that predict discrete values: \n",
    "\n",
    "* whether a particular plant is Iris Setosa, Iris Versicolour, or Iris Virginica\n",
    "* whether a person has diabetes or not\n",
    "* whether a tumor is malignant or benign \n",
    "\n",
    "\n",
    "Even deciding whether an image is of a particular digit:\n",
    "\n",
    "![](https://raw.githubusercontent.com/zacharski/ml-class/master/labs/pics/MnistExamples.png)\n",
    "\n",
    "or which of 1,000 categories does a picture represent.\n",
    "\n",
    "\n",
    "![](https://raw.githubusercontent.com/zacharski/datamining-guide/master/labs/pics/poodleSmall.jpg)\n",
    "\n",
    "\n",
    "This lab looks at how we can build classifiers that predict **continuous** values and such classifiers are called regression classifiers.\n",
    "\n",
    "First, let's take a small detour into correlation.\n",
    "\n",
    "## Correlation\n",
    "A correlation is the degree of association between two variables. One of my favorite books on this topic is: \n",
    "\n",
    "\n",
    "![](https://raw.githubusercontent.com/zacharski/ml-class/master/labs/pics/mg_statistics_big.png)\n",
    "\n",
    "\n",
    "\n",
    "and they illustrate it by looking at\n",
    "## Ladies expenditures on clothes and makeup\n",
    "![](https://raw.githubusercontent.com/zacharski/ml-class/master/labs/pics/mangaCorrelation1.png)\n",
    "![](https://raw.githubusercontent.com/zacharski/ml-class/master/labs/pics/mangeCorrelation2.png)\n",
    "\n",
    "\n",
    "\n",
    "So let's go ahead and create that data in Pandas and show the table:"
   ]
  },
  {
   "cell_type": "code",
   "execution_count": 1,
   "metadata": {
    "colab": {
     "base_uri": "https://localhost:8080/",
     "height": 363
    },
    "id": "bqpDwvW3-dlF",
    "outputId": "2aa782ae-aad9-4c17-9753-2cf9d3b1879c"
   },
   "outputs": [
    {
     "data": {
      "text/plain": "      makeup  clothes\nMs A    3000     7000\nMs B    5000     8000\nMs C   12000    25000\nMs D    2000     5000\nMs E    7000    12000\nMs F   15000    30000\nMs G    5000    10000\nMs H    6000    15000\nMs I    8000    20000\nMs J   10000    18000",
      "text/html": "<div>\n<style scoped>\n    .dataframe tbody tr th:only-of-type {\n        vertical-align: middle;\n    }\n\n    .dataframe tbody tr th {\n        vertical-align: top;\n    }\n\n    .dataframe thead th {\n        text-align: right;\n    }\n</style>\n<table border=\"1\" class=\"dataframe\">\n  <thead>\n    <tr style=\"text-align: right;\">\n      <th></th>\n      <th>makeup</th>\n      <th>clothes</th>\n    </tr>\n  </thead>\n  <tbody>\n    <tr>\n      <th>Ms A</th>\n      <td>3000</td>\n      <td>7000</td>\n    </tr>\n    <tr>\n      <th>Ms B</th>\n      <td>5000</td>\n      <td>8000</td>\n    </tr>\n    <tr>\n      <th>Ms C</th>\n      <td>12000</td>\n      <td>25000</td>\n    </tr>\n    <tr>\n      <th>Ms D</th>\n      <td>2000</td>\n      <td>5000</td>\n    </tr>\n    <tr>\n      <th>Ms E</th>\n      <td>7000</td>\n      <td>12000</td>\n    </tr>\n    <tr>\n      <th>Ms F</th>\n      <td>15000</td>\n      <td>30000</td>\n    </tr>\n    <tr>\n      <th>Ms G</th>\n      <td>5000</td>\n      <td>10000</td>\n    </tr>\n    <tr>\n      <th>Ms H</th>\n      <td>6000</td>\n      <td>15000</td>\n    </tr>\n    <tr>\n      <th>Ms I</th>\n      <td>8000</td>\n      <td>20000</td>\n    </tr>\n    <tr>\n      <th>Ms J</th>\n      <td>10000</td>\n      <td>18000</td>\n    </tr>\n  </tbody>\n</table>\n</div>"
     },
     "execution_count": 1,
     "metadata": {},
     "output_type": "execute_result"
    }
   ],
   "source": [
    "import pandas as pd\n",
    "from pandas import DataFrame\n",
    "\n",
    "makeup =  [3000, 5000, 12000, 2000, 7000,  15000,  5000,  6000, 8000,  10000]\n",
    "clothes = [7000, 8000, 25000, 5000, 12000, 30000, 10000, 15000, 20000, 18000]\n",
    "ladies = ['Ms A','Ms B','Ms C','Ms D','Ms E','Ms F','Ms G','Ms H','Ms I','Ms J',]\n",
    "monthly = DataFrame({'makeup': makeup, 'clothes': clothes}, index= ladies)\n",
    "monthly"
   ]
  },
  {
   "cell_type": "markdown",
   "metadata": {
    "id": "_Yyce16P-dlJ"
   },
   "source": [
    "and let's show the scatterplot"
   ]
  },
  {
   "cell_type": "code",
   "execution_count": 2,
   "metadata": {
    "colab": {
     "base_uri": "https://localhost:8080/",
     "height": 617
    },
    "id": "f5QIDuDg-dlJ",
    "outputId": "14862ecd-81e2-4d93-f321-01e7ff285667"
   },
   "outputs": [
    {
     "data": {
      "text/html": "<style>\n        .bk-notebook-logo {\n            display: block;\n            width: 20px;\n            height: 20px;\n            background-image: url(data:image/png;base64,iVBORw0KGgoAAAANSUhEUgAAABQAAAAUCAYAAACNiR0NAAAABHNCSVQICAgIfAhkiAAAAAlwSFlzAAALEgAACxIB0t1+/AAAABx0RVh0U29mdHdhcmUAQWRvYmUgRmlyZXdvcmtzIENTNui8sowAAAOkSURBVDiNjZRtaJVlGMd/1/08zzln5zjP1LWcU9N0NkN8m2CYjpgQYQXqSs0I84OLIC0hkEKoPtiH3gmKoiJDU7QpLgoLjLIQCpEsNJ1vqUOdO7ppbuec5+V+rj4ctwzd8IIbbi6u+8f1539dt3A78eXC7QizUF7gyV1fD1Yqg4JWz84yffhm0qkFqBogB9rM8tZdtwVsPUhWhGcFJngGeWrPzHm5oaMmkfEg1usvLFyc8jLRqDOMru7AyC8saQr7GG7f5fvDeH7Ej8CM66nIF+8yngt6HWaKh7k49Soy9nXurCi1o3qUbS3zWfrYeQDTB/Qj6kX6Ybhw4B+bOYoLKCC9H3Nu/leUTZ1JdRWkkn2ldcCamzrcf47KKXdAJllSlxAOkRgyHsGC/zRday5Qld9DyoM4/q/rUoy/CXh3jzOu3bHUVZeU+DEn8FInkPBFlu3+nW3Nw0mk6vCDiWg8CeJaxEwuHS3+z5RgY+YBR6V1Z1nxSOfoaPa4LASWxxdNp+VWTk7+4vzaou8v8PN+xo+KY2xsw6une2frhw05CTYOmQvsEhjhWjn0bmXPjpE1+kplmmkP3suftwTubK9Vq22qKmrBhpY4jvd5afdRA3wGjFAgcnTK2s4hY0/GPNIb0nErGMCRxWOOX64Z8RAC4oCXdklmEvcL8o0BfkNK4lUg9HTl+oPlQxdNo3Mg4Nv175e/1LDGzZen30MEjRUtmXSfiTVu1kK8W4txyV6BMKlbgk3lMwYCiusNy9fVfvvwMxv8Ynl6vxoByANLTWplvuj/nF9m2+PDtt1eiHPBr1oIfhCChQMBw6Aw0UulqTKZdfVvfG7VcfIqLG9bcldL/+pdWTLxLUy8Qq38heUIjh4XlzZxzQm19lLFlr8vdQ97rjZVOLf8nclzckbcD4wxXMidpX30sFd37Fv/GtwwhzhxGVAprjbg0gCAEeIgwCZyTV2Z1REEW8O4py0wsjeloKoMr6iCY6dP92H6Vw/oTyICIthibxjm/DfN9lVz8IqtqKYLUXfoKVMVQVVJOElGjrnnUt9T9wbgp8AyYKaGlqingHZU/uG2NTZSVqwHQTWkx9hxjkpWDaCg6Ckj5qebgBVbT3V3NNXMSiWSDdGV3hrtzla7J+duwPOToIg42ChPQOQjspnSlp1V+Gjdged7+8UN5CRAV7a5EdFNwCjEaBR27b3W890TE7g24NAP/mMDXRWrGoFPQI9ls/MWO2dWFAar/xcOIImbbpA3zgAAAABJRU5ErkJggg==);\n        }\n    </style>\n    <div>\n        <a href=\"https://bokeh.org\" target=\"_blank\" class=\"bk-notebook-logo\"></a>\n        <span id=\"p1001\">Loading BokehJS ...</span>\n    </div>\n"
     },
     "metadata": {},
     "output_type": "display_data"
    },
    {
     "data": {
      "application/javascript": "(function(root) {\n  function now() {\n    return new Date();\n  }\n\n  const force = true;\n\n  if (typeof root._bokeh_onload_callbacks === \"undefined\" || force === true) {\n    root._bokeh_onload_callbacks = [];\n    root._bokeh_is_loading = undefined;\n  }\n\nconst JS_MIME_TYPE = 'application/javascript';\n  const HTML_MIME_TYPE = 'text/html';\n  const EXEC_MIME_TYPE = 'application/vnd.bokehjs_exec.v0+json';\n  const CLASS_NAME = 'output_bokeh rendered_html';\n\n  /**\n   * Render data to the DOM node\n   */\n  function render(props, node) {\n    const script = document.createElement(\"script\");\n    node.appendChild(script);\n  }\n\n  /**\n   * Handle when an output is cleared or removed\n   */\n  function handleClearOutput(event, handle) {\n    const cell = handle.cell;\n\n    const id = cell.output_area._bokeh_element_id;\n    const server_id = cell.output_area._bokeh_server_id;\n    // Clean up Bokeh references\n    if (id != null && id in Bokeh.index) {\n      Bokeh.index[id].model.document.clear();\n      delete Bokeh.index[id];\n    }\n\n    if (server_id !== undefined) {\n      // Clean up Bokeh references\n      const cmd_clean = \"from bokeh.io.state import curstate; print(curstate().uuid_to_server['\" + server_id + \"'].get_sessions()[0].document.roots[0]._id)\";\n      cell.notebook.kernel.execute(cmd_clean, {\n        iopub: {\n          output: function(msg) {\n            const id = msg.content.text.trim();\n            if (id in Bokeh.index) {\n              Bokeh.index[id].model.document.clear();\n              delete Bokeh.index[id];\n            }\n          }\n        }\n      });\n      // Destroy server and session\n      const cmd_destroy = \"import bokeh.io.notebook as ion; ion.destroy_server('\" + server_id + \"')\";\n      cell.notebook.kernel.execute(cmd_destroy);\n    }\n  }\n\n  /**\n   * Handle when a new output is added\n   */\n  function handleAddOutput(event, handle) {\n    const output_area = handle.output_area;\n    const output = handle.output;\n\n    // limit handleAddOutput to display_data with EXEC_MIME_TYPE content only\n    if ((output.output_type != \"display_data\") || (!Object.prototype.hasOwnProperty.call(output.data, EXEC_MIME_TYPE))) {\n      return\n    }\n\n    const toinsert = output_area.element.find(\".\" + CLASS_NAME.split(' ')[0]);\n\n    if (output.metadata[EXEC_MIME_TYPE][\"id\"] !== undefined) {\n      toinsert[toinsert.length - 1].firstChild.textContent = output.data[JS_MIME_TYPE];\n      // store reference to embed id on output_area\n      output_area._bokeh_element_id = output.metadata[EXEC_MIME_TYPE][\"id\"];\n    }\n    if (output.metadata[EXEC_MIME_TYPE][\"server_id\"] !== undefined) {\n      const bk_div = document.createElement(\"div\");\n      bk_div.innerHTML = output.data[HTML_MIME_TYPE];\n      const script_attrs = bk_div.children[0].attributes;\n      for (let i = 0; i < script_attrs.length; i++) {\n        toinsert[toinsert.length - 1].firstChild.setAttribute(script_attrs[i].name, script_attrs[i].value);\n        toinsert[toinsert.length - 1].firstChild.textContent = bk_div.children[0].textContent\n      }\n      // store reference to server id on output_area\n      output_area._bokeh_server_id = output.metadata[EXEC_MIME_TYPE][\"server_id\"];\n    }\n  }\n\n  function register_renderer(events, OutputArea) {\n\n    function append_mime(data, metadata, element) {\n      // create a DOM node to render to\n      const toinsert = this.create_output_subarea(\n        metadata,\n        CLASS_NAME,\n        EXEC_MIME_TYPE\n      );\n      this.keyboard_manager.register_events(toinsert);\n      // Render to node\n      const props = {data: data, metadata: metadata[EXEC_MIME_TYPE]};\n      render(props, toinsert[toinsert.length - 1]);\n      element.append(toinsert);\n      return toinsert\n    }\n\n    /* Handle when an output is cleared or removed */\n    events.on('clear_output.CodeCell', handleClearOutput);\n    events.on('delete.Cell', handleClearOutput);\n\n    /* Handle when a new output is added */\n    events.on('output_added.OutputArea', handleAddOutput);\n\n    /**\n     * Register the mime type and append_mime function with output_area\n     */\n    OutputArea.prototype.register_mime_type(EXEC_MIME_TYPE, append_mime, {\n      /* Is output safe? */\n      safe: true,\n      /* Index of renderer in `output_area.display_order` */\n      index: 0\n    });\n  }\n\n  // register the mime type if in Jupyter Notebook environment and previously unregistered\n  if (root.Jupyter !== undefined) {\n    const events = require('base/js/events');\n    const OutputArea = require('notebook/js/outputarea').OutputArea;\n\n    if (OutputArea.prototype.mime_types().indexOf(EXEC_MIME_TYPE) == -1) {\n      register_renderer(events, OutputArea);\n    }\n  }\n  if (typeof (root._bokeh_timeout) === \"undefined\" || force === true) {\n    root._bokeh_timeout = Date.now() + 5000;\n    root._bokeh_failed_load = false;\n  }\n\n  const NB_LOAD_WARNING = {'data': {'text/html':\n     \"<div style='background-color: #fdd'>\\n\"+\n     \"<p>\\n\"+\n     \"BokehJS does not appear to have successfully loaded. If loading BokehJS from CDN, this \\n\"+\n     \"may be due to a slow or bad network connection. Possible fixes:\\n\"+\n     \"</p>\\n\"+\n     \"<ul>\\n\"+\n     \"<li>re-rerun `output_notebook()` to attempt to load from CDN again, or</li>\\n\"+\n     \"<li>use INLINE resources instead, as so:</li>\\n\"+\n     \"</ul>\\n\"+\n     \"<code>\\n\"+\n     \"from bokeh.resources import INLINE\\n\"+\n     \"output_notebook(resources=INLINE)\\n\"+\n     \"</code>\\n\"+\n     \"</div>\"}};\n\n  function display_loaded() {\n    const el = document.getElementById(\"p1001\");\n    if (el != null) {\n      el.textContent = \"BokehJS is loading...\";\n    }\n    if (root.Bokeh !== undefined) {\n      if (el != null) {\n        el.textContent = \"BokehJS \" + root.Bokeh.version + \" successfully loaded.\";\n      }\n    } else if (Date.now() < root._bokeh_timeout) {\n      setTimeout(display_loaded, 100)\n    }\n  }\n\n  function run_callbacks() {\n    try {\n      root._bokeh_onload_callbacks.forEach(function(callback) {\n        if (callback != null)\n          callback();\n      });\n    } finally {\n      delete root._bokeh_onload_callbacks\n    }\n    console.debug(\"Bokeh: all callbacks have finished\");\n  }\n\n  function load_libs(css_urls, js_urls, callback) {\n    if (css_urls == null) css_urls = [];\n    if (js_urls == null) js_urls = [];\n\n    root._bokeh_onload_callbacks.push(callback);\n    if (root._bokeh_is_loading > 0) {\n      console.debug(\"Bokeh: BokehJS is being loaded, scheduling callback at\", now());\n      return null;\n    }\n    if (js_urls == null || js_urls.length === 0) {\n      run_callbacks();\n      return null;\n    }\n    console.debug(\"Bokeh: BokehJS not loaded, scheduling load and callback at\", now());\n    root._bokeh_is_loading = css_urls.length + js_urls.length;\n\n    function on_load() {\n      root._bokeh_is_loading--;\n      if (root._bokeh_is_loading === 0) {\n        console.debug(\"Bokeh: all BokehJS libraries/stylesheets loaded\");\n        run_callbacks()\n      }\n    }\n\n    function on_error(url) {\n      console.error(\"failed to load \" + url);\n    }\n\n    for (let i = 0; i < css_urls.length; i++) {\n      const url = css_urls[i];\n      const element = document.createElement(\"link\");\n      element.onload = on_load;\n      element.onerror = on_error.bind(null, url);\n      element.rel = \"stylesheet\";\n      element.type = \"text/css\";\n      element.href = url;\n      console.debug(\"Bokeh: injecting link tag for BokehJS stylesheet: \", url);\n      document.body.appendChild(element);\n    }\n\n    for (let i = 0; i < js_urls.length; i++) {\n      const url = js_urls[i];\n      const element = document.createElement('script');\n      element.onload = on_load;\n      element.onerror = on_error.bind(null, url);\n      element.async = false;\n      element.src = url;\n      console.debug(\"Bokeh: injecting script tag for BokehJS library: \", url);\n      document.head.appendChild(element);\n    }\n  };\n\n  function inject_raw_css(css) {\n    const element = document.createElement(\"style\");\n    element.appendChild(document.createTextNode(css));\n    document.body.appendChild(element);\n  }\n\n  const js_urls = [\"https://cdn.bokeh.org/bokeh/release/bokeh-3.0.3.min.js\", \"https://cdn.bokeh.org/bokeh/release/bokeh-gl-3.0.3.min.js\", \"https://cdn.bokeh.org/bokeh/release/bokeh-widgets-3.0.3.min.js\", \"https://cdn.bokeh.org/bokeh/release/bokeh-tables-3.0.3.min.js\", \"https://cdn.bokeh.org/bokeh/release/bokeh-mathjax-3.0.3.min.js\"];\n  const css_urls = [];\n\n  const inline_js = [    function(Bokeh) {\n      Bokeh.set_log_level(\"info\");\n    },\nfunction(Bokeh) {\n    }\n  ];\n\n  function run_inline_js() {\n    if (root.Bokeh !== undefined || force === true) {\n          for (let i = 0; i < inline_js.length; i++) {\n      inline_js[i].call(root, root.Bokeh);\n    }\nif (force === true) {\n        display_loaded();\n      }} else if (Date.now() < root._bokeh_timeout) {\n      setTimeout(run_inline_js, 100);\n    } else if (!root._bokeh_failed_load) {\n      console.log(\"Bokeh: BokehJS failed to load within specified timeout.\");\n      root._bokeh_failed_load = true;\n    } else if (force !== true) {\n      const cell = $(document.getElementById(\"p1001\")).parents('.cell').data().cell;\n      cell.output_area.append_execute_result(NB_LOAD_WARNING)\n    }\n  }\n\n  if (root._bokeh_is_loading === 0) {\n    console.debug(\"Bokeh: BokehJS loaded, going straight to plotting\");\n    run_inline_js();\n  } else {\n    load_libs(css_urls, js_urls, function() {\n      console.debug(\"Bokeh: BokehJS plotting callback run at\", now());\n      run_inline_js();\n    });\n  }\n}(window));",
      "application/vnd.bokehjs_load.v0+json": "(function(root) {\n  function now() {\n    return new Date();\n  }\n\n  const force = true;\n\n  if (typeof root._bokeh_onload_callbacks === \"undefined\" || force === true) {\n    root._bokeh_onload_callbacks = [];\n    root._bokeh_is_loading = undefined;\n  }\n\n\n  if (typeof (root._bokeh_timeout) === \"undefined\" || force === true) {\n    root._bokeh_timeout = Date.now() + 5000;\n    root._bokeh_failed_load = false;\n  }\n\n  const NB_LOAD_WARNING = {'data': {'text/html':\n     \"<div style='background-color: #fdd'>\\n\"+\n     \"<p>\\n\"+\n     \"BokehJS does not appear to have successfully loaded. If loading BokehJS from CDN, this \\n\"+\n     \"may be due to a slow or bad network connection. Possible fixes:\\n\"+\n     \"</p>\\n\"+\n     \"<ul>\\n\"+\n     \"<li>re-rerun `output_notebook()` to attempt to load from CDN again, or</li>\\n\"+\n     \"<li>use INLINE resources instead, as so:</li>\\n\"+\n     \"</ul>\\n\"+\n     \"<code>\\n\"+\n     \"from bokeh.resources import INLINE\\n\"+\n     \"output_notebook(resources=INLINE)\\n\"+\n     \"</code>\\n\"+\n     \"</div>\"}};\n\n  function display_loaded() {\n    const el = document.getElementById(\"p1001\");\n    if (el != null) {\n      el.textContent = \"BokehJS is loading...\";\n    }\n    if (root.Bokeh !== undefined) {\n      if (el != null) {\n        el.textContent = \"BokehJS \" + root.Bokeh.version + \" successfully loaded.\";\n      }\n    } else if (Date.now() < root._bokeh_timeout) {\n      setTimeout(display_loaded, 100)\n    }\n  }\n\n  function run_callbacks() {\n    try {\n      root._bokeh_onload_callbacks.forEach(function(callback) {\n        if (callback != null)\n          callback();\n      });\n    } finally {\n      delete root._bokeh_onload_callbacks\n    }\n    console.debug(\"Bokeh: all callbacks have finished\");\n  }\n\n  function load_libs(css_urls, js_urls, callback) {\n    if (css_urls == null) css_urls = [];\n    if (js_urls == null) js_urls = [];\n\n    root._bokeh_onload_callbacks.push(callback);\n    if (root._bokeh_is_loading > 0) {\n      console.debug(\"Bokeh: BokehJS is being loaded, scheduling callback at\", now());\n      return null;\n    }\n    if (js_urls == null || js_urls.length === 0) {\n      run_callbacks();\n      return null;\n    }\n    console.debug(\"Bokeh: BokehJS not loaded, scheduling load and callback at\", now());\n    root._bokeh_is_loading = css_urls.length + js_urls.length;\n\n    function on_load() {\n      root._bokeh_is_loading--;\n      if (root._bokeh_is_loading === 0) {\n        console.debug(\"Bokeh: all BokehJS libraries/stylesheets loaded\");\n        run_callbacks()\n      }\n    }\n\n    function on_error(url) {\n      console.error(\"failed to load \" + url);\n    }\n\n    for (let i = 0; i < css_urls.length; i++) {\n      const url = css_urls[i];\n      const element = document.createElement(\"link\");\n      element.onload = on_load;\n      element.onerror = on_error.bind(null, url);\n      element.rel = \"stylesheet\";\n      element.type = \"text/css\";\n      element.href = url;\n      console.debug(\"Bokeh: injecting link tag for BokehJS stylesheet: \", url);\n      document.body.appendChild(element);\n    }\n\n    for (let i = 0; i < js_urls.length; i++) {\n      const url = js_urls[i];\n      const element = document.createElement('script');\n      element.onload = on_load;\n      element.onerror = on_error.bind(null, url);\n      element.async = false;\n      element.src = url;\n      console.debug(\"Bokeh: injecting script tag for BokehJS library: \", url);\n      document.head.appendChild(element);\n    }\n  };\n\n  function inject_raw_css(css) {\n    const element = document.createElement(\"style\");\n    element.appendChild(document.createTextNode(css));\n    document.body.appendChild(element);\n  }\n\n  const js_urls = [\"https://cdn.bokeh.org/bokeh/release/bokeh-3.0.3.min.js\", \"https://cdn.bokeh.org/bokeh/release/bokeh-gl-3.0.3.min.js\", \"https://cdn.bokeh.org/bokeh/release/bokeh-widgets-3.0.3.min.js\", \"https://cdn.bokeh.org/bokeh/release/bokeh-tables-3.0.3.min.js\", \"https://cdn.bokeh.org/bokeh/release/bokeh-mathjax-3.0.3.min.js\"];\n  const css_urls = [];\n\n  const inline_js = [    function(Bokeh) {\n      Bokeh.set_log_level(\"info\");\n    },\nfunction(Bokeh) {\n    }\n  ];\n\n  function run_inline_js() {\n    if (root.Bokeh !== undefined || force === true) {\n          for (let i = 0; i < inline_js.length; i++) {\n      inline_js[i].call(root, root.Bokeh);\n    }\nif (force === true) {\n        display_loaded();\n      }} else if (Date.now() < root._bokeh_timeout) {\n      setTimeout(run_inline_js, 100);\n    } else if (!root._bokeh_failed_load) {\n      console.log(\"Bokeh: BokehJS failed to load within specified timeout.\");\n      root._bokeh_failed_load = true;\n    } else if (force !== true) {\n      const cell = $(document.getElementById(\"p1001\")).parents('.cell').data().cell;\n      cell.output_area.append_execute_result(NB_LOAD_WARNING)\n    }\n  }\n\n  if (root._bokeh_is_loading === 0) {\n    console.debug(\"Bokeh: BokehJS loaded, going straight to plotting\");\n    run_inline_js();\n  } else {\n    load_libs(css_urls, js_urls, function() {\n      console.debug(\"Bokeh: BokehJS plotting callback run at\", now());\n      run_inline_js();\n    });\n  }\n}(window));"
     },
     "metadata": {},
     "output_type": "display_data"
    },
    {
     "data": {
      "text/html": "\n  <div id=\"83373813-fa85-4f9a-b81d-4de67bf58dd7\" data-root-id=\"p1002\" style=\"display: contents;\"></div>\n"
     },
     "metadata": {},
     "output_type": "display_data"
    },
    {
     "data": {
      "application/javascript": "(function(root) {\n  function embed_document(root) {\n  const docs_json = {\"34ea6ef1-0bc8-4fd2-9fac-15a0530f2e2e\":{\"version\":\"3.0.3\",\"title\":\"Bokeh Application\",\"defs\":[],\"roots\":[{\"type\":\"object\",\"name\":\"Figure\",\"id\":\"p1002\",\"attributes\":{\"x_range\":{\"type\":\"object\",\"name\":\"DataRange1d\",\"id\":\"p1003\"},\"y_range\":{\"type\":\"object\",\"name\":\"DataRange1d\",\"id\":\"p1004\"},\"x_scale\":{\"type\":\"object\",\"name\":\"LinearScale\",\"id\":\"p1016\"},\"y_scale\":{\"type\":\"object\",\"name\":\"LinearScale\",\"id\":\"p1018\"},\"title\":{\"type\":\"object\",\"name\":\"Title\",\"id\":\"p1005\",\"attributes\":{\"text\":\"Montly Expenditures on Makeup and Clothes\",\"text_color\":\"#E0E0E0\",\"text_font\":\"Helvetica\",\"text_font_size\":\"1.15em\"}},\"outline_line_color\":\"#E0E0E0\",\"outline_line_alpha\":0.25,\"renderers\":[{\"type\":\"object\",\"name\":\"GlyphRenderer\",\"id\":\"p1055\",\"attributes\":{\"data_source\":{\"type\":\"object\",\"name\":\"ColumnDataSource\",\"id\":\"p1049\",\"attributes\":{\"selected\":{\"type\":\"object\",\"name\":\"Selection\",\"id\":\"p1051\",\"attributes\":{\"indices\":[],\"line_indices\":[]}},\"selection_policy\":{\"type\":\"object\",\"name\":\"UnionRenderers\",\"id\":\"p1050\"},\"data\":{\"type\":\"map\",\"entries\":[[\"x\",{\"type\":\"ndarray\",\"array\":{\"type\":\"bytes\",\"data\":\"uAsAAIgTAADgLgAA0AcAAFgbAACYOgAAiBMAAHAXAABAHwAAECcAAA==\"},\"shape\":[10],\"dtype\":\"int32\",\"order\":\"little\"}],[\"y\",{\"type\":\"ndarray\",\"array\":{\"type\":\"bytes\",\"data\":\"WBsAAEAfAACoYQAAiBMAAOAuAAAwdQAAECcAAJg6AAAgTgAAUEYAAA==\"},\"shape\":[10],\"dtype\":\"int32\",\"order\":\"little\"}]]}}},\"view\":{\"type\":\"object\",\"name\":\"CDSView\",\"id\":\"p1056\",\"attributes\":{\"filter\":{\"type\":\"object\",\"name\":\"AllIndices\",\"id\":\"p1057\"}}},\"glyph\":{\"type\":\"object\",\"name\":\"Circle\",\"id\":\"p1052\",\"attributes\":{\"x\":{\"type\":\"field\",\"field\":\"x\"},\"y\":{\"type\":\"field\",\"field\":\"y\"},\"size\":{\"type\":\"value\",\"value\":10},\"line_color\":{\"type\":\"value\",\"value\":\"navy\"},\"line_alpha\":{\"type\":\"value\",\"value\":0.5},\"fill_color\":{\"type\":\"value\",\"value\":\"navy\"},\"fill_alpha\":{\"type\":\"value\",\"value\":0.5},\"hatch_color\":{\"type\":\"value\",\"value\":\"navy\"},\"hatch_alpha\":{\"type\":\"value\",\"value\":0.5}}},\"nonselection_glyph\":{\"type\":\"object\",\"name\":\"Circle\",\"id\":\"p1053\",\"attributes\":{\"x\":{\"type\":\"field\",\"field\":\"x\"},\"y\":{\"type\":\"field\",\"field\":\"y\"},\"size\":{\"type\":\"value\",\"value\":10},\"line_color\":{\"type\":\"value\",\"value\":\"navy\"},\"line_alpha\":{\"type\":\"value\",\"value\":0.1},\"fill_color\":{\"type\":\"value\",\"value\":\"navy\"},\"fill_alpha\":{\"type\":\"value\",\"value\":0.1},\"hatch_color\":{\"type\":\"value\",\"value\":\"navy\"},\"hatch_alpha\":{\"type\":\"value\",\"value\":0.1}}},\"muted_glyph\":{\"type\":\"object\",\"name\":\"Circle\",\"id\":\"p1054\",\"attributes\":{\"x\":{\"type\":\"field\",\"field\":\"x\"},\"y\":{\"type\":\"field\",\"field\":\"y\"},\"size\":{\"type\":\"value\",\"value\":10},\"line_color\":{\"type\":\"value\",\"value\":\"navy\"},\"line_alpha\":{\"type\":\"value\",\"value\":0.2},\"fill_color\":{\"type\":\"value\",\"value\":\"navy\"},\"fill_alpha\":{\"type\":\"value\",\"value\":0.2},\"hatch_color\":{\"type\":\"value\",\"value\":\"navy\"},\"hatch_alpha\":{\"type\":\"value\",\"value\":0.2}}}}}],\"toolbar\":{\"type\":\"object\",\"name\":\"Toolbar\",\"id\":\"p1010\",\"attributes\":{\"tools\":[{\"type\":\"object\",\"name\":\"PanTool\",\"id\":\"p1034\"},{\"type\":\"object\",\"name\":\"WheelZoomTool\",\"id\":\"p1035\"},{\"type\":\"object\",\"name\":\"BoxZoomTool\",\"id\":\"p1036\",\"attributes\":{\"overlay\":{\"type\":\"object\",\"name\":\"BoxAnnotation\",\"id\":\"p1037\",\"attributes\":{\"syncable\":false,\"level\":\"overlay\",\"visible\":false,\"left_units\":\"canvas\",\"right_units\":\"canvas\",\"bottom_units\":\"canvas\",\"top_units\":\"canvas\",\"line_color\":\"black\",\"line_alpha\":1.0,\"line_width\":2,\"line_dash\":[4,4],\"fill_color\":\"lightgrey\",\"fill_alpha\":0.5}}}},{\"type\":\"object\",\"name\":\"SaveTool\",\"id\":\"p1038\"},{\"type\":\"object\",\"name\":\"ResetTool\",\"id\":\"p1039\"},{\"type\":\"object\",\"name\":\"HelpTool\",\"id\":\"p1040\"}]}},\"left\":[{\"type\":\"object\",\"name\":\"LinearAxis\",\"id\":\"p1027\",\"attributes\":{\"ticker\":{\"type\":\"object\",\"name\":\"BasicTicker\",\"id\":\"p1028\",\"attributes\":{\"mantissas\":[1,2,5]}},\"formatter\":{\"type\":\"object\",\"name\":\"BasicTickFormatter\",\"id\":\"p1030\"},\"axis_label\":\"Money spent on clothes\",\"axis_label_standoff\":10,\"axis_label_text_color\":\"#E0E0E0\",\"axis_label_text_font\":\"Helvetica\",\"axis_label_text_font_size\":\"1.25em\",\"axis_label_text_font_style\":\"normal\",\"major_label_policy\":{\"type\":\"object\",\"name\":\"AllLabels\",\"id\":\"p1029\"},\"major_label_text_color\":\"#E0E0E0\",\"major_label_text_font\":\"Helvetica\",\"major_label_text_font_size\":\"1.025em\",\"axis_line_color\":\"#E0E0E0\",\"axis_line_alpha\":0,\"major_tick_line_color\":\"#E0E0E0\",\"major_tick_line_alpha\":0,\"minor_tick_line_color\":\"#E0E0E0\",\"minor_tick_line_alpha\":0}}],\"below\":[{\"type\":\"object\",\"name\":\"LinearAxis\",\"id\":\"p1020\",\"attributes\":{\"ticker\":{\"type\":\"object\",\"name\":\"BasicTicker\",\"id\":\"p1021\",\"attributes\":{\"mantissas\":[1,2,5]}},\"formatter\":{\"type\":\"object\",\"name\":\"BasicTickFormatter\",\"id\":\"p1023\"},\"axis_label\":\"Money spent on makeup\",\"axis_label_standoff\":10,\"axis_label_text_color\":\"#E0E0E0\",\"axis_label_text_font\":\"Helvetica\",\"axis_label_text_font_size\":\"1.25em\",\"axis_label_text_font_style\":\"normal\",\"major_label_policy\":{\"type\":\"object\",\"name\":\"AllLabels\",\"id\":\"p1022\"},\"major_label_text_color\":\"#E0E0E0\",\"major_label_text_font\":\"Helvetica\",\"major_label_text_font_size\":\"1.025em\",\"axis_line_color\":\"#E0E0E0\",\"axis_line_alpha\":0,\"major_tick_line_color\":\"#E0E0E0\",\"major_tick_line_alpha\":0,\"minor_tick_line_color\":\"#E0E0E0\",\"minor_tick_line_alpha\":0}}],\"center\":[{\"type\":\"object\",\"name\":\"Grid\",\"id\":\"p1026\",\"attributes\":{\"axis\":{\"id\":\"p1020\"},\"grid_line_color\":\"#E0E0E0\",\"grid_line_alpha\":0.25}},{\"type\":\"object\",\"name\":\"Grid\",\"id\":\"p1033\",\"attributes\":{\"dimension\":1,\"axis\":{\"id\":\"p1027\"},\"grid_line_color\":\"#E0E0E0\",\"grid_line_alpha\":0.25}}],\"background_fill_color\":\"#20262B\",\"border_fill_color\":\"#15191C\"}}]}};\n  const render_items = [{\"docid\":\"34ea6ef1-0bc8-4fd2-9fac-15a0530f2e2e\",\"roots\":{\"p1002\":\"83373813-fa85-4f9a-b81d-4de67bf58dd7\"},\"root_ids\":[\"p1002\"]}];\n  root.Bokeh.embed.embed_items_notebook(docs_json, render_items);\n  }\n  if (root.Bokeh !== undefined) {\n    embed_document(root);\n  } else {\n    let attempts = 0;\n    const timer = setInterval(function(root) {\n      if (root.Bokeh !== undefined) {\n        clearInterval(timer);\n        embed_document(root);\n      } else {\n        attempts++;\n        if (attempts > 100) {\n          clearInterval(timer);\n          console.log(\"Bokeh: ERROR: Unable to run BokehJS code because BokehJS library is missing\");\n        }\n      }\n    }, 10, root)\n  }\n})(window);",
      "application/vnd.bokehjs_exec.v0+json": ""
     },
     "metadata": {
      "application/vnd.bokehjs_exec.v0+json": {
       "id": "p1002"
      }
     },
     "output_type": "display_data"
    }
   ],
   "source": [
    "from bokeh.plotting import figure, output_file, show\n",
    "from bokeh.io import push_notebook, show, output_notebook\n",
    "\n",
    "output_notebook()\n",
    "x = figure(title=\"Montly Expenditures on Makeup and Clothes\", x_axis_label=\"Money spent on makeup\", y_axis_label=\"Money spent on clothes\")\n",
    "x.circle(monthly['makeup'], monthly['clothes'], size=10, color=\"navy\", alpha=0.5)\n",
    "output_file(\"stuff.html\")\n",
    "\n",
    "show(x)"
   ]
  },
  {
   "cell_type": "markdown",
   "metadata": {
    "id": "qBH5fNxT-dlN"
   },
   "source": [
    "When the data points are close to a straight line going up, we say that there is a positive correlation between the two variables. So in the case of the plot above, it visually looks like a postive correlation. Let's look at a few more examples:\n",
    "\n",
    "## Weight and calories consumed in 1-3 yr/old children\n",
    "This small but real dataset examines whether young children who weigh more, consume more calories\n"
   ]
  },
  {
   "cell_type": "code",
   "execution_count": 3,
   "metadata": {
    "colab": {
     "base_uri": "https://localhost:8080/",
     "height": 551
    },
    "id": "bscoNATT-dlN",
    "outputId": "f873b239-dc01-4050-eae3-451a05544017"
   },
   "outputs": [
    {
     "data": {
      "text/plain": "    weight  calories\n0      7.7       360\n1      7.8       400\n2      8.6       500\n3      8.5       370\n4      8.6       525\n5      9.0       800\n6     10.1       900\n7     11.5      1200\n8     11.0      1000\n9     10.2      1400\n10    11.9      1600\n11    10.4       850\n12     9.3       575\n13     9.1       425\n14     8.5       950\n15    11.0       800",
      "text/html": "<div>\n<style scoped>\n    .dataframe tbody tr th:only-of-type {\n        vertical-align: middle;\n    }\n\n    .dataframe tbody tr th {\n        vertical-align: top;\n    }\n\n    .dataframe thead th {\n        text-align: right;\n    }\n</style>\n<table border=\"1\" class=\"dataframe\">\n  <thead>\n    <tr style=\"text-align: right;\">\n      <th></th>\n      <th>weight</th>\n      <th>calories</th>\n    </tr>\n  </thead>\n  <tbody>\n    <tr>\n      <th>0</th>\n      <td>7.7</td>\n      <td>360</td>\n    </tr>\n    <tr>\n      <th>1</th>\n      <td>7.8</td>\n      <td>400</td>\n    </tr>\n    <tr>\n      <th>2</th>\n      <td>8.6</td>\n      <td>500</td>\n    </tr>\n    <tr>\n      <th>3</th>\n      <td>8.5</td>\n      <td>370</td>\n    </tr>\n    <tr>\n      <th>4</th>\n      <td>8.6</td>\n      <td>525</td>\n    </tr>\n    <tr>\n      <th>5</th>\n      <td>9.0</td>\n      <td>800</td>\n    </tr>\n    <tr>\n      <th>6</th>\n      <td>10.1</td>\n      <td>900</td>\n    </tr>\n    <tr>\n      <th>7</th>\n      <td>11.5</td>\n      <td>1200</td>\n    </tr>\n    <tr>\n      <th>8</th>\n      <td>11.0</td>\n      <td>1000</td>\n    </tr>\n    <tr>\n      <th>9</th>\n      <td>10.2</td>\n      <td>1400</td>\n    </tr>\n    <tr>\n      <th>10</th>\n      <td>11.9</td>\n      <td>1600</td>\n    </tr>\n    <tr>\n      <th>11</th>\n      <td>10.4</td>\n      <td>850</td>\n    </tr>\n    <tr>\n      <th>12</th>\n      <td>9.3</td>\n      <td>575</td>\n    </tr>\n    <tr>\n      <th>13</th>\n      <td>9.1</td>\n      <td>425</td>\n    </tr>\n    <tr>\n      <th>14</th>\n      <td>8.5</td>\n      <td>950</td>\n    </tr>\n    <tr>\n      <th>15</th>\n      <td>11.0</td>\n      <td>800</td>\n    </tr>\n  </tbody>\n</table>\n</div>"
     },
     "execution_count": 3,
     "metadata": {},
     "output_type": "execute_result"
    }
   ],
   "source": [
    "weight = [7.7, 7.8, 8.6, 8.5, 8.6, 9, 10.1, 11.5, 11, 10.2, 11.9, 10.4, 9.3, 9.1, 8.5, 11]\n",
    "calories = [360, 400, 500, 370, 525, 800, 900, 1200, 1000, 1400, 1600, 850, 575, 425, 950, 800]\n",
    "kids = DataFrame({'weight': weight, 'calories': calories})\n",
    "kids"
   ]
  },
  {
   "cell_type": "code",
   "execution_count": 4,
   "metadata": {
    "colab": {
     "base_uri": "https://localhost:8080/",
     "height": 617
    },
    "id": "Ngx0m8sN-dlT",
    "outputId": "7e460c55-6937-4ce2-b78d-4692c7b72c37"
   },
   "outputs": [
    {
     "data": {
      "text/html": "\n  <div id=\"75a58da9-7117-4fc1-a8af-4d70314e6d4c\" data-root-id=\"p1297\" style=\"display: contents;\"></div>\n"
     },
     "metadata": {},
     "output_type": "display_data"
    },
    {
     "data": {
      "application/javascript": "(function(root) {\n  function embed_document(root) {\n  const docs_json = {\"edff2fe2-d7c7-46b3-a0a1-152a6455e7be\":{\"version\":\"3.0.3\",\"title\":\"Bokeh Application\",\"defs\":[],\"roots\":[{\"type\":\"object\",\"name\":\"Figure\",\"id\":\"p1297\",\"attributes\":{\"x_range\":{\"type\":\"object\",\"name\":\"DataRange1d\",\"id\":\"p1298\"},\"y_range\":{\"type\":\"object\",\"name\":\"DataRange1d\",\"id\":\"p1299\"},\"x_scale\":{\"type\":\"object\",\"name\":\"LinearScale\",\"id\":\"p1311\"},\"y_scale\":{\"type\":\"object\",\"name\":\"LinearScale\",\"id\":\"p1313\"},\"title\":{\"type\":\"object\",\"name\":\"Title\",\"id\":\"p1300\",\"attributes\":{\"text\":\"Weight and calories in 1-3 yr.old children\",\"text_color\":\"#E0E0E0\",\"text_font\":\"Helvetica\",\"text_font_size\":\"1.15em\"}},\"outline_line_color\":\"#E0E0E0\",\"outline_line_alpha\":0.25,\"renderers\":[{\"type\":\"object\",\"name\":\"GlyphRenderer\",\"id\":\"p1350\",\"attributes\":{\"data_source\":{\"type\":\"object\",\"name\":\"ColumnDataSource\",\"id\":\"p1344\",\"attributes\":{\"selected\":{\"type\":\"object\",\"name\":\"Selection\",\"id\":\"p1346\",\"attributes\":{\"indices\":[],\"line_indices\":[]}},\"selection_policy\":{\"type\":\"object\",\"name\":\"UnionRenderers\",\"id\":\"p1345\"},\"data\":{\"type\":\"map\",\"entries\":[[\"x\",{\"type\":\"ndarray\",\"array\":{\"type\":\"bytes\",\"data\":\"zczMzMzMHkAzMzMzMzMfQDMzMzMzMyFAAAAAAAAAIUAzMzMzMzMhQAAAAAAAACJAMzMzMzMzJEAAAAAAAAAnQAAAAAAAACZAZmZmZmZmJEDNzMzMzMwnQM3MzMzMzCRAmpmZmZmZIkAzMzMzMzMiQAAAAAAAACFAAAAAAAAAJkA=\"},\"shape\":[16],\"dtype\":\"float64\",\"order\":\"little\"}],[\"y\",{\"type\":\"ndarray\",\"array\":{\"type\":\"bytes\",\"data\":\"aAEAAJABAAD0AQAAcgEAAA0CAAAgAwAAhAMAALAEAADoAwAAeAUAAEAGAABSAwAAPwIAAKkBAAC2AwAAIAMAAA==\"},\"shape\":[16],\"dtype\":\"int32\",\"order\":\"little\"}]]}}},\"view\":{\"type\":\"object\",\"name\":\"CDSView\",\"id\":\"p1351\",\"attributes\":{\"filter\":{\"type\":\"object\",\"name\":\"AllIndices\",\"id\":\"p1352\"}}},\"glyph\":{\"type\":\"object\",\"name\":\"Circle\",\"id\":\"p1347\",\"attributes\":{\"x\":{\"type\":\"field\",\"field\":\"x\"},\"y\":{\"type\":\"field\",\"field\":\"y\"},\"size\":{\"type\":\"value\",\"value\":10},\"line_color\":{\"type\":\"value\",\"value\":\"navy\"},\"line_alpha\":{\"type\":\"value\",\"value\":0.5},\"fill_color\":{\"type\":\"value\",\"value\":\"navy\"},\"fill_alpha\":{\"type\":\"value\",\"value\":0.5},\"hatch_color\":{\"type\":\"value\",\"value\":\"navy\"},\"hatch_alpha\":{\"type\":\"value\",\"value\":0.5}}},\"nonselection_glyph\":{\"type\":\"object\",\"name\":\"Circle\",\"id\":\"p1348\",\"attributes\":{\"x\":{\"type\":\"field\",\"field\":\"x\"},\"y\":{\"type\":\"field\",\"field\":\"y\"},\"size\":{\"type\":\"value\",\"value\":10},\"line_color\":{\"type\":\"value\",\"value\":\"navy\"},\"line_alpha\":{\"type\":\"value\",\"value\":0.1},\"fill_color\":{\"type\":\"value\",\"value\":\"navy\"},\"fill_alpha\":{\"type\":\"value\",\"value\":0.1},\"hatch_color\":{\"type\":\"value\",\"value\":\"navy\"},\"hatch_alpha\":{\"type\":\"value\",\"value\":0.1}}},\"muted_glyph\":{\"type\":\"object\",\"name\":\"Circle\",\"id\":\"p1349\",\"attributes\":{\"x\":{\"type\":\"field\",\"field\":\"x\"},\"y\":{\"type\":\"field\",\"field\":\"y\"},\"size\":{\"type\":\"value\",\"value\":10},\"line_color\":{\"type\":\"value\",\"value\":\"navy\"},\"line_alpha\":{\"type\":\"value\",\"value\":0.2},\"fill_color\":{\"type\":\"value\",\"value\":\"navy\"},\"fill_alpha\":{\"type\":\"value\",\"value\":0.2},\"hatch_color\":{\"type\":\"value\",\"value\":\"navy\"},\"hatch_alpha\":{\"type\":\"value\",\"value\":0.2}}}}}],\"toolbar\":{\"type\":\"object\",\"name\":\"Toolbar\",\"id\":\"p1305\",\"attributes\":{\"tools\":[{\"type\":\"object\",\"name\":\"PanTool\",\"id\":\"p1329\"},{\"type\":\"object\",\"name\":\"WheelZoomTool\",\"id\":\"p1330\"},{\"type\":\"object\",\"name\":\"BoxZoomTool\",\"id\":\"p1331\",\"attributes\":{\"overlay\":{\"type\":\"object\",\"name\":\"BoxAnnotation\",\"id\":\"p1332\",\"attributes\":{\"syncable\":false,\"level\":\"overlay\",\"visible\":false,\"left_units\":\"canvas\",\"right_units\":\"canvas\",\"bottom_units\":\"canvas\",\"top_units\":\"canvas\",\"line_color\":\"black\",\"line_alpha\":1.0,\"line_width\":2,\"line_dash\":[4,4],\"fill_color\":\"lightgrey\",\"fill_alpha\":0.5}}}},{\"type\":\"object\",\"name\":\"SaveTool\",\"id\":\"p1333\"},{\"type\":\"object\",\"name\":\"ResetTool\",\"id\":\"p1334\"},{\"type\":\"object\",\"name\":\"HelpTool\",\"id\":\"p1335\"}]}},\"left\":[{\"type\":\"object\",\"name\":\"LinearAxis\",\"id\":\"p1322\",\"attributes\":{\"ticker\":{\"type\":\"object\",\"name\":\"BasicTicker\",\"id\":\"p1323\",\"attributes\":{\"mantissas\":[1,2,5]}},\"formatter\":{\"type\":\"object\",\"name\":\"BasicTickFormatter\",\"id\":\"p1325\"},\"axis_label\":\"weekly calories\",\"axis_label_standoff\":10,\"axis_label_text_color\":\"#E0E0E0\",\"axis_label_text_font\":\"Helvetica\",\"axis_label_text_font_size\":\"1.25em\",\"axis_label_text_font_style\":\"normal\",\"major_label_policy\":{\"type\":\"object\",\"name\":\"AllLabels\",\"id\":\"p1324\"},\"major_label_text_color\":\"#E0E0E0\",\"major_label_text_font\":\"Helvetica\",\"major_label_text_font_size\":\"1.025em\",\"axis_line_color\":\"#E0E0E0\",\"axis_line_alpha\":0,\"major_tick_line_color\":\"#E0E0E0\",\"major_tick_line_alpha\":0,\"minor_tick_line_color\":\"#E0E0E0\",\"minor_tick_line_alpha\":0}}],\"below\":[{\"type\":\"object\",\"name\":\"LinearAxis\",\"id\":\"p1315\",\"attributes\":{\"ticker\":{\"type\":\"object\",\"name\":\"BasicTicker\",\"id\":\"p1316\",\"attributes\":{\"mantissas\":[1,2,5]}},\"formatter\":{\"type\":\"object\",\"name\":\"BasicTickFormatter\",\"id\":\"p1318\"},\"axis_label\":\"weight (kg)\",\"axis_label_standoff\":10,\"axis_label_text_color\":\"#E0E0E0\",\"axis_label_text_font\":\"Helvetica\",\"axis_label_text_font_size\":\"1.25em\",\"axis_label_text_font_style\":\"normal\",\"major_label_policy\":{\"type\":\"object\",\"name\":\"AllLabels\",\"id\":\"p1317\"},\"major_label_text_color\":\"#E0E0E0\",\"major_label_text_font\":\"Helvetica\",\"major_label_text_font_size\":\"1.025em\",\"axis_line_color\":\"#E0E0E0\",\"axis_line_alpha\":0,\"major_tick_line_color\":\"#E0E0E0\",\"major_tick_line_alpha\":0,\"minor_tick_line_color\":\"#E0E0E0\",\"minor_tick_line_alpha\":0}}],\"center\":[{\"type\":\"object\",\"name\":\"Grid\",\"id\":\"p1321\",\"attributes\":{\"axis\":{\"id\":\"p1315\"},\"grid_line_color\":\"#E0E0E0\",\"grid_line_alpha\":0.25}},{\"type\":\"object\",\"name\":\"Grid\",\"id\":\"p1328\",\"attributes\":{\"dimension\":1,\"axis\":{\"id\":\"p1322\"},\"grid_line_color\":\"#E0E0E0\",\"grid_line_alpha\":0.25}}],\"background_fill_color\":\"#20262B\",\"border_fill_color\":\"#15191C\"}}]}};\n  const render_items = [{\"docid\":\"edff2fe2-d7c7-46b3-a0a1-152a6455e7be\",\"roots\":{\"p1297\":\"75a58da9-7117-4fc1-a8af-4d70314e6d4c\"},\"root_ids\":[\"p1297\"]}];\n  root.Bokeh.embed.embed_items_notebook(docs_json, render_items);\n  }\n  if (root.Bokeh !== undefined) {\n    embed_document(root);\n  } else {\n    let attempts = 0;\n    const timer = setInterval(function(root) {\n      if (root.Bokeh !== undefined) {\n        clearInterval(timer);\n        embed_document(root);\n      } else {\n        attempts++;\n        if (attempts > 100) {\n          clearInterval(timer);\n          console.log(\"Bokeh: ERROR: Unable to run BokehJS code because BokehJS library is missing\");\n        }\n      }\n    }, 10, root)\n  }\n})(window);",
      "application/vnd.bokehjs_exec.v0+json": ""
     },
     "metadata": {
      "application/vnd.bokehjs_exec.v0+json": {
       "id": "p1297"
      }
     },
     "output_type": "display_data"
    }
   ],
   "source": [
    "p = figure(title=\"Weight and calories in 1-3 yr.old children\", \n",
    "           x_axis_label=\"weight (kg)\", y_axis_label='weekly calories')\n",
    "p.circle(kids['weight'], kids['calories'], size=10, color='navy', alpha=0.5)\n",
    "show(p)\n"
   ]
  },
  {
   "cell_type": "markdown",
   "metadata": {
    "id": "JfU5QT1G-dlW"
   },
   "source": [
    "And again, there appears to be a positive correlation.\n",
    "\n",
    "## The stronger the correlation the closer to a straight line\n",
    "The closer the data points are to a straight line, the higher the correlation. A rising straight line (rising going left to right) would be perfect positive correlation. Here we are comparing the heights in inches of some NHL players with their heights in cm. Obviously, those are perfectly correlated."
   ]
  },
  {
   "cell_type": "code",
   "execution_count": 5,
   "metadata": {
    "colab": {
     "base_uri": "https://localhost:8080/",
     "height": 238
    },
    "id": "SJJ5k9Iu-dlX",
    "outputId": "0bedd7c3-0b27-4ccd-941e-e9e49cbccdfa"
   },
   "outputs": [
    {
     "data": {
      "text/plain": "   heightInches  heightCM\n0            68       173\n1            73       185\n2            69       175\n3            72       183\n4            71       180\n5            77       196",
      "text/html": "<div>\n<style scoped>\n    .dataframe tbody tr th:only-of-type {\n        vertical-align: middle;\n    }\n\n    .dataframe tbody tr th {\n        vertical-align: top;\n    }\n\n    .dataframe thead th {\n        text-align: right;\n    }\n</style>\n<table border=\"1\" class=\"dataframe\">\n  <thead>\n    <tr style=\"text-align: right;\">\n      <th></th>\n      <th>heightInches</th>\n      <th>heightCM</th>\n    </tr>\n  </thead>\n  <tbody>\n    <tr>\n      <th>0</th>\n      <td>68</td>\n      <td>173</td>\n    </tr>\n    <tr>\n      <th>1</th>\n      <td>73</td>\n      <td>185</td>\n    </tr>\n    <tr>\n      <th>2</th>\n      <td>69</td>\n      <td>175</td>\n    </tr>\n    <tr>\n      <th>3</th>\n      <td>72</td>\n      <td>183</td>\n    </tr>\n    <tr>\n      <th>4</th>\n      <td>71</td>\n      <td>180</td>\n    </tr>\n    <tr>\n      <th>5</th>\n      <td>77</td>\n      <td>196</td>\n    </tr>\n  </tbody>\n</table>\n</div>"
     },
     "execution_count": 5,
     "metadata": {},
     "output_type": "execute_result"
    }
   ],
   "source": [
    "inches =[68, 73, 69,72,71,77]\n",
    "cm = [173, 185, 175, 183, 180, 196]\n",
    "nhlHeights = DataFrame({'heightInches': inches, 'heightCM': cm})\n",
    "nhlHeights"
   ]
  },
  {
   "cell_type": "code",
   "execution_count": 6,
   "metadata": {
    "colab": {
     "base_uri": "https://localhost:8080/",
     "height": 617
    },
    "id": "MWppQKt4-dla",
    "outputId": "95f0522a-5c58-46d9-9d5b-4142b8bd1be6"
   },
   "outputs": [
    {
     "data": {
      "text/html": "\n  <div id=\"5aae1c0c-5dba-473f-9b5a-3e2c2004f14e\" data-root-id=\"p1631\" style=\"display: contents;\"></div>\n"
     },
     "metadata": {},
     "output_type": "display_data"
    },
    {
     "data": {
      "application/javascript": "(function(root) {\n  function embed_document(root) {\n  const docs_json = {\"fbde5cd9-eaf7-4acd-86bc-012e0107682f\":{\"version\":\"3.0.3\",\"title\":\"Bokeh Application\",\"defs\":[],\"roots\":[{\"type\":\"object\",\"name\":\"Figure\",\"id\":\"p1631\",\"attributes\":{\"x_range\":{\"type\":\"object\",\"name\":\"DataRange1d\",\"id\":\"p1632\"},\"y_range\":{\"type\":\"object\",\"name\":\"DataRange1d\",\"id\":\"p1633\"},\"x_scale\":{\"type\":\"object\",\"name\":\"LinearScale\",\"id\":\"p1645\"},\"y_scale\":{\"type\":\"object\",\"name\":\"LinearScale\",\"id\":\"p1647\"},\"title\":{\"type\":\"object\",\"name\":\"Title\",\"id\":\"p1634\",\"attributes\":{\"text\":\"Comparison of Height in Inches and Height in CM\",\"text_color\":\"#E0E0E0\",\"text_font\":\"Helvetica\",\"text_font_size\":\"1.15em\"}},\"outline_line_color\":\"#E0E0E0\",\"outline_line_alpha\":0.25,\"renderers\":[{\"type\":\"object\",\"name\":\"GlyphRenderer\",\"id\":\"p1684\",\"attributes\":{\"data_source\":{\"type\":\"object\",\"name\":\"ColumnDataSource\",\"id\":\"p1678\",\"attributes\":{\"selected\":{\"type\":\"object\",\"name\":\"Selection\",\"id\":\"p1680\",\"attributes\":{\"indices\":[],\"line_indices\":[]}},\"selection_policy\":{\"type\":\"object\",\"name\":\"UnionRenderers\",\"id\":\"p1679\"},\"data\":{\"type\":\"map\",\"entries\":[[\"x\",{\"type\":\"ndarray\",\"array\":{\"type\":\"bytes\",\"data\":\"RAAAAEkAAABFAAAASAAAAEcAAABNAAAA\"},\"shape\":[6],\"dtype\":\"int32\",\"order\":\"little\"}],[\"y\",{\"type\":\"ndarray\",\"array\":{\"type\":\"bytes\",\"data\":\"rQAAALkAAACvAAAAtwAAALQAAADEAAAA\"},\"shape\":[6],\"dtype\":\"int32\",\"order\":\"little\"}]]}}},\"view\":{\"type\":\"object\",\"name\":\"CDSView\",\"id\":\"p1685\",\"attributes\":{\"filter\":{\"type\":\"object\",\"name\":\"AllIndices\",\"id\":\"p1686\"}}},\"glyph\":{\"type\":\"object\",\"name\":\"Circle\",\"id\":\"p1681\",\"attributes\":{\"x\":{\"type\":\"field\",\"field\":\"x\"},\"y\":{\"type\":\"field\",\"field\":\"y\"},\"size\":{\"type\":\"value\",\"value\":10},\"line_color\":{\"type\":\"value\",\"value\":\"navy\"},\"line_alpha\":{\"type\":\"value\",\"value\":0.5},\"fill_color\":{\"type\":\"value\",\"value\":\"navy\"},\"fill_alpha\":{\"type\":\"value\",\"value\":0.5},\"hatch_color\":{\"type\":\"value\",\"value\":\"navy\"},\"hatch_alpha\":{\"type\":\"value\",\"value\":0.5}}},\"nonselection_glyph\":{\"type\":\"object\",\"name\":\"Circle\",\"id\":\"p1682\",\"attributes\":{\"x\":{\"type\":\"field\",\"field\":\"x\"},\"y\":{\"type\":\"field\",\"field\":\"y\"},\"size\":{\"type\":\"value\",\"value\":10},\"line_color\":{\"type\":\"value\",\"value\":\"navy\"},\"line_alpha\":{\"type\":\"value\",\"value\":0.1},\"fill_color\":{\"type\":\"value\",\"value\":\"navy\"},\"fill_alpha\":{\"type\":\"value\",\"value\":0.1},\"hatch_color\":{\"type\":\"value\",\"value\":\"navy\"},\"hatch_alpha\":{\"type\":\"value\",\"value\":0.1}}},\"muted_glyph\":{\"type\":\"object\",\"name\":\"Circle\",\"id\":\"p1683\",\"attributes\":{\"x\":{\"type\":\"field\",\"field\":\"x\"},\"y\":{\"type\":\"field\",\"field\":\"y\"},\"size\":{\"type\":\"value\",\"value\":10},\"line_color\":{\"type\":\"value\",\"value\":\"navy\"},\"line_alpha\":{\"type\":\"value\",\"value\":0.2},\"fill_color\":{\"type\":\"value\",\"value\":\"navy\"},\"fill_alpha\":{\"type\":\"value\",\"value\":0.2},\"hatch_color\":{\"type\":\"value\",\"value\":\"navy\"},\"hatch_alpha\":{\"type\":\"value\",\"value\":0.2}}}}}],\"toolbar\":{\"type\":\"object\",\"name\":\"Toolbar\",\"id\":\"p1639\",\"attributes\":{\"tools\":[{\"type\":\"object\",\"name\":\"PanTool\",\"id\":\"p1663\"},{\"type\":\"object\",\"name\":\"WheelZoomTool\",\"id\":\"p1664\"},{\"type\":\"object\",\"name\":\"BoxZoomTool\",\"id\":\"p1665\",\"attributes\":{\"overlay\":{\"type\":\"object\",\"name\":\"BoxAnnotation\",\"id\":\"p1666\",\"attributes\":{\"syncable\":false,\"level\":\"overlay\",\"visible\":false,\"left_units\":\"canvas\",\"right_units\":\"canvas\",\"bottom_units\":\"canvas\",\"top_units\":\"canvas\",\"line_color\":\"black\",\"line_alpha\":1.0,\"line_width\":2,\"line_dash\":[4,4],\"fill_color\":\"lightgrey\",\"fill_alpha\":0.5}}}},{\"type\":\"object\",\"name\":\"SaveTool\",\"id\":\"p1667\"},{\"type\":\"object\",\"name\":\"ResetTool\",\"id\":\"p1668\"},{\"type\":\"object\",\"name\":\"HelpTool\",\"id\":\"p1669\"}]}},\"left\":[{\"type\":\"object\",\"name\":\"LinearAxis\",\"id\":\"p1656\",\"attributes\":{\"ticker\":{\"type\":\"object\",\"name\":\"BasicTicker\",\"id\":\"p1657\",\"attributes\":{\"mantissas\":[1,2,5]}},\"formatter\":{\"type\":\"object\",\"name\":\"BasicTickFormatter\",\"id\":\"p1659\"},\"axis_label\":\"Height in centimeters\",\"axis_label_standoff\":10,\"axis_label_text_color\":\"#E0E0E0\",\"axis_label_text_font\":\"Helvetica\",\"axis_label_text_font_size\":\"1.25em\",\"axis_label_text_font_style\":\"normal\",\"major_label_policy\":{\"type\":\"object\",\"name\":\"AllLabels\",\"id\":\"p1658\"},\"major_label_text_color\":\"#E0E0E0\",\"major_label_text_font\":\"Helvetica\",\"major_label_text_font_size\":\"1.025em\",\"axis_line_color\":\"#E0E0E0\",\"axis_line_alpha\":0,\"major_tick_line_color\":\"#E0E0E0\",\"major_tick_line_alpha\":0,\"minor_tick_line_color\":\"#E0E0E0\",\"minor_tick_line_alpha\":0}}],\"below\":[{\"type\":\"object\",\"name\":\"LinearAxis\",\"id\":\"p1649\",\"attributes\":{\"ticker\":{\"type\":\"object\",\"name\":\"BasicTicker\",\"id\":\"p1650\",\"attributes\":{\"mantissas\":[1,2,5]}},\"formatter\":{\"type\":\"object\",\"name\":\"BasicTickFormatter\",\"id\":\"p1652\"},\"axis_label\":\"Height in Inches\",\"axis_label_standoff\":10,\"axis_label_text_color\":\"#E0E0E0\",\"axis_label_text_font\":\"Helvetica\",\"axis_label_text_font_size\":\"1.25em\",\"axis_label_text_font_style\":\"normal\",\"major_label_policy\":{\"type\":\"object\",\"name\":\"AllLabels\",\"id\":\"p1651\"},\"major_label_text_color\":\"#E0E0E0\",\"major_label_text_font\":\"Helvetica\",\"major_label_text_font_size\":\"1.025em\",\"axis_line_color\":\"#E0E0E0\",\"axis_line_alpha\":0,\"major_tick_line_color\":\"#E0E0E0\",\"major_tick_line_alpha\":0,\"minor_tick_line_color\":\"#E0E0E0\",\"minor_tick_line_alpha\":0}}],\"center\":[{\"type\":\"object\",\"name\":\"Grid\",\"id\":\"p1655\",\"attributes\":{\"axis\":{\"id\":\"p1649\"},\"grid_line_color\":\"#E0E0E0\",\"grid_line_alpha\":0.25}},{\"type\":\"object\",\"name\":\"Grid\",\"id\":\"p1662\",\"attributes\":{\"dimension\":1,\"axis\":{\"id\":\"p1656\"},\"grid_line_color\":\"#E0E0E0\",\"grid_line_alpha\":0.25}}],\"background_fill_color\":\"#20262B\",\"border_fill_color\":\"#15191C\"}}]}};\n  const render_items = [{\"docid\":\"fbde5cd9-eaf7-4acd-86bc-012e0107682f\",\"roots\":{\"p1631\":\"5aae1c0c-5dba-473f-9b5a-3e2c2004f14e\"},\"root_ids\":[\"p1631\"]}];\n  root.Bokeh.embed.embed_items_notebook(docs_json, render_items);\n  }\n  if (root.Bokeh !== undefined) {\n    embed_document(root);\n  } else {\n    let attempts = 0;\n    const timer = setInterval(function(root) {\n      if (root.Bokeh !== undefined) {\n        clearInterval(timer);\n        embed_document(root);\n      } else {\n        attempts++;\n        if (attempts > 100) {\n          clearInterval(timer);\n          console.log(\"Bokeh: ERROR: Unable to run BokehJS code because BokehJS library is missing\");\n        }\n      }\n    }, 10, root)\n  }\n})(window);",
      "application/vnd.bokehjs_exec.v0+json": ""
     },
     "metadata": {
      "application/vnd.bokehjs_exec.v0+json": {
       "id": "p1631"
      }
     },
     "output_type": "display_data"
    }
   ],
   "source": [
    "p = figure(title=\"Comparison of Height in Inches and Height in CM\", \n",
    "           x_axis_label=\"Height in Inches\", \n",
    "           y_axis_label=\"Height in centimeters\")\n",
    "p.circle(nhlHeights['heightInches'], nhlHeights['heightCM'],\n",
    "         size=10, color='navy', alpha=0.5)\n",
    "show(p)"
   ]
  },
  {
   "cell_type": "markdown",
   "metadata": {
    "id": "h0vwF4yr-dld"
   },
   "source": [
    "## No correlation = far from straight line\n",
    "On the opposite extreme, if the datapoints are scattered and no line is discernable, there is no correlation.\n",
    "\n",
    "Here we are comparing length of the player's hometown name to his height in inches. We are checking whether a player whose hometown name has more letters, tends to be taller. For example, maybe someone from Medicine Hat is taller than someone from Ledue. Obviously there should be no correlation. \n",
    "\n",
    "\n",
    "(Again, a small but real dataset)"
   ]
  },
  {
   "cell_type": "code",
   "execution_count": 7,
   "metadata": {
    "colab": {
     "base_uri": "https://localhost:8080/",
     "height": 833
    },
    "id": "YYa58G0_-dle",
    "outputId": "77c3fec8-9460-4498-e965-051942a9ee56"
   },
   "outputs": [
    {
     "data": {
      "text/plain": "                 Name Pos. L/R  Height  Weight  Birthday          Hometown  \\\n0       Brennan Bosch    C   R      68     173  02/14/88  Martensville, SK   \n1        Scott Wasden    C   R      73     188  01/04/88      Westbank, BC   \n2        Colton Grant   LW   L      69     177  03/20/89      Standard, AB   \n3         Darren Helm   LW   L      72     182  01/21/87   St. Andrews, MB   \n4       Derek Dorsett   RW   L      71     178  12/20/86    Kindersley, SK   \n5          Daine Todd    C   R      70     173  01/10/87      Red Deer, AB   \n6       Tyler Swystun   RW   R      71     185  01/15/88      Cochrane, AB   \n7          Matt Lowry    C   R      72     186  03/02/88       Neepawa, MB   \n8   Kevin Undershute    LW   L      72     178  04/12/87  Medicine Hat, AB   \n9        Jerrid Sauer   RW   R      71     196  09/12/87  Medicine Hat, AB   \n10        Tyler Ennis    C   L      69     160  10/06/89      Edmonton, AB   \n11    Jordan Hickmott    C   R      72     183  04/11/90        Mission BC   \n12       Jakub Rumpel   RW   R      68     166  01/27/87  Hrnciarovce, SLO   \n13    Bretton Cameron    C   R      71     168  01/26/89      Didsbury, AB   \n14      Chris Stevens   LW   L      70     197  08/20/86  Dawson Creek, BC   \n15       Gord Baldwin    D   L      77     205  03/01/87      Winnipeg, MB   \n16     David Schlemko    D   L      73     195  05/07/87      Edmonton, AB   \n17       Trever Glass    D   L      72     190  01/22/88      Cochrane, AB   \n18       Kris Russell    D   L      70     177  05/02/87      Caroline, AB   \n19     Michael Sauer     D   R      73     205  08/07/87       Sartell, MN   \n20     Mark Isherwood    D   R      72     183  01/31/89    Abbotsford, BC   \n21      Shayne Brown     D   L      73     198  02/20/89   Stony Plain, AB   \n22    Jordan Bendfeld    D   R      75     230  02/09/88         Ledue, AB   \n23       Ryan Holfeld    G   L      71     166  06/29/89         LeRoy, SK   \n24       Matt Keetley    G   R      74     189  04/27/86  Medicine Hat, AB   \n\n    hometownLength  \n0               16  \n1               12  \n2               12  \n3               15  \n4               14  \n5               12  \n6               12  \n7               11  \n8               16  \n9               16  \n10              12  \n11              10  \n12              16  \n13              12  \n14              16  \n15              12  \n16              12  \n17              12  \n18              12  \n19              11  \n20              14  \n21              15  \n22               9  \n23               9  \n24              16  ",
      "text/html": "<div>\n<style scoped>\n    .dataframe tbody tr th:only-of-type {\n        vertical-align: middle;\n    }\n\n    .dataframe tbody tr th {\n        vertical-align: top;\n    }\n\n    .dataframe thead th {\n        text-align: right;\n    }\n</style>\n<table border=\"1\" class=\"dataframe\">\n  <thead>\n    <tr style=\"text-align: right;\">\n      <th></th>\n      <th>Name</th>\n      <th>Pos.</th>\n      <th>L/R</th>\n      <th>Height</th>\n      <th>Weight</th>\n      <th>Birthday</th>\n      <th>Hometown</th>\n      <th>hometownLength</th>\n    </tr>\n  </thead>\n  <tbody>\n    <tr>\n      <th>0</th>\n      <td>Brennan Bosch</td>\n      <td>C</td>\n      <td>R</td>\n      <td>68</td>\n      <td>173</td>\n      <td>02/14/88</td>\n      <td>Martensville, SK</td>\n      <td>16</td>\n    </tr>\n    <tr>\n      <th>1</th>\n      <td>Scott Wasden</td>\n      <td>C</td>\n      <td>R</td>\n      <td>73</td>\n      <td>188</td>\n      <td>01/04/88</td>\n      <td>Westbank, BC</td>\n      <td>12</td>\n    </tr>\n    <tr>\n      <th>2</th>\n      <td>Colton Grant</td>\n      <td>LW</td>\n      <td>L</td>\n      <td>69</td>\n      <td>177</td>\n      <td>03/20/89</td>\n      <td>Standard, AB</td>\n      <td>12</td>\n    </tr>\n    <tr>\n      <th>3</th>\n      <td>Darren Helm</td>\n      <td>LW</td>\n      <td>L</td>\n      <td>72</td>\n      <td>182</td>\n      <td>01/21/87</td>\n      <td>St. Andrews, MB</td>\n      <td>15</td>\n    </tr>\n    <tr>\n      <th>4</th>\n      <td>Derek Dorsett</td>\n      <td>RW</td>\n      <td>L</td>\n      <td>71</td>\n      <td>178</td>\n      <td>12/20/86</td>\n      <td>Kindersley, SK</td>\n      <td>14</td>\n    </tr>\n    <tr>\n      <th>5</th>\n      <td>Daine Todd</td>\n      <td>C</td>\n      <td>R</td>\n      <td>70</td>\n      <td>173</td>\n      <td>01/10/87</td>\n      <td>Red Deer, AB</td>\n      <td>12</td>\n    </tr>\n    <tr>\n      <th>6</th>\n      <td>Tyler Swystun</td>\n      <td>RW</td>\n      <td>R</td>\n      <td>71</td>\n      <td>185</td>\n      <td>01/15/88</td>\n      <td>Cochrane, AB</td>\n      <td>12</td>\n    </tr>\n    <tr>\n      <th>7</th>\n      <td>Matt Lowry</td>\n      <td>C</td>\n      <td>R</td>\n      <td>72</td>\n      <td>186</td>\n      <td>03/02/88</td>\n      <td>Neepawa, MB</td>\n      <td>11</td>\n    </tr>\n    <tr>\n      <th>8</th>\n      <td>Kevin Undershute</td>\n      <td>LW</td>\n      <td>L</td>\n      <td>72</td>\n      <td>178</td>\n      <td>04/12/87</td>\n      <td>Medicine Hat, AB</td>\n      <td>16</td>\n    </tr>\n    <tr>\n      <th>9</th>\n      <td>Jerrid Sauer</td>\n      <td>RW</td>\n      <td>R</td>\n      <td>71</td>\n      <td>196</td>\n      <td>09/12/87</td>\n      <td>Medicine Hat, AB</td>\n      <td>16</td>\n    </tr>\n    <tr>\n      <th>10</th>\n      <td>Tyler Ennis</td>\n      <td>C</td>\n      <td>L</td>\n      <td>69</td>\n      <td>160</td>\n      <td>10/06/89</td>\n      <td>Edmonton, AB</td>\n      <td>12</td>\n    </tr>\n    <tr>\n      <th>11</th>\n      <td>Jordan Hickmott</td>\n      <td>C</td>\n      <td>R</td>\n      <td>72</td>\n      <td>183</td>\n      <td>04/11/90</td>\n      <td>Mission BC</td>\n      <td>10</td>\n    </tr>\n    <tr>\n      <th>12</th>\n      <td>Jakub Rumpel</td>\n      <td>RW</td>\n      <td>R</td>\n      <td>68</td>\n      <td>166</td>\n      <td>01/27/87</td>\n      <td>Hrnciarovce, SLO</td>\n      <td>16</td>\n    </tr>\n    <tr>\n      <th>13</th>\n      <td>Bretton Cameron</td>\n      <td>C</td>\n      <td>R</td>\n      <td>71</td>\n      <td>168</td>\n      <td>01/26/89</td>\n      <td>Didsbury, AB</td>\n      <td>12</td>\n    </tr>\n    <tr>\n      <th>14</th>\n      <td>Chris Stevens</td>\n      <td>LW</td>\n      <td>L</td>\n      <td>70</td>\n      <td>197</td>\n      <td>08/20/86</td>\n      <td>Dawson Creek, BC</td>\n      <td>16</td>\n    </tr>\n    <tr>\n      <th>15</th>\n      <td>Gord Baldwin</td>\n      <td>D</td>\n      <td>L</td>\n      <td>77</td>\n      <td>205</td>\n      <td>03/01/87</td>\n      <td>Winnipeg, MB</td>\n      <td>12</td>\n    </tr>\n    <tr>\n      <th>16</th>\n      <td>David Schlemko</td>\n      <td>D</td>\n      <td>L</td>\n      <td>73</td>\n      <td>195</td>\n      <td>05/07/87</td>\n      <td>Edmonton, AB</td>\n      <td>12</td>\n    </tr>\n    <tr>\n      <th>17</th>\n      <td>Trever Glass</td>\n      <td>D</td>\n      <td>L</td>\n      <td>72</td>\n      <td>190</td>\n      <td>01/22/88</td>\n      <td>Cochrane, AB</td>\n      <td>12</td>\n    </tr>\n    <tr>\n      <th>18</th>\n      <td>Kris Russell</td>\n      <td>D</td>\n      <td>L</td>\n      <td>70</td>\n      <td>177</td>\n      <td>05/02/87</td>\n      <td>Caroline, AB</td>\n      <td>12</td>\n    </tr>\n    <tr>\n      <th>19</th>\n      <td>Michael Sauer</td>\n      <td>D</td>\n      <td>R</td>\n      <td>73</td>\n      <td>205</td>\n      <td>08/07/87</td>\n      <td>Sartell, MN</td>\n      <td>11</td>\n    </tr>\n    <tr>\n      <th>20</th>\n      <td>Mark Isherwood</td>\n      <td>D</td>\n      <td>R</td>\n      <td>72</td>\n      <td>183</td>\n      <td>01/31/89</td>\n      <td>Abbotsford, BC</td>\n      <td>14</td>\n    </tr>\n    <tr>\n      <th>21</th>\n      <td>Shayne Brown</td>\n      <td>D</td>\n      <td>L</td>\n      <td>73</td>\n      <td>198</td>\n      <td>02/20/89</td>\n      <td>Stony Plain, AB</td>\n      <td>15</td>\n    </tr>\n    <tr>\n      <th>22</th>\n      <td>Jordan Bendfeld</td>\n      <td>D</td>\n      <td>R</td>\n      <td>75</td>\n      <td>230</td>\n      <td>02/09/88</td>\n      <td>Ledue, AB</td>\n      <td>9</td>\n    </tr>\n    <tr>\n      <th>23</th>\n      <td>Ryan Holfeld</td>\n      <td>G</td>\n      <td>L</td>\n      <td>71</td>\n      <td>166</td>\n      <td>06/29/89</td>\n      <td>LeRoy, SK</td>\n      <td>9</td>\n    </tr>\n    <tr>\n      <th>24</th>\n      <td>Matt Keetley</td>\n      <td>G</td>\n      <td>R</td>\n      <td>74</td>\n      <td>189</td>\n      <td>04/27/86</td>\n      <td>Medicine Hat, AB</td>\n      <td>16</td>\n    </tr>\n  </tbody>\n</table>\n</div>"
     },
     "execution_count": 7,
     "metadata": {},
     "output_type": "execute_result"
    }
   ],
   "source": [
    "medicineHat = pd.read_csv('https://raw.githubusercontent.com/zacharski/machine-learning-notebooks/master/data/medicineHatTigers.csv')\n",
    "medicineHat['hometownLength'] = medicineHat['Hometown'].str.len()\n",
    "medicineHat"
   ]
  },
  {
   "cell_type": "code",
   "execution_count": 8,
   "metadata": {
    "colab": {
     "base_uri": "https://localhost:8080/",
     "height": 617
    },
    "id": "duMhFyDu-dlg",
    "outputId": "f1ab4fac-0f05-4b28-fc36-a630f2f27c4d"
   },
   "outputs": [
    {
     "data": {
      "text/html": "\n  <div id=\"af98539d-4477-4ce6-9001-95c9d021907e\" data-root-id=\"p1978\" style=\"display: contents;\"></div>\n"
     },
     "metadata": {},
     "output_type": "display_data"
    },
    {
     "data": {
      "application/javascript": "(function(root) {\n  function embed_document(root) {\n  const docs_json = {\"3ae4e50a-20c6-4880-99b3-1bef53174682\":{\"version\":\"3.0.3\",\"title\":\"Bokeh Application\",\"defs\":[],\"roots\":[{\"type\":\"object\",\"name\":\"Figure\",\"id\":\"p1978\",\"attributes\":{\"x_range\":{\"type\":\"object\",\"name\":\"DataRange1d\",\"id\":\"p1979\"},\"y_range\":{\"type\":\"object\",\"name\":\"DataRange1d\",\"id\":\"p1980\"},\"x_scale\":{\"type\":\"object\",\"name\":\"LinearScale\",\"id\":\"p1992\"},\"y_scale\":{\"type\":\"object\",\"name\":\"LinearScale\",\"id\":\"p1994\"},\"title\":{\"type\":\"object\",\"name\":\"Title\",\"id\":\"p1981\",\"attributes\":{\"text\":\"Correlation of the number of Letters in the Hometown to Height\",\"text_color\":\"#E0E0E0\",\"text_font\":\"Helvetica\",\"text_font_size\":\"1.15em\"}},\"outline_line_color\":\"#E0E0E0\",\"outline_line_alpha\":0.25,\"renderers\":[{\"type\":\"object\",\"name\":\"GlyphRenderer\",\"id\":\"p2031\",\"attributes\":{\"data_source\":{\"type\":\"object\",\"name\":\"ColumnDataSource\",\"id\":\"p2025\",\"attributes\":{\"selected\":{\"type\":\"object\",\"name\":\"Selection\",\"id\":\"p2027\",\"attributes\":{\"indices\":[],\"line_indices\":[]}},\"selection_policy\":{\"type\":\"object\",\"name\":\"UnionRenderers\",\"id\":\"p2026\"},\"data\":{\"type\":\"map\",\"entries\":[[\"x\",{\"type\":\"ndarray\",\"array\":{\"type\":\"bytes\",\"data\":\"RAAAAEkAAABFAAAASAAAAEcAAABGAAAARwAAAEgAAABIAAAARwAAAEUAAABIAAAARAAAAEcAAABGAAAATQAAAEkAAABIAAAARgAAAEkAAABIAAAASQAAAEsAAABHAAAASgAAAA==\"},\"shape\":[25],\"dtype\":\"int32\",\"order\":\"little\"}],[\"y\",{\"type\":\"ndarray\",\"array\":{\"type\":\"bytes\",\"data\":\"EAAAAAwAAAAMAAAADwAAAA4AAAAMAAAADAAAAAsAAAAQAAAAEAAAAAwAAAAKAAAAEAAAAAwAAAAQAAAADAAAAAwAAAAMAAAADAAAAAsAAAAOAAAADwAAAAkAAAAJAAAAEAAAAA==\"},\"shape\":[25],\"dtype\":\"int32\",\"order\":\"little\"}]]}}},\"view\":{\"type\":\"object\",\"name\":\"CDSView\",\"id\":\"p2032\",\"attributes\":{\"filter\":{\"type\":\"object\",\"name\":\"AllIndices\",\"id\":\"p2033\"}}},\"glyph\":{\"type\":\"object\",\"name\":\"Circle\",\"id\":\"p2028\",\"attributes\":{\"x\":{\"type\":\"field\",\"field\":\"x\"},\"y\":{\"type\":\"field\",\"field\":\"y\"},\"size\":{\"type\":\"value\",\"value\":10},\"line_color\":{\"type\":\"value\",\"value\":\"navy\"},\"line_alpha\":{\"type\":\"value\",\"value\":0.5},\"fill_color\":{\"type\":\"value\",\"value\":\"navy\"},\"fill_alpha\":{\"type\":\"value\",\"value\":0.5},\"hatch_color\":{\"type\":\"value\",\"value\":\"navy\"},\"hatch_alpha\":{\"type\":\"value\",\"value\":0.5}}},\"nonselection_glyph\":{\"type\":\"object\",\"name\":\"Circle\",\"id\":\"p2029\",\"attributes\":{\"x\":{\"type\":\"field\",\"field\":\"x\"},\"y\":{\"type\":\"field\",\"field\":\"y\"},\"size\":{\"type\":\"value\",\"value\":10},\"line_color\":{\"type\":\"value\",\"value\":\"navy\"},\"line_alpha\":{\"type\":\"value\",\"value\":0.1},\"fill_color\":{\"type\":\"value\",\"value\":\"navy\"},\"fill_alpha\":{\"type\":\"value\",\"value\":0.1},\"hatch_color\":{\"type\":\"value\",\"value\":\"navy\"},\"hatch_alpha\":{\"type\":\"value\",\"value\":0.1}}},\"muted_glyph\":{\"type\":\"object\",\"name\":\"Circle\",\"id\":\"p2030\",\"attributes\":{\"x\":{\"type\":\"field\",\"field\":\"x\"},\"y\":{\"type\":\"field\",\"field\":\"y\"},\"size\":{\"type\":\"value\",\"value\":10},\"line_color\":{\"type\":\"value\",\"value\":\"navy\"},\"line_alpha\":{\"type\":\"value\",\"value\":0.2},\"fill_color\":{\"type\":\"value\",\"value\":\"navy\"},\"fill_alpha\":{\"type\":\"value\",\"value\":0.2},\"hatch_color\":{\"type\":\"value\",\"value\":\"navy\"},\"hatch_alpha\":{\"type\":\"value\",\"value\":0.2}}}}}],\"toolbar\":{\"type\":\"object\",\"name\":\"Toolbar\",\"id\":\"p1986\",\"attributes\":{\"tools\":[{\"type\":\"object\",\"name\":\"PanTool\",\"id\":\"p2010\"},{\"type\":\"object\",\"name\":\"WheelZoomTool\",\"id\":\"p2011\"},{\"type\":\"object\",\"name\":\"BoxZoomTool\",\"id\":\"p2012\",\"attributes\":{\"overlay\":{\"type\":\"object\",\"name\":\"BoxAnnotation\",\"id\":\"p2013\",\"attributes\":{\"syncable\":false,\"level\":\"overlay\",\"visible\":false,\"left_units\":\"canvas\",\"right_units\":\"canvas\",\"bottom_units\":\"canvas\",\"top_units\":\"canvas\",\"line_color\":\"black\",\"line_alpha\":1.0,\"line_width\":2,\"line_dash\":[4,4],\"fill_color\":\"lightgrey\",\"fill_alpha\":0.5}}}},{\"type\":\"object\",\"name\":\"SaveTool\",\"id\":\"p2014\"},{\"type\":\"object\",\"name\":\"ResetTool\",\"id\":\"p2015\"},{\"type\":\"object\",\"name\":\"HelpTool\",\"id\":\"p2016\"}]}},\"left\":[{\"type\":\"object\",\"name\":\"LinearAxis\",\"id\":\"p2003\",\"attributes\":{\"ticker\":{\"type\":\"object\",\"name\":\"BasicTicker\",\"id\":\"p2004\",\"attributes\":{\"mantissas\":[1,2,5]}},\"formatter\":{\"type\":\"object\",\"name\":\"BasicTickFormatter\",\"id\":\"p2006\"},\"axis_label\":\"Hometown Name Length\",\"axis_label_standoff\":10,\"axis_label_text_color\":\"#E0E0E0\",\"axis_label_text_font\":\"Helvetica\",\"axis_label_text_font_size\":\"1.25em\",\"axis_label_text_font_style\":\"normal\",\"major_label_policy\":{\"type\":\"object\",\"name\":\"AllLabels\",\"id\":\"p2005\"},\"major_label_text_color\":\"#E0E0E0\",\"major_label_text_font\":\"Helvetica\",\"major_label_text_font_size\":\"1.025em\",\"axis_line_color\":\"#E0E0E0\",\"axis_line_alpha\":0,\"major_tick_line_color\":\"#E0E0E0\",\"major_tick_line_alpha\":0,\"minor_tick_line_color\":\"#E0E0E0\",\"minor_tick_line_alpha\":0}}],\"below\":[{\"type\":\"object\",\"name\":\"LinearAxis\",\"id\":\"p1996\",\"attributes\":{\"ticker\":{\"type\":\"object\",\"name\":\"BasicTicker\",\"id\":\"p1997\",\"attributes\":{\"mantissas\":[1,2,5]}},\"formatter\":{\"type\":\"object\",\"name\":\"BasicTickFormatter\",\"id\":\"p1999\"},\"axis_label\":\"Player's Height\",\"axis_label_standoff\":10,\"axis_label_text_color\":\"#E0E0E0\",\"axis_label_text_font\":\"Helvetica\",\"axis_label_text_font_size\":\"1.25em\",\"axis_label_text_font_style\":\"normal\",\"major_label_policy\":{\"type\":\"object\",\"name\":\"AllLabels\",\"id\":\"p1998\"},\"major_label_text_color\":\"#E0E0E0\",\"major_label_text_font\":\"Helvetica\",\"major_label_text_font_size\":\"1.025em\",\"axis_line_color\":\"#E0E0E0\",\"axis_line_alpha\":0,\"major_tick_line_color\":\"#E0E0E0\",\"major_tick_line_alpha\":0,\"minor_tick_line_color\":\"#E0E0E0\",\"minor_tick_line_alpha\":0}}],\"center\":[{\"type\":\"object\",\"name\":\"Grid\",\"id\":\"p2002\",\"attributes\":{\"axis\":{\"id\":\"p1996\"},\"grid_line_color\":\"#E0E0E0\",\"grid_line_alpha\":0.25}},{\"type\":\"object\",\"name\":\"Grid\",\"id\":\"p2009\",\"attributes\":{\"dimension\":1,\"axis\":{\"id\":\"p2003\"},\"grid_line_color\":\"#E0E0E0\",\"grid_line_alpha\":0.25}}],\"background_fill_color\":\"#20262B\",\"border_fill_color\":\"#15191C\"}}]}};\n  const render_items = [{\"docid\":\"3ae4e50a-20c6-4880-99b3-1bef53174682\",\"roots\":{\"p1978\":\"af98539d-4477-4ce6-9001-95c9d021907e\"},\"root_ids\":[\"p1978\"]}];\n  root.Bokeh.embed.embed_items_notebook(docs_json, render_items);\n  }\n  if (root.Bokeh !== undefined) {\n    embed_document(root);\n  } else {\n    let attempts = 0;\n    const timer = setInterval(function(root) {\n      if (root.Bokeh !== undefined) {\n        clearInterval(timer);\n        embed_document(root);\n      } else {\n        attempts++;\n        if (attempts > 100) {\n          clearInterval(timer);\n          console.log(\"Bokeh: ERROR: Unable to run BokehJS code because BokehJS library is missing\");\n        }\n      }\n    }, 10, root)\n  }\n})(window);",
      "application/vnd.bokehjs_exec.v0+json": ""
     },
     "metadata": {
      "application/vnd.bokehjs_exec.v0+json": {
       "id": "p1978"
      }
     },
     "output_type": "display_data"
    }
   ],
   "source": [
    "p = figure(title=\"Correlation of the number of Letters in the Hometown to Height\", \n",
    "           x_axis_label=\"Player's Height\", y_axis_label=\"Hometown Name Length\")\n",
    "p.circle(medicineHat['Height'], medicineHat['hometownLength'], size=10, color='navy', alpha=0.5)\n",
    "show(p)"
   ]
  },
  {
   "cell_type": "markdown",
   "metadata": {
    "id": "iMDBBcyM-dlj"
   },
   "source": [
    "And that does not look at all like a straight line. \n",
    "\n",
    "## negative correlation has a line going downhill\n",
    "When the slope goes up, we say there is a positive correlation and when it goes down there is a negative correlation.\n",
    "\n",
    "#### the relationship of hair length to a person's height"
   ]
  },
  {
   "cell_type": "code",
   "execution_count": 9,
   "metadata": {
    "colab": {
     "base_uri": "https://localhost:8080/",
     "height": 617
    },
    "id": "fF6MndKp-dlj",
    "outputId": "a05948ec-b2b3-48c8-97a2-672110c09e31"
   },
   "outputs": [
    {
     "data": {
      "text/html": "\n  <div id=\"eb9a9cee-ecdb-475f-983d-788466c405bc\" data-root-id=\"p2338\" style=\"display: contents;\"></div>\n"
     },
     "metadata": {},
     "output_type": "display_data"
    },
    {
     "data": {
      "application/javascript": "(function(root) {\n  function embed_document(root) {\n  const docs_json = {\"18f18230-3fa6-4cab-a8c3-09fcf20eac08\":{\"version\":\"3.0.3\",\"title\":\"Bokeh Application\",\"defs\":[],\"roots\":[{\"type\":\"object\",\"name\":\"Figure\",\"id\":\"p2338\",\"attributes\":{\"x_range\":{\"type\":\"object\",\"name\":\"DataRange1d\",\"id\":\"p2339\"},\"y_range\":{\"type\":\"object\",\"name\":\"DataRange1d\",\"id\":\"p2340\"},\"x_scale\":{\"type\":\"object\",\"name\":\"LinearScale\",\"id\":\"p2352\"},\"y_scale\":{\"type\":\"object\",\"name\":\"LinearScale\",\"id\":\"p2354\"},\"title\":{\"type\":\"object\",\"name\":\"Title\",\"id\":\"p2341\",\"attributes\":{\"text\":\"Correlation of hair length to a person's height\",\"text_color\":\"#E0E0E0\",\"text_font\":\"Helvetica\",\"text_font_size\":\"1.15em\"}},\"outline_line_color\":\"#E0E0E0\",\"outline_line_alpha\":0.25,\"renderers\":[{\"type\":\"object\",\"name\":\"GlyphRenderer\",\"id\":\"p2391\",\"attributes\":{\"data_source\":{\"type\":\"object\",\"name\":\"ColumnDataSource\",\"id\":\"p2385\",\"attributes\":{\"selected\":{\"type\":\"object\",\"name\":\"Selection\",\"id\":\"p2387\",\"attributes\":{\"indices\":[],\"line_indices\":[]}},\"selection_policy\":{\"type\":\"object\",\"name\":\"UnionRenderers\",\"id\":\"p2386\"},\"data\":{\"type\":\"map\",\"entries\":[[\"x\",{\"type\":\"ndarray\",\"array\":{\"type\":\"bytes\",\"data\":\"PgAAAEAAAABBAAAARAAAAEUAAABGAAAAQwAAAEEAAABIAAAASQAAAEoAAAA=\"},\"shape\":[11],\"dtype\":\"int32\",\"order\":\"little\"}],[\"y\",{\"type\":\"ndarray\",\"array\":{\"type\":\"bytes\",\"data\":\"BwAAAAoAAAAGAAAABAAAAAUAAAAEAAAABQAAAAgAAAABAAAAAQAAAAMAAAA=\"},\"shape\":[11],\"dtype\":\"int32\",\"order\":\"little\"}]]}}},\"view\":{\"type\":\"object\",\"name\":\"CDSView\",\"id\":\"p2392\",\"attributes\":{\"filter\":{\"type\":\"object\",\"name\":\"AllIndices\",\"id\":\"p2393\"}}},\"glyph\":{\"type\":\"object\",\"name\":\"Circle\",\"id\":\"p2388\",\"attributes\":{\"x\":{\"type\":\"field\",\"field\":\"x\"},\"y\":{\"type\":\"field\",\"field\":\"y\"},\"size\":{\"type\":\"value\",\"value\":10},\"line_color\":{\"type\":\"value\",\"value\":\"navy\"},\"line_alpha\":{\"type\":\"value\",\"value\":0.5},\"fill_color\":{\"type\":\"value\",\"value\":\"navy\"},\"fill_alpha\":{\"type\":\"value\",\"value\":0.5},\"hatch_color\":{\"type\":\"value\",\"value\":\"navy\"},\"hatch_alpha\":{\"type\":\"value\",\"value\":0.5}}},\"nonselection_glyph\":{\"type\":\"object\",\"name\":\"Circle\",\"id\":\"p2389\",\"attributes\":{\"x\":{\"type\":\"field\",\"field\":\"x\"},\"y\":{\"type\":\"field\",\"field\":\"y\"},\"size\":{\"type\":\"value\",\"value\":10},\"line_color\":{\"type\":\"value\",\"value\":\"navy\"},\"line_alpha\":{\"type\":\"value\",\"value\":0.1},\"fill_color\":{\"type\":\"value\",\"value\":\"navy\"},\"fill_alpha\":{\"type\":\"value\",\"value\":0.1},\"hatch_color\":{\"type\":\"value\",\"value\":\"navy\"},\"hatch_alpha\":{\"type\":\"value\",\"value\":0.1}}},\"muted_glyph\":{\"type\":\"object\",\"name\":\"Circle\",\"id\":\"p2390\",\"attributes\":{\"x\":{\"type\":\"field\",\"field\":\"x\"},\"y\":{\"type\":\"field\",\"field\":\"y\"},\"size\":{\"type\":\"value\",\"value\":10},\"line_color\":{\"type\":\"value\",\"value\":\"navy\"},\"line_alpha\":{\"type\":\"value\",\"value\":0.2},\"fill_color\":{\"type\":\"value\",\"value\":\"navy\"},\"fill_alpha\":{\"type\":\"value\",\"value\":0.2},\"hatch_color\":{\"type\":\"value\",\"value\":\"navy\"},\"hatch_alpha\":{\"type\":\"value\",\"value\":0.2}}}}}],\"toolbar\":{\"type\":\"object\",\"name\":\"Toolbar\",\"id\":\"p2346\",\"attributes\":{\"tools\":[{\"type\":\"object\",\"name\":\"PanTool\",\"id\":\"p2370\"},{\"type\":\"object\",\"name\":\"WheelZoomTool\",\"id\":\"p2371\"},{\"type\":\"object\",\"name\":\"BoxZoomTool\",\"id\":\"p2372\",\"attributes\":{\"overlay\":{\"type\":\"object\",\"name\":\"BoxAnnotation\",\"id\":\"p2373\",\"attributes\":{\"syncable\":false,\"level\":\"overlay\",\"visible\":false,\"left_units\":\"canvas\",\"right_units\":\"canvas\",\"bottom_units\":\"canvas\",\"top_units\":\"canvas\",\"line_color\":\"black\",\"line_alpha\":1.0,\"line_width\":2,\"line_dash\":[4,4],\"fill_color\":\"lightgrey\",\"fill_alpha\":0.5}}}},{\"type\":\"object\",\"name\":\"SaveTool\",\"id\":\"p2374\"},{\"type\":\"object\",\"name\":\"ResetTool\",\"id\":\"p2375\"},{\"type\":\"object\",\"name\":\"HelpTool\",\"id\":\"p2376\"}]}},\"left\":[{\"type\":\"object\",\"name\":\"LinearAxis\",\"id\":\"p2363\",\"attributes\":{\"ticker\":{\"type\":\"object\",\"name\":\"BasicTicker\",\"id\":\"p2364\",\"attributes\":{\"mantissas\":[1,2,5]}},\"formatter\":{\"type\":\"object\",\"name\":\"BasicTickFormatter\",\"id\":\"p2366\"},\"axis_label\":\"Hair Length\",\"axis_label_standoff\":10,\"axis_label_text_color\":\"#E0E0E0\",\"axis_label_text_font\":\"Helvetica\",\"axis_label_text_font_size\":\"1.25em\",\"axis_label_text_font_style\":\"normal\",\"major_label_policy\":{\"type\":\"object\",\"name\":\"AllLabels\",\"id\":\"p2365\"},\"major_label_text_color\":\"#E0E0E0\",\"major_label_text_font\":\"Helvetica\",\"major_label_text_font_size\":\"1.025em\",\"axis_line_color\":\"#E0E0E0\",\"axis_line_alpha\":0,\"major_tick_line_color\":\"#E0E0E0\",\"major_tick_line_alpha\":0,\"minor_tick_line_color\":\"#E0E0E0\",\"minor_tick_line_alpha\":0}}],\"below\":[{\"type\":\"object\",\"name\":\"LinearAxis\",\"id\":\"p2356\",\"attributes\":{\"ticker\":{\"type\":\"object\",\"name\":\"BasicTicker\",\"id\":\"p2357\",\"attributes\":{\"mantissas\":[1,2,5]}},\"formatter\":{\"type\":\"object\",\"name\":\"BasicTickFormatter\",\"id\":\"p2359\"},\"axis_label\":\"Person's Height\",\"axis_label_standoff\":10,\"axis_label_text_color\":\"#E0E0E0\",\"axis_label_text_font\":\"Helvetica\",\"axis_label_text_font_size\":\"1.25em\",\"axis_label_text_font_style\":\"normal\",\"major_label_policy\":{\"type\":\"object\",\"name\":\"AllLabels\",\"id\":\"p2358\"},\"major_label_text_color\":\"#E0E0E0\",\"major_label_text_font\":\"Helvetica\",\"major_label_text_font_size\":\"1.025em\",\"axis_line_color\":\"#E0E0E0\",\"axis_line_alpha\":0,\"major_tick_line_color\":\"#E0E0E0\",\"major_tick_line_alpha\":0,\"minor_tick_line_color\":\"#E0E0E0\",\"minor_tick_line_alpha\":0}}],\"center\":[{\"type\":\"object\",\"name\":\"Grid\",\"id\":\"p2362\",\"attributes\":{\"axis\":{\"id\":\"p2356\"},\"grid_line_color\":\"#E0E0E0\",\"grid_line_alpha\":0.25}},{\"type\":\"object\",\"name\":\"Grid\",\"id\":\"p2369\",\"attributes\":{\"dimension\":1,\"axis\":{\"id\":\"p2363\"},\"grid_line_color\":\"#E0E0E0\",\"grid_line_alpha\":0.25}}],\"background_fill_color\":\"#20262B\",\"border_fill_color\":\"#15191C\"}}]}};\n  const render_items = [{\"docid\":\"18f18230-3fa6-4cab-a8c3-09fcf20eac08\",\"roots\":{\"p2338\":\"eb9a9cee-ecdb-475f-983d-788466c405bc\"},\"root_ids\":[\"p2338\"]}];\n  root.Bokeh.embed.embed_items_notebook(docs_json, render_items);\n  }\n  if (root.Bokeh !== undefined) {\n    embed_document(root);\n  } else {\n    let attempts = 0;\n    const timer = setInterval(function(root) {\n      if (root.Bokeh !== undefined) {\n        clearInterval(timer);\n        embed_document(root);\n      } else {\n        attempts++;\n        if (attempts > 100) {\n          clearInterval(timer);\n          console.log(\"Bokeh: ERROR: Unable to run BokehJS code because BokehJS library is missing\");\n        }\n      }\n    }, 10, root)\n  }\n})(window);",
      "application/vnd.bokehjs_exec.v0+json": ""
     },
     "metadata": {
      "application/vnd.bokehjs_exec.v0+json": {
       "id": "p2338"
      }
     },
     "output_type": "display_data"
    }
   ],
   "source": [
    "height =[62, 64, 65, 68, 69, 70, 67, 65, 72, 73, 74]\n",
    "hairLength = [7, 10, 6, 4, 5, 4, 5, 8, 1, 1, 3]\n",
    "cm = [173, 185, 175, 183, 180, 196]\n",
    "people = DataFrame({'height': height, 'hairLength': hairLength})\n",
    "p = figure(title=\"Correlation of hair length to a person's height\", \n",
    "           x_axis_label=\"Person's Height\", y_axis_label=\"Hair Length\")\n",
    "p.circle(people['height'], people['hairLength'], size=10, color='navy', alpha=0.5)\n",
    "show(p)"
   ]
  },
  {
   "cell_type": "markdown",
   "metadata": {
    "id": "VdRZxka9-dlm"
   },
   "source": [
    "There is a strong negative correlation between the length of someone's hair and how tall they are. Why do you think that is?\n",
    "\n",
    "\n",
    "![](https://raw.githubusercontent.com/zacharski/datamining-guide/master/labs/pics/divider.png)\n",
    "\n",
    "\n",
    "# Numeric Representation of the Strength of the Correlation\n",
    "\n",
    "So far, we've seen a visual representation of the correlation, but we can also represent the degree of correlation numerically.\n",
    "\n",
    "## Pearson Correlation Coefficient\n",
    "\n",
    "This ranges from -1 to 1.\n",
    "1 is perfect positive correlation, -1 is perfect negative.\n",
    "\n",
    "$$r=\\frac{\\sum_{i=1}^n(x_i - \\bar{x})(y_i-\\bar{y})}{\\sqrt{\\sum_{i=1}^n(x_i - \\bar{x})}  \\sqrt{\\sum_{i=1}^n(y_i - \\bar{y})}}$$\n",
    "\n",
    "In Pandas it is very easy to compute.\n",
    "\n",
    "### Japanese ladies expenses on makeup and clothes\n",
    "Let's go back to our first example.\n",
    "First here is the data:"
   ]
  },
  {
   "cell_type": "code",
   "execution_count": 10,
   "metadata": {
    "colab": {
     "base_uri": "https://localhost:8080/",
     "height": 363
    },
    "id": "sIowAZ8L-dln",
    "outputId": "164ca291-7e0f-4457-a917-919f460d1031"
   },
   "outputs": [
    {
     "data": {
      "text/plain": "      makeup  clothes\nMs A    3000     7000\nMs B    5000     8000\nMs C   12000    25000\nMs D    2000     5000\nMs E    7000    12000\nMs F   15000    30000\nMs G    5000    10000\nMs H    6000    15000\nMs I    8000    20000\nMs J   10000    18000",
      "text/html": "<div>\n<style scoped>\n    .dataframe tbody tr th:only-of-type {\n        vertical-align: middle;\n    }\n\n    .dataframe tbody tr th {\n        vertical-align: top;\n    }\n\n    .dataframe thead th {\n        text-align: right;\n    }\n</style>\n<table border=\"1\" class=\"dataframe\">\n  <thead>\n    <tr style=\"text-align: right;\">\n      <th></th>\n      <th>makeup</th>\n      <th>clothes</th>\n    </tr>\n  </thead>\n  <tbody>\n    <tr>\n      <th>Ms A</th>\n      <td>3000</td>\n      <td>7000</td>\n    </tr>\n    <tr>\n      <th>Ms B</th>\n      <td>5000</td>\n      <td>8000</td>\n    </tr>\n    <tr>\n      <th>Ms C</th>\n      <td>12000</td>\n      <td>25000</td>\n    </tr>\n    <tr>\n      <th>Ms D</th>\n      <td>2000</td>\n      <td>5000</td>\n    </tr>\n    <tr>\n      <th>Ms E</th>\n      <td>7000</td>\n      <td>12000</td>\n    </tr>\n    <tr>\n      <th>Ms F</th>\n      <td>15000</td>\n      <td>30000</td>\n    </tr>\n    <tr>\n      <th>Ms G</th>\n      <td>5000</td>\n      <td>10000</td>\n    </tr>\n    <tr>\n      <th>Ms H</th>\n      <td>6000</td>\n      <td>15000</td>\n    </tr>\n    <tr>\n      <th>Ms I</th>\n      <td>8000</td>\n      <td>20000</td>\n    </tr>\n    <tr>\n      <th>Ms J</th>\n      <td>10000</td>\n      <td>18000</td>\n    </tr>\n  </tbody>\n</table>\n</div>"
     },
     "execution_count": 10,
     "metadata": {},
     "output_type": "execute_result"
    }
   ],
   "source": [
    "monthly"
   ]
  },
  {
   "cell_type": "code",
   "execution_count": 11,
   "metadata": {
    "colab": {
     "base_uri": "https://localhost:8080/",
     "height": 617
    },
    "id": "3t5jGS5f-dlp",
    "outputId": "dc0bd637-5a04-4389-aedf-07c1cb17b3b3"
   },
   "outputs": [
    {
     "data": {
      "text/html": "\n  <div id=\"48a3a4d7-d2f6-4e7a-a411-1ed861e6ece8\" data-root-id=\"p2711\" style=\"display: contents;\"></div>\n"
     },
     "metadata": {},
     "output_type": "display_data"
    },
    {
     "data": {
      "application/javascript": "(function(root) {\n  function embed_document(root) {\n  const docs_json = {\"b5ad1c27-7cf1-4eea-9872-54fa46b8a3b2\":{\"version\":\"3.0.3\",\"title\":\"Bokeh Application\",\"defs\":[],\"roots\":[{\"type\":\"object\",\"name\":\"Figure\",\"id\":\"p2711\",\"attributes\":{\"x_range\":{\"type\":\"object\",\"name\":\"DataRange1d\",\"id\":\"p2712\"},\"y_range\":{\"type\":\"object\",\"name\":\"DataRange1d\",\"id\":\"p2713\"},\"x_scale\":{\"type\":\"object\",\"name\":\"LinearScale\",\"id\":\"p2725\"},\"y_scale\":{\"type\":\"object\",\"name\":\"LinearScale\",\"id\":\"p2727\"},\"title\":{\"type\":\"object\",\"name\":\"Title\",\"id\":\"p2714\",\"attributes\":{\"text\":\"Montly Expenditures on Makeup and Clothes\",\"text_color\":\"#E0E0E0\",\"text_font\":\"Helvetica\",\"text_font_size\":\"1.15em\"}},\"outline_line_color\":\"#E0E0E0\",\"outline_line_alpha\":0.25,\"renderers\":[{\"type\":\"object\",\"name\":\"GlyphRenderer\",\"id\":\"p2764\",\"attributes\":{\"data_source\":{\"type\":\"object\",\"name\":\"ColumnDataSource\",\"id\":\"p2758\",\"attributes\":{\"selected\":{\"type\":\"object\",\"name\":\"Selection\",\"id\":\"p2760\",\"attributes\":{\"indices\":[],\"line_indices\":[]}},\"selection_policy\":{\"type\":\"object\",\"name\":\"UnionRenderers\",\"id\":\"p2759\"},\"data\":{\"type\":\"map\",\"entries\":[[\"x\",{\"type\":\"ndarray\",\"array\":{\"type\":\"bytes\",\"data\":\"uAsAAIgTAADgLgAA0AcAAFgbAACYOgAAiBMAAHAXAABAHwAAECcAAA==\"},\"shape\":[10],\"dtype\":\"int32\",\"order\":\"little\"}],[\"y\",{\"type\":\"ndarray\",\"array\":{\"type\":\"bytes\",\"data\":\"WBsAAEAfAACoYQAAiBMAAOAuAAAwdQAAECcAAJg6AAAgTgAAUEYAAA==\"},\"shape\":[10],\"dtype\":\"int32\",\"order\":\"little\"}]]}}},\"view\":{\"type\":\"object\",\"name\":\"CDSView\",\"id\":\"p2765\",\"attributes\":{\"filter\":{\"type\":\"object\",\"name\":\"AllIndices\",\"id\":\"p2766\"}}},\"glyph\":{\"type\":\"object\",\"name\":\"Circle\",\"id\":\"p2761\",\"attributes\":{\"x\":{\"type\":\"field\",\"field\":\"x\"},\"y\":{\"type\":\"field\",\"field\":\"y\"},\"size\":{\"type\":\"value\",\"value\":10},\"line_color\":{\"type\":\"value\",\"value\":\"navy\"},\"line_alpha\":{\"type\":\"value\",\"value\":0.5},\"fill_color\":{\"type\":\"value\",\"value\":\"navy\"},\"fill_alpha\":{\"type\":\"value\",\"value\":0.5},\"hatch_color\":{\"type\":\"value\",\"value\":\"navy\"},\"hatch_alpha\":{\"type\":\"value\",\"value\":0.5}}},\"nonselection_glyph\":{\"type\":\"object\",\"name\":\"Circle\",\"id\":\"p2762\",\"attributes\":{\"x\":{\"type\":\"field\",\"field\":\"x\"},\"y\":{\"type\":\"field\",\"field\":\"y\"},\"size\":{\"type\":\"value\",\"value\":10},\"line_color\":{\"type\":\"value\",\"value\":\"navy\"},\"line_alpha\":{\"type\":\"value\",\"value\":0.1},\"fill_color\":{\"type\":\"value\",\"value\":\"navy\"},\"fill_alpha\":{\"type\":\"value\",\"value\":0.1},\"hatch_color\":{\"type\":\"value\",\"value\":\"navy\"},\"hatch_alpha\":{\"type\":\"value\",\"value\":0.1}}},\"muted_glyph\":{\"type\":\"object\",\"name\":\"Circle\",\"id\":\"p2763\",\"attributes\":{\"x\":{\"type\":\"field\",\"field\":\"x\"},\"y\":{\"type\":\"field\",\"field\":\"y\"},\"size\":{\"type\":\"value\",\"value\":10},\"line_color\":{\"type\":\"value\",\"value\":\"navy\"},\"line_alpha\":{\"type\":\"value\",\"value\":0.2},\"fill_color\":{\"type\":\"value\",\"value\":\"navy\"},\"fill_alpha\":{\"type\":\"value\",\"value\":0.2},\"hatch_color\":{\"type\":\"value\",\"value\":\"navy\"},\"hatch_alpha\":{\"type\":\"value\",\"value\":0.2}}}}}],\"toolbar\":{\"type\":\"object\",\"name\":\"Toolbar\",\"id\":\"p2719\",\"attributes\":{\"tools\":[{\"type\":\"object\",\"name\":\"PanTool\",\"id\":\"p2743\"},{\"type\":\"object\",\"name\":\"WheelZoomTool\",\"id\":\"p2744\"},{\"type\":\"object\",\"name\":\"BoxZoomTool\",\"id\":\"p2745\",\"attributes\":{\"overlay\":{\"type\":\"object\",\"name\":\"BoxAnnotation\",\"id\":\"p2746\",\"attributes\":{\"syncable\":false,\"level\":\"overlay\",\"visible\":false,\"left_units\":\"canvas\",\"right_units\":\"canvas\",\"bottom_units\":\"canvas\",\"top_units\":\"canvas\",\"line_color\":\"black\",\"line_alpha\":1.0,\"line_width\":2,\"line_dash\":[4,4],\"fill_color\":\"lightgrey\",\"fill_alpha\":0.5}}}},{\"type\":\"object\",\"name\":\"SaveTool\",\"id\":\"p2747\"},{\"type\":\"object\",\"name\":\"ResetTool\",\"id\":\"p2748\"},{\"type\":\"object\",\"name\":\"HelpTool\",\"id\":\"p2749\"}]}},\"left\":[{\"type\":\"object\",\"name\":\"LinearAxis\",\"id\":\"p2736\",\"attributes\":{\"ticker\":{\"type\":\"object\",\"name\":\"BasicTicker\",\"id\":\"p2737\",\"attributes\":{\"mantissas\":[1,2,5]}},\"formatter\":{\"type\":\"object\",\"name\":\"BasicTickFormatter\",\"id\":\"p2739\"},\"axis_label\":\"Money spent on clothes\",\"axis_label_standoff\":10,\"axis_label_text_color\":\"#E0E0E0\",\"axis_label_text_font\":\"Helvetica\",\"axis_label_text_font_size\":\"1.25em\",\"axis_label_text_font_style\":\"normal\",\"major_label_policy\":{\"type\":\"object\",\"name\":\"AllLabels\",\"id\":\"p2738\"},\"major_label_text_color\":\"#E0E0E0\",\"major_label_text_font\":\"Helvetica\",\"major_label_text_font_size\":\"1.025em\",\"axis_line_color\":\"#E0E0E0\",\"axis_line_alpha\":0,\"major_tick_line_color\":\"#E0E0E0\",\"major_tick_line_alpha\":0,\"minor_tick_line_color\":\"#E0E0E0\",\"minor_tick_line_alpha\":0}}],\"below\":[{\"type\":\"object\",\"name\":\"LinearAxis\",\"id\":\"p2729\",\"attributes\":{\"ticker\":{\"type\":\"object\",\"name\":\"BasicTicker\",\"id\":\"p2730\",\"attributes\":{\"mantissas\":[1,2,5]}},\"formatter\":{\"type\":\"object\",\"name\":\"BasicTickFormatter\",\"id\":\"p2732\"},\"axis_label\":\"Money spent on makeup\",\"axis_label_standoff\":10,\"axis_label_text_color\":\"#E0E0E0\",\"axis_label_text_font\":\"Helvetica\",\"axis_label_text_font_size\":\"1.25em\",\"axis_label_text_font_style\":\"normal\",\"major_label_policy\":{\"type\":\"object\",\"name\":\"AllLabels\",\"id\":\"p2731\"},\"major_label_text_color\":\"#E0E0E0\",\"major_label_text_font\":\"Helvetica\",\"major_label_text_font_size\":\"1.025em\",\"axis_line_color\":\"#E0E0E0\",\"axis_line_alpha\":0,\"major_tick_line_color\":\"#E0E0E0\",\"major_tick_line_alpha\":0,\"minor_tick_line_color\":\"#E0E0E0\",\"minor_tick_line_alpha\":0}}],\"center\":[{\"type\":\"object\",\"name\":\"Grid\",\"id\":\"p2735\",\"attributes\":{\"axis\":{\"id\":\"p2729\"},\"grid_line_color\":\"#E0E0E0\",\"grid_line_alpha\":0.25}},{\"type\":\"object\",\"name\":\"Grid\",\"id\":\"p2742\",\"attributes\":{\"dimension\":1,\"axis\":{\"id\":\"p2736\"},\"grid_line_color\":\"#E0E0E0\",\"grid_line_alpha\":0.25}}],\"background_fill_color\":\"#20262B\",\"border_fill_color\":\"#15191C\"}}]}};\n  const render_items = [{\"docid\":\"b5ad1c27-7cf1-4eea-9872-54fa46b8a3b2\",\"roots\":{\"p2711\":\"48a3a4d7-d2f6-4e7a-a411-1ed861e6ece8\"},\"root_ids\":[\"p2711\"]}];\n  root.Bokeh.embed.embed_items_notebook(docs_json, render_items);\n  }\n  if (root.Bokeh !== undefined) {\n    embed_document(root);\n  } else {\n    let attempts = 0;\n    const timer = setInterval(function(root) {\n      if (root.Bokeh !== undefined) {\n        clearInterval(timer);\n        embed_document(root);\n      } else {\n        attempts++;\n        if (attempts > 100) {\n          clearInterval(timer);\n          console.log(\"Bokeh: ERROR: Unable to run BokehJS code because BokehJS library is missing\");\n        }\n      }\n    }, 10, root)\n  }\n})(window);",
      "application/vnd.bokehjs_exec.v0+json": ""
     },
     "metadata": {
      "application/vnd.bokehjs_exec.v0+json": {
       "id": "p2711"
      }
     },
     "output_type": "display_data"
    }
   ],
   "source": [
    "p = figure(title=\"Montly Expenditures on Makeup and Clothes\", \n",
    "           x_axis_label=\"Money spent on makeup\", y_axis_label=\"Money spent on clothes\")\n",
    "p.circle(monthly['makeup'], monthly['clothes'], size=10, color='navy', alpha=0.5)\n",
    "show(p)\n"
   ]
  },
  {
   "cell_type": "markdown",
   "metadata": {
    "id": "oxUIU2lE-dls"
   },
   "source": [
    "So that looks like a pretty strong positive correlation. To compute Pearson on this data we do:"
   ]
  },
  {
   "cell_type": "code",
   "execution_count": 12,
   "metadata": {
    "colab": {
     "base_uri": "https://localhost:8080/",
     "height": 112
    },
    "id": "WvYUkvHD-dls",
    "outputId": "e412bb80-b306-4357-fa8b-7dab2e04c333"
   },
   "outputs": [
    {
     "data": {
      "text/plain": "          makeup  clothes\nmakeup   1.00000  0.96802\nclothes  0.96802  1.00000",
      "text/html": "<div>\n<style scoped>\n    .dataframe tbody tr th:only-of-type {\n        vertical-align: middle;\n    }\n\n    .dataframe tbody tr th {\n        vertical-align: top;\n    }\n\n    .dataframe thead th {\n        text-align: right;\n    }\n</style>\n<table border=\"1\" class=\"dataframe\">\n  <thead>\n    <tr style=\"text-align: right;\">\n      <th></th>\n      <th>makeup</th>\n      <th>clothes</th>\n    </tr>\n  </thead>\n  <tbody>\n    <tr>\n      <th>makeup</th>\n      <td>1.00000</td>\n      <td>0.96802</td>\n    </tr>\n    <tr>\n      <th>clothes</th>\n      <td>0.96802</td>\n      <td>1.00000</td>\n    </tr>\n  </tbody>\n</table>\n</div>"
     },
     "execution_count": 12,
     "metadata": {},
     "output_type": "execute_result"
    }
   ],
   "source": [
    "monthly.corr()"
   ]
  },
  {
   "cell_type": "markdown",
   "metadata": {
    "id": "3cdda0-9-dlv"
   },
   "source": [
    "There is no surprise that makeup is perfectly correlated with makeup and clothes with clothes (those are the 1.000 on the diagonal). The interesting bit is that the Pearson for makeup to clothes is 0.968. That is a pretty strong correlation. \n",
    "\n",
    "If you are interesting you can compute the Pearson values for the datasets above, but let's now move to ...\n",
    "\n",
    "\n",
    "![](https://raw.githubusercontent.com/zacharski/datamining-guide/master/labs/pics/divider.png)\n",
    "\n",
    "\n",
    "## Regression\n",
    "\n",
    "Let's say we know a young lady who spends about  ¥22,500 per month on clothes (that's about $200/month). What do you think she spends on makeup, based on the chart below?"
   ]
  },
  {
   "cell_type": "code",
   "execution_count": 13,
   "metadata": {
    "colab": {
     "base_uri": "https://localhost:8080/",
     "height": 617
    },
    "id": "tGwP03jC-dlw",
    "outputId": "1fddcd70-93ad-4f09-e615-46b6c0983aaf"
   },
   "outputs": [
    {
     "data": {
      "text/html": "\n  <div id=\"d125ac7b-6e2e-488c-9947-ef1022335c94\" data-root-id=\"p2711\" style=\"display: contents;\"></div>\n"
     },
     "metadata": {},
     "output_type": "display_data"
    },
    {
     "data": {
      "application/javascript": "(function(root) {\n  function embed_document(root) {\n  const docs_json = {\"a971f438-970a-451a-be61-81f4dfa4e7fc\":{\"version\":\"3.0.3\",\"title\":\"Bokeh Application\",\"defs\":[],\"roots\":[{\"type\":\"object\",\"name\":\"Figure\",\"id\":\"p2711\",\"attributes\":{\"x_range\":{\"type\":\"object\",\"name\":\"DataRange1d\",\"id\":\"p2712\"},\"y_range\":{\"type\":\"object\",\"name\":\"DataRange1d\",\"id\":\"p2713\"},\"x_scale\":{\"type\":\"object\",\"name\":\"LinearScale\",\"id\":\"p2725\"},\"y_scale\":{\"type\":\"object\",\"name\":\"LinearScale\",\"id\":\"p2727\"},\"title\":{\"type\":\"object\",\"name\":\"Title\",\"id\":\"p2714\",\"attributes\":{\"text\":\"Montly Expenditures on Makeup and Clothes\",\"text_color\":\"#E0E0E0\",\"text_font\":\"Helvetica\",\"text_font_size\":\"1.15em\"}},\"outline_line_color\":\"#E0E0E0\",\"outline_line_alpha\":0.25,\"renderers\":[{\"type\":\"object\",\"name\":\"GlyphRenderer\",\"id\":\"p2764\",\"attributes\":{\"data_source\":{\"type\":\"object\",\"name\":\"ColumnDataSource\",\"id\":\"p2758\",\"attributes\":{\"selected\":{\"type\":\"object\",\"name\":\"Selection\",\"id\":\"p2760\",\"attributes\":{\"indices\":[],\"line_indices\":[]}},\"selection_policy\":{\"type\":\"object\",\"name\":\"UnionRenderers\",\"id\":\"p2759\"},\"data\":{\"type\":\"map\",\"entries\":[[\"x\",{\"type\":\"ndarray\",\"array\":{\"type\":\"bytes\",\"data\":\"uAsAAIgTAADgLgAA0AcAAFgbAACYOgAAiBMAAHAXAABAHwAAECcAAA==\"},\"shape\":[10],\"dtype\":\"int32\",\"order\":\"little\"}],[\"y\",{\"type\":\"ndarray\",\"array\":{\"type\":\"bytes\",\"data\":\"WBsAAEAfAACoYQAAiBMAAOAuAAAwdQAAECcAAJg6AAAgTgAAUEYAAA==\"},\"shape\":[10],\"dtype\":\"int32\",\"order\":\"little\"}]]}}},\"view\":{\"type\":\"object\",\"name\":\"CDSView\",\"id\":\"p2765\",\"attributes\":{\"filter\":{\"type\":\"object\",\"name\":\"AllIndices\",\"id\":\"p2766\"}}},\"glyph\":{\"type\":\"object\",\"name\":\"Circle\",\"id\":\"p2761\",\"attributes\":{\"x\":{\"type\":\"field\",\"field\":\"x\"},\"y\":{\"type\":\"field\",\"field\":\"y\"},\"size\":{\"type\":\"value\",\"value\":10},\"line_color\":{\"type\":\"value\",\"value\":\"navy\"},\"line_alpha\":{\"type\":\"value\",\"value\":0.5},\"fill_color\":{\"type\":\"value\",\"value\":\"navy\"},\"fill_alpha\":{\"type\":\"value\",\"value\":0.5},\"hatch_color\":{\"type\":\"value\",\"value\":\"navy\"},\"hatch_alpha\":{\"type\":\"value\",\"value\":0.5}}},\"nonselection_glyph\":{\"type\":\"object\",\"name\":\"Circle\",\"id\":\"p2762\",\"attributes\":{\"x\":{\"type\":\"field\",\"field\":\"x\"},\"y\":{\"type\":\"field\",\"field\":\"y\"},\"size\":{\"type\":\"value\",\"value\":10},\"line_color\":{\"type\":\"value\",\"value\":\"navy\"},\"line_alpha\":{\"type\":\"value\",\"value\":0.1},\"fill_color\":{\"type\":\"value\",\"value\":\"navy\"},\"fill_alpha\":{\"type\":\"value\",\"value\":0.1},\"hatch_color\":{\"type\":\"value\",\"value\":\"navy\"},\"hatch_alpha\":{\"type\":\"value\",\"value\":0.1}}},\"muted_glyph\":{\"type\":\"object\",\"name\":\"Circle\",\"id\":\"p2763\",\"attributes\":{\"x\":{\"type\":\"field\",\"field\":\"x\"},\"y\":{\"type\":\"field\",\"field\":\"y\"},\"size\":{\"type\":\"value\",\"value\":10},\"line_color\":{\"type\":\"value\",\"value\":\"navy\"},\"line_alpha\":{\"type\":\"value\",\"value\":0.2},\"fill_color\":{\"type\":\"value\",\"value\":\"navy\"},\"fill_alpha\":{\"type\":\"value\",\"value\":0.2},\"hatch_color\":{\"type\":\"value\",\"value\":\"navy\"},\"hatch_alpha\":{\"type\":\"value\",\"value\":0.2}}}}}],\"toolbar\":{\"type\":\"object\",\"name\":\"Toolbar\",\"id\":\"p2719\",\"attributes\":{\"tools\":[{\"type\":\"object\",\"name\":\"PanTool\",\"id\":\"p2743\"},{\"type\":\"object\",\"name\":\"WheelZoomTool\",\"id\":\"p2744\"},{\"type\":\"object\",\"name\":\"BoxZoomTool\",\"id\":\"p2745\",\"attributes\":{\"overlay\":{\"type\":\"object\",\"name\":\"BoxAnnotation\",\"id\":\"p2746\",\"attributes\":{\"syncable\":false,\"level\":\"overlay\",\"visible\":false,\"left_units\":\"canvas\",\"right_units\":\"canvas\",\"bottom_units\":\"canvas\",\"top_units\":\"canvas\",\"line_color\":\"black\",\"line_alpha\":1.0,\"line_width\":2,\"line_dash\":[4,4],\"fill_color\":\"lightgrey\",\"fill_alpha\":0.5}}}},{\"type\":\"object\",\"name\":\"SaveTool\",\"id\":\"p2747\"},{\"type\":\"object\",\"name\":\"ResetTool\",\"id\":\"p2748\"},{\"type\":\"object\",\"name\":\"HelpTool\",\"id\":\"p2749\"}]}},\"left\":[{\"type\":\"object\",\"name\":\"LinearAxis\",\"id\":\"p2736\",\"attributes\":{\"ticker\":{\"type\":\"object\",\"name\":\"BasicTicker\",\"id\":\"p2737\",\"attributes\":{\"mantissas\":[1,2,5]}},\"formatter\":{\"type\":\"object\",\"name\":\"BasicTickFormatter\",\"id\":\"p2739\"},\"axis_label\":\"Money spent on clothes\",\"axis_label_standoff\":10,\"axis_label_text_color\":\"#E0E0E0\",\"axis_label_text_font\":\"Helvetica\",\"axis_label_text_font_size\":\"1.25em\",\"axis_label_text_font_style\":\"normal\",\"major_label_policy\":{\"type\":\"object\",\"name\":\"AllLabels\",\"id\":\"p2738\"},\"major_label_text_color\":\"#E0E0E0\",\"major_label_text_font\":\"Helvetica\",\"major_label_text_font_size\":\"1.025em\",\"axis_line_color\":\"#E0E0E0\",\"axis_line_alpha\":0,\"major_tick_line_color\":\"#E0E0E0\",\"major_tick_line_alpha\":0,\"minor_tick_line_color\":\"#E0E0E0\",\"minor_tick_line_alpha\":0}}],\"below\":[{\"type\":\"object\",\"name\":\"LinearAxis\",\"id\":\"p2729\",\"attributes\":{\"ticker\":{\"type\":\"object\",\"name\":\"BasicTicker\",\"id\":\"p2730\",\"attributes\":{\"mantissas\":[1,2,5]}},\"formatter\":{\"type\":\"object\",\"name\":\"BasicTickFormatter\",\"id\":\"p2732\"},\"axis_label\":\"Money spent on makeup\",\"axis_label_standoff\":10,\"axis_label_text_color\":\"#E0E0E0\",\"axis_label_text_font\":\"Helvetica\",\"axis_label_text_font_size\":\"1.25em\",\"axis_label_text_font_style\":\"normal\",\"major_label_policy\":{\"type\":\"object\",\"name\":\"AllLabels\",\"id\":\"p2731\"},\"major_label_text_color\":\"#E0E0E0\",\"major_label_text_font\":\"Helvetica\",\"major_label_text_font_size\":\"1.025em\",\"axis_line_color\":\"#E0E0E0\",\"axis_line_alpha\":0,\"major_tick_line_color\":\"#E0E0E0\",\"major_tick_line_alpha\":0,\"minor_tick_line_color\":\"#E0E0E0\",\"minor_tick_line_alpha\":0}}],\"center\":[{\"type\":\"object\",\"name\":\"Grid\",\"id\":\"p2735\",\"attributes\":{\"axis\":{\"id\":\"p2729\"},\"grid_line_color\":\"#E0E0E0\",\"grid_line_alpha\":0.25}},{\"type\":\"object\",\"name\":\"Grid\",\"id\":\"p2742\",\"attributes\":{\"dimension\":1,\"axis\":{\"id\":\"p2736\"},\"grid_line_color\":\"#E0E0E0\",\"grid_line_alpha\":0.25}}],\"background_fill_color\":\"#20262B\",\"border_fill_color\":\"#15191C\"}}]}};\n  const render_items = [{\"docid\":\"a971f438-970a-451a-be61-81f4dfa4e7fc\",\"roots\":{\"p2711\":\"d125ac7b-6e2e-488c-9947-ef1022335c94\"},\"root_ids\":[\"p2711\"]}];\n  root.Bokeh.embed.embed_items_notebook(docs_json, render_items);\n  }\n  if (root.Bokeh !== undefined) {\n    embed_document(root);\n  } else {\n    let attempts = 0;\n    const timer = setInterval(function(root) {\n      if (root.Bokeh !== undefined) {\n        clearInterval(timer);\n        embed_document(root);\n      } else {\n        attempts++;\n        if (attempts > 100) {\n          clearInterval(timer);\n          console.log(\"Bokeh: ERROR: Unable to run BokehJS code because BokehJS library is missing\");\n        }\n      }\n    }, 10, root)\n  }\n})(window);",
      "application/vnd.bokehjs_exec.v0+json": ""
     },
     "metadata": {
      "application/vnd.bokehjs_exec.v0+json": {
       "id": "p2711"
      }
     },
     "output_type": "display_data"
    }
   ],
   "source": [
    "show(p)"
   ]
  },
  {
   "cell_type": "markdown",
   "metadata": {
    "id": "l89HC2LH-dlz"
   },
   "source": [
    "I'm guessing you would predict she spends somewhere around  ¥10,000 a month on makeup (almost $100/month). And how we do this is when looking at the graph  we mentally draw an imaginary straight line through the datapoints and use that line for predictions. We are performing human linear regression.  And as humans, we have the training set--the dots representing data points on the graph. and we **fit** our human classifier by mentally drawing that straight line. That straight line is our model. Once we have it, we can throw away the data points. When we want to make a prediction, we see where the money spent on clothes falls on that line. \n",
    "\n",
    "We just predicted a continuous value (money spent on makeup) from one factor (money spent on clothes).\n",
    "\n",
    "## Predicting MPG\n",
    "\n",
    "What happens when we want to predict a continuous value from 2 factors? Suppose we want to predict MPG based on the weight of a car and its horsepower.\n",
    "\n",
    "![](https://raw.githubusercontent.com/zacharski/ml-class/master/labs/pics/regression.png)\n",
    "from [Mathworks](https://www.mathworks.com/help/stats/regress.html)\n",
    "\n",
    "Now instead of a line representing the relationship we have a plane.\n",
    "\n",
    "Let's create a linear regression classifier and try this out!\n",
    "\n",
    "First, let's get the data.\n"
   ]
  },
  {
   "cell_type": "code",
   "execution_count": 14,
   "metadata": {
    "colab": {
     "base_uri": "https://localhost:8080/",
     "height": 455
    },
    "id": "nS-VZrlZ-dlz",
    "outputId": "4b202843-3167-4a19-ca7f-c92e33b0f1ab",
    "scrolled": true
   },
   "outputs": [
    {
     "data": {
      "text/plain": "                            mpg  cylinders  displacement     HP  weight  \\\nmodel                                                                     \nchevrolet chevelle malibu  18.0          8         307.0  130.0  3504.0   \nbuick skylark 320          15.0          8         350.0  165.0  3693.0   \nplymouth satellite         18.0          8         318.0  150.0  3436.0   \namc rebel sst              16.0          8         304.0  150.0  3433.0   \nford torino                17.0          8         302.0  140.0  3449.0   \n...                         ...        ...           ...    ...     ...   \nford mustang gl            27.0          4         140.0   86.0  2790.0   \nvw pickup                  44.0          4          97.0   52.0  2130.0   \ndodge rampage              32.0          4         135.0   84.0  2295.0   \nford ranger                28.0          4         120.0   79.0  2625.0   \nchevy s-10                 31.0          4         119.0   82.0  2720.0   \n\n                           acceleration  year  origin  \nmodel                                                  \nchevrolet chevelle malibu          12.0    70       1  \nbuick skylark 320                  11.5    70       1  \nplymouth satellite                 11.0    70       1  \namc rebel sst                      12.0    70       1  \nford torino                        10.5    70       1  \n...                                 ...   ...     ...  \nford mustang gl                    15.6    82       1  \nvw pickup                          24.6    82       2  \ndodge rampage                      11.6    82       1  \nford ranger                        18.6    82       1  \nchevy s-10                         19.4    82       1  \n\n[392 rows x 8 columns]",
      "text/html": "<div>\n<style scoped>\n    .dataframe tbody tr th:only-of-type {\n        vertical-align: middle;\n    }\n\n    .dataframe tbody tr th {\n        vertical-align: top;\n    }\n\n    .dataframe thead th {\n        text-align: right;\n    }\n</style>\n<table border=\"1\" class=\"dataframe\">\n  <thead>\n    <tr style=\"text-align: right;\">\n      <th></th>\n      <th>mpg</th>\n      <th>cylinders</th>\n      <th>displacement</th>\n      <th>HP</th>\n      <th>weight</th>\n      <th>acceleration</th>\n      <th>year</th>\n      <th>origin</th>\n    </tr>\n    <tr>\n      <th>model</th>\n      <th></th>\n      <th></th>\n      <th></th>\n      <th></th>\n      <th></th>\n      <th></th>\n      <th></th>\n      <th></th>\n    </tr>\n  </thead>\n  <tbody>\n    <tr>\n      <th>chevrolet chevelle malibu</th>\n      <td>18.0</td>\n      <td>8</td>\n      <td>307.0</td>\n      <td>130.0</td>\n      <td>3504.0</td>\n      <td>12.0</td>\n      <td>70</td>\n      <td>1</td>\n    </tr>\n    <tr>\n      <th>buick skylark 320</th>\n      <td>15.0</td>\n      <td>8</td>\n      <td>350.0</td>\n      <td>165.0</td>\n      <td>3693.0</td>\n      <td>11.5</td>\n      <td>70</td>\n      <td>1</td>\n    </tr>\n    <tr>\n      <th>plymouth satellite</th>\n      <td>18.0</td>\n      <td>8</td>\n      <td>318.0</td>\n      <td>150.0</td>\n      <td>3436.0</td>\n      <td>11.0</td>\n      <td>70</td>\n      <td>1</td>\n    </tr>\n    <tr>\n      <th>amc rebel sst</th>\n      <td>16.0</td>\n      <td>8</td>\n      <td>304.0</td>\n      <td>150.0</td>\n      <td>3433.0</td>\n      <td>12.0</td>\n      <td>70</td>\n      <td>1</td>\n    </tr>\n    <tr>\n      <th>ford torino</th>\n      <td>17.0</td>\n      <td>8</td>\n      <td>302.0</td>\n      <td>140.0</td>\n      <td>3449.0</td>\n      <td>10.5</td>\n      <td>70</td>\n      <td>1</td>\n    </tr>\n    <tr>\n      <th>...</th>\n      <td>...</td>\n      <td>...</td>\n      <td>...</td>\n      <td>...</td>\n      <td>...</td>\n      <td>...</td>\n      <td>...</td>\n      <td>...</td>\n    </tr>\n    <tr>\n      <th>ford mustang gl</th>\n      <td>27.0</td>\n      <td>4</td>\n      <td>140.0</td>\n      <td>86.0</td>\n      <td>2790.0</td>\n      <td>15.6</td>\n      <td>82</td>\n      <td>1</td>\n    </tr>\n    <tr>\n      <th>vw pickup</th>\n      <td>44.0</td>\n      <td>4</td>\n      <td>97.0</td>\n      <td>52.0</td>\n      <td>2130.0</td>\n      <td>24.6</td>\n      <td>82</td>\n      <td>2</td>\n    </tr>\n    <tr>\n      <th>dodge rampage</th>\n      <td>32.0</td>\n      <td>4</td>\n      <td>135.0</td>\n      <td>84.0</td>\n      <td>2295.0</td>\n      <td>11.6</td>\n      <td>82</td>\n      <td>1</td>\n    </tr>\n    <tr>\n      <th>ford ranger</th>\n      <td>28.0</td>\n      <td>4</td>\n      <td>120.0</td>\n      <td>79.0</td>\n      <td>2625.0</td>\n      <td>18.6</td>\n      <td>82</td>\n      <td>1</td>\n    </tr>\n    <tr>\n      <th>chevy s-10</th>\n      <td>31.0</td>\n      <td>4</td>\n      <td>119.0</td>\n      <td>82.0</td>\n      <td>2720.0</td>\n      <td>19.4</td>\n      <td>82</td>\n      <td>1</td>\n    </tr>\n  </tbody>\n</table>\n<p>392 rows × 8 columns</p>\n</div>"
     },
     "execution_count": 14,
     "metadata": {},
     "output_type": "execute_result"
    }
   ],
   "source": [
    "columnNames = ['mpg', 'cylinders', 'displacement', 'HP', 'weight', 'acceleration', 'year', 'origin', 'model']\n",
    "cars = pd.read_csv('https://raw.githubusercontent.com/zacharski/ml-class/master/data/auto-mpg.csv',\n",
    "                   na_values=['?'], names=columnNames)\n",
    "cars = cars.set_index('model')\n",
    "cars = cars.dropna()\n",
    "cars"
   ]
  },
  {
   "cell_type": "markdown",
   "metadata": {
    "id": "E0rh87Zf-dl2"
   },
   "source": [
    "Now divide the dataset into training and testing. And let's only use the horsepower and weight columns as features."
   ]
  },
  {
   "cell_type": "code",
   "execution_count": 15,
   "metadata": {
    "colab": {
     "base_uri": "https://localhost:8080/",
     "height": 455
    },
    "id": "R_JBLlrW-dl2",
    "outputId": "18703952-1771-4563-a14d-ae823513169e"
   },
   "outputs": [
    {
     "data": {
      "text/plain": "                          HP  weight\nmodel                               \npontiac catalina       225.0  4425.0\ndatsun 710              97.0  2545.0\naudi 5000s (diesel)     67.0  2950.0\nmercury marquis        208.0  4633.0\nplymouth fury iii      215.0  4312.0\n...                      ...     ...\ndatsun b210             67.0  1950.0\npontiac grand prix lj  180.0  4220.0\nplymouth reliant        84.0  2490.0\nvolkswagen jetta        74.0  2190.0\ndodge colt hardtop      80.0  2126.0\n\n[79 rows x 2 columns]",
      "text/html": "<div>\n<style scoped>\n    .dataframe tbody tr th:only-of-type {\n        vertical-align: middle;\n    }\n\n    .dataframe tbody tr th {\n        vertical-align: top;\n    }\n\n    .dataframe thead th {\n        text-align: right;\n    }\n</style>\n<table border=\"1\" class=\"dataframe\">\n  <thead>\n    <tr style=\"text-align: right;\">\n      <th></th>\n      <th>HP</th>\n      <th>weight</th>\n    </tr>\n    <tr>\n      <th>model</th>\n      <th></th>\n      <th></th>\n    </tr>\n  </thead>\n  <tbody>\n    <tr>\n      <th>pontiac catalina</th>\n      <td>225.0</td>\n      <td>4425.0</td>\n    </tr>\n    <tr>\n      <th>datsun 710</th>\n      <td>97.0</td>\n      <td>2545.0</td>\n    </tr>\n    <tr>\n      <th>audi 5000s (diesel)</th>\n      <td>67.0</td>\n      <td>2950.0</td>\n    </tr>\n    <tr>\n      <th>mercury marquis</th>\n      <td>208.0</td>\n      <td>4633.0</td>\n    </tr>\n    <tr>\n      <th>plymouth fury iii</th>\n      <td>215.0</td>\n      <td>4312.0</td>\n    </tr>\n    <tr>\n      <th>...</th>\n      <td>...</td>\n      <td>...</td>\n    </tr>\n    <tr>\n      <th>datsun b210</th>\n      <td>67.0</td>\n      <td>1950.0</td>\n    </tr>\n    <tr>\n      <th>pontiac grand prix lj</th>\n      <td>180.0</td>\n      <td>4220.0</td>\n    </tr>\n    <tr>\n      <th>plymouth reliant</th>\n      <td>84.0</td>\n      <td>2490.0</td>\n    </tr>\n    <tr>\n      <th>volkswagen jetta</th>\n      <td>74.0</td>\n      <td>2190.0</td>\n    </tr>\n    <tr>\n      <th>dodge colt hardtop</th>\n      <td>80.0</td>\n      <td>2126.0</td>\n    </tr>\n  </tbody>\n</table>\n<p>79 rows × 2 columns</p>\n</div>"
     },
     "execution_count": 15,
     "metadata": {},
     "output_type": "execute_result"
    }
   ],
   "source": [
    "from sklearn.model_selection import train_test_split\n",
    "cars_train, cars_test = train_test_split(cars, test_size = 0.2)\n",
    "cars_train_features = cars_train[['HP', 'weight']]\n",
    "# cars_train_features['HP'] = cars_train_features.HP.astype(float)\n",
    "cars_train_labels = cars_train['mpg']\n",
    "cars_test_features = cars_test[['HP', 'weight']]\n",
    "# cars_test_features['HP'] = cars_test_features.HP.astype(float)\n",
    "cars_test_labels = cars_test['mpg']\n",
    "\n",
    "cars_test_features"
   ]
  },
  {
   "cell_type": "markdown",
   "metadata": {
    "id": "f62sESxd-dl6"
   },
   "source": [
    "### SKLearn Linear Regression\n",
    "\n",
    "Now let's create a Linear Regression classifier and fit it."
   ]
  },
  {
   "cell_type": "code",
   "execution_count": 16,
   "metadata": {
    "colab": {
     "base_uri": "https://localhost:8080/"
    },
    "id": "wJ5-BzSU-dl6",
    "outputId": "c6806847-ed86-4190-9058-491d5ba566a2"
   },
   "outputs": [
    {
     "data": {
      "text/plain": "LinearRegression()",
      "text/html": "<style>#sk-container-id-1 {color: black;background-color: white;}#sk-container-id-1 pre{padding: 0;}#sk-container-id-1 div.sk-toggleable {background-color: white;}#sk-container-id-1 label.sk-toggleable__label {cursor: pointer;display: block;width: 100%;margin-bottom: 0;padding: 0.3em;box-sizing: border-box;text-align: center;}#sk-container-id-1 label.sk-toggleable__label-arrow:before {content: \"▸\";float: left;margin-right: 0.25em;color: #696969;}#sk-container-id-1 label.sk-toggleable__label-arrow:hover:before {color: black;}#sk-container-id-1 div.sk-estimator:hover label.sk-toggleable__label-arrow:before {color: black;}#sk-container-id-1 div.sk-toggleable__content {max-height: 0;max-width: 0;overflow: hidden;text-align: left;background-color: #f0f8ff;}#sk-container-id-1 div.sk-toggleable__content pre {margin: 0.2em;color: black;border-radius: 0.25em;background-color: #f0f8ff;}#sk-container-id-1 input.sk-toggleable__control:checked~div.sk-toggleable__content {max-height: 200px;max-width: 100%;overflow: auto;}#sk-container-id-1 input.sk-toggleable__control:checked~label.sk-toggleable__label-arrow:before {content: \"▾\";}#sk-container-id-1 div.sk-estimator input.sk-toggleable__control:checked~label.sk-toggleable__label {background-color: #d4ebff;}#sk-container-id-1 div.sk-label input.sk-toggleable__control:checked~label.sk-toggleable__label {background-color: #d4ebff;}#sk-container-id-1 input.sk-hidden--visually {border: 0;clip: rect(1px 1px 1px 1px);clip: rect(1px, 1px, 1px, 1px);height: 1px;margin: -1px;overflow: hidden;padding: 0;position: absolute;width: 1px;}#sk-container-id-1 div.sk-estimator {font-family: monospace;background-color: #f0f8ff;border: 1px dotted black;border-radius: 0.25em;box-sizing: border-box;margin-bottom: 0.5em;}#sk-container-id-1 div.sk-estimator:hover {background-color: #d4ebff;}#sk-container-id-1 div.sk-parallel-item::after {content: \"\";width: 100%;border-bottom: 1px solid gray;flex-grow: 1;}#sk-container-id-1 div.sk-label:hover label.sk-toggleable__label {background-color: #d4ebff;}#sk-container-id-1 div.sk-serial::before {content: \"\";position: absolute;border-left: 1px solid gray;box-sizing: border-box;top: 0;bottom: 0;left: 50%;z-index: 0;}#sk-container-id-1 div.sk-serial {display: flex;flex-direction: column;align-items: center;background-color: white;padding-right: 0.2em;padding-left: 0.2em;position: relative;}#sk-container-id-1 div.sk-item {position: relative;z-index: 1;}#sk-container-id-1 div.sk-parallel {display: flex;align-items: stretch;justify-content: center;background-color: white;position: relative;}#sk-container-id-1 div.sk-item::before, #sk-container-id-1 div.sk-parallel-item::before {content: \"\";position: absolute;border-left: 1px solid gray;box-sizing: border-box;top: 0;bottom: 0;left: 50%;z-index: -1;}#sk-container-id-1 div.sk-parallel-item {display: flex;flex-direction: column;z-index: 1;position: relative;background-color: white;}#sk-container-id-1 div.sk-parallel-item:first-child::after {align-self: flex-end;width: 50%;}#sk-container-id-1 div.sk-parallel-item:last-child::after {align-self: flex-start;width: 50%;}#sk-container-id-1 div.sk-parallel-item:only-child::after {width: 0;}#sk-container-id-1 div.sk-dashed-wrapped {border: 1px dashed gray;margin: 0 0.4em 0.5em 0.4em;box-sizing: border-box;padding-bottom: 0.4em;background-color: white;}#sk-container-id-1 div.sk-label label {font-family: monospace;font-weight: bold;display: inline-block;line-height: 1.2em;}#sk-container-id-1 div.sk-label-container {text-align: center;}#sk-container-id-1 div.sk-container {/* jupyter's `normalize.less` sets `[hidden] { display: none; }` but bootstrap.min.css set `[hidden] { display: none !important; }` so we also need the `!important` here to be able to override the default hidden behavior on the sphinx rendered scikit-learn.org. See: https://github.com/scikit-learn/scikit-learn/issues/21755 */display: inline-block !important;position: relative;}#sk-container-id-1 div.sk-text-repr-fallback {display: none;}</style><div id=\"sk-container-id-1\" class=\"sk-top-container\"><div class=\"sk-text-repr-fallback\"><pre>LinearRegression()</pre><b>In a Jupyter environment, please rerun this cell to show the HTML representation or trust the notebook. <br />On GitHub, the HTML representation is unable to render, please try loading this page with nbviewer.org.</b></div><div class=\"sk-container\" hidden><div class=\"sk-item\"><div class=\"sk-estimator sk-toggleable\"><input class=\"sk-toggleable__control sk-hidden--visually\" id=\"sk-estimator-id-1\" type=\"checkbox\" checked><label for=\"sk-estimator-id-1\" class=\"sk-toggleable__label sk-toggleable__label-arrow\">LinearRegression</label><div class=\"sk-toggleable__content\"><pre>LinearRegression()</pre></div></div></div></div></div>"
     },
     "execution_count": 16,
     "metadata": {},
     "output_type": "execute_result"
    }
   ],
   "source": [
    "from sklearn.linear_model import LinearRegression\n",
    "linclf = LinearRegression()\n",
    "linclf.fit(cars_train_features, cars_train_labels)"
   ]
  },
  {
   "cell_type": "markdown",
   "metadata": {
    "id": "qo_VNdhI-dl9"
   },
   "source": [
    "and finally use the trained classifier to make predictions on our test data"
   ]
  },
  {
   "cell_type": "code",
   "execution_count": 17,
   "metadata": {
    "id": "gtNyLgia-dl9"
   },
   "outputs": [],
   "source": [
    "predictions = linclf.predict(cars_test_features)"
   ]
  },
  {
   "cell_type": "markdown",
   "metadata": {
    "id": "jYsJvAiR-dl_"
   },
   "source": [
    "Let's take an informal look at how we did:"
   ]
  },
  {
   "cell_type": "code",
   "execution_count": 18,
   "metadata": {
    "colab": {
     "base_uri": "https://localhost:8080/",
     "height": 455
    },
    "id": "9AnurGcX-dmC",
    "outputId": "b6359cdc-d17c-4a2a-8fd2-e2c2799ba1c9",
    "scrolled": true
   },
   "outputs": [
    {
     "data": {
      "text/plain": "                        mpg  Predicted\nmodel                                 \npontiac catalina       14.0   9.368418\ndatsun 710             24.0  26.442458\naudi 5000s (diesel)    36.4  25.267754\nmercury marquis        11.0   8.834363\nplymouth fury iii      14.0  10.494964\n...                     ...        ...\ndatsun b210            31.0  31.389181\npontiac grand prix lj  16.0  12.580022\nplymouth reliant       27.2  27.344408\nvolkswagen jetta       33.0  29.615661\ndodge colt hardtop     25.0  29.746538\n\n[79 rows x 2 columns]",
      "text/html": "<div>\n<style scoped>\n    .dataframe tbody tr th:only-of-type {\n        vertical-align: middle;\n    }\n\n    .dataframe tbody tr th {\n        vertical-align: top;\n    }\n\n    .dataframe thead th {\n        text-align: right;\n    }\n</style>\n<table border=\"1\" class=\"dataframe\">\n  <thead>\n    <tr style=\"text-align: right;\">\n      <th></th>\n      <th>mpg</th>\n      <th>Predicted</th>\n    </tr>\n    <tr>\n      <th>model</th>\n      <th></th>\n      <th></th>\n    </tr>\n  </thead>\n  <tbody>\n    <tr>\n      <th>pontiac catalina</th>\n      <td>14.0</td>\n      <td>9.368418</td>\n    </tr>\n    <tr>\n      <th>datsun 710</th>\n      <td>24.0</td>\n      <td>26.442458</td>\n    </tr>\n    <tr>\n      <th>audi 5000s (diesel)</th>\n      <td>36.4</td>\n      <td>25.267754</td>\n    </tr>\n    <tr>\n      <th>mercury marquis</th>\n      <td>11.0</td>\n      <td>8.834363</td>\n    </tr>\n    <tr>\n      <th>plymouth fury iii</th>\n      <td>14.0</td>\n      <td>10.494964</td>\n    </tr>\n    <tr>\n      <th>...</th>\n      <td>...</td>\n      <td>...</td>\n    </tr>\n    <tr>\n      <th>datsun b210</th>\n      <td>31.0</td>\n      <td>31.389181</td>\n    </tr>\n    <tr>\n      <th>pontiac grand prix lj</th>\n      <td>16.0</td>\n      <td>12.580022</td>\n    </tr>\n    <tr>\n      <th>plymouth reliant</th>\n      <td>27.2</td>\n      <td>27.344408</td>\n    </tr>\n    <tr>\n      <th>volkswagen jetta</th>\n      <td>33.0</td>\n      <td>29.615661</td>\n    </tr>\n    <tr>\n      <th>dodge colt hardtop</th>\n      <td>25.0</td>\n      <td>29.746538</td>\n    </tr>\n  </tbody>\n</table>\n<p>79 rows × 2 columns</p>\n</div>"
     },
     "execution_count": 18,
     "metadata": {},
     "output_type": "execute_result"
    }
   ],
   "source": [
    "results = cars_test_labels.to_frame()\n",
    "results['Predicted']= predictions\n",
    "results"
   ]
  },
  {
   "cell_type": "markdown",
   "metadata": {
    "id": "rjOo1BLN-dmF"
   },
   "source": [
    "Here is what my output looked like:\n",
    "\n",
    "![](https://raw.githubusercontent.com/zacharski/ml-class/master/labs/pics/predictMPG.png)\n",
    "\n",
    "as you can see the first two predictions were pretty close as were a few others.\n",
    "\n",
    "\n",
    "\n",
    "\n",
    "![](https://raw.githubusercontent.com/zacharski/datamining-guide/master/labs/pics/divider.png)\n",
    "\n",
    "### Determining how well the classifier performed\n",
    "\n",
    "With categorical classifiers we used sklearn's accuracy_score:\n",
    "\n",
    "```\n",
    "from sklearn.metrics import accuracy_score\n",
    "```\n",
    "Consider a task of predicting whether an image is of a dog or a cat. We have 10 instances in our test set. After our classifier makes predictions, for each image we have the actual (true) value, and the value our classifier predicted:\n",
    "\n",
    "actual | predicted\n",
    ":-- | :---\n",
    "dog | dog\n",
    "**dog** | **cat**\n",
    "cat | cat\n",
    "dog | dog\n",
    "cat | cat\n",
    "**cat** | **dog**\n",
    "dog | dog\n",
    "cat | cat\n",
    "cat | cat\n",
    "dog | dog\n",
    "\n",
    "sklearn's accuracy score just counts how many predicted values matched the actual values and then divides by the total number of test instances. In this case the accuracy score would be .8000. The classifier was correct 80% of the time. \n",
    "\n",
    "We can't use this method with a regression classifier. In the image above, the actual MPG of the Peugeot 304 was 30 and our classifier predicted 30.038619. Does that count as a match or not? The actual mpg of a Pontiac Sunbird Coupe was 24.5 and we predicted 25.57. Does that count as a match? Instead of accuracy_score, there are different evaluation metrics we can use. \n",
    "\n",
    "#### Mean Squared Error and Root Mean Square Error\n",
    "\n",
    "A common metric is Mean Squared Error or MSE. MSE is a measure of the quality of a regression classifier. The closer MSE is to zero, the better the classifier. Let's look at some made up data to see how this works:\n",
    "\n",
    "vehicle | Actual MPG | Predicted MPG\n",
    ":---: | ---: | ---: \n",
    "Ram Promaster 3500 | 18.0 | 20.0\n",
    "Ford F150 | 20 | 19\n",
    "Fiat 128 | 33 | 33\n",
    "\n",
    "First we compute the error (the difference between the predicted and actual values)\n",
    "\n",
    "vehicle | Actual MPG | Predicted MPG | Error\n",
    ":---: | ---: | ---: | --:\n",
    "Ram Promaster 3500 | 18.0 | 20.0 | -2\n",
    "Ford F150 | 20 | 19 | 1\n",
    "Fiat 128 | 33 | 33 | 0\n",
    "\n",
    "Next we square the error and compute the average:\n",
    "\n",
    "vehicle | Actual MPG | Predicted MPG | Error | Error^2\n",
    ":---: | ---: | ---: | --: | ---:\n",
    "Ram Promaster 3500 | 18.0 | 20.0 | -2 | 4\n",
    "Ford F150 | 20 | 19 | 1 | 1\n",
    "Fiat 128 | 33 | 33 | 0 | 0\n",
    "MSE | - | - | - | 1.667\n",
    "\n",
    "**Root Mean Squared Error** is simply the square root of MSE. The advantage of RMSE is that it has the same units as what we are trying to predict. Let's take a look ..."
   ]
  },
  {
   "cell_type": "code",
   "execution_count": 19,
   "metadata": {
    "colab": {
     "base_uri": "https://localhost:8080/"
    },
    "id": "z8DX6nRJ-dmF",
    "outputId": "5247e95c-4a6e-4563-d441-aa41496d4547"
   },
   "outputs": [
    {
     "name": "stdout",
     "output_type": "stream",
     "text": [
      "MSE: 17.521.   RMSE: 4.186\n"
     ]
    }
   ],
   "source": [
    "from sklearn.metrics import mean_squared_error\n",
    "MSE  = mean_squared_error(cars_test_labels, predictions)\n",
    "RMSE = mean_squared_error(cars_test_labels, predictions, squared=False)\n",
    "print(\"MSE: %5.3f.   RMSE: %5.3f\" %(MSE, RMSE))"
   ]
  },
  {
   "cell_type": "markdown",
   "metadata": {
    "id": "W9ZgOu53-dmH"
   },
   "source": [
    "That RMSE tells us on average how many mpg we were off.\n",
    "\n",
    "\n",
    "\n",
    "\n",
    "\n",
    "\n",
    "![](https://raw.githubusercontent.com/zacharski/datamining-guide/master/labs/pics/torchdivide.png)\n",
    "\n",
    "# <font color='#EE4C2C'>You Try ... </font> \n",
    "## <font color='#EE4C2C'>Predicting the range of electric vehicles</font> \n",
    "\n",
    "We are wondering whether we can predict the range of an EV from its battery capacity and efficiency. It seems like it might. If our battery holds 60 kWh (kilowatt hours), and it it takes 200 wh (watt hours) to go 1 kilometer, you might predict that we could go 60,000 / 200 = 300 kilometers on a charge. This is equivalent to if you know the capacity of your gas tank and how efficient (MPG) your car is you can roughly predict the range of your car. For example, if the tank capacity is 10 gallons and it gets 30 MPG, you should be able to go 300 miles.\n",
    "\n",
    "The data is in the file \n",
    "\n",
    "[https://raw.githubusercontent.com/zacharski/ml-class/master/data/ElectricCarData_w_battery.csv](https://raw.githubusercontent.com/zacharski/ml-class/master/data/ElectricCarData_w_battery.csv)\n",
    "\n",
    "![](https://raw.githubusercontent.com/zacharski/datamining-guide/master/labs/pics/PyDivideTwo.png)\n",
    "## <font color='#EE4C2C'>1. Load that file into a Pandas DataFrame</font> "
   ]
  },
  {
   "cell_type": "code",
   "execution_count": 20,
   "metadata": {
    "colab": {
     "base_uri": "https://localhost:8080/",
     "height": 424
    },
    "id": "vkuf_K0g7BRK",
    "outputId": "5bb242b6-dfb3-4fc3-a907-47f4dd580836"
   },
   "outputs": [],
   "source": [
    "#TODO"
   ]
  },
  {
   "cell_type": "markdown",
   "metadata": {
    "id": "PHin7iEO7BZw"
   },
   "source": [
    "![](https://raw.githubusercontent.com/zacharski/datamining-guide/master/labs/pics/PyDivideTwo.png)\n",
    "## <font color='#EE4C2C'>2. Divide into training and test datasets</font> \n",
    "Now divide the dataset into training and testing. And let's only use the `Efficiency_WhKm`, `battery_kWh` columns as features and the column `Range_Km` is what we are trying to predict."
   ]
  },
  {
   "cell_type": "code",
   "execution_count": 20,
   "metadata": {
    "colab": {
     "base_uri": "https://localhost:8080/",
     "height": 739
    },
    "id": "0oYPJC_s7uZa",
    "outputId": "c2ac1340-33b3-4138-8dad-e302e6bec299"
   },
   "outputs": [],
   "source": []
  },
  {
   "cell_type": "markdown",
   "metadata": {
    "id": "2uG356hQ8lfs"
   },
   "source": [
    "![](https://raw.githubusercontent.com/zacharski/datamining-guide/master/labs/pics/PyDivideTwo.png)\n",
    "## <font color='#EE4C2C'>3. SKLearn Linear Regression</font> \n",
    "\n",
    "Now let's create a Linear Regression classifier and fit it."
   ]
  },
  {
   "cell_type": "code",
   "execution_count": 20,
   "metadata": {
    "colab": {
     "base_uri": "https://localhost:8080/"
    },
    "id": "BAqgum4Q8luZ",
    "outputId": "a4bfb70f-b6f8-490f-d788-7a5068b39f44"
   },
   "outputs": [],
   "source": []
  },
  {
   "cell_type": "markdown",
   "metadata": {
    "id": "enX0lXdh80-d"
   },
   "source": [
    "![](https://raw.githubusercontent.com/zacharski/datamining-guide/master/labs/pics/PyDivideTwo.png)\n",
    "## <font color='#EE4C2C'>4. Predictions</font>\n",
    "Let's use the classifier to make predictions on our test dataset."
   ]
  },
  {
   "cell_type": "code",
   "execution_count": 20,
   "metadata": {
    "id": "mFGQ31B681G_"
   },
   "outputs": [],
   "source": []
  },
  {
   "cell_type": "markdown",
   "metadata": {
    "id": "z6FkH6F-89KJ"
   },
   "source": [
    "![](https://raw.githubusercontent.com/zacharski/datamining-guide/master/labs/pics/PyDivideTwo.png)\n",
    "## <font color='#EE4C2C'>5. RMSE</font>\n",
    "What is the Root Mean Square Error?"
   ]
  },
  {
   "cell_type": "code",
   "execution_count": 20,
   "metadata": {
    "colab": {
     "base_uri": "https://localhost:8080/"
    },
    "id": "jVZH4UDJ89e8",
    "outputId": "2c8844bd-ccf1-4d7e-f03a-a6c5ef085f13"
   },
   "outputs": [],
   "source": []
  },
  {
   "cell_type": "markdown",
   "metadata": {
    "id": "cOQJsBB__EHB"
   },
   "source": [
    "![](https://raw.githubusercontent.com/zacharski/datamining-guide/master/labs/pics/PyDivideTwo.png)\n",
    "## <font color='#EE4C2C'>6. How well does the classifier work?</font>\n",
    "Just double click this text cell and type in your answer."
   ]
  },
  {
   "cell_type": "markdown",
   "metadata": {
    "id": "mTV5eu8b7Bbh"
   },
   "source": [
    "\n",
    "![](https://raw.githubusercontent.com/zacharski/datamining-guide/master/labs/pics/divider.png)\n",
    "\n",
    "\n",
    "\n",
    "## So what kind of model does a linear regression classifier build?\n",
    "\n",
    "You probably know this if you reflect on grade school math classes you took. \n",
    "\n",
    "Let's go back and look at the young ladies expenditures on clothes and makeup."
   ]
  },
  {
   "cell_type": "code",
   "execution_count": 21,
   "metadata": {
    "colab": {
     "base_uri": "https://localhost:8080/",
     "height": 617
    },
    "id": "hpZ8csEm-dmI",
    "outputId": "061c6ce2-892b-4f8d-fe58-97e3042dc287",
    "scrolled": true
   },
   "outputs": [
    {
     "data": {
      "text/html": "\n  <div id=\"c6d65515-dd37-4cfa-9817-a694dfcab521\" data-root-id=\"p3349\" style=\"display: contents;\"></div>\n"
     },
     "metadata": {},
     "output_type": "display_data"
    },
    {
     "data": {
      "application/javascript": "(function(root) {\n  function embed_document(root) {\n  const docs_json = {\"6872341b-648e-4fe8-97bb-ddbd9ae20d67\":{\"version\":\"3.0.3\",\"title\":\"Bokeh Application\",\"defs\":[],\"roots\":[{\"type\":\"object\",\"name\":\"Figure\",\"id\":\"p3349\",\"attributes\":{\"x_range\":{\"type\":\"object\",\"name\":\"DataRange1d\",\"id\":\"p3350\"},\"y_range\":{\"type\":\"object\",\"name\":\"DataRange1d\",\"id\":\"p3351\"},\"x_scale\":{\"type\":\"object\",\"name\":\"LinearScale\",\"id\":\"p3363\"},\"y_scale\":{\"type\":\"object\",\"name\":\"LinearScale\",\"id\":\"p3365\"},\"title\":{\"type\":\"object\",\"name\":\"Title\",\"id\":\"p3352\",\"attributes\":{\"text\":\"Montly Expenditures on Makeup and Clothes\",\"text_color\":\"#E0E0E0\",\"text_font\":\"Helvetica\",\"text_font_size\":\"1.15em\"}},\"outline_line_color\":\"#E0E0E0\",\"outline_line_alpha\":0.25,\"renderers\":[{\"type\":\"object\",\"name\":\"GlyphRenderer\",\"id\":\"p3402\",\"attributes\":{\"data_source\":{\"type\":\"object\",\"name\":\"ColumnDataSource\",\"id\":\"p3396\",\"attributes\":{\"selected\":{\"type\":\"object\",\"name\":\"Selection\",\"id\":\"p3398\",\"attributes\":{\"indices\":[],\"line_indices\":[]}},\"selection_policy\":{\"type\":\"object\",\"name\":\"UnionRenderers\",\"id\":\"p3397\"},\"data\":{\"type\":\"map\",\"entries\":[[\"x\",{\"type\":\"ndarray\",\"array\":{\"type\":\"bytes\",\"data\":\"uAsAAIgTAADgLgAA0AcAAFgbAACYOgAAiBMAAHAXAABAHwAAECcAAA==\"},\"shape\":[10],\"dtype\":\"int32\",\"order\":\"little\"}],[\"y\",{\"type\":\"ndarray\",\"array\":{\"type\":\"bytes\",\"data\":\"WBsAAEAfAACoYQAAiBMAAOAuAAAwdQAAECcAAJg6AAAgTgAAUEYAAA==\"},\"shape\":[10],\"dtype\":\"int32\",\"order\":\"little\"}]]}}},\"view\":{\"type\":\"object\",\"name\":\"CDSView\",\"id\":\"p3403\",\"attributes\":{\"filter\":{\"type\":\"object\",\"name\":\"AllIndices\",\"id\":\"p3404\"}}},\"glyph\":{\"type\":\"object\",\"name\":\"Circle\",\"id\":\"p3399\",\"attributes\":{\"x\":{\"type\":\"field\",\"field\":\"x\"},\"y\":{\"type\":\"field\",\"field\":\"y\"},\"size\":{\"type\":\"value\",\"value\":10},\"line_color\":{\"type\":\"value\",\"value\":\"navy\"},\"line_alpha\":{\"type\":\"value\",\"value\":0.5},\"fill_color\":{\"type\":\"value\",\"value\":\"navy\"},\"fill_alpha\":{\"type\":\"value\",\"value\":0.5},\"hatch_color\":{\"type\":\"value\",\"value\":\"navy\"},\"hatch_alpha\":{\"type\":\"value\",\"value\":0.5}}},\"nonselection_glyph\":{\"type\":\"object\",\"name\":\"Circle\",\"id\":\"p3400\",\"attributes\":{\"x\":{\"type\":\"field\",\"field\":\"x\"},\"y\":{\"type\":\"field\",\"field\":\"y\"},\"size\":{\"type\":\"value\",\"value\":10},\"line_color\":{\"type\":\"value\",\"value\":\"navy\"},\"line_alpha\":{\"type\":\"value\",\"value\":0.1},\"fill_color\":{\"type\":\"value\",\"value\":\"navy\"},\"fill_alpha\":{\"type\":\"value\",\"value\":0.1},\"hatch_color\":{\"type\":\"value\",\"value\":\"navy\"},\"hatch_alpha\":{\"type\":\"value\",\"value\":0.1}}},\"muted_glyph\":{\"type\":\"object\",\"name\":\"Circle\",\"id\":\"p3401\",\"attributes\":{\"x\":{\"type\":\"field\",\"field\":\"x\"},\"y\":{\"type\":\"field\",\"field\":\"y\"},\"size\":{\"type\":\"value\",\"value\":10},\"line_color\":{\"type\":\"value\",\"value\":\"navy\"},\"line_alpha\":{\"type\":\"value\",\"value\":0.2},\"fill_color\":{\"type\":\"value\",\"value\":\"navy\"},\"fill_alpha\":{\"type\":\"value\",\"value\":0.2},\"hatch_color\":{\"type\":\"value\",\"value\":\"navy\"},\"hatch_alpha\":{\"type\":\"value\",\"value\":0.2}}}}}],\"toolbar\":{\"type\":\"object\",\"name\":\"Toolbar\",\"id\":\"p3357\",\"attributes\":{\"tools\":[{\"type\":\"object\",\"name\":\"PanTool\",\"id\":\"p3381\"},{\"type\":\"object\",\"name\":\"WheelZoomTool\",\"id\":\"p3382\"},{\"type\":\"object\",\"name\":\"BoxZoomTool\",\"id\":\"p3383\",\"attributes\":{\"overlay\":{\"type\":\"object\",\"name\":\"BoxAnnotation\",\"id\":\"p3384\",\"attributes\":{\"syncable\":false,\"level\":\"overlay\",\"visible\":false,\"left_units\":\"canvas\",\"right_units\":\"canvas\",\"bottom_units\":\"canvas\",\"top_units\":\"canvas\",\"line_color\":\"black\",\"line_alpha\":1.0,\"line_width\":2,\"line_dash\":[4,4],\"fill_color\":\"lightgrey\",\"fill_alpha\":0.5}}}},{\"type\":\"object\",\"name\":\"SaveTool\",\"id\":\"p3385\"},{\"type\":\"object\",\"name\":\"ResetTool\",\"id\":\"p3386\"},{\"type\":\"object\",\"name\":\"HelpTool\",\"id\":\"p3387\"}]}},\"left\":[{\"type\":\"object\",\"name\":\"LinearAxis\",\"id\":\"p3374\",\"attributes\":{\"ticker\":{\"type\":\"object\",\"name\":\"BasicTicker\",\"id\":\"p3375\",\"attributes\":{\"mantissas\":[1,2,5]}},\"formatter\":{\"type\":\"object\",\"name\":\"BasicTickFormatter\",\"id\":\"p3377\"},\"axis_label\":\"Money spent on clothes\",\"axis_label_standoff\":10,\"axis_label_text_color\":\"#E0E0E0\",\"axis_label_text_font\":\"Helvetica\",\"axis_label_text_font_size\":\"1.25em\",\"axis_label_text_font_style\":\"normal\",\"major_label_policy\":{\"type\":\"object\",\"name\":\"AllLabels\",\"id\":\"p3376\"},\"major_label_text_color\":\"#E0E0E0\",\"major_label_text_font\":\"Helvetica\",\"major_label_text_font_size\":\"1.025em\",\"axis_line_color\":\"#E0E0E0\",\"axis_line_alpha\":0,\"major_tick_line_color\":\"#E0E0E0\",\"major_tick_line_alpha\":0,\"minor_tick_line_color\":\"#E0E0E0\",\"minor_tick_line_alpha\":0}}],\"below\":[{\"type\":\"object\",\"name\":\"LinearAxis\",\"id\":\"p3367\",\"attributes\":{\"ticker\":{\"type\":\"object\",\"name\":\"BasicTicker\",\"id\":\"p3368\",\"attributes\":{\"mantissas\":[1,2,5]}},\"formatter\":{\"type\":\"object\",\"name\":\"BasicTickFormatter\",\"id\":\"p3370\"},\"axis_label\":\"Money spent on makeup\",\"axis_label_standoff\":10,\"axis_label_text_color\":\"#E0E0E0\",\"axis_label_text_font\":\"Helvetica\",\"axis_label_text_font_size\":\"1.25em\",\"axis_label_text_font_style\":\"normal\",\"major_label_policy\":{\"type\":\"object\",\"name\":\"AllLabels\",\"id\":\"p3369\"},\"major_label_text_color\":\"#E0E0E0\",\"major_label_text_font\":\"Helvetica\",\"major_label_text_font_size\":\"1.025em\",\"axis_line_color\":\"#E0E0E0\",\"axis_line_alpha\":0,\"major_tick_line_color\":\"#E0E0E0\",\"major_tick_line_alpha\":0,\"minor_tick_line_color\":\"#E0E0E0\",\"minor_tick_line_alpha\":0}}],\"center\":[{\"type\":\"object\",\"name\":\"Grid\",\"id\":\"p3373\",\"attributes\":{\"axis\":{\"id\":\"p3367\"},\"grid_line_color\":\"#E0E0E0\",\"grid_line_alpha\":0.25}},{\"type\":\"object\",\"name\":\"Grid\",\"id\":\"p3380\",\"attributes\":{\"dimension\":1,\"axis\":{\"id\":\"p3374\"},\"grid_line_color\":\"#E0E0E0\",\"grid_line_alpha\":0.25}}],\"background_fill_color\":\"#20262B\",\"border_fill_color\":\"#15191C\"}}]}};\n  const render_items = [{\"docid\":\"6872341b-648e-4fe8-97bb-ddbd9ae20d67\",\"roots\":{\"p3349\":\"c6d65515-dd37-4cfa-9817-a694dfcab521\"},\"root_ids\":[\"p3349\"]}];\n  root.Bokeh.embed.embed_items_notebook(docs_json, render_items);\n  }\n  if (root.Bokeh !== undefined) {\n    embed_document(root);\n  } else {\n    let attempts = 0;\n    const timer = setInterval(function(root) {\n      if (root.Bokeh !== undefined) {\n        clearInterval(timer);\n        embed_document(root);\n      } else {\n        attempts++;\n        if (attempts > 100) {\n          clearInterval(timer);\n          console.log(\"Bokeh: ERROR: Unable to run BokehJS code because BokehJS library is missing\");\n        }\n      }\n    }, 10, root)\n  }\n})(window);",
      "application/vnd.bokehjs_exec.v0+json": ""
     },
     "metadata": {
      "application/vnd.bokehjs_exec.v0+json": {
       "id": "p3349"
      }
     },
     "output_type": "display_data"
    }
   ],
   "source": [
    "p = figure(title=\"Montly Expenditures on Makeup and Clothes\", \n",
    "           x_axis_label=\"Money spent on makeup\", y_axis_label=\"Money spent on clothes\")\n",
    "p.circle(monthly['makeup'], monthly['clothes'], size=10, color='navy', alpha=0.5)\n",
    "show(p)"
   ]
  },
  {
   "cell_type": "markdown",
   "metadata": {
    "id": "pd0Kp1b0-dmL"
   },
   "source": [
    "When we talked about this example above, I mentioned that when we do this, we imagine a line. Let's see if we can use sklearns linear regression classifier to draw that line:"
   ]
  },
  {
   "cell_type": "code",
   "execution_count": 22,
   "metadata": {
    "colab": {
     "base_uri": "https://localhost:8080/",
     "height": 252
    },
    "id": "iUPQmLI9-dmL",
    "outputId": "8e9f9aea-d328-4221-cc24-3b0509c3cb78"
   },
   "outputs": [
    {
     "data": {
      "text/plain": "<Figure size 640x480 with 1 Axes>",
      "image/png": "[encoded data removed]"
     },
     "metadata": {},
     "output_type": "display_data"
    }
   ],
   "source": [
    "regr = LinearRegression()\n",
    "regr.fit(monthly[['clothes']], monthly['makeup'])\n",
    "pred = regr.predict(monthly[['clothes']])\n",
    "\n",
    "import matplotlib.pyplot as plt\n",
    "# Plot outputs\n",
    "plt.scatter(monthly['clothes'], monthly['makeup'],  color='black')\n",
    "plt.plot(monthly['clothes'], pred, color='blue', linewidth=3)\n",
    "\n",
    "plt.xticks(())\n",
    "plt.yticks(())\n",
    "\n",
    "plt.show()"
   ]
  },
  {
   "cell_type": "markdown",
   "metadata": {
    "id": "_lwOOz55-dmO"
   },
   "source": [
    "Hopefully that matches your imaginary line!\n",
    "\n",
    "The formula for the line is\n",
    "\n",
    "$$makeup=w_0clothes + y.intercept$$\n",
    "\n",
    "We can query our classifier for those values ($w_0$, and $y.intercept$):"
   ]
  },
  {
   "cell_type": "code",
   "execution_count": 23,
   "metadata": {
    "colab": {
     "base_uri": "https://localhost:8080/",
     "height": 51
    },
    "id": "_Qu6YBQa-dmO",
    "outputId": "5622fea3-934c-40e0-bf2d-867ec0ff3a9e"
   },
   "outputs": [
    {
     "name": "stdout",
     "output_type": "stream",
     "text": [
      "w0 = 0.479\n",
      "y intercept = 121.782\n"
     ]
    }
   ],
   "source": [
    "print('w0 = %5.3f' % regr.coef_)\n",
    "print('y intercept = %5.3f' % regr.intercept_)"
   ]
  },
  {
   "cell_type": "markdown",
   "metadata": {
    "id": "4W7hfaH1-dmR"
   },
   "source": [
    "So the formula for this particular example is\n",
    "\n",
    "$$ makeup = 0.479 * clothes + 121.782$$\n",
    "\n",
    "So if a young lady spent ¥22,500 on clothes we would predict she spent the following on makeup:\n",
    "\n"
   ]
  },
  {
   "cell_type": "code",
   "execution_count": 24,
   "metadata": {
    "colab": {
     "base_uri": "https://localhost:8080/"
    },
    "id": "o8H6PpL3-dmR",
    "outputId": "4bb21c34-cdb5-405e-d910-ebb70f29b025"
   },
   "outputs": [
    {
     "data": {
      "text/plain": "10889.10891089109"
     },
     "execution_count": 24,
     "metadata": {},
     "output_type": "execute_result"
    }
   ],
   "source": [
    "makeup = regr.coef_[0] * 22500 + regr.intercept_\n",
    "makeup"
   ]
  },
  {
   "cell_type": "markdown",
   "metadata": {
    "id": "CWU_PMNW-dmT"
   },
   "source": [
    "The formula for regression in general is\n",
    "\n",
    "$$\\hat{y}=\\theta_0 + \\theta_1x_1 + \\theta_2x_2 + ... \\theta_nx_n$$\n",
    "\n",
    "where $\\theta_0$ is the y intercept.  When you fit your classifier it is learning all those $\\theta$'s. That is the model your classifier learns. \n",
    "\n",
    "It is important to understand this as it applies to other classifiers as well!\n",
    "\n",
    "\n",
    "![](https://raw.githubusercontent.com/zacharski/datamining-guide/master/labs/pics/divider.png)\n",
    "\n",
    "\n",
    "## Overfitting\n",
    "Consider two models for our makeup predictor. One is the straight line:"
   ]
  },
  {
   "cell_type": "code",
   "execution_count": 25,
   "metadata": {
    "colab": {
     "base_uri": "https://localhost:8080/",
     "height": 252
    },
    "id": "QDX1lstU-dmU",
    "outputId": "f0fc4e4d-f1d7-493c-a99a-bfd3825faca3"
   },
   "outputs": [
    {
     "data": {
      "text/plain": "<Figure size 640x480 with 1 Axes>",
      "image/png": "[encoded data removed]"
     },
     "metadata": {},
     "output_type": "display_data"
    }
   ],
   "source": [
    "plt.scatter(monthly['clothes'], monthly['makeup'],  color='black')\n",
    "plt.plot(monthly['clothes'], pred, color='blue', linewidth=3)\n",
    "\n",
    "plt.xticks(())\n",
    "plt.yticks(())\n",
    "\n",
    "plt.show()"
   ]
  },
  {
   "cell_type": "markdown",
   "metadata": {
    "id": "K9pH023O-dmW"
   },
   "source": [
    "And the other looks like:"
   ]
  },
  {
   "cell_type": "code",
   "execution_count": 26,
   "metadata": {
    "colab": {
     "base_uri": "https://localhost:8080/",
     "height": 252
    },
    "id": "G6yZNWN--dmX",
    "outputId": "43444bb6-1e55-4a2c-be77-2f273fd3ac73"
   },
   "outputs": [
    {
     "data": {
      "text/plain": "<Figure size 640x480 with 1 Axes>",
      "image/png": "[encoded data removed]"
     },
     "metadata": {},
     "output_type": "display_data"
    }
   ],
   "source": [
    "monthly2 = monthly.sort_values(by='clothes')\n",
    "plt.scatter(monthly2['clothes'], monthly2['makeup'],  color='black')\n",
    "plt.plot(monthly2['clothes'], monthly2['makeup'], color='blue', linewidth=3)\n",
    "\n",
    "plt.xticks(())\n",
    "plt.yticks(())\n",
    "\n",
    "plt.show()"
   ]
  },
  {
   "cell_type": "markdown",
   "metadata": {
    "id": "txLtJJZc-dma"
   },
   "source": [
    "The second model fits the training data perfectly. Is it better than the first?  Here is what could happen.  \n",
    "\n",
    "Let's say we have been tuning our model using our validation data set. Our error rates look like \n",
    "\n",
    "![](https://raw.githubusercontent.com/zacharski/ml-class/master/labs/pics/overfitter.png)\n",
    "\n",
    "As you can see our training error rate keeps going down, but at the very end our validation error increases. This is called **overfitting** the data. The model is highly tuned to the nuances of the training data. So much so, that it hurts the performance on new data--in this case, the validation data. This, obviously, is not a good thing.\n",
    "\n",
    "\n",
    "\n",
    "![](https://raw.githubusercontent.com/zacharski/datamining-guide/master/labs/pics/divider.png)\n",
    "#### An aside \n",
    "\n",
    "Imagine preparing for a job interview for a position you really, really, want. Since we are working on machine learning, let's say it is a machine learning job. In their job ad they list a number of things they want the candidate to know:\n",
    "\n",
    "* Convolutional Neural Networks\n",
    "* Long Short Term Memory models\n",
    "* Recurrent Neural Networks\n",
    "* Generative Deep Learning\n",
    "\n",
    "And you spend all your waking hours laser focused on these topics. You barely get any sleep and you read articles on these topics while you eat. You know the tiniest intricacies of these topics. You are more than 100% ready.\n",
    "\n",
    "The day of the interview arrives. After of easy morning of chatting with various people, you are now in a conference room for the technical interview, standing at a whiteboard, ready to hopefully wow them with your wisdom. The first question they ask is for you to write the solution to the fizz buzz problem:\n",
    "\n",
    "> Write a program that prints the numbers from 1 to 100. But for multiples of three print “Fizz” instead of the number and for the multiples of five print “Buzz”. For numbers which are multiples of both three and five print “FizzBuzz”\n",
    "\n",
    "And you freeze. This is a simple request and a very common interview question. In fact, to prepare you for this job interview possibility, write it now:\n",
    "\n",
    "\n",
    "\n"
   ]
  },
  {
   "cell_type": "code",
   "execution_count": 27,
   "metadata": {
    "id": "UMdU0j3ALXgU"
   },
   "outputs": [],
   "source": [
    "def fizzbuzz():\n",
    "  print(\"TO DO\")"
   ]
  },
  {
   "cell_type": "code",
   "execution_count": 28,
   "metadata": {
    "colab": {
     "base_uri": "https://localhost:8080/",
     "height": 34
    },
    "id": "bDG7M1WGLgEj",
    "outputId": "1017545f-4b24-4bd6-f0b7-0b6b1011b7a4"
   },
   "outputs": [
    {
     "name": "stdout",
     "output_type": "stream",
     "text": [
      "TO DO\n"
     ]
    }
   ],
   "source": [
    "fizzbuzz()"
   ]
  },
  {
   "cell_type": "markdown",
   "metadata": {
    "id": "k7Zt-eCZLgZe"
   },
   "source": [
    "Back to the job candidate freezing, this is an example of overfitting. You overfitting to the skills mentioned in the job posting.\n",
    "\n",
    "At dissertation defenses often faculty will ask the candidate questions outside of the candidate's dissertation. I heard of one case in a physics PhD defense where a faculty member asked \"Why is the sky blue?\" and the candidate couldn't answer. \n",
    "\n",
    "Anyway, back to machine learning.\n",
    "\n",
    "---\n",
    "\n",
    "\n",
    "There are a number of ways to reduce the likelihood of overfitting including\n",
    "\n",
    "* We can reduce the complexity of the model. Instead of going with the model of the jagged line immediately above we can go with the simpler straight line model. We have seen this in decision trees where we limit the depth of the tree.\n",
    "\n",
    "* Another method is to increase the amount of training data.\n",
    "\n",
    "Let's examine the first. The process of reducing the complexity of a model is called regularization.\n",
    "\n",
    "The linear regression model we have just used tends to overfit the data and there are some variants that are better and these are called regularized linear models. These include\n",
    "\n",
    "* Ridge Regression\n",
    "* Lasso Regression\n",
    "* Elastic Net - a combination of Ridge and Lasso\n",
    "\n",
    "Let's explore Elastic Net. And let's use all the columns of the car mpg dataset:"
   ]
  },
  {
   "cell_type": "code",
   "execution_count": 29,
   "metadata": {
    "id": "3nxItuCZ-dma"
   },
   "outputs": [],
   "source": [
    "newTrain_features = cars_train.drop('mpg', axis=1)\n",
    "newTrain_labels = cars_train['mpg']\n",
    "newTest_features = cars_test.drop('mpg', axis=1)\n",
    "newTest_labels = cars_test['mpg']"
   ]
  },
  {
   "cell_type": "markdown",
   "metadata": {
    "id": "t6GUbt83-dmc"
   },
   "source": [
    "First, let's try with our standard Linear Regression classifier:"
   ]
  },
  {
   "cell_type": "code",
   "execution_count": 30,
   "metadata": {
    "id": "EwsP5LBo-dmd"
   },
   "outputs": [],
   "source": [
    "linclf = LinearRegression()\n",
    "linclf.fit(newTrain_features, newTrain_labels)\n",
    "predictions = linclf.predict(newTest_features)"
   ]
  },
  {
   "cell_type": "code",
   "execution_count": 31,
   "metadata": {
    "colab": {
     "base_uri": "https://localhost:8080/",
     "height": 34
    },
    "id": "3iFVEwh_-dmf",
    "outputId": "61f6547e-0152-4d4f-bcb8-041593b01e4b"
   },
   "outputs": [
    {
     "name": "stdout",
     "output_type": "stream",
     "text": [
      "MSE: 12.300.   RMSE: 3.507\n"
     ]
    }
   ],
   "source": [
    "MSE  = mean_squared_error(newTest_labels, predictions)\n",
    "RMSE = mean_squared_error(newTest_labels, predictions, squared=False)\n",
    "print(\"MSE: %5.3f.   RMSE: %5.3f\" %(MSE, RMSE))"
   ]
  },
  {
   "cell_type": "markdown",
   "metadata": {
    "id": "B7lJGcXQN1iI"
   },
   "source": [
    "Now let's try with [ElasticNet](https://scikit-learn.org/stable/modules/generated/sklearn.linear_model.ElasticNet.html)"
   ]
  },
  {
   "cell_type": "code",
   "execution_count": 32,
   "metadata": {
    "id": "A0eTqpNS-dmk"
   },
   "outputs": [],
   "source": [
    "from sklearn.linear_model import ElasticNet\n",
    "elastic_net = ElasticNet(alpha=0.1, l1_ratio=0.5)\n",
    "elastic_net.fit(newTrain_features, newTrain_labels)\n",
    "ePredictions = elastic_net.predict(newTest_features)"
   ]
  },
  {
   "cell_type": "code",
   "execution_count": 33,
   "metadata": {
    "colab": {
     "base_uri": "https://localhost:8080/",
     "height": 34
    },
    "id": "PFjWu3Nx-dmm",
    "outputId": "ebb5f7d1-c936-469f-acd6-b298451bbe6c"
   },
   "outputs": [
    {
     "name": "stdout",
     "output_type": "stream",
     "text": [
      "MSE: 12.404.   RMSE: 3.522\n"
     ]
    }
   ],
   "source": [
    "MSE  = mean_squared_error(newTest_labels, ePredictions)\n",
    "RMSE = mean_squared_error(newTest_labels, ePredictions, squared=False)\n",
    "print(\"MSE: %5.3f.   RMSE: %5.3f\" %(MSE, RMSE))\n",
    "\n"
   ]
  },
  {
   "cell_type": "markdown",
   "metadata": {
    "id": "oasWKk30OCui"
   },
   "source": [
    "I've run this a number of times. Sometimes linear regression is slightly better and sometimes ElasticNet is.  Here are the results of one run:\n",
    "\n",
    "##### RMSE\n",
    "\n",
    "Linear Regression | Elastic Net\n",
    ":---: | :---:\n",
    "2.864 | 2.812\n",
    "\n",
    "So this is not the most convincing example.\n",
    "\n",
    "However, in general, it is always better to have some regularization, so (mostly) you should avoid the generic linear regression classifier.\n",
    "\n",
    "![](https://raw.githubusercontent.com/zacharski/datamining-guide/master/labs/pics/torchdivide.png)\n",
    "\n",
    "# <font color='#EE4C2C'>You Try ... Happiness</font> \n",
    "## <font color='#EE4C2C'>Better Life Index</font> \n",
    "\n",
    "\n",
    "What better way to explore regression then to look at happiness.\n",
    "\n",
    "From a Zen perspective, happiness is being fully present in the current moment. \n",
    "\n",
    "But, ignoring that advice, let's see if we can predict happiness, or life satisfaction.\n",
    "\n",
    "![](https://raw.githubusercontent.com/zacharski/ml-class/master/labs/pics/happy2.png)\n",
    "\n",
    "We are going to be investigating the [Better Life Index](https://stats.oecd.org/index.aspx?DataSetCode=BLI). You can download a csv file of that data from that site. (under the *Export* menu select *Text File (CSV)*)\n",
    "\n",
    "![](https://raw.githubusercontent.com/zacharski/ml-class/master/labs/pics/better2.png)\n",
    "\n",
    "Now that you have the CSV data file on your laptop, you can upload it to Colab.\n",
    "\n",
    "In Colab, you will see a list of icons on the left. \n",
    "\n",
    "![](https://raw.githubusercontent.com/zacharski/ml-class/master/labs/pics/uploadFile4.png)\n",
    "\n",
    "Select the file folder icon. \n",
    "\n",
    "![](https://raw.githubusercontent.com/zacharski/ml-class/master/labs/pics/uploadFiles5b.png)\n",
    "\n",
    "Next, select the upload icon (the page with an arrow icon). And upload the file.\n",
    "\n",
    "Next, let's execute the Linux command `ls`:\n",
    "\n"
   ]
  },
  {
   "cell_type": "code",
   "execution_count": 34,
   "metadata": {
    "colab": {
     "base_uri": "https://localhost:8080/"
    },
    "id": "HkxsnifT-dmp",
    "outputId": "659b57fa-5644-4d69-e0bb-c192b5198c4f"
   },
   "outputs": [
    {
     "name": "stdout",
     "output_type": "stream",
     "text": [
      "breast_cancer.dot  Cargo.toml\t Dockerfile  iris.dot  stuff.html\r\n",
      "Cargo.lock\t   diabetes.dot  iris4.dot   src       target\r\n"
     ]
    }
   ],
   "source": [
    "!ls"
   ]
  },
  {
   "cell_type": "markdown",
   "metadata": {
    "id": "nzw8N699SrPP"
   },
   "source": [
    "You will notice that the BLI file is now uploaded to Google Colab.\n",
    "\n",
    "![](https://raw.githubusercontent.com/zacharski/datamining-guide/master/labs/pics/PyDivideTwo.png)\n",
    "## <font color='#EE4C2C'>1. Load that file into a Pandas DataFrame</font> \n",
    "\n",
    "We will load the file into Pandas Dataframe called `bli` for better life index:"
   ]
  },
  {
   "cell_type": "code",
   "execution_count": 35,
   "metadata": {
    "colab": {
     "base_uri": "https://localhost:8080/",
     "height": 424
    },
    "id": "3tYTVthdMAPO",
    "outputId": "c71ccb40-306d-4e2a-9fbd-539055a7761b"
   },
   "outputs": [
    {
     "data": {
      "text/plain": "'TO DO'"
     },
     "execution_count": 35,
     "metadata": {},
     "output_type": "execute_result"
    }
   ],
   "source": [
    "# TO DO\n",
    "\n",
    "bli = \"TO DO\"\n",
    "bli"
   ]
  },
  {
   "cell_type": "markdown",
   "metadata": {
    "id": "R7T8rpt-YS3h"
   },
   "source": [
    "When examining the DataFrame we can see it has an interesting structure. So the first row we can parse:\n",
    "\n",
    "* The country is Australia\n",
    "* The feature is Labour market insecurity\n",
    "* The Inequality column tells us it is the **total** Labour market insecurity value.\n",
    "* The unit column tells the us the number is a percentage.\n",
    "* And the value is 3.1 (this may be different if you have a newer version of the file than the one I used)\n",
    "\n",
    "So, in English, the column is The total labor market insecurity for Australia is 5.40%.\n",
    "\n",
    "I am curious as to what values other than Total are in the Inequality column:\n",
    "\n",
    "\n",
    "\n"
   ]
  },
  {
   "cell_type": "code",
   "execution_count": 36,
   "metadata": {
    "colab": {
     "base_uri": "https://localhost:8080/"
    },
    "id": "Sdjs0SLKlE5O",
    "outputId": "ea00f0d0-9977-4ed2-f94d-e4392d22dc94"
   },
   "outputs": [
    {
     "ename": "AttributeError",
     "evalue": "'str' object has no attribute 'Inequality'",
     "output_type": "error",
     "traceback": [
      "\u001B[0;31m---------------------------------------------------------------------------\u001B[0m",
      "\u001B[0;31mAttributeError\u001B[0m                            Traceback (most recent call last)",
      "Cell \u001B[0;32mIn[36], line 1\u001B[0m\n\u001B[0;32m----> 1\u001B[0m \u001B[43mbli\u001B[49m\u001B[38;5;241;43m.\u001B[39;49m\u001B[43mInequality\u001B[49m\u001B[38;5;241m.\u001B[39munique()\n",
      "\u001B[0;31mAttributeError\u001B[0m: 'str' object has no attribute 'Inequality'"
     ]
    }
   ],
   "source": [
    "bli.Inequality.unique()"
   ]
  },
  {
   "cell_type": "markdown",
   "metadata": {
    "id": "b7VnlbDZlJnm"
   },
   "source": [
    "Cool. So in addition to the total for each feature, we can get values for just men, just women, and the high and low. \n",
    "\n",
    "Let's get just the totals and then pivot the DataFrame so it is in a more usable format. \n",
    "\n",
    "In addition, there are a lot of NaN values in the data, let's replace them with the mean value of the column.\n",
    "\n",
    "We are just learning about regression and this is a very small dataset, so let's divide training and testing by hand ..."
   ]
  },
  {
   "cell_type": "code",
   "execution_count": null,
   "metadata": {
    "colab": {
     "base_uri": "https://localhost:8080/",
     "height": 1000
    },
    "id": "EQ2YbF3pMHhn",
    "outputId": "49e1cdc1-9a01-42ca-de84-977869bb392e",
    "scrolled": true
   },
   "outputs": [],
   "source": [
    "\n",
    "bli = bli[bli[\"INEQUALITY\"]==\"TOT\"]\n",
    "bli = bli.pivot(index=\"Country\", columns=\"Indicator\", values=\"Value\")\n",
    "bli.fillna(bli.mean(), inplace=True)\n",
    "bliTest = bli.loc['Greece':'Italy', :]\n",
    "bliTrain = pd.concat([bli.loc[:'Germany' , :], bli.loc['Japan':, :]])\n",
    "bliTrain"
   ]
  },
  {
   "cell_type": "markdown",
   "metadata": {
    "id": "Zru6GsUZRiwp"
   },
   "source": [
    "We are trying to predict Life satisfaction, where *life satisfaction* is defined as:\n",
    "\n",
    ">The indicator considers people's evaluation of their life as a whole. It is a weighted-sum of different response categories based on people's rates of their current life relative to the best and worst possible lives for them on a scale from 0 to 10, using the Cantril Ladder (known also as the \"Self-Anchoring Striving Scale\").\n",
    "“High”/ “Low” refer to values for people with tertiary/ below upper secondary education.\n",
    "\n",
    "Let's get some basic information on life satisfaction from the dataset:"
   ]
  },
  {
   "cell_type": "code",
   "execution_count": null,
   "metadata": {
    "colab": {
     "base_uri": "https://localhost:8080/"
    },
    "id": "NPqFU_I9SEP7",
    "outputId": "66f744e2-5c9d-4522-9f34-e8801a9329a1"
   },
   "outputs": [],
   "source": [
    "bli['Life satisfaction'].describe()"
   ]
  },
  {
   "cell_type": "markdown",
   "metadata": {
    "id": "4uwI17DVr5SM"
   },
   "source": [
    "So the indicator is a scale from 0 to 10, but the minimum satisfaction in our dataset was 4.9 and the happiest (i.e. life satisfaction) was 7.9. Let's find out which countries they were: {again you might have a newer version of the data)\n",
    "\n"
   ]
  },
  {
   "cell_type": "code",
   "execution_count": null,
   "metadata": {
    "colab": {
     "base_uri": "https://localhost:8080/"
    },
    "id": "m75mWw4jSxgh",
    "outputId": "dd8f9eac-07a9-495a-9f9c-83207bbc6f76"
   },
   "outputs": [],
   "source": [
    "print(\"The least happy country is \" + bli['Life satisfaction'].idxmin())\n",
    "print(\"The happiest country is \" + bli['Life satisfaction'].idxmax())"
   ]
  },
  {
   "cell_type": "markdown",
   "metadata": {
    "id": "y0xgGLvfUn--"
   },
   "source": [
    "#### Now we need to divide both the training and test sets into features and labels. "
   ]
  },
  {
   "cell_type": "code",
   "execution_count": null,
   "metadata": {
    "colab": {
     "base_uri": "https://localhost:8080/"
    },
    "id": "7XnUfMadMdO1",
    "outputId": "832d488e-f7e4-4abb-d64b-2f6861157813"
   },
   "outputs": [],
   "source": [
    "feature_names   = bliTrain.columns.values.tolist()\n",
    "feature_names.remove('Life satisfaction')\n",
    "feature_names"
   ]
  },
  {
   "cell_type": "markdown",
   "metadata": {
    "id": "i1_Oc_04Mvqc"
   },
   "source": [
    "![](https://raw.githubusercontent.com/zacharski/datamining-guide/master/labs/pics/PyDivideTwo.png)\n",
    "## <font color='#EE4C2C'>2. Dividing the datasets into features and labels</font> \n",
    "\n",
    "Go ahead and construct:\n",
    "\n",
    "* `bliTrain_features`\n",
    "* `bliTrain_labels`\n",
    "* `bliTest_features`\n",
    "* `bliTest_labels`\n",
    "\n",
    "\n"
   ]
  },
  {
   "cell_type": "code",
   "execution_count": null,
   "metadata": {
    "colab": {
     "base_uri": "https://localhost:8080/",
     "height": 1000
    },
    "id": "mqP1PbycaXTu",
    "outputId": "1ca92223-2173-412e-a247-9e877d36331b"
   },
   "outputs": [],
   "source": [
    "# TO DO\n"
   ]
  },
  {
   "cell_type": "markdown",
   "metadata": {
    "id": "GeUlBUDRsHN_"
   },
   "source": [
    "\n",
    "\n",
    "![](https://raw.githubusercontent.com/zacharski/datamining-guide/master/labs/pics/PyDivideTwo.png)\n",
    "## <font color='#EE4C2C'>3. Create and Train an elastic net model</font> "
   ]
  },
  {
   "cell_type": "code",
   "execution_count": null,
   "metadata": {
    "colab": {
     "base_uri": "https://localhost:8080/",
     "height": 68
    },
    "id": "LXMzYK-9moqH",
    "outputId": "7ad04a73-02d2-41bd-f80d-166dd5041a99"
   },
   "outputs": [],
   "source": [
    "# TO DO\n"
   ]
  },
  {
   "cell_type": "code",
   "execution_count": null,
   "metadata": {
    "colab": {
     "base_uri": "https://localhost:8080/"
    },
    "id": "PoRRcvhNQkit",
    "outputId": "13f80734-52dc-4ec5-fe64-a50dd7d92ed1"
   },
   "outputs": [],
   "source": []
  },
  {
   "cell_type": "markdown",
   "metadata": {
    "id": "YGBEijsSsOgO"
   },
   "source": [
    "\n",
    "\n",
    "![](https://raw.githubusercontent.com/zacharski/datamining-guide/master/labs/pics/PyDivideTwo.png)\n",
    "## <font color='#EE4C2C'>4. Use the trained model to make predictions on our tiny test set</font> \n",
    "\n",
    " "
   ]
  },
  {
   "cell_type": "code",
   "execution_count": null,
   "metadata": {
    "id": "Uy79gKKGnhH5"
   },
   "outputs": [],
   "source": [
    "# TO DO\n"
   ]
  },
  {
   "cell_type": "markdown",
   "metadata": {
    "id": "wu2ZTJ6sxQAo"
   },
   "source": [
    "Now let's visually compare the differences between the predictions and the actual values"
   ]
  },
  {
   "cell_type": "code",
   "execution_count": null,
   "metadata": {
    "colab": {
     "base_uri": "https://localhost:8080/",
     "height": 269
    },
    "id": "eAWEt8rNoj9A",
    "outputId": "0985916e-f8bb-455b-ece6-6e3221eb3ee2"
   },
   "outputs": [],
   "source": []
  },
  {
   "cell_type": "markdown",
   "metadata": {
    "id": "KScOb25yRCnb"
   },
   "source": [
    "How did you do? For me Iceland was a lot happier than what was predicted.\n",
    "\n",
    "Now we will compute error:"
   ]
  },
  {
   "cell_type": "code",
   "execution_count": null,
   "metadata": {
    "colab": {
     "base_uri": "https://localhost:8080/"
    },
    "id": "Z0Vt06M2U0tQ",
    "outputId": "76953c67-1fa1-4647-bd15-5ad54e334240"
   },
   "outputs": [],
   "source": []
  },
  {
   "cell_type": "markdown",
   "metadata": {
    "id": "Bu5NtK7ltNrr"
   },
   "source": [
    "\n",
    "\n",
    "# Prediction Housing Prices\n",
    "\n",
    "## But first some wonkiness\n",
    "When doing one hot encoding, sometimes the original datafile has the same type of data in multiple columns. For example...\n",
    "\n",
    "Title | Genre 1 | Genre 2\n",
    " :--: | :---: | :---: \n",
    " Mission: Impossible - Fallout | Action | Drama\n",
    " Mama Mia: Here We Go Again | Comedy | Musical\n",
    " Ant-Man and The Wasp | Action | Comedy\n",
    " BlacKkKlansman | Drama | Comedy\n",
    " \n",
    " \n",
    " When we one-hot encode this we get something like\n",
    " \n",
    " Title | Genre1 Action | Genre1 Comedy | Genre1 Drama | Genre2 Drama | Genre2 Musical | Genre2 Comedy\n",
    "  :--: | :--: | :--: | :--: | :--: | :--: | :--: \n",
    "  Mission: Impossible - Fallout | 1 | 0 | 0 | 1 | 0 | 0\n",
    "  Mama Mia: Here We Go Again  | 0 | 1 | 0 | 0 | 1 | 0\n",
    "  Ant-Man and The Wasp | 1 | 0 | 0 | 0 | 0 | 1\n",
    "  BlacKkKlansman | 0 | 0 | 1 | 0 | 0 | 1\n",
    "  \n",
    "  But this isn't what we probably want. Instead this would be a better representation:\n",
    "  \n",
    "  Title | Action | Comedy | Drama | Musical\n",
    "  :---: | :---: | :---: |  :---: | :---: | \n",
    "  Mission: Impossible - Fallout | 1 | 0 | 1 | 0\n",
    "  Mama Mia: Here We Go Again  | 0 | 1 | 0 | 1\n",
    "  Ant-Man and The Wasp | 1 | 1 | 0 | 0\n",
    "  BlacKkKlansman | 0 | 1 | 1 | 0\n",
    "  \n",
    "  Let's see how we might do this in code\n"
   ]
  },
  {
   "cell_type": "code",
   "execution_count": null,
   "metadata": {
    "colab": {
     "base_uri": "https://localhost:8080/",
     "height": 171
    },
    "id": "G_Y7mmEKo9Fg",
    "outputId": "78125e7b-324f-4b8c-f71c-0f85277220ba"
   },
   "outputs": [],
   "source": [
    "df   = pd.DataFrame({'Title': ['Mission: Impossible - Fallout', 'Mama Mia: Here We Go Again', \n",
    "                               'Ant-Man and The Wasp', 'BlacKkKlansman' ],\n",
    "                    'Genre1': ['Action', 'Comedy', 'Action', 'Drama'],\n",
    "                    'Genre2': ['Drama', 'Musical', 'Comedy', 'Comedy']})\n",
    "df"
   ]
  },
  {
   "cell_type": "code",
   "execution_count": null,
   "metadata": {
    "id": "xDyEYXhHpEo7"
   },
   "outputs": [],
   "source": [
    "one_hot_1 = pd.get_dummies(df['Genre1'])\n",
    "one_hot_2 = pd.get_dummies(df['Genre2'])"
   ]
  },
  {
   "cell_type": "code",
   "execution_count": null,
   "metadata": {
    "colab": {
     "base_uri": "https://localhost:8080/",
     "height": 171
    },
    "id": "aObvufy0vYwZ",
    "outputId": "d81366fd-a64c-4b7a-95b1-952571258687"
   },
   "outputs": [],
   "source": [
    "# now get the intersection of the column names\n",
    "s1 = set(one_hot_1.columns.values)\n",
    "s2 = set(one_hot_2.columns.values)\n",
    "intersect = s1 & s2\n",
    "only_s1 = s1 - intersect\n",
    "only_s2 = s2 - intersect\n",
    "# now logically or the intersect\n",
    "logical_or = one_hot_1[list(intersect)] | one_hot_2[list(intersect)]\n",
    "# then combine everything\n",
    "combined = pd.concat([one_hot_1[list(only_s1)], logical_or, one_hot_2[list(only_s2)]], axis=1)\n",
    "combined\n",
    "\n",
    "### Now drop the two original columns and add the one hot encoded columns\n",
    "df= df.drop('Genre1', axis=1)\n",
    "df= df.drop('Genre2', axis=1)\n",
    "df = df.join(combined)\n",
    "df"
   ]
  },
  {
   "cell_type": "markdown",
   "metadata": {
    "id": "sxM-Rw_ZwCMU"
   },
   "source": [
    "That looks more like it!!!\n",
    "\n",
    "![](https://raw.githubusercontent.com/zacharski/datamining-guide/master/labs/pics/torchdivide.png)\n",
    "\n",
    "# <font color='#EE4C2C'>The task: Predict Housing Prices</font> \n",
    "\n",
    "\n",
    "\n",
    "Your task is to create a regession classifier that predicts house prices. The data and a description of\n",
    "\n",
    "* [The description of the data](https://raw.githubusercontent.com/zacharski/ml-class/master/data/housePrices/data_description.txt)\n",
    "* [The CSV file](https://raw.githubusercontent.com/zacharski/ml-class/master/data/housePrices/data.csv)\n",
    "\n",
    "\n",
    "Minimally, your classifier should be trained on the following columns:"
   ]
  },
  {
   "cell_type": "code",
   "execution_count": null,
   "metadata": {
    "id": "7RfTLx11vicC"
   },
   "outputs": [],
   "source": [
    "numericColumns = ['LotFrontage', 'LotArea', 'OverallQual', 'OverallCond', '1stFlrSF', '2ndFlrSF', 'GrLivArea',\n",
    "                 'FullBath', 'HalfBath', 'Bedroom', 'Kitchen']\n",
    "categoryColumns = ['MSZoning', 'Street', 'Alley', 'LotShape', 'LandContour', \n",
    "                   'Utilities', 'LotConfig', 'LandSlope', 'Neighborhood', 'BldgType', \n",
    "                   'HouseStyle', 'RoofStyle', 'RoofMatl', '' ]\n",
    "\n",
    "# Using multicolumns is optional\n",
    "multicolumns = [['Condition1', 'Condition2'], ['Exterior1st', 'Exterior2nd']]"
   ]
  },
  {
   "cell_type": "markdown",
   "metadata": {
    "id": "PWcqhPixyfZI"
   },
   "source": [
    "You are free to use more columns than these. Also, you may need to process some of the columns. \n",
    " Here are the requirements:\n",
    " \n",
    " ### 1. Drop any data rows that contain Nan in a column. \n",
    " Once you do this you should have around 1200 rows.\n",
    " ### 2. Use the following train_test_split parameters\n",
    "  ```\n",
    "train_test_split( originalData, test_size=0.20, random_state=42)\n",
    "```\n",
    "\n",
    " ### 3. You are to compare Linear Regression and Elastic Net\n",
    " ### 4. You should use 10 fold cross validation (it is fine to use grid search)\n",
    " ### 5. When finished tuning your model, determine the accuracy on the test data using RMSE.\n",
    "\n",
    "# Performance Bonus\n",
    "You are free to adjust any hyperparameters but do so before you evaluate the test data. You may get up to 15xp bonus for improved accuracy. \n",
    "\n",
    "Good luck!"
   ]
  },
  {
   "cell_type": "markdown",
   "metadata": {
    "id": "FBCp4tvCyCDr"
   },
   "source": []
  },
  {
   "cell_type": "code",
   "execution_count": null,
   "metadata": {
    "id": "MY9EdczzwAxT"
   },
   "outputs": [],
   "source": []
  }
 ],
 "metadata": {
  "colab": {
   "collapsed_sections": [
    "nzw8N699SrPP",
    "GeUlBUDRsHN_",
    "YGBEijsSsOgO"
   ],
   "name": "Working version of regression.ipynb",
   "provenance": []
  },
  "kernelspec": {
   "display_name": "Python 3 (ipykernel)",
   "language": "python",
   "name": "python3"
  },
  "language_info": {
   "codemirror_mode": {
    "name": "ipython",
    "version": 3
   },
   "file_extension": ".py",
   "mimetype": "text/x-python",
   "name": "python",
   "nbconvert_exporter": "python",
   "pygments_lexer": "ipython3",
   "version": "3.9.12"
  }
 },
 "nbformat": 4,
 "nbformat_minor": 1
}
