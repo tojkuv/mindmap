{
  "nbformat": 4,
  "nbformat_minor": 0,
  "metadata": {
    "colab": {
      "provenance": [],
      "authorship_tag": "ABX9TyPDizT1zwI+eGabUT+eQCNK",
      "include_colab_link": true
    },
    "kernelspec": {
      "name": "python3",
      "display_name": "Python 3"
    },
    "language_info": {
      "name": "python"
    },
    "accelerator": "GPU",
    "gpuClass": "standard"
  },
  "cells": [
    {
      "cell_type": "markdown",
      "metadata": {
        "id": "view-in-github",
        "colab_type": "text"
      },
      "source": [
        "<a href=\"https://colab.research.google.com/github/trulicups/mindmap/blob/main/courses/machine_learning/introduction_image_classification.ipynb\" target=\"_parent\"><img src=\"https://colab.research.google.com/assets/colab-badge.svg\" alt=\"Open In Colab\"/></a>"
      ]
    },
    {
      "cell_type": "markdown",
      "source": [
        "# definitions\n",
        "- **untrained model** - a machine learning algorithm that has not been trained\n",
        "- **trained model** - a machine leaning model that has been trained to perform some type of predictions\n",
        "- **unsupervised learning** - leaning with an unlabeled dataset\n",
        "  - **unlabeled training dataset** - dataset where the data does not have labels\n",
        "- **supervised learning** - learning with a labeled dataset\n",
        "  - **labeled training dataset** - dataset where the data is labeled\n",
        "\n",
        "- **inference** - deriving predictions from a trained model\n",
        "  - **classification** - predicting the category of a datum from a finite set of categories of interest"
      ],
      "metadata": {
        "id": "31m5SDA-YYek"
      }
    },
    {
      "cell_type": "code",
      "execution_count": null,
      "metadata": {
        "id": "RwaRiAfRYO6j"
      },
      "outputs": [],
      "source": [
        "!nvidia-smi"
      ]
    },
    {
      "cell_type": "code",
      "source": [
        "import torch\n",
        "if torch.cuda.is_available():\n",
        "  dev = \"cuda:0\"\n",
        "else:\n",
        "  dev = \"cpu\"\n",
        "device = torch.device(dev)\n",
        "dev"
      ],
      "metadata": {
        "id": "3CbqCkRYdzBx"
      },
      "execution_count": null,
      "outputs": []
    },
    {
      "cell_type": "code",
      "source": [
        "!pip install pytorch-lightning # pip - package installer for python"
      ],
      "metadata": {
        "id": "WjzhCdFxehii"
      },
      "execution_count": null,
      "outputs": []
    },
    {
      "cell_type": "code",
      "source": [
        "!ls"
      ],
      "metadata": {
        "id": "EvrxPVSCeu4S"
      },
      "execution_count": null,
      "outputs": []
    },
    {
      "cell_type": "markdown",
      "source": [
        "# computer vision library\n",
        "`torch` is the basic Pytorch deep leaning library and `torchvision` is the library containing models and other components for computer vision."
      ],
      "metadata": {
        "id": "HrV62pDqfIw0"
      }
    },
    {
      "cell_type": "code",
      "source": [
        "import torch\n",
        "from torchvision import models"
      ],
      "metadata": {
        "id": "BscKZneOfGWQ"
      },
      "execution_count": null,
      "outputs": []
    },
    {
      "cell_type": "code",
      "source": [
        "dir(models) # list all the objects in the `models` module"
      ],
      "metadata": {
        "id": "ydgB4nAJgJdE"
      },
      "execution_count": null,
      "outputs": []
    },
    {
      "cell_type": "markdown",
      "source": [
        "## load the pre-trained model"
      ],
      "metadata": {
        "id": "boMqkPNfgxb7"
      }
    },
    {
      "cell_type": "code",
      "source": [
        "model = models.alexnet(weights='AlexNet_Weights.DEFAULT')\n",
        "# have model run on the GPU\n",
        "model.cuda()"
      ],
      "metadata": {
        "id": "pzSejmOtgn0-"
      },
      "execution_count": null,
      "outputs": []
    },
    {
      "cell_type": "code",
      "source": [
        "next(model.parameters()).device"
      ],
      "metadata": {
        "id": "-jxptXoQhW6V"
      },
      "execution_count": null,
      "outputs": []
    },
    {
      "cell_type": "code",
      "source": [
        "pretrained_model = models.alexnet(pretrained=True)\n",
        "historic_model = models.alexnet(pretrained=True)"
      ],
      "metadata": {
        "id": "hlG-HLHyh3Lx"
      },
      "execution_count": null,
      "outputs": []
    },
    {
      "cell_type": "markdown",
      "source": [
        "## inference"
      ],
      "metadata": {
        "id": "QaxRUp4DiXL3"
      }
    },
    {
      "cell_type": "code",
      "source": [
        "!curl http://zacharski.org/files/courses/dmpics/poodle.jpg -o poodle.jpg"
      ],
      "metadata": {
        "id": "KJbe7E7WiWLp"
      },
      "execution_count": null,
      "outputs": []
    },
    {
      "cell_type": "code",
      "source": [
        "from PIL import Image\n",
        "img = Image.open(\"poodle.jpg\")"
      ],
      "metadata": {
        "id": "6P2J4lGxirKR"
      },
      "execution_count": null,
      "outputs": []
    },
    {
      "cell_type": "code",
      "source": [
        "img"
      ],
      "metadata": {
        "id": "afLJ25MUi3vk"
      },
      "execution_count": null,
      "outputs": []
    },
    {
      "cell_type": "markdown",
      "source": [
        "## transform the image to match the model's input parameters"
      ],
      "metadata": {
        "id": "JQtbEElvkPQI"
      }
    },
    {
      "cell_type": "code",
      "source": [
        "from torchvision import transforms\n",
        "\n",
        "# the image is originaly 4032x3024\n",
        "\n",
        "transform = transforms.Compose([\n",
        "    transforms.Resize(256), # scales the image to 341x256\n",
        "    transforms.CenterCrop(224), # scales the image to 224x224\n",
        "    transforms.ToTensor(), # transforms the image into a 224x224x3 array\n",
        "    transforms.Normalize(\n",
        "        mean=[0.485, 0.456, 0.406],\n",
        "        std=[0.229, 0.224, 0.225]) # normalize the image with the mean and standard deviation of the training dataset\n",
        "])"
      ],
      "metadata": {
        "id": "6pdmqJ8IjkO-"
      },
      "execution_count": null,
      "outputs": []
    },
    {
      "cell_type": "code",
      "source": [
        "img_transformed = transform(img)\n",
        "\n",
        "# adds img_transformed to an array for batch processing\n",
        "batch_transform = torch.unsqueeze(img_transformed, 0)\n",
        "\n",
        "# put the tensor on the GPU\n",
        "batch_transform = batch_transform.to(device)\n",
        "batch_transform.device"
      ],
      "metadata": {
        "id": "bcdevbZnmP_r"
      },
      "execution_count": null,
      "outputs": []
    },
    {
      "cell_type": "markdown",
      "source": [
        "# model inference \n",
        "in Pytorch, models can be in two modes and we can toggle between them.\n",
        "- `model.eval()` puts the model in inference mode so it can make predictions.\n",
        "- `model.train()` puts the model in training mode.\n",
        "\n",
        "let's get the model ready for inference"
      ],
      "metadata": {
        "id": "OXI4y50EnuVK"
      }
    },
    {
      "cell_type": "code",
      "source": [
        "model.eval()"
      ],
      "metadata": {
        "id": "C1wx3WSKniPZ"
      },
      "execution_count": null,
      "outputs": []
    },
    {
      "cell_type": "code",
      "source": [
        "# model inference\n",
        "output = model(batch_transform)\n",
        "\n",
        "print(output.shape)"
      ],
      "metadata": {
        "id": "Gkuozk62oopr"
      },
      "execution_count": null,
      "outputs": []
    },
    {
      "cell_type": "code",
      "source": [
        "# raw predictions\n",
        "output"
      ],
      "metadata": {
        "id": "kRCQNNAxpMS3"
      },
      "execution_count": null,
      "outputs": []
    },
    {
      "cell_type": "code",
      "source": [
        "# normalized predictions\n",
        "probability = torch.nn.functional.softmax(output, dim=1)\n",
        "probability"
      ],
      "metadata": {
        "id": "YyhJtXsCpP3r"
      },
      "execution_count": null,
      "outputs": []
    },
    {
      "cell_type": "code",
      "source": [
        "!curl http://zacharski.org/files/courses/dmpics/imagenet_classes.txt -o model_classes.txt"
      ],
      "metadata": {
        "id": "Rx2Cc4axqLbf"
      },
      "execution_count": null,
      "outputs": []
    },
    {
      "cell_type": "code",
      "source": [
        "# the `with` statement does error handling within its scope\n",
        "with open('model_classes.txt') as f:\n",
        "\n",
        "  labels = [line.strip() for line in f.readlines()]\n",
        "print(labels[:5]) # print the first 5 labels"
      ],
      "metadata": {
        "id": "_KnTEvSQqhXu"
      },
      "execution_count": null,
      "outputs": []
    },
    {
      "cell_type": "code",
      "source": [
        "z, index = torch.max(output, 1)\n",
        "print(index)"
      ],
      "metadata": {
        "id": "MXW_CwJ0tS_i"
      },
      "execution_count": null,
      "outputs": []
    },
    {
      "cell_type": "code",
      "source": [
        "print(labels[index[0]], probability[0][index[0]].item())"
      ],
      "metadata": {
        "id": "1iBhLiWXuNdD"
      },
      "execution_count": null,
      "outputs": []
    },
    {
      "cell_type": "code",
      "source": [
        "_, indices = torch.sort(output, descending=True)\n",
        "[(labels[idx], probability[0][idx].item()) for idx in indices[0][:5]]"
      ],
      "metadata": {
        "id": "BQqw7qzfv-uj"
      },
      "execution_count": null,
      "outputs": []
    },
    {
      "cell_type": "code",
      "source": [
        "import requests\n",
        "\n",
        "def predict(url):\n",
        "  # download the image srom the internet\n",
        "  r = requests.get(url)\n",
        "\n",
        "  # write the image in the url to a temporary jpg\n",
        "  with open('tmp.jpg', 'wb') as f:\n",
        "    f.write(r.content)\n",
        "\n",
        "  # load the temporary image into a variable\n",
        "  img = Image.open('tmp.jpg')\n",
        "  img.show()\n",
        "\n",
        "  # transform and batch the image to match the model's input parameter\n",
        "  img_transformed = transform(img)\n",
        "  batch_transformed = torch.unsqueeze(img_transformed, 0)\n",
        "\n",
        "  # add a GPU device\n",
        "  batch_transformed = batch_transformed.to(device)\n",
        "\n",
        "  # predict the label of the image\n",
        "  output = model(batch_transformed)\n",
        "\n",
        "  # sort the output tensor in descending order and normalize the values\n",
        "  _, indices = torch.sort(output, descending=True)\n",
        "  probability = torch.nn.functional.softmax(output, dim=1)[0]\n",
        "\n",
        "  return([(labels[idx], probability[idx].item()) for idx in indices[0][:5]])"
      ],
      "metadata": {
        "id": "XgA0SD4yw_aQ"
      },
      "execution_count": null,
      "outputs": []
    },
    {
      "cell_type": "code",
      "source": [
        "line = ''\n",
        "\n",
        "for i in range(len(labels)):\n",
        "  line += '%-35s' %labels[i]\n",
        "  if (i + 1) % 4 == 0:\n",
        "    print(line)\n",
        "    line = ''"
      ],
      "metadata": {
        "id": "GO0RVj3w1SIc"
      },
      "execution_count": null,
      "outputs": []
    },
    {
      "cell_type": "code",
      "source": [
        "predict('https://raw.githubusercontent.com/zacharski/ml-class/master/labs/pics/Fender_Stratocaster.jpeg')"
      ],
      "metadata": {
        "id": "HOHKsK7y2deB"
      },
      "execution_count": null,
      "outputs": []
    },
    {
      "cell_type": "code",
      "source": [
        "predict('https://raw.githubusercontent.com/zacharski/ml-class/master/labs/pics/greyOwl.jpeg')"
      ],
      "metadata": {
        "id": "8eitcUCn3CJy"
      },
      "execution_count": null,
      "outputs": []
    },
    {
      "cell_type": "code",
      "source": [
        "predict('https://raw.githubusercontent.com/zacharski/ml-class/master/labs/pics/cello12.jpeg')"
      ],
      "metadata": {
        "id": "ilpI6xyo3Je1"
      },
      "execution_count": null,
      "outputs": []
    },
    {
      "cell_type": "code",
      "source": [
        "predict('https://external-content.duckduckgo.com/iu/?u=https%3A%2F%2Ftse2.mm.bing.net%2Fth%3Fid%3DOIP.XrEWU-B7559j1hf9Tzo1RgHaHK%26pid%3DApi&f=1&ipt=4c9b0aa3a32d41c79385bfca366b945d8c2cf589dcc348eff5f46781b6be554d&ipo=images')"
      ],
      "metadata": {
        "id": "w6F1_Phj3Y4n"
      },
      "execution_count": null,
      "outputs": []
    },
    {
      "cell_type": "code",
      "source": [
        "predict('https://external-content.duckduckgo.com/iu/?u=http%3A%2F%2Fdreamicus.com%2Fdata%2Ffig%2Ffig-01.jpg&f=1&nofb=1&ipt=e5eb537001a830933d12a99f620395c0c1b9c7ae5dd26b453d9cf064afc8df18&ipo=images')"
      ],
      "metadata": {
        "id": "aJaOSpwg3mi1"
      },
      "execution_count": null,
      "outputs": []
    },
    {
      "cell_type": "code",
      "source": [
        "predict('https://external-content.duckduckgo.com/iu/?u=http%3A%2F%2F4.bp.blogspot.com%2F-cI_xGP3b3GU%2FUhHHkTUjoYI%2FAAAAAAAAGZo%2F7dxJQdoKIbs%2Fs1600%2FCrocodile-African-2013-01.jpg&f=1&nofb=1&ipt=4e18603b849f3e6d12b3a562da93f186f04d6893702701e007462aea67fe50f0&ipo=images')"
      ],
      "metadata": {
        "id": "cg69cQyi316o"
      },
      "execution_count": null,
      "outputs": []
    }
  ]
}