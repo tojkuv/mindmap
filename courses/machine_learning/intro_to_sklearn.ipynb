{
 "cells": [
  {
   "cell_type": "markdown",
   "metadata": {
    "id": "KGqlHFimEx7-"
   },
   "source": [
    "## Introduction to SciKitLearn (sklearn)\n",
    "#### Part of the [Inquiryum Machine Learning Fundamentals Course](http://inquiryum.com/machine-learning/)\n",
    "\n",
    "\n",
    "![](https://upload.wikimedia.org/wikipedia/commons/0/05/Scikit_learn_logo_small.svg)\n",
    "\n",
    "\n",
    "Scikit-learn (aka `sklearn`)\n",
    "sklearn is a Python library that implements many machine learning algorithms. It uses Numpy for high performance matrix operations. \n",
    "\n",
    "The best bet, as with probably everything else, is just to google what you want. For example, if you want to learn how to use kNN (k nearest neighbors) with sklearn, google **sklearn knn**  and you will find the information. The good thing about sklearn documentation, is that they provide a short example of how to use each algorithm.\n",
    "\n",
    "That said, let's get started.\n",
    "\n",
    "\n",
    "### Women Athletes\n",
    "\n",
    "\n",
    "\n",
    "![](https://raw.githubusercontent.com/zacharski/datamining-guide/master/labs/pics/rass.png)\n",
    "<font size='0.85em'>(Credit: Aly Raisman/Instagram)</font> \n",
    "\n",
    "(Left to right: Liz Cambage (Australian Olympic Basksetball Team, Aly Raisman (U.S. Olympic Gymnast)\n",
    "\n",
    "We are going to start with something that people find very easy: Based on height and weight, guessing what sport (basketball or gymnastics) an athlete plays at a world class level. Starting with a task that is super easy for us will allow us to focus more on the algorithm.\n",
    "\n",
    "The dataset has contains three classes of 50 instances each:\n",
    "\n",
    "1. Female Olympic Basketball Players\n",
    "2. Female Olympic Gymnasts.\n",
    "3. Female Professional Rugby Players.\n",
    "\n",
    "We will restrict our initial exploration to Basketball Players and Gymnasts. \n",
    "\n",
    "\n",
    "There are only 2 attributes or features:\n",
    "\n",
    "1. height in inches \n",
    "2. weight in pounds\n",
    "\n",
    "\n",
    "\n",
    "The job of the classifier is to determine the class of an instance (the sport) based on the values of the attributes.\n",
    "\n",
    "The data file is\n",
    "\n",
    "\n",
    "```\n",
    "https://raw.githubusercontent.com/zacharski/datamining-guide/main/data/womens_sports.csv\n",
    "```\n",
    " Let's load it in"
   ]
  },
  {
   "cell_type": "code",
   "execution_count": 138,
   "metadata": {
    "colab": {
     "base_uri": "https://localhost:8080/",
     "height": 424
    },
    "id": "tNVeMkqjEx7_",
    "outputId": "46e362b0-7238-4ef0-c962-761b554c0236",
    "scrolled": true
   },
   "outputs": [
    {
     "data": {
      "text/html": [
       "<div>\n",
       "<style scoped>\n",
       "    .dataframe tbody tr th:only-of-type {\n",
       "        vertical-align: middle;\n",
       "    }\n",
       "\n",
       "    .dataframe tbody tr th {\n",
       "        vertical-align: top;\n",
       "    }\n",
       "\n",
       "    .dataframe thead th {\n",
       "        text-align: right;\n",
       "    }\n",
       "</style>\n",
       "<table border=\"1\" class=\"dataframe\">\n",
       "  <thead>\n",
       "    <tr style=\"text-align: right;\">\n",
       "      <th></th>\n",
       "      <th>name</th>\n",
       "      <th>height_in</th>\n",
       "      <th>weight_lb</th>\n",
       "      <th>sport</th>\n",
       "    </tr>\n",
       "  </thead>\n",
       "  <tbody>\n",
       "    <tr>\n",
       "      <th>0</th>\n",
       "      <td>Moeko Nagaoka</td>\n",
       "      <td>72</td>\n",
       "      <td>165</td>\n",
       "      <td>basketball</td>\n",
       "    </tr>\n",
       "    <tr>\n",
       "      <th>1</th>\n",
       "      <td>Maki Takada</td>\n",
       "      <td>72</td>\n",
       "      <td>168</td>\n",
       "      <td>basketball</td>\n",
       "    </tr>\n",
       "    <tr>\n",
       "      <th>2</th>\n",
       "      <td>Naho Miyoshi</td>\n",
       "      <td>65</td>\n",
       "      <td>141</td>\n",
       "      <td>basketball</td>\n",
       "    </tr>\n",
       "    <tr>\n",
       "      <th>3</th>\n",
       "      <td>Rui Machida</td>\n",
       "      <td>64</td>\n",
       "      <td>126</td>\n",
       "      <td>basketball</td>\n",
       "    </tr>\n",
       "    <tr>\n",
       "      <th>4</th>\n",
       "      <td>Nako Motohashi</td>\n",
       "      <td>65</td>\n",
       "      <td>121</td>\n",
       "      <td>basketball</td>\n",
       "    </tr>\n",
       "    <tr>\n",
       "      <th>...</th>\n",
       "      <td>...</td>\n",
       "      <td>...</td>\n",
       "      <td>...</td>\n",
       "      <td>...</td>\n",
       "    </tr>\n",
       "    <tr>\n",
       "      <th>145</th>\n",
       "      <td>Millie Boyle</td>\n",
       "      <td>71</td>\n",
       "      <td>183</td>\n",
       "      <td>rugby</td>\n",
       "    </tr>\n",
       "    <tr>\n",
       "      <th>146</th>\n",
       "      <td>Kezie Apps</td>\n",
       "      <td>72</td>\n",
       "      <td>181</td>\n",
       "      <td>rugby</td>\n",
       "    </tr>\n",
       "    <tr>\n",
       "      <th>147</th>\n",
       "      <td>Annette Brander</td>\n",
       "      <td>65</td>\n",
       "      <td>172</td>\n",
       "      <td>rugby</td>\n",
       "    </tr>\n",
       "    <tr>\n",
       "      <th>148</th>\n",
       "      <td>Hannah Southwell</td>\n",
       "      <td>68</td>\n",
       "      <td>165</td>\n",
       "      <td>rugby</td>\n",
       "    </tr>\n",
       "    <tr>\n",
       "      <th>149</th>\n",
       "      <td>Botille Vette-Welsh</td>\n",
       "      <td>68</td>\n",
       "      <td>148</td>\n",
       "      <td>rugby</td>\n",
       "    </tr>\n",
       "  </tbody>\n",
       "</table>\n",
       "<p>150 rows × 4 columns</p>\n",
       "</div>"
      ],
      "text/plain": [
       "                    name  height_in  weight_lb       sport\n",
       "0          Moeko Nagaoka         72        165  basketball\n",
       "1            Maki Takada         72        168  basketball\n",
       "2           Naho Miyoshi         65        141  basketball\n",
       "3            Rui Machida         64        126  basketball\n",
       "4         Nako Motohashi         65        121  basketball\n",
       "..                   ...        ...        ...         ...\n",
       "145         Millie Boyle         71        183       rugby\n",
       "146           Kezie Apps         72        181       rugby\n",
       "147      Annette Brander         65        172       rugby\n",
       "148     Hannah Southwell         68        165       rugby\n",
       "149  Botille Vette-Welsh         68        148       rugby\n",
       "\n",
       "[150 rows x 4 columns]"
      ]
     },
     "execution_count": 138,
     "metadata": {},
     "output_type": "execute_result"
    }
   ],
   "source": [
    "import pandas as pd\n",
    "from pandas import DataFrame\n",
    "\n",
    "athletes = pd.read_csv('https://raw.githubusercontent.com/zacharski/datamining-guide/main/data/womens_sports.csv')\n",
    "athletes"
   ]
  },
  {
   "cell_type": "markdown",
   "metadata": {
    "id": "SmPJ1QWjmJqT"
   },
   "source": [
    "Before we do anything else, let us graph out the data:"
   ]
  },
  {
   "cell_type": "code",
   "execution_count": 139,
   "metadata": {
    "colab": {
     "base_uri": "https://localhost:8080/",
     "height": 617
    },
    "id": "S-I_iMSSmOIf",
    "outputId": "80cbf404-42b5-4588-a212-7800c331d41b"
   },
   "outputs": [
    {
     "data": {
      "text/html": [
       "<style>\n",
       "        .bk-notebook-logo {\n",
       "            display: block;\n",
       "            width: 20px;\n",
       "            height: 20px;\n",
       "            background-image: url(data:image/png;base64,iVBORw0KGgoAAAANSUhEUgAAABQAAAAUCAYAAACNiR0NAAAABHNCSVQICAgIfAhkiAAAAAlwSFlzAAALEgAACxIB0t1+/AAAABx0RVh0U29mdHdhcmUAQWRvYmUgRmlyZXdvcmtzIENTNui8sowAAAOkSURBVDiNjZRtaJVlGMd/1/08zzln5zjP1LWcU9N0NkN8m2CYjpgQYQXqSs0I84OLIC0hkEKoPtiH3gmKoiJDU7QpLgoLjLIQCpEsNJ1vqUOdO7ppbuec5+V+rj4ctwzd8IIbbi6u+8f1539dt3A78eXC7QizUF7gyV1fD1Yqg4JWz84yffhm0qkFqBogB9rM8tZdtwVsPUhWhGcFJngGeWrPzHm5oaMmkfEg1usvLFyc8jLRqDOMru7AyC8saQr7GG7f5fvDeH7Ej8CM66nIF+8yngt6HWaKh7k49Soy9nXurCi1o3qUbS3zWfrYeQDTB/Qj6kX6Ybhw4B+bOYoLKCC9H3Nu/leUTZ1JdRWkkn2ldcCamzrcf47KKXdAJllSlxAOkRgyHsGC/zRday5Qld9DyoM4/q/rUoy/CXh3jzOu3bHUVZeU+DEn8FInkPBFlu3+nW3Nw0mk6vCDiWg8CeJaxEwuHS3+z5RgY+YBR6V1Z1nxSOfoaPa4LASWxxdNp+VWTk7+4vzaou8v8PN+xo+KY2xsw6une2frhw05CTYOmQvsEhjhWjn0bmXPjpE1+kplmmkP3suftwTubK9Vq22qKmrBhpY4jvd5afdRA3wGjFAgcnTK2s4hY0/GPNIb0nErGMCRxWOOX64Z8RAC4oCXdklmEvcL8o0BfkNK4lUg9HTl+oPlQxdNo3Mg4Nv175e/1LDGzZen30MEjRUtmXSfiTVu1kK8W4txyV6BMKlbgk3lMwYCiusNy9fVfvvwMxv8Ynl6vxoByANLTWplvuj/nF9m2+PDtt1eiHPBr1oIfhCChQMBw6Aw0UulqTKZdfVvfG7VcfIqLG9bcldL/+pdWTLxLUy8Qq38heUIjh4XlzZxzQm19lLFlr8vdQ97rjZVOLf8nclzckbcD4wxXMidpX30sFd37Fv/GtwwhzhxGVAprjbg0gCAEeIgwCZyTV2Z1REEW8O4py0wsjeloKoMr6iCY6dP92H6Vw/oTyICIthibxjm/DfN9lVz8IqtqKYLUXfoKVMVQVVJOElGjrnnUt9T9wbgp8AyYKaGlqingHZU/uG2NTZSVqwHQTWkx9hxjkpWDaCg6Ckj5qebgBVbT3V3NNXMSiWSDdGV3hrtzla7J+duwPOToIg42ChPQOQjspnSlp1V+Gjdged7+8UN5CRAV7a5EdFNwCjEaBR27b3W890TE7g24NAP/mMDXRWrGoFPQI9ls/MWO2dWFAar/xcOIImbbpA3zgAAAABJRU5ErkJggg==);\n",
       "        }\n",
       "    </style>\n",
       "    <div>\n",
       "        <a href=\"https://bokeh.org\" target=\"_blank\" class=\"bk-notebook-logo\"></a>\n",
       "        <span id=\"p1707\">Loading BokehJS ...</span>\n",
       "    </div>\n"
      ]
     },
     "metadata": {},
     "output_type": "display_data"
    },
    {
     "data": {
      "application/javascript": "(function(root) {\n  function now() {\n    return new Date();\n  }\n\n  const force = true;\n\n  if (typeof root._bokeh_onload_callbacks === \"undefined\" || force === true) {\n    root._bokeh_onload_callbacks = [];\n    root._bokeh_is_loading = undefined;\n  }\n\nconst JS_MIME_TYPE = 'application/javascript';\n  const HTML_MIME_TYPE = 'text/html';\n  const EXEC_MIME_TYPE = 'application/vnd.bokehjs_exec.v0+json';\n  const CLASS_NAME = 'output_bokeh rendered_html';\n\n  /**\n   * Render data to the DOM node\n   */\n  function render(props, node) {\n    const script = document.createElement(\"script\");\n    node.appendChild(script);\n  }\n\n  /**\n   * Handle when an output is cleared or removed\n   */\n  function handleClearOutput(event, handle) {\n    const cell = handle.cell;\n\n    const id = cell.output_area._bokeh_element_id;\n    const server_id = cell.output_area._bokeh_server_id;\n    // Clean up Bokeh references\n    if (id != null && id in Bokeh.index) {\n      Bokeh.index[id].model.document.clear();\n      delete Bokeh.index[id];\n    }\n\n    if (server_id !== undefined) {\n      // Clean up Bokeh references\n      const cmd_clean = \"from bokeh.io.state import curstate; print(curstate().uuid_to_server['\" + server_id + \"'].get_sessions()[0].document.roots[0]._id)\";\n      cell.notebook.kernel.execute(cmd_clean, {\n        iopub: {\n          output: function(msg) {\n            const id = msg.content.text.trim();\n            if (id in Bokeh.index) {\n              Bokeh.index[id].model.document.clear();\n              delete Bokeh.index[id];\n            }\n          }\n        }\n      });\n      // Destroy server and session\n      const cmd_destroy = \"import bokeh.io.notebook as ion; ion.destroy_server('\" + server_id + \"')\";\n      cell.notebook.kernel.execute(cmd_destroy);\n    }\n  }\n\n  /**\n   * Handle when a new output is added\n   */\n  function handleAddOutput(event, handle) {\n    const output_area = handle.output_area;\n    const output = handle.output;\n\n    // limit handleAddOutput to display_data with EXEC_MIME_TYPE content only\n    if ((output.output_type != \"display_data\") || (!Object.prototype.hasOwnProperty.call(output.data, EXEC_MIME_TYPE))) {\n      return\n    }\n\n    const toinsert = output_area.element.find(\".\" + CLASS_NAME.split(' ')[0]);\n\n    if (output.metadata[EXEC_MIME_TYPE][\"id\"] !== undefined) {\n      toinsert[toinsert.length - 1].firstChild.textContent = output.data[JS_MIME_TYPE];\n      // store reference to embed id on output_area\n      output_area._bokeh_element_id = output.metadata[EXEC_MIME_TYPE][\"id\"];\n    }\n    if (output.metadata[EXEC_MIME_TYPE][\"server_id\"] !== undefined) {\n      const bk_div = document.createElement(\"div\");\n      bk_div.innerHTML = output.data[HTML_MIME_TYPE];\n      const script_attrs = bk_div.children[0].attributes;\n      for (let i = 0; i < script_attrs.length; i++) {\n        toinsert[toinsert.length - 1].firstChild.setAttribute(script_attrs[i].name, script_attrs[i].value);\n        toinsert[toinsert.length - 1].firstChild.textContent = bk_div.children[0].textContent\n      }\n      // store reference to server id on output_area\n      output_area._bokeh_server_id = output.metadata[EXEC_MIME_TYPE][\"server_id\"];\n    }\n  }\n\n  function register_renderer(events, OutputArea) {\n\n    function append_mime(data, metadata, element) {\n      // create a DOM node to render to\n      const toinsert = this.create_output_subarea(\n        metadata,\n        CLASS_NAME,\n        EXEC_MIME_TYPE\n      );\n      this.keyboard_manager.register_events(toinsert);\n      // Render to node\n      const props = {data: data, metadata: metadata[EXEC_MIME_TYPE]};\n      render(props, toinsert[toinsert.length - 1]);\n      element.append(toinsert);\n      return toinsert\n    }\n\n    /* Handle when an output is cleared or removed */\n    events.on('clear_output.CodeCell', handleClearOutput);\n    events.on('delete.Cell', handleClearOutput);\n\n    /* Handle when a new output is added */\n    events.on('output_added.OutputArea', handleAddOutput);\n\n    /**\n     * Register the mime type and append_mime function with output_area\n     */\n    OutputArea.prototype.register_mime_type(EXEC_MIME_TYPE, append_mime, {\n      /* Is output safe? */\n      safe: true,\n      /* Index of renderer in `output_area.display_order` */\n      index: 0\n    });\n  }\n\n  // register the mime type if in Jupyter Notebook environment and previously unregistered\n  if (root.Jupyter !== undefined) {\n    const events = require('base/js/events');\n    const OutputArea = require('notebook/js/outputarea').OutputArea;\n\n    if (OutputArea.prototype.mime_types().indexOf(EXEC_MIME_TYPE) == -1) {\n      register_renderer(events, OutputArea);\n    }\n  }\n  if (typeof (root._bokeh_timeout) === \"undefined\" || force === true) {\n    root._bokeh_timeout = Date.now() + 5000;\n    root._bokeh_failed_load = false;\n  }\n\n  const NB_LOAD_WARNING = {'data': {'text/html':\n     \"<div style='background-color: #fdd'>\\n\"+\n     \"<p>\\n\"+\n     \"BokehJS does not appear to have successfully loaded. If loading BokehJS from CDN, this \\n\"+\n     \"may be due to a slow or bad network connection. Possible fixes:\\n\"+\n     \"</p>\\n\"+\n     \"<ul>\\n\"+\n     \"<li>re-rerun `output_notebook()` to attempt to load from CDN again, or</li>\\n\"+\n     \"<li>use INLINE resources instead, as so:</li>\\n\"+\n     \"</ul>\\n\"+\n     \"<code>\\n\"+\n     \"from bokeh.resources import INLINE\\n\"+\n     \"output_notebook(resources=INLINE)\\n\"+\n     \"</code>\\n\"+\n     \"</div>\"}};\n\n  function display_loaded() {\n    const el = document.getElementById(\"p1707\");\n    if (el != null) {\n      el.textContent = \"BokehJS is loading...\";\n    }\n    if (root.Bokeh !== undefined) {\n      if (el != null) {\n        el.textContent = \"BokehJS \" + root.Bokeh.version + \" successfully loaded.\";\n      }\n    } else if (Date.now() < root._bokeh_timeout) {\n      setTimeout(display_loaded, 100)\n    }\n  }\n\n  function run_callbacks() {\n    try {\n      root._bokeh_onload_callbacks.forEach(function(callback) {\n        if (callback != null)\n          callback();\n      });\n    } finally {\n      delete root._bokeh_onload_callbacks\n    }\n    console.debug(\"Bokeh: all callbacks have finished\");\n  }\n\n  function load_libs(css_urls, js_urls, callback) {\n    if (css_urls == null) css_urls = [];\n    if (js_urls == null) js_urls = [];\n\n    root._bokeh_onload_callbacks.push(callback);\n    if (root._bokeh_is_loading > 0) {\n      console.debug(\"Bokeh: BokehJS is being loaded, scheduling callback at\", now());\n      return null;\n    }\n    if (js_urls == null || js_urls.length === 0) {\n      run_callbacks();\n      return null;\n    }\n    console.debug(\"Bokeh: BokehJS not loaded, scheduling load and callback at\", now());\n    root._bokeh_is_loading = css_urls.length + js_urls.length;\n\n    function on_load() {\n      root._bokeh_is_loading--;\n      if (root._bokeh_is_loading === 0) {\n        console.debug(\"Bokeh: all BokehJS libraries/stylesheets loaded\");\n        run_callbacks()\n      }\n    }\n\n    function on_error(url) {\n      console.error(\"failed to load \" + url);\n    }\n\n    for (let i = 0; i < css_urls.length; i++) {\n      const url = css_urls[i];\n      const element = document.createElement(\"link\");\n      element.onload = on_load;\n      element.onerror = on_error.bind(null, url);\n      element.rel = \"stylesheet\";\n      element.type = \"text/css\";\n      element.href = url;\n      console.debug(\"Bokeh: injecting link tag for BokehJS stylesheet: \", url);\n      document.body.appendChild(element);\n    }\n\n    for (let i = 0; i < js_urls.length; i++) {\n      const url = js_urls[i];\n      const element = document.createElement('script');\n      element.onload = on_load;\n      element.onerror = on_error.bind(null, url);\n      element.async = false;\n      element.src = url;\n      console.debug(\"Bokeh: injecting script tag for BokehJS library: \", url);\n      document.head.appendChild(element);\n    }\n  };\n\n  function inject_raw_css(css) {\n    const element = document.createElement(\"style\");\n    element.appendChild(document.createTextNode(css));\n    document.body.appendChild(element);\n  }\n\n  const js_urls = [\"https://cdn.bokeh.org/bokeh/release/bokeh-3.0.3.min.js\", \"https://cdn.bokeh.org/bokeh/release/bokeh-gl-3.0.3.min.js\", \"https://cdn.bokeh.org/bokeh/release/bokeh-widgets-3.0.3.min.js\", \"https://cdn.bokeh.org/bokeh/release/bokeh-tables-3.0.3.min.js\", \"https://cdn.bokeh.org/bokeh/release/bokeh-mathjax-3.0.3.min.js\"];\n  const css_urls = [];\n\n  const inline_js = [    function(Bokeh) {\n      Bokeh.set_log_level(\"info\");\n    },\nfunction(Bokeh) {\n    }\n  ];\n\n  function run_inline_js() {\n    if (root.Bokeh !== undefined || force === true) {\n          for (let i = 0; i < inline_js.length; i++) {\n      inline_js[i].call(root, root.Bokeh);\n    }\nif (force === true) {\n        display_loaded();\n      }} else if (Date.now() < root._bokeh_timeout) {\n      setTimeout(run_inline_js, 100);\n    } else if (!root._bokeh_failed_load) {\n      console.log(\"Bokeh: BokehJS failed to load within specified timeout.\");\n      root._bokeh_failed_load = true;\n    } else if (force !== true) {\n      const cell = $(document.getElementById(\"p1707\")).parents('.cell').data().cell;\n      cell.output_area.append_execute_result(NB_LOAD_WARNING)\n    }\n  }\n\n  if (root._bokeh_is_loading === 0) {\n    console.debug(\"Bokeh: BokehJS loaded, going straight to plotting\");\n    run_inline_js();\n  } else {\n    load_libs(css_urls, js_urls, function() {\n      console.debug(\"Bokeh: BokehJS plotting callback run at\", now());\n      run_inline_js();\n    });\n  }\n}(window));",
      "application/vnd.bokehjs_load.v0+json": ""
     },
     "metadata": {},
     "output_type": "display_data"
    },
    {
     "data": {
      "text/html": [
       "\n",
       "  <div id=\"a7a9f449-e0d7-4399-a294-6a5b74ec0fbc\" data-root-id=\"p1712\" style=\"display: contents;\"></div>\n"
      ]
     },
     "metadata": {},
     "output_type": "display_data"
    },
    {
     "data": {
      "application/javascript": "(function(root) {\n  function embed_document(root) {\n  const docs_json = {\"b7fc0bfd-55bd-41d8-9515-b75b20994932\":{\"version\":\"3.0.3\",\"title\":\"Bokeh Application\",\"defs\":[],\"roots\":[{\"type\":\"object\",\"name\":\"Figure\",\"id\":\"p1712\",\"attributes\":{\"x_range\":{\"type\":\"object\",\"name\":\"DataRange1d\",\"id\":\"p1713\"},\"y_range\":{\"type\":\"object\",\"name\":\"DataRange1d\",\"id\":\"p1714\"},\"x_scale\":{\"type\":\"object\",\"name\":\"LinearScale\",\"id\":\"p1726\"},\"y_scale\":{\"type\":\"object\",\"name\":\"LinearScale\",\"id\":\"p1728\"},\"title\":{\"type\":\"object\",\"name\":\"Title\",\"id\":\"p1715\",\"attributes\":{\"text\":\"The Height and Weight of Different Female Athletes\"}},\"renderers\":[{\"type\":\"object\",\"name\":\"GlyphRenderer\",\"id\":\"p1765\",\"attributes\":{\"data_source\":{\"type\":\"object\",\"name\":\"ColumnDataSource\",\"id\":\"p1708\",\"attributes\":{\"selected\":{\"type\":\"object\",\"name\":\"Selection\",\"id\":\"p1710\",\"attributes\":{\"indices\":[],\"line_indices\":[]}},\"selection_policy\":{\"type\":\"object\",\"name\":\"UnionRenderers\",\"id\":\"p1709\"},\"data\":{\"type\":\"map\",\"entries\":[[\"index\",{\"type\":\"ndarray\",\"array\":{\"type\":\"bytes\",\"data\":\"AAAAAAEAAAACAAAAAwAAAAQAAAAFAAAABgAAAAcAAAAIAAAACQAAAAoAAAALAAAADAAAAA0AAAAOAAAADwAAABAAAAARAAAAEgAAABMAAAAUAAAAFQAAABYAAAAXAAAAGAAAABkAAAAaAAAAGwAAABwAAAAdAAAAHgAAAB8AAAAgAAAAIQAAACIAAAAjAAAAJAAAACUAAAAmAAAAJwAAACgAAAApAAAAKgAAACsAAAAsAAAALQAAAC4AAAAvAAAAMAAAADEAAAAyAAAAMwAAADQAAAA1AAAANgAAADcAAAA4AAAAOQAAADoAAAA7AAAAPAAAAD0AAAA+AAAAPwAAAEAAAABBAAAAQgAAAEMAAABEAAAARQAAAEYAAABHAAAASAAAAEkAAABKAAAASwAAAEwAAABNAAAATgAAAE8AAABQAAAAUQAAAFIAAABTAAAAVAAAAFUAAABWAAAAVwAAAFgAAABZAAAAWgAAAFsAAABcAAAAXQAAAF4AAABfAAAAYAAAAGEAAABiAAAAYwAAAGQAAABlAAAAZgAAAGcAAABoAAAAaQAAAGoAAABrAAAAbAAAAG0AAABuAAAAbwAAAHAAAABxAAAAcgAAAHMAAAB0AAAAdQAAAHYAAAB3AAAAeAAAAHkAAAB6AAAAewAAAHwAAAB9AAAAfgAAAH8AAACAAAAAgQAAAIIAAACDAAAAhAAAAIUAAACGAAAAhwAAAIgAAACJAAAAigAAAIsAAACMAAAAjQAAAI4AAACPAAAAkAAAAJEAAACSAAAAkwAAAJQAAACVAAAA\"},\"shape\":[150],\"dtype\":\"int32\",\"order\":\"little\"}],[\"name\",{\"type\":\"ndarray\",\"array\":[\"Moeko Nagaoka\",\"Maki Takada\",\"Naho Miyoshi\",\"Rui Machida\",\"Nako Motohashi\",\"Nanako Todo\",\"Saki Hayashi\",\"Evelyn Mawuli\",\"Saori Miyazaki\",\"Yuki Miyazawa\",\"Himawari Akaho\",\"Monica Okoye\",\"Jewell Loyd\",\"Skylar Diggins-Smith\",\"Sue Bird\",\"Ariel Atkins\",\"Chelsea Gray\",\"A'ja Wilson\",\"Breanna Stewart\",\"Napheesa Collier\",\"Diana Taurasi\",\"Sylvia Fowles\",\"Tina Charles\",\"Brittney Griner\",\"Marine Fauthoux\",\"End\\u00e9n\\u00e9 Miyem\",\"Alexia Chartereau\",\"Sandrine Gruda\",\"H\\u00e9l\\u00e9na Ciak\",\"Sarah Michel\",\"Val\\u00e9riane Vukosavljevi\\u0107\",\"Iliana Rupert\",\"Gabby Williams\",\"Marine Johann\\u00e8s\",\"Alix Duchet\",\"Diandra Tchatchouang\",\"Cristina Ouvi\\u00f1a\",\"Silvia Dom\\u00ednguez\",\"Alba Torrens\",\"Laia Palau\",\"Maite Cazorla\",\"Tamara Abalde\",\"Raquel Carrera\",\"Queralt Casas\",\"Mar\\u00eda Conde\",\"Laura Gil\",\"Astou Ndour-Fall\",\"Sami Whitcomb\",\"Kristy Wallace\",\"Patr\\u00edcia Teixeira\",\"Simone Biles\",\"Sunisa Lee\",\"Jordan Chiles\",\"Grace McCallum\",\"MyKayla Skinner\",\"Kayla DiCello\",\"Kara Eaker\",\"Leanne Wong\",\"Emma Malabuyo\",\"Shilese Jones\",\"Svetlana Khorkina\",\"Gina Gogean\",\"Lilia Akhaimova\",\"Viktoria Listunova\",\"Angelina Melnikova\",\"Vladislava Urazova\",\"Rebeca Andrade\",\"Nina Derwael\",\"Jade Carey\",\"Simona Dyankova\",\"Vanessa Ferrari\",\"Jennifer Gadirova\",\"Jessica Gadirova\",\"Alice Kinsella\",\"Yeo Seo-jeong\",\"Mai Murakami\",\"Linoy Ashram\",\"Alina Harnasko\",\"Katelyn Ohashi\",\"Hitomi Hatakeda\",\"Yuna Hiraiwa\",\"Aiko Sugihara\",\"Urara Ashikawa\",\"Chisaki Oiwa\",\"Sumire Kita\",\"Sakura Noshitani\",\"Sayuri Sugimoto\",\"Ayuka Suzuki\",\"Nanami Takenaka\",\"Kiko Yokota\",\"Ellie Black\",\"Marine Boyer\",\"M\\u00e9lanie de Jesus dos Santos\",\"Coline Devillard\",\"Aline Friess\",\"Becky Downie\",\"Georgia-Mae Fenton\",\"Claudia Fragapane\",\"Kelly Simm\",\"Kim Bui\",\"Pauline Sch\\u00e4fer\",\"Nicole James\",\"Catherine Benson\",\"Hope Rogers\",\"Joanna Kitlinski\",\"Jenny Kronish\",\"Kristine Sommer\",\"Hallie Taufo'ou\",\"Jordan Matyas\",\"Rachel Johnson\",\"Elizabeth Cairns\",\"Kathryn Johnson\",\"Kate Zackary\",\"Gabby Cantorna\",\"Alev Kelter\",\"Amy Bont\\u00e9\",\"Tess Feury\",\"Meya Bizer\",\"Olivia Apps\",\"Pamphinette Buisa\",\"Emma Chown\",\"Bianca Farella\",\"Breanne Nicholas\",\"Karen Paquin\",\"Keyara Wardley\",\"Autumn-Rain Stephens-Daly\",\"Madison Bartlett\",\"Katelyn Vaha'akolo\",\"Raecene McGregor\",\"Annetta Nu'uausala\",\"Krystal Rota\",\"Roxette Murdoch\",\"Ngatokotoru Arakua\",\"Georgia Hale\",\"Nita Maynard\",\"Charlotte Scanlan\",\"Corban Baxter\",\"Tiana Penitani\",\"Jessica Sergis\",\"Isabelle Kelly\",\"Shakiah Tungai\",\"Kirra Dibb\",\"Ali Brigginshaw\",\"Simaima Taufa\",\"Keeley Davis\",\"Millie Boyle\",\"Kezie Apps\",\"Annette Brander\",\"Hannah Southwell\",\"Botille Vette-Welsh\"],\"shape\":[150],\"dtype\":\"object\",\"order\":\"little\"}],[\"height_in\",{\"type\":\"ndarray\",\"array\":{\"type\":\"bytes\",\"data\":\"SAAAAEgAAABBAAAAQAAAAEEAAABFAAAARAAAAEcAAABCAAAASAAAAEgAAABHAAAARgAAAEUAAABFAAAARAAAAEcAAABMAAAATAAAAEkAAABIAAAATgAAAEwAAABRAAAARQAAAEsAAABLAAAATAAAAE4AAABHAAAASAAAAEwAAABHAAAARgAAAEIAAABKAAAARAAAAEEAAABLAAAARgAAAEYAAABLAAAASwAAAEcAAABJAAAASwAAAE0AAABGAAAARwAAAEYAAAA4AAAAPAAAAEEAAAA8AAAAPAAAAEEAAAA8AAAAPQAAADwAAAA/AAAAQQAAADsAAAA9AAAAOAAAADwAAAA+AAAAOwAAAEMAAAA+AAAAQgAAADkAAAA9AAAAPQAAAD4AAAA7AAAAOgAAAEEAAAA7AAAAOgAAAD0AAAA7AAAAPAAAADgAAAA/AAAAQQAAAEMAAABAAAAAQQAAAEAAAABAAAAAPQAAAEAAAAA8AAAAOQAAAEIAAAA9AAAAQAAAADYAAAA8AAAAPQAAAEAAAAA3AAAARAAAAEIAAABDAAAASgAAAEUAAABGAAAASAAAAEMAAABDAAAARgAAAEQAAABCAAAAQgAAAEMAAABBAAAARAAAAEEAAABGAAAAQgAAAEQAAAA9AAAARAAAAEEAAABBAAAAQgAAAEAAAABAAAAARQAAAEQAAABDAAAAQQAAAEEAAAA+AAAARAAAAEQAAABDAAAARAAAAEMAAABBAAAARwAAAEUAAAA8AAAAQAAAAEcAAABIAAAAQQAAAEQAAABEAAAA\"},\"shape\":[150],\"dtype\":\"int32\",\"order\":\"little\"}],[\"weight_lb\",{\"type\":\"ndarray\",\"array\":{\"type\":\"bytes\",\"data\":\"pQAAAKgAAACNAAAAfgAAAHkAAACLAAAAlAAAAK4AAAB7AAAAoQAAAKcAAACfAAAAlAAAAJEAAACWAAAApwAAAKoAAAC5AAAAqgAAALUAAACjAAAA2QAAAMAAAADNAAAAmgAAAMsAAACuAAAAuQAAAL4AAACfAAAAmAAAAL0AAACsAAAAhgAAAHkAAAClAAAAmgAAAI0AAACwAAAAmAAAAJsAAACfAAAAoAAAAI4AAACYAAAArAAAAJYAAACRAAAAnQAAAI0AAABoAAAAeQAAAHkAAABoAAAAaAAAAHkAAABwAAAAWwAAAHkAAABpAAAAaAAAAFgAAABuAAAAWAAAAGEAAABlAAAAYwAAAGUAAAB4AAAAfgAAAGEAAAB5AAAAYwAAAG4AAABlAAAAagAAAG4AAABzAAAAagAAAGUAAABcAAAAYgAAAE8AAABUAAAAZQAAAGoAAABfAAAAZwAAAGEAAABsAAAAfgAAAHMAAABUAAAAVgAAAGUAAAB1AAAAagAAAF8AAABoAAAAbAAAAHkAAADjAAAA0gAAAMMAAACqAAAAwwAAAKAAAAClAAAAwwAAALUAAACgAAAAmAAAAK4AAAChAAAApQAAAJsAAACSAAAAnwAAAJoAAAClAAAAnwAAAKMAAACGAAAAlgAAAJYAAACYAAAAlAAAAJ8AAACdAAAA5wAAAKoAAAC+AAAAzQAAAJoAAACEAAAAswAAAJ0AAACaAAAAnwAAAKUAAACYAAAAqgAAAJIAAACnAAAAlgAAALcAAAC1AAAArAAAAKUAAACUAAAA\"},\"shape\":[150],\"dtype\":\"int32\",\"order\":\"little\"}],[\"sport\",{\"type\":\"ndarray\",\"array\":[\"basketball\",\"basketball\",\"basketball\",\"basketball\",\"basketball\",\"basketball\",\"basketball\",\"basketball\",\"basketball\",\"basketball\",\"basketball\",\"basketball\",\"basketball\",\"basketball\",\"basketball\",\"basketball\",\"basketball\",\"basketball\",\"basketball\",\"basketball\",\"basketball\",\"basketball\",\"basketball\",\"basketball\",\"basketball\",\"basketball\",\"basketball\",\"basketball\",\"basketball\",\"basketball\",\"basketball\",\"basketball\",\"basketball\",\"basketball\",\"basketball\",\"basketball\",\"basketball\",\"basketball\",\"basketball\",\"basketball\",\"basketball\",\"basketball\",\"basketball\",\"basketball\",\"basketball\",\"basketball\",\"basketball\",\"basketball\",\"basketball\",\"basketball\",\"gymnastics\",\"gymnastics\",\"gymnastics\",\"gymnastics\",\"gymnastics\",\"gymnastics\",\"gymnastics\",\"gymnastics\",\"gymnastics\",\"gymnastics\",\"gymnastics\",\"gymnastics\",\"gymnastics\",\"gymnastics\",\"gymnastics\",\"gymnastics\",\"gymnastics\",\"gymnastics\",\"gymnastics\",\"gymnastics\",\"gymnastics\",\"gymnastics\",\"gymnastics\",\"gymnastics\",\"gymnastics\",\"gymnastics\",\"gymnastics\",\"gymnastics\",\"gymnastics\",\"gymnastics\",\"gymnastics\",\"gymnastics\",\"gymnastics\",\"gymnastics\",\"gymnastics\",\"gymnastics\",\"gymnastics\",\"gymnastics\",\"gymnastics\",\"gymnastics\",\"gymnastics\",\"gymnastics\",\"gymnastics\",\"gymnastics\",\"gymnastics\",\"gymnastics\",\"gymnastics\",\"gymnastics\",\"gymnastics\",\"gymnastics\",\"gymnastics\",\"rugby\",\"rugby\",\"rugby\",\"rugby\",\"rugby\",\"rugby\",\"rugby\",\"rugby\",\"rugby\",\"rugby\",\"rugby\",\"rugby\",\"rugby\",\"rugby\",\"rugby\",\"rugby\",\"rugby\",\"rugby\",\"rugby\",\"rugby\",\"rugby\",\"rugby\",\"rugby\",\"rugby\",\"rugby\",\"rugby\",\"rugby\",\"rugby\",\"rugby\",\"rugby\",\"rugby\",\"rugby\",\"rugby\",\"rugby\",\"rugby\",\"rugby\",\"rugby\",\"rugby\",\"rugby\",\"rugby\",\"rugby\",\"rugby\",\"rugby\",\"rugby\",\"rugby\",\"rugby\",\"rugby\",\"rugby\",\"rugby\"],\"shape\":[150],\"dtype\":\"object\",\"order\":\"little\"}]]}}},\"view\":{\"type\":\"object\",\"name\":\"CDSView\",\"id\":\"p1766\",\"attributes\":{\"filter\":{\"type\":\"object\",\"name\":\"AllIndices\",\"id\":\"p1767\"}}},\"glyph\":{\"type\":\"object\",\"name\":\"Scatter\",\"id\":\"p1762\",\"attributes\":{\"x\":{\"type\":\"field\",\"field\":\"height_in\"},\"y\":{\"type\":\"field\",\"field\":\"weight_lb\"},\"line_color\":{\"type\":\"field\",\"field\":\"sport\",\"transform\":{\"type\":\"object\",\"name\":\"CategoricalColorMapper\",\"id\":\"p1711\",\"attributes\":{\"palette\":[\"#1b9e77\",\"#d95f02\",\"#7570b3\"],\"factors\":{\"type\":\"ndarray\",\"array\":[\"basketball\",\"gymnastics\",\"rugby\"],\"shape\":[3],\"dtype\":\"object\",\"order\":\"little\"}}}},\"fill_color\":{\"type\":\"field\",\"field\":\"sport\",\"transform\":{\"id\":\"p1711\"}},\"hatch_color\":{\"type\":\"field\",\"field\":\"sport\",\"transform\":{\"id\":\"p1711\"}}}},\"nonselection_glyph\":{\"type\":\"object\",\"name\":\"Scatter\",\"id\":\"p1763\",\"attributes\":{\"x\":{\"type\":\"field\",\"field\":\"height_in\"},\"y\":{\"type\":\"field\",\"field\":\"weight_lb\"},\"line_color\":{\"type\":\"field\",\"field\":\"sport\",\"transform\":{\"id\":\"p1711\"}},\"line_alpha\":{\"type\":\"value\",\"value\":0.1},\"fill_color\":{\"type\":\"field\",\"field\":\"sport\",\"transform\":{\"id\":\"p1711\"}},\"fill_alpha\":{\"type\":\"value\",\"value\":0.1},\"hatch_color\":{\"type\":\"field\",\"field\":\"sport\",\"transform\":{\"id\":\"p1711\"}},\"hatch_alpha\":{\"type\":\"value\",\"value\":0.1}}},\"muted_glyph\":{\"type\":\"object\",\"name\":\"Scatter\",\"id\":\"p1764\",\"attributes\":{\"x\":{\"type\":\"field\",\"field\":\"height_in\"},\"y\":{\"type\":\"field\",\"field\":\"weight_lb\"},\"line_color\":{\"type\":\"field\",\"field\":\"sport\",\"transform\":{\"id\":\"p1711\"}},\"line_alpha\":{\"type\":\"value\",\"value\":0.2},\"fill_color\":{\"type\":\"field\",\"field\":\"sport\",\"transform\":{\"id\":\"p1711\"}},\"fill_alpha\":{\"type\":\"value\",\"value\":0.2},\"hatch_color\":{\"type\":\"field\",\"field\":\"sport\",\"transform\":{\"id\":\"p1711\"}},\"hatch_alpha\":{\"type\":\"value\",\"value\":0.2}}}}}],\"toolbar\":{\"type\":\"object\",\"name\":\"Toolbar\",\"id\":\"p1717\",\"attributes\":{\"tools\":[{\"type\":\"object\",\"name\":\"PanTool\",\"id\":\"p1744\"},{\"type\":\"object\",\"name\":\"WheelZoomTool\",\"id\":\"p1745\"},{\"type\":\"object\",\"name\":\"BoxZoomTool\",\"id\":\"p1746\",\"attributes\":{\"overlay\":{\"type\":\"object\",\"name\":\"BoxAnnotation\",\"id\":\"p1747\",\"attributes\":{\"syncable\":false,\"level\":\"overlay\",\"visible\":false,\"left_units\":\"canvas\",\"right_units\":\"canvas\",\"bottom_units\":\"canvas\",\"top_units\":\"canvas\",\"line_color\":\"black\",\"line_alpha\":1.0,\"line_width\":2,\"line_dash\":[4,4],\"fill_color\":\"lightgrey\",\"fill_alpha\":0.5}}}},{\"type\":\"object\",\"name\":\"SaveTool\",\"id\":\"p1748\"},{\"type\":\"object\",\"name\":\"ResetTool\",\"id\":\"p1749\"},{\"type\":\"object\",\"name\":\"HelpTool\",\"id\":\"p1750\"}]}},\"left\":[{\"type\":\"object\",\"name\":\"LinearAxis\",\"id\":\"p1737\",\"attributes\":{\"ticker\":{\"type\":\"object\",\"name\":\"BasicTicker\",\"id\":\"p1740\",\"attributes\":{\"mantissas\":[1,2,5]}},\"formatter\":{\"type\":\"object\",\"name\":\"BasicTickFormatter\",\"id\":\"p1738\"},\"axis_label\":\"Weight (lb.)\",\"major_label_policy\":{\"type\":\"object\",\"name\":\"AllLabels\",\"id\":\"p1739\"}}}],\"below\":[{\"type\":\"object\",\"name\":\"LinearAxis\",\"id\":\"p1730\",\"attributes\":{\"ticker\":{\"type\":\"object\",\"name\":\"BasicTicker\",\"id\":\"p1733\",\"attributes\":{\"mantissas\":[1,2,5]}},\"formatter\":{\"type\":\"object\",\"name\":\"BasicTickFormatter\",\"id\":\"p1731\"},\"axis_label\":\"Height (in.)\",\"major_label_policy\":{\"type\":\"object\",\"name\":\"AllLabels\",\"id\":\"p1732\"}}}],\"center\":[{\"type\":\"object\",\"name\":\"Grid\",\"id\":\"p1736\",\"attributes\":{\"axis\":{\"id\":\"p1730\"}}},{\"type\":\"object\",\"name\":\"Grid\",\"id\":\"p1743\",\"attributes\":{\"dimension\":1,\"axis\":{\"id\":\"p1737\"}}},{\"type\":\"object\",\"name\":\"Legend\",\"id\":\"p1781\",\"attributes\":{\"items\":[{\"type\":\"object\",\"name\":\"LegendItem\",\"id\":\"p1782\",\"attributes\":{\"label\":{\"type\":\"field\",\"field\":\"sport\"},\"renderers\":[{\"id\":\"p1765\"}]}}]}}]}}]}};\n  const render_items = [{\"docid\":\"b7fc0bfd-55bd-41d8-9515-b75b20994932\",\"roots\":{\"p1712\":\"a7a9f449-e0d7-4399-a294-6a5b74ec0fbc\"},\"root_ids\":[\"p1712\"]}];\n  root.Bokeh.embed.embed_items_notebook(docs_json, render_items);\n  }\n  if (root.Bokeh !== undefined) {\n    embed_document(root);\n  } else {\n    let attempts = 0;\n    const timer = setInterval(function(root) {\n      if (root.Bokeh !== undefined) {\n        clearInterval(timer);\n        embed_document(root);\n      } else {\n        attempts++;\n        if (attempts > 100) {\n          clearInterval(timer);\n          console.log(\"Bokeh: ERROR: Unable to run BokehJS code because BokehJS library is missing\");\n        }\n      }\n    }, 10, root)\n  }\n})(window);",
      "application/vnd.bokehjs_exec.v0+json": ""
     },
     "metadata": {
      "application/vnd.bokehjs_exec.v0+json": {
       "id": "p1712"
      }
     },
     "output_type": "display_data"
    }
   ],
   "source": [
    "import bokeh.plotting as bpl\n",
    "import bokeh.models as bmo\n",
    "from bokeh.palettes import d3, Set2_3,brewer\n",
    "bpl.output_notebook()\n",
    "source = bpl.ColumnDataSource(athletes)\n",
    "\n",
    "# use whatever palette you want...\n",
    "palette = brewer['Dark2'][len(athletes['sport'].unique())]\n",
    "\n",
    "color_map = bmo.CategoricalColorMapper(factors=athletes['sport'].unique(),\n",
    "                                   palette=palette)\n",
    "\n",
    "# create figure and plot\n",
    "p = bpl.figure(title=\"The Height and Weight of Different Female Athletes\", x_axis_label=\"Height (in.)\", y_axis_label=\"Weight (lb.)\")\n",
    "p.scatter(x='height_in', y='weight_lb',\n",
    "          color={'field': 'sport', 'transform': color_map},\n",
    "          legend_field='sport', source=source)\n",
    "bpl.show(p)"
   ]
  },
  {
   "cell_type": "markdown",
   "metadata": {
    "id": "1B954u8DEx8D"
   },
   "source": [
    "From that chart it looks pretty easy to distinguish gymnasts from basketball players and a bit more challenging to distinguish basketball players from rugby players. Again, to start with we will restrict the dataset to basketball and gymnastics. So our steps for processing the data file are:\n",
    "\n",
    "### 1. Remove the rugby entries from the dataset.\n",
    "\n",
    "![](https://raw.githubusercontent.com/zacharski/datamining-guide/master/labs/pics/RugbyDiscard.png)\n",
    "\n",
    "### 2. Divide the dataset columns into features and labels.\n",
    "For `sklearn` algorithms the data needs to be divided into an array of features (in our case height_in and weight_lb) and a Pandas series for the labels (basketball or gymnastics). We do not need the column for athete's name \n",
    "\n",
    "![](https://raw.githubusercontent.com/zacharski/datamining-guide/master/labs/pics/FeaturesLabels.png)\n",
    "\n",
    "\n",
    "### 3. Divide the dataset into training and test sets\n",
    "Eventually we will divide our datasets into three parts. In this introductory worksheet we will divide our data into two:\n",
    "\n",
    "* **training** This is the data we will be using for training our machine learning model.\n",
    "* **test** After we train our model we want to know how well the model performs. We will use the test data for this purpose.\n",
    "![](https://raw.githubusercontent.com/zacharski/datamining-guide/master/labs/pics/TrainTest.png)\n",
    "\n",
    "\n",
    "Let's implement this plan.\n",
    "\n",
    "### 1.  Just get the data for basketball and gymnastics\n",
    "\n",
    "\n",
    "\n"
   ]
  },
  {
   "cell_type": "code",
   "execution_count": 140,
   "metadata": {
    "colab": {
     "base_uri": "https://localhost:8080/",
     "height": 424
    },
    "id": "soNAR2_SniaJ",
    "outputId": "8352e349-2801-49de-d20f-c22d091cecb0"
   },
   "outputs": [
    {
     "data": {
      "text/html": [
       "<div>\n",
       "<style scoped>\n",
       "    .dataframe tbody tr th:only-of-type {\n",
       "        vertical-align: middle;\n",
       "    }\n",
       "\n",
       "    .dataframe tbody tr th {\n",
       "        vertical-align: top;\n",
       "    }\n",
       "\n",
       "    .dataframe thead th {\n",
       "        text-align: right;\n",
       "    }\n",
       "</style>\n",
       "<table border=\"1\" class=\"dataframe\">\n",
       "  <thead>\n",
       "    <tr style=\"text-align: right;\">\n",
       "      <th></th>\n",
       "      <th>name</th>\n",
       "      <th>height_in</th>\n",
       "      <th>weight_lb</th>\n",
       "      <th>sport</th>\n",
       "    </tr>\n",
       "  </thead>\n",
       "  <tbody>\n",
       "    <tr>\n",
       "      <th>0</th>\n",
       "      <td>Moeko Nagaoka</td>\n",
       "      <td>72</td>\n",
       "      <td>165</td>\n",
       "      <td>basketball</td>\n",
       "    </tr>\n",
       "    <tr>\n",
       "      <th>1</th>\n",
       "      <td>Maki Takada</td>\n",
       "      <td>72</td>\n",
       "      <td>168</td>\n",
       "      <td>basketball</td>\n",
       "    </tr>\n",
       "    <tr>\n",
       "      <th>2</th>\n",
       "      <td>Naho Miyoshi</td>\n",
       "      <td>65</td>\n",
       "      <td>141</td>\n",
       "      <td>basketball</td>\n",
       "    </tr>\n",
       "    <tr>\n",
       "      <th>3</th>\n",
       "      <td>Rui Machida</td>\n",
       "      <td>64</td>\n",
       "      <td>126</td>\n",
       "      <td>basketball</td>\n",
       "    </tr>\n",
       "    <tr>\n",
       "      <th>4</th>\n",
       "      <td>Nako Motohashi</td>\n",
       "      <td>65</td>\n",
       "      <td>121</td>\n",
       "      <td>basketball</td>\n",
       "    </tr>\n",
       "    <tr>\n",
       "      <th>...</th>\n",
       "      <td>...</td>\n",
       "      <td>...</td>\n",
       "      <td>...</td>\n",
       "      <td>...</td>\n",
       "    </tr>\n",
       "    <tr>\n",
       "      <th>96</th>\n",
       "      <td>Georgia-Mae Fenton</td>\n",
       "      <td>64</td>\n",
       "      <td>106</td>\n",
       "      <td>gymnastics</td>\n",
       "    </tr>\n",
       "    <tr>\n",
       "      <th>97</th>\n",
       "      <td>Claudia Fragapane</td>\n",
       "      <td>54</td>\n",
       "      <td>95</td>\n",
       "      <td>gymnastics</td>\n",
       "    </tr>\n",
       "    <tr>\n",
       "      <th>98</th>\n",
       "      <td>Kelly Simm</td>\n",
       "      <td>60</td>\n",
       "      <td>104</td>\n",
       "      <td>gymnastics</td>\n",
       "    </tr>\n",
       "    <tr>\n",
       "      <th>99</th>\n",
       "      <td>Kim Bui</td>\n",
       "      <td>61</td>\n",
       "      <td>108</td>\n",
       "      <td>gymnastics</td>\n",
       "    </tr>\n",
       "    <tr>\n",
       "      <th>100</th>\n",
       "      <td>Pauline Schäfer</td>\n",
       "      <td>64</td>\n",
       "      <td>121</td>\n",
       "      <td>gymnastics</td>\n",
       "    </tr>\n",
       "  </tbody>\n",
       "</table>\n",
       "<p>101 rows × 4 columns</p>\n",
       "</div>"
      ],
      "text/plain": [
       "                   name  height_in  weight_lb       sport\n",
       "0         Moeko Nagaoka         72        165  basketball\n",
       "1           Maki Takada         72        168  basketball\n",
       "2          Naho Miyoshi         65        141  basketball\n",
       "3           Rui Machida         64        126  basketball\n",
       "4        Nako Motohashi         65        121  basketball\n",
       "..                  ...        ...        ...         ...\n",
       "96   Georgia-Mae Fenton         64        106  gymnastics\n",
       "97    Claudia Fragapane         54         95  gymnastics\n",
       "98           Kelly Simm         60        104  gymnastics\n",
       "99              Kim Bui         61        108  gymnastics\n",
       "100     Pauline Schäfer         64        121  gymnastics\n",
       "\n",
       "[101 rows x 4 columns]"
      ]
     },
     "execution_count": 140,
     "metadata": {},
     "output_type": "execute_result"
    }
   ],
   "source": [
    "athletes2 = athletes.loc[(athletes['sport'] == 'gymnastics') | (athletes['sport'] == 'basketball')]\n",
    "athletes2"
   ]
  },
  {
   "cell_type": "markdown",
   "metadata": {
    "id": "LWiOYgunQaqm"
   },
   "source": [
    "### 2. Divide the dataset into features and labels\n"
   ]
  },
  {
   "cell_type": "code",
   "execution_count": 141,
   "metadata": {
    "colab": {
     "base_uri": "https://localhost:8080/",
     "height": 363
    },
    "id": "ZdXFyi5QQZd4",
    "outputId": "8a1b772c-c2c7-4730-81d0-2061508de460"
   },
   "outputs": [
    {
     "data": {
      "text/html": [
       "<div>\n",
       "<style scoped>\n",
       "    .dataframe tbody tr th:only-of-type {\n",
       "        vertical-align: middle;\n",
       "    }\n",
       "\n",
       "    .dataframe tbody tr th {\n",
       "        vertical-align: top;\n",
       "    }\n",
       "\n",
       "    .dataframe thead th {\n",
       "        text-align: right;\n",
       "    }\n",
       "</style>\n",
       "<table border=\"1\" class=\"dataframe\">\n",
       "  <thead>\n",
       "    <tr style=\"text-align: right;\">\n",
       "      <th></th>\n",
       "      <th>height_in</th>\n",
       "      <th>weight_lb</th>\n",
       "    </tr>\n",
       "  </thead>\n",
       "  <tbody>\n",
       "    <tr>\n",
       "      <th>0</th>\n",
       "      <td>72</td>\n",
       "      <td>165</td>\n",
       "    </tr>\n",
       "    <tr>\n",
       "      <th>1</th>\n",
       "      <td>72</td>\n",
       "      <td>168</td>\n",
       "    </tr>\n",
       "    <tr>\n",
       "      <th>2</th>\n",
       "      <td>65</td>\n",
       "      <td>141</td>\n",
       "    </tr>\n",
       "    <tr>\n",
       "      <th>3</th>\n",
       "      <td>64</td>\n",
       "      <td>126</td>\n",
       "    </tr>\n",
       "    <tr>\n",
       "      <th>4</th>\n",
       "      <td>65</td>\n",
       "      <td>121</td>\n",
       "    </tr>\n",
       "    <tr>\n",
       "      <th>5</th>\n",
       "      <td>69</td>\n",
       "      <td>139</td>\n",
       "    </tr>\n",
       "    <tr>\n",
       "      <th>6</th>\n",
       "      <td>68</td>\n",
       "      <td>148</td>\n",
       "    </tr>\n",
       "    <tr>\n",
       "      <th>7</th>\n",
       "      <td>71</td>\n",
       "      <td>174</td>\n",
       "    </tr>\n",
       "    <tr>\n",
       "      <th>8</th>\n",
       "      <td>66</td>\n",
       "      <td>123</td>\n",
       "    </tr>\n",
       "    <tr>\n",
       "      <th>9</th>\n",
       "      <td>72</td>\n",
       "      <td>161</td>\n",
       "    </tr>\n",
       "  </tbody>\n",
       "</table>\n",
       "</div>"
      ],
      "text/plain": [
       "   height_in  weight_lb\n",
       "0         72        165\n",
       "1         72        168\n",
       "2         65        141\n",
       "3         64        126\n",
       "4         65        121\n",
       "5         69        139\n",
       "6         68        148\n",
       "7         71        174\n",
       "8         66        123\n",
       "9         72        161"
      ]
     },
     "execution_count": 141,
     "metadata": {},
     "output_type": "execute_result"
    }
   ],
   "source": [
    "athlete_features = athletes2[['height_in', 'weight_lb']]\n",
    "athlete_labels = athletes2['sport']\n",
    "athlete_features[:10]"
   ]
  },
  {
   "cell_type": "markdown",
   "metadata": {
    "id": "Zr6NLJb9Ts93"
   },
   "source": [
    "### 3. Divide into training and test sets\n",
    "For this we are going to use `sklearn`'s `train_test_split`.\n",
    "\n",
    "The parameters for `train_test_split` are\n",
    "\n",
    "* the features of the dataset\n",
    "* the labels of the dataset\n",
    "* `random_state` - The data is shuffled before it is split. This parameter sets the same shuffle each time you run it. This helps when you are trying to compare runs and reproduce results.\n",
    "* `train_size` specifies what percent of the data should go into the training set. In our case we will have 80% of the data put into training and 20% into test."
   ]
  },
  {
   "cell_type": "code",
   "execution_count": 142,
   "metadata": {
    "id": "_KH9c4aQUYZx"
   },
   "outputs": [],
   "source": [
    "from sklearn.model_selection import train_test_split\n",
    "athlete_features_train, athlete_features_test, athlete_label_train, athlete_label_test = train_test_split(athlete_features, athlete_labels, random_state=0, train_size = .8)"
   ]
  },
  {
   "cell_type": "markdown",
   "metadata": {
    "id": "5VM0mpocGul7"
   },
   "source": [
    " \n",
    "\n",
    "## Classifying the sport based on height and weight\n",
    "\n",
    "### The k Nearest Neighbor Algorithm\n",
    "\n",
    "We have seen the germ of the k nearest neighbor algorithm in the Numpy worksheet. \n",
    "\n",
    "Here is a chart of the height and weight of athletes who were in the 2020 Olympics for gymnastics and basketball, along with 2 instances (shown as stars) we would like to classify. \n",
    "\n",
    "![](https://raw.githubusercontent.com/zacharski/datamining-guide/master/labs/pics/bokehSport.png)\n",
    "\n",
    "Let us look at the blue star, which we are trying to classify. The idea is that we will find its closest neighbor and classify the blue star as being the class of that nearest neighbor. Some common methods of determining *nearest* include Manhattan and Euclidean distance, which we have seen before. Since its nearest neighbor is an instance of basketball, we can classify the blue star as a basketball player. \n",
    "\n",
    "Things get more interesting when we classify the red star. The closest neighbor to the red star is a gymnast, but the next two nearest neighbors are basketball players. This is where the *k* comes in from k Nearest Neighbors. *k* is just a number. If *k* is 1 we will just use the closest nearest neighbor and classify the red star as gymnast. If *k* is 3 we will use the three closest neighbors. Those are one gymnastics and two basketball. The majority vote is basketball so we classify the red star as that. \n",
    "\n",
    "\n",
    "![](https://raw.githubusercontent.com/zacharski/datamining-guide/master/labs/pics/dudes.png)\n",
    "\n",
    "### Minkowski\n",
    "\n",
    "So far we have seen Manhattan Distance \n",
    "\n",
    "$$d(x, y) = \\sum_{k=1}^{n}{|x_k-y_k|}$$\n",
    "\n",
    "and Euclidean Distance\n",
    "\n",
    "$$d(x,y) = \\sqrt{\\sum_{k=1}^{n}{|x_k-y_k|}^2}$$\n",
    "\n",
    "We can generalize Manhattan Distance and Euclidean Distance to what is called the\n",
    "Minkowski Distance Metric:\n",
    "\n",
    "$$d(x,y) =(\\sum_{k=1}^{n}{|x_k-y_k|^{p})^{1\\over{p}}}$$\n",
    "\n",
    "When\n",
    "* p = 1: The formula is Manhattan Distance.\n",
    "* p = 2: The formula is Euclidean Distance\n",
    "* p = ∞: Supremum Distance\n",
    "\n",
    "### Arghhhh Math! \n",
    "![](https://raw.githubusercontent.com/zacharski/datamining-guide/master/labs/pics/minkowski.png)\n",
    "When you see formulas like this you have\n",
    "several options. One option is to see the formula-->\n",
    "brain neurons fire that say math formula-->and then\n",
    "you quickly skip over it to the next English bit. I\n",
    "have to admit that I was once a skipper. The other\n",
    "option is to see the formula, pause, and dissect it. \n",
    "\n",
    "Many times you’ll find the formula quite understandable. Let’s dissect it now. When p = 1 the\n",
    "formula reduces to Manhattan Distance:\n",
    "\n",
    "$$d(x,y) =(\\sum_{k=1}^{n}{|x_k-y_k|^{1})^{1\\over{1}}} = \\sum_{k=1}^{n}{|x_k-y_k|} $$\n",
    "\n",
    "Let us say that *x* and *y* are athletes with the weight and height:\n",
    "\n",
    "```\n",
    "x = [148, 68]\n",
    "y = [144, 71]\n",
    "```\n",
    "\n",
    "Then the Manhattan distance is\n",
    "\n",
    "$$d(x, y) = \\sum_{k=1}^{n}{|x_k-y_k|} = |148 - 144| + |68 - 71| = 4 + 3 = 7$$\n",
    "\n",
    "The Euclidean distance is \n",
    "\n",
    "$$d(x,y) =(\\sum_{k=1}^{n}{|x_k-y_k|^{2})^{1\\over{2}}} = {(|148 - 144|^2 + |68-71|^2)}^{1\\over2} = {(4^2+3^2)}^{1\\over2} = {(16+9)}^{1\\over2} = 25^{1\\over2} = 5$$\n",
    "\n",
    "\n",
    "> Here is the scoop. The greater the r, the more a large difference in\n",
    "one dimension will influence the total difference.\n",
    "![](https://raw.githubusercontent.com/zacharski/datamining-guide/master/labs/pics/divider.png)\n",
    "\n",
    "### Ok, onward to coding!\n",
    "\n",
    "First, Let us import the kNN algorithm and make an instance of it."
   ]
  },
  {
   "cell_type": "code",
   "execution_count": 143,
   "metadata": {
    "colab": {
     "base_uri": "https://localhost:8080/"
    },
    "id": "Ya90oNiSEx8D",
    "outputId": "13878899-6383-44b7-ca2f-5fdb0d9dcbf1"
   },
   "outputs": [
    {
     "data": {
      "text/plain": [
       "{'algorithm': 'auto',\n",
       " 'leaf_size': 30,\n",
       " 'metric': 'minkowski',\n",
       " 'metric_params': None,\n",
       " 'n_jobs': None,\n",
       " 'n_neighbors': 3,\n",
       " 'p': 2,\n",
       " 'weights': 'uniform'}"
      ]
     },
     "execution_count": 143,
     "metadata": {},
     "output_type": "execute_result"
    }
   ],
   "source": [
    "from sklearn.neighbors import KNeighborsClassifier\n",
    "knn = KNeighborsClassifier(n_neighbors=3)\n",
    "knn.get_params()"
   ]
  },
  {
   "cell_type": "markdown",
   "metadata": {
    "id": "Nm7rrfppEx8G"
   },
   "source": [
    "The \n",
    "\n",
    "    knn = KNeighborsClassifier(n_neighbors=3)\n",
    "\n",
    "makes an instance of a k nearest neighbor classifier with k=3.\n",
    "\n",
    "As the name of the method suggests, the line\n",
    "\n",
    "    knn.get_params()\n",
    "    \n",
    "displays the parameters of the classifier. In this case:\n",
    "\n",
    "```\n",
    "{'algorithm': 'auto',\n",
    " 'leaf_size': 30,\n",
    " 'metric': 'minkowski',\n",
    " 'metric_params': None,\n",
    " 'n_jobs': None,\n",
    " 'n_neighbors': 3,\n",
    " 'p': 2,\n",
    " 'weights': 'uniform'}\n",
    " ```\n",
    " \n",
    "I won't explain all the parameters now, but notice that the metric is Minkowski, and the power or `p` of Minkowski is 2 making it Euclidean distance. The number of neighbors `n_neighbors` is 3. \n",
    "\n",
    "\n",
    "---\n",
    "\n",
    "\n",
    "Most classifiers in sklearn want the labels (the thing we are trying to predict) to be a separate parameter from the features. Fortunately, we already created these.\n"
   ]
  },
  {
   "cell_type": "markdown",
   "metadata": {
    "id": "HZLwsJdSEx8M"
   },
   "source": [
    "Again, the features are a Pandas DataFrame and the labels are a Pandas Series.\n",
    "\n",
    "We train the knn classifier we created by using the `fit` method as follows:"
   ]
  },
  {
   "cell_type": "code",
   "execution_count": 144,
   "metadata": {
    "colab": {
     "base_uri": "https://localhost:8080/"
    },
    "id": "1sItP_6OEx8M",
    "outputId": "c3766df6-928f-49a3-dbfb-9cffe5c873ec"
   },
   "outputs": [
    {
     "data": {
      "text/html": [
       "<style>#sk-container-id-13 {color: black;background-color: white;}#sk-container-id-13 pre{padding: 0;}#sk-container-id-13 div.sk-toggleable {background-color: white;}#sk-container-id-13 label.sk-toggleable__label {cursor: pointer;display: block;width: 100%;margin-bottom: 0;padding: 0.3em;box-sizing: border-box;text-align: center;}#sk-container-id-13 label.sk-toggleable__label-arrow:before {content: \"▸\";float: left;margin-right: 0.25em;color: #696969;}#sk-container-id-13 label.sk-toggleable__label-arrow:hover:before {color: black;}#sk-container-id-13 div.sk-estimator:hover label.sk-toggleable__label-arrow:before {color: black;}#sk-container-id-13 div.sk-toggleable__content {max-height: 0;max-width: 0;overflow: hidden;text-align: left;background-color: #f0f8ff;}#sk-container-id-13 div.sk-toggleable__content pre {margin: 0.2em;color: black;border-radius: 0.25em;background-color: #f0f8ff;}#sk-container-id-13 input.sk-toggleable__control:checked~div.sk-toggleable__content {max-height: 200px;max-width: 100%;overflow: auto;}#sk-container-id-13 input.sk-toggleable__control:checked~label.sk-toggleable__label-arrow:before {content: \"▾\";}#sk-container-id-13 div.sk-estimator input.sk-toggleable__control:checked~label.sk-toggleable__label {background-color: #d4ebff;}#sk-container-id-13 div.sk-label input.sk-toggleable__control:checked~label.sk-toggleable__label {background-color: #d4ebff;}#sk-container-id-13 input.sk-hidden--visually {border: 0;clip: rect(1px 1px 1px 1px);clip: rect(1px, 1px, 1px, 1px);height: 1px;margin: -1px;overflow: hidden;padding: 0;position: absolute;width: 1px;}#sk-container-id-13 div.sk-estimator {font-family: monospace;background-color: #f0f8ff;border: 1px dotted black;border-radius: 0.25em;box-sizing: border-box;margin-bottom: 0.5em;}#sk-container-id-13 div.sk-estimator:hover {background-color: #d4ebff;}#sk-container-id-13 div.sk-parallel-item::after {content: \"\";width: 100%;border-bottom: 1px solid gray;flex-grow: 1;}#sk-container-id-13 div.sk-label:hover label.sk-toggleable__label {background-color: #d4ebff;}#sk-container-id-13 div.sk-serial::before {content: \"\";position: absolute;border-left: 1px solid gray;box-sizing: border-box;top: 0;bottom: 0;left: 50%;z-index: 0;}#sk-container-id-13 div.sk-serial {display: flex;flex-direction: column;align-items: center;background-color: white;padding-right: 0.2em;padding-left: 0.2em;position: relative;}#sk-container-id-13 div.sk-item {position: relative;z-index: 1;}#sk-container-id-13 div.sk-parallel {display: flex;align-items: stretch;justify-content: center;background-color: white;position: relative;}#sk-container-id-13 div.sk-item::before, #sk-container-id-13 div.sk-parallel-item::before {content: \"\";position: absolute;border-left: 1px solid gray;box-sizing: border-box;top: 0;bottom: 0;left: 50%;z-index: -1;}#sk-container-id-13 div.sk-parallel-item {display: flex;flex-direction: column;z-index: 1;position: relative;background-color: white;}#sk-container-id-13 div.sk-parallel-item:first-child::after {align-self: flex-end;width: 50%;}#sk-container-id-13 div.sk-parallel-item:last-child::after {align-self: flex-start;width: 50%;}#sk-container-id-13 div.sk-parallel-item:only-child::after {width: 0;}#sk-container-id-13 div.sk-dashed-wrapped {border: 1px dashed gray;margin: 0 0.4em 0.5em 0.4em;box-sizing: border-box;padding-bottom: 0.4em;background-color: white;}#sk-container-id-13 div.sk-label label {font-family: monospace;font-weight: bold;display: inline-block;line-height: 1.2em;}#sk-container-id-13 div.sk-label-container {text-align: center;}#sk-container-id-13 div.sk-container {/* jupyter's `normalize.less` sets `[hidden] { display: none; }` but bootstrap.min.css set `[hidden] { display: none !important; }` so we also need the `!important` here to be able to override the default hidden behavior on the sphinx rendered scikit-learn.org. See: https://github.com/scikit-learn/scikit-learn/issues/21755 */display: inline-block !important;position: relative;}#sk-container-id-13 div.sk-text-repr-fallback {display: none;}</style><div id=\"sk-container-id-13\" class=\"sk-top-container\"><div class=\"sk-text-repr-fallback\"><pre>KNeighborsClassifier(n_neighbors=3)</pre><b>In a Jupyter environment, please rerun this cell to show the HTML representation or trust the notebook. <br />On GitHub, the HTML representation is unable to render, please try loading this page with nbviewer.org.</b></div><div class=\"sk-container\" hidden><div class=\"sk-item\"><div class=\"sk-estimator sk-toggleable\"><input class=\"sk-toggleable__control sk-hidden--visually\" id=\"sk-estimator-id-13\" type=\"checkbox\" checked><label for=\"sk-estimator-id-13\" class=\"sk-toggleable__label sk-toggleable__label-arrow\">KNeighborsClassifier</label><div class=\"sk-toggleable__content\"><pre>KNeighborsClassifier(n_neighbors=3)</pre></div></div></div></div></div>"
      ],
      "text/plain": [
       "KNeighborsClassifier(n_neighbors=3)"
      ]
     },
     "execution_count": 144,
     "metadata": {},
     "output_type": "execute_result"
    }
   ],
   "source": [
    "knn.fit(athlete_features_train, athlete_label_train)\n"
   ]
  },
  {
   "cell_type": "markdown",
   "metadata": {
    "id": "UGXZQ_HzEx8P"
   },
   "source": [
    "Most machine learning (ML) algorithms build a model. From the examples in the training set, they build an internal representation, a model, of the relationship between the features and the labels. Once the algorithm builds this model it 'forgets' the individual data instances. Such ML algorithms are called eager learners. On the other hand, a lazy learner does not build a model beforehand. It remembers all the training instances and when it needs to make a prediction on a new instance it then processes all the training data. \n",
    "\n",
    "kNN is a lazy learner. During the learning phase, during `fit` it simply remembers the data (it remembers that the first athlete has a height of 72\tand a weight of 165 and the second has a height of 72 and a weight of 168).\n",
    "In the traditional kNN that we might through by hand, when we want to make a prediction, we calculate the distance between that new instance and every instance in our training set (how close is this new instance to the first example? To the second? And to the 98 other athletes in our small dataset. As you can imagine, this takes some time. So fitting is fast because it doesn't actually build a model but predicting is slow.\n",
    "\n",
    "### Three kNN algorithms\n",
    "\n",
    "![](https://raw.githubusercontent.com/zacharski/datamining-guide/master/labs/pics/kdtree.png)\n",
    "There are three basic kNN algorithms: \n",
    "\n",
    "* **brute** which uses a brute force method we described above.\n",
    "* **[kd_tree](https://en.wikipedia.org/wiki/K-d_tree)** which, when you are fitting, creates a binary tree. This makes prediction faster. \n",
    "* **[ball_tree](https://en.wikipedia.org/wiki/Ball_tree)** which also creates a binary tree during training (fitting)\n",
    "\n",
    "Since this is our first machine learning algorithm, we won't get too bogged down in learning about kd trees and ball trees, but let's cover a few things. First, since the algorithm needs to construct a binary tree when it fits the data, fitting takes longer but with that binary tree, prediction is faster. That is the trade off. For both trees, a binary tree is constructed that divides the training data into a number of sets that have a specific size limit known as leaf size, which is a hyperparameter of the algorithm. When we specify a large leaf size, the depth of the constructed binary tree will be shallow and the amount of time constructing the tree will be reduced. When we specify a smaller leaf size, training time will be increased but predictions will be faster. \n",
    "\n",
    "When we did `knn.get_params()` we saw\n",
    "\n",
    "```\n",
    "{'algorithm': 'auto',\n",
    " 'leaf_size': 30,\n",
    " 'metric': 'minkowski',\n",
    " 'metric_params': None,\n",
    " 'n_jobs': None,\n",
    " 'n_neighbors': 3,\n",
    " 'p': 2,\n",
    " 'weights': 'uniform'}\n",
    "```\n",
    "\n",
    "The first line:\n",
    "\n",
    "```\n",
    "'algorithm': 'auto',\n",
    "```\n",
    "\n",
    "as you can guess, displays the algorithm used. The options are:\n",
    "\n",
    "* `brute`\n",
    "* `kd_tree`\n",
    "* `ball_tree`\n",
    "* `auto`\n",
    "\n",
    "The default is `auto` which simply allows the algorithm itself to determine the best algorithm to use based on the training data.\n",
    "\n",
    "We can specify the algorithm by using the `algorithm` hyperparameter:\n",
    "\n",
    "```\n",
    "knn = KNeighborsClassifier(algorithm='brute', n_neighbors=3)\n",
    "```\n",
    "\n",
    "The next line\n",
    "\n",
    "```\n",
    "'leaf_size': 30,\n",
    "```\n",
    "\n",
    "displays the leaf size which we just talked about. 30 is the default value. The optimal value is dependent on the problem. You can set it by\n",
    "\n",
    "\n",
    "```\n",
    "knn = KNeighborsClassifier(algorithm='brute', leaf_size=10, n_neighbors=3)\n",
    "```\n",
    "The next line\n",
    "```\n",
    "'metric': 'minkowski',\n",
    "```\n",
    "\n",
    "specifies the distance metric we are using. Minkowski is the default.  Its strength is in working with real values. If you are dealing with boolean or integer values other metrics may be a better fit.\n",
    "\n",
    "Finally,\n",
    "```\n",
    "'weights': 'uniform'}\n",
    "```\n",
    "\n",
    "As we know, when we use k=3, the three closest neighbors get a vote in determining the classification of the new instance. If 2 say 'Basketball' and one 'Gymnastics'  we classify the new instance as Basketball. In this case, all three neighbors have an equal, or uniform, vote. That's what this `'weights': 'uniform'` specifies. But suppose we want the closest neighbor to have more weight in the vote than the others. In that case we could use `weights='distance'`, where the weight of each vote is the inverse of the distance.\n",
    "\n",
    "\n",
    " This long description was intended to peel away some of the mystery, and not to bore or confuse you. \n",
    "\n",
    "![](https://raw.githubusercontent.com/zacharski/datamining-guide/master/labs/pics/divider.png)\n",
    "\n",
    "\n",
    "\n",
    "### let's classify something\n",
    "\n",
    "Nneka Ogwumike is 6'2\" or 74 inches and weighs 174 and Leklani Mitchell is 5'5\" and 132 pounds. Let's see what our classifier predicts:"
   ]
  },
  {
   "cell_type": "code",
   "execution_count": 145,
   "metadata": {
    "colab": {
     "base_uri": "https://localhost:8080/"
    },
    "id": "p8uRDJu9Ex8P",
    "outputId": "c3b10186-1963-4fe7-ae47-f208cb89eb2a"
   },
   "outputs": [
    {
     "name": "stdout",
     "output_type": "stream",
     "text": [
      "['basketball' 'gymnastics']\n"
     ]
    }
   ],
   "source": [
    "sample_data = DataFrame({'height_in': [74, 65], 'weight_lb': [174,132]}, index=['Nneka Ogwumike', 'Leilani Mitchell'])\n",
    "\n",
    "sample_data.loc['Nneka Ogwumike']\n",
    "print(knn.predict(sample_data))"
   ]
  },
  {
   "cell_type": "markdown",
   "metadata": {
    "id": "mjxAChNWEx8S"
   },
   "source": [
    "Ok, the first prediction is correct. Nneka Ogwumike is the 2016 MVP for the WNBA. Leilani is a professional basketball player but unfortunately our knn model classifies her as a gymnast.\n",
    "\n",
    "We can also ask the classifier the probability of these classifications: "
   ]
  },
  {
   "cell_type": "code",
   "execution_count": 146,
   "metadata": {
    "colab": {
     "base_uri": "https://localhost:8080/"
    },
    "id": "g7Pp-5cXEx8S",
    "outputId": "1e3f1de5-8666-438b-aeb5-f4eb30087f49"
   },
   "outputs": [
    {
     "name": "stdout",
     "output_type": "stream",
     "text": [
      "[[1.         0.        ]\n",
      " [0.33333333 0.66666667]]\n"
     ]
    }
   ],
   "source": [
    "print(knn.predict_proba(sample_data))"
   ]
  },
  {
   "cell_type": "markdown",
   "metadata": {
    "id": "lDQ3jVmjEx8V"
   },
   "source": [
    "Ok. The probability that Nneka is a basketball player is 1.0 and the probabity that she is a gymnast is 0.0. How did we get that probability? Well `k` was 3 so we used the three nearest neighbors and all of them were basketball players. If 2 were basketball players and 1 a gymnast the probability would be 66.6%. There is no magic here.\n",
    "\n",
    "Cool."
   ]
  },
  {
   "cell_type": "markdown",
   "metadata": {
    "id": "ks6xqdbmEx8X"
   },
   "source": [
    "Ok. For Leilani our classifer predicts gymnastics. But is only .66 confident. Why?  Because of Leilani's three closest neighbors, only 1 (33%) are basketball players and two were gymnasts.\n",
    "![](https://raw.githubusercontent.com/zacharski/datamining-guide/master/labs/pics/divider.png)"
   ]
  },
  {
   "cell_type": "markdown",
   "metadata": {
    "id": "Wv_dcL4Qa8Hn"
   },
   "source": [
    "###Testing & accuracy\n",
    "Once we create and train a model, we want to know how good that model is. For that we use data the model hasn't seen during training (our test data). And the metric we often use is accuracy---what percentage of the test data did it classify correctly.\n",
    "\n",
    "Let's give it a try\n"
   ]
  },
  {
   "cell_type": "code",
   "execution_count": 147,
   "metadata": {
    "colab": {
     "base_uri": "https://localhost:8080/"
    },
    "id": "M9C590gUbXTy",
    "outputId": "1f3c03c5-8c28-40ab-acc7-ab5ee1fbeb3a"
   },
   "outputs": [
    {
     "data": {
      "text/plain": [
       "array(['basketball', 'gymnastics', 'basketball', 'gymnastics',\n",
       "       'gymnastics', 'gymnastics', 'basketball', 'gymnastics',\n",
       "       'gymnastics', 'gymnastics', 'gymnastics', 'gymnastics',\n",
       "       'gymnastics', 'basketball', 'basketball', 'basketball',\n",
       "       'basketball', 'basketball', 'basketball', 'basketball',\n",
       "       'basketball'], dtype=object)"
      ]
     },
     "execution_count": 147,
     "metadata": {},
     "output_type": "execute_result"
    }
   ],
   "source": [
    "# first make predictions on the test data\n",
    "predictions = knn.predict(athlete_features_test)\n",
    "predictions"
   ]
  },
  {
   "cell_type": "markdown",
   "metadata": {
    "id": "cTbsItwgb9AE"
   },
   "source": [
    "What is our accuracy?\n"
   ]
  },
  {
   "cell_type": "code",
   "execution_count": 148,
   "metadata": {
    "colab": {
     "base_uri": "https://localhost:8080/"
    },
    "id": "eB1uwMlwcBiK",
    "outputId": "392e7f6c-e93f-48a5-aaea-2f7c35e56f99"
   },
   "outputs": [
    {
     "data": {
      "text/plain": [
       "1.0"
      ]
     },
     "execution_count": 148,
     "metadata": {},
     "output_type": "execute_result"
    }
   ],
   "source": [
    "from sklearn.metrics import accuracy_score\n",
    "accuracy_score(athlete_label_test, predictions)\n"
   ]
  },
  {
   "cell_type": "markdown",
   "metadata": {
    "id": "OTgUjQRIEx8Z"
   },
   "source": [
    "It is not surprising that with this simple task the algorithm is 100% accurate or at least close to that.\n",
    "\n",
    "![](https://raw.githubusercontent.com/zacharski/datamining-guide/master/labs/pics/divider.png)\n",
    "###  Parameters\n",
    "The **parameters** of a model are things we can adjust. \n",
    "  \n",
    "For example, when we created the classifier and then used the `get_params` method, the classifier returned:\n",
    "\n",
    "```\n",
    "{'algorithm': 'auto',\n",
    " 'leaf_size': 30,\n",
    " 'metric': 'minkowski',\n",
    " 'metric_params': None,\n",
    " 'n_jobs': None,\n",
    " 'n_neighbors': 3,\n",
    " 'p': 2,\n",
    " 'weights': 'uniform'}           \n",
    "```\n",
    "\n",
    "These are all things we can adjust to try to improve performance. \n",
    "\n",
    "\n",
    "You see that it uses the Minkowski distance. The `p` parameter is the power parameter for Minkowski and you see the default value is 2. When p=1 Minkowski distance is the Manhattan Distance, when p=2 it is the Euclidean distance. And when we created the classifier we set `k`, the number of nearest neightbors for kNN to 3 (the default is 5).  So the three nearest neighbors 'vote' on the label to give that example. \n",
    "\n",
    "As we just discussed, for knn we have a number of parameters we can use to modify the classifier. For example, to build a Manhattan Distance kNN classifier with a k of 1:"
   ]
  },
  {
   "cell_type": "code",
   "execution_count": 149,
   "metadata": {
    "colab": {
     "base_uri": "https://localhost:8080/"
    },
    "id": "j9XgA9EBEx8a",
    "outputId": "9a05bf2a-c4eb-4ab8-a9cc-d249fd96e051"
   },
   "outputs": [
    {
     "data": {
      "text/html": [
       "<style>#sk-container-id-14 {color: black;background-color: white;}#sk-container-id-14 pre{padding: 0;}#sk-container-id-14 div.sk-toggleable {background-color: white;}#sk-container-id-14 label.sk-toggleable__label {cursor: pointer;display: block;width: 100%;margin-bottom: 0;padding: 0.3em;box-sizing: border-box;text-align: center;}#sk-container-id-14 label.sk-toggleable__label-arrow:before {content: \"▸\";float: left;margin-right: 0.25em;color: #696969;}#sk-container-id-14 label.sk-toggleable__label-arrow:hover:before {color: black;}#sk-container-id-14 div.sk-estimator:hover label.sk-toggleable__label-arrow:before {color: black;}#sk-container-id-14 div.sk-toggleable__content {max-height: 0;max-width: 0;overflow: hidden;text-align: left;background-color: #f0f8ff;}#sk-container-id-14 div.sk-toggleable__content pre {margin: 0.2em;color: black;border-radius: 0.25em;background-color: #f0f8ff;}#sk-container-id-14 input.sk-toggleable__control:checked~div.sk-toggleable__content {max-height: 200px;max-width: 100%;overflow: auto;}#sk-container-id-14 input.sk-toggleable__control:checked~label.sk-toggleable__label-arrow:before {content: \"▾\";}#sk-container-id-14 div.sk-estimator input.sk-toggleable__control:checked~label.sk-toggleable__label {background-color: #d4ebff;}#sk-container-id-14 div.sk-label input.sk-toggleable__control:checked~label.sk-toggleable__label {background-color: #d4ebff;}#sk-container-id-14 input.sk-hidden--visually {border: 0;clip: rect(1px 1px 1px 1px);clip: rect(1px, 1px, 1px, 1px);height: 1px;margin: -1px;overflow: hidden;padding: 0;position: absolute;width: 1px;}#sk-container-id-14 div.sk-estimator {font-family: monospace;background-color: #f0f8ff;border: 1px dotted black;border-radius: 0.25em;box-sizing: border-box;margin-bottom: 0.5em;}#sk-container-id-14 div.sk-estimator:hover {background-color: #d4ebff;}#sk-container-id-14 div.sk-parallel-item::after {content: \"\";width: 100%;border-bottom: 1px solid gray;flex-grow: 1;}#sk-container-id-14 div.sk-label:hover label.sk-toggleable__label {background-color: #d4ebff;}#sk-container-id-14 div.sk-serial::before {content: \"\";position: absolute;border-left: 1px solid gray;box-sizing: border-box;top: 0;bottom: 0;left: 50%;z-index: 0;}#sk-container-id-14 div.sk-serial {display: flex;flex-direction: column;align-items: center;background-color: white;padding-right: 0.2em;padding-left: 0.2em;position: relative;}#sk-container-id-14 div.sk-item {position: relative;z-index: 1;}#sk-container-id-14 div.sk-parallel {display: flex;align-items: stretch;justify-content: center;background-color: white;position: relative;}#sk-container-id-14 div.sk-item::before, #sk-container-id-14 div.sk-parallel-item::before {content: \"\";position: absolute;border-left: 1px solid gray;box-sizing: border-box;top: 0;bottom: 0;left: 50%;z-index: -1;}#sk-container-id-14 div.sk-parallel-item {display: flex;flex-direction: column;z-index: 1;position: relative;background-color: white;}#sk-container-id-14 div.sk-parallel-item:first-child::after {align-self: flex-end;width: 50%;}#sk-container-id-14 div.sk-parallel-item:last-child::after {align-self: flex-start;width: 50%;}#sk-container-id-14 div.sk-parallel-item:only-child::after {width: 0;}#sk-container-id-14 div.sk-dashed-wrapped {border: 1px dashed gray;margin: 0 0.4em 0.5em 0.4em;box-sizing: border-box;padding-bottom: 0.4em;background-color: white;}#sk-container-id-14 div.sk-label label {font-family: monospace;font-weight: bold;display: inline-block;line-height: 1.2em;}#sk-container-id-14 div.sk-label-container {text-align: center;}#sk-container-id-14 div.sk-container {/* jupyter's `normalize.less` sets `[hidden] { display: none; }` but bootstrap.min.css set `[hidden] { display: none !important; }` so we also need the `!important` here to be able to override the default hidden behavior on the sphinx rendered scikit-learn.org. See: https://github.com/scikit-learn/scikit-learn/issues/21755 */display: inline-block !important;position: relative;}#sk-container-id-14 div.sk-text-repr-fallback {display: none;}</style><div id=\"sk-container-id-14\" class=\"sk-top-container\"><div class=\"sk-text-repr-fallback\"><pre>KNeighborsClassifier(n_neighbors=1, p=1)</pre><b>In a Jupyter environment, please rerun this cell to show the HTML representation or trust the notebook. <br />On GitHub, the HTML representation is unable to render, please try loading this page with nbviewer.org.</b></div><div class=\"sk-container\" hidden><div class=\"sk-item\"><div class=\"sk-estimator sk-toggleable\"><input class=\"sk-toggleable__control sk-hidden--visually\" id=\"sk-estimator-id-14\" type=\"checkbox\" checked><label for=\"sk-estimator-id-14\" class=\"sk-toggleable__label sk-toggleable__label-arrow\">KNeighborsClassifier</label><div class=\"sk-toggleable__content\"><pre>KNeighborsClassifier(n_neighbors=1, p=1)</pre></div></div></div></div></div>"
      ],
      "text/plain": [
       "KNeighborsClassifier(n_neighbors=1, p=1)"
      ]
     },
     "execution_count": 149,
     "metadata": {},
     "output_type": "execute_result"
    }
   ],
   "source": [
    "knnOne = KNeighborsClassifier(n_neighbors=1, p= 1)\n",
    "knnOne.fit(athlete_features_train, athlete_label_train)"
   ]
  },
  {
   "cell_type": "code",
   "execution_count": 150,
   "metadata": {
    "colab": {
     "base_uri": "https://localhost:8080/"
    },
    "id": "4lf33NjwfBJS",
    "outputId": "f75b5aaa-c467-479c-c7fb-0f4ddb102022"
   },
   "outputs": [
    {
     "data": {
      "text/plain": [
       "1.0"
      ]
     },
     "execution_count": 150,
     "metadata": {},
     "output_type": "execute_result"
    }
   ],
   "source": [
    "predictions = knnOne.predict(athlete_features_test)\n",
    "accuracy_score(athlete_label_test, predictions)\n"
   ]
  },
  {
   "cell_type": "markdown",
   "metadata": {
    "id": "RUVy_lixEx8c"
   },
   "source": [
    "And using `sklearn`, it is quite easy to build and use a variety of classifiers. For example, although you probably know nothing about Guassian Naive Bayes classifiers, you can build one of those without even knowing much about the algorithm:"
   ]
  },
  {
   "cell_type": "code",
   "execution_count": 151,
   "metadata": {
    "colab": {
     "base_uri": "https://localhost:8080/"
    },
    "id": "KfkdOOE6Ex8d",
    "outputId": "99a26873-3d56-4e0e-cbaa-2014276305c2"
   },
   "outputs": [
    {
     "data": {
      "text/html": [
       "<style>#sk-container-id-15 {color: black;background-color: white;}#sk-container-id-15 pre{padding: 0;}#sk-container-id-15 div.sk-toggleable {background-color: white;}#sk-container-id-15 label.sk-toggleable__label {cursor: pointer;display: block;width: 100%;margin-bottom: 0;padding: 0.3em;box-sizing: border-box;text-align: center;}#sk-container-id-15 label.sk-toggleable__label-arrow:before {content: \"▸\";float: left;margin-right: 0.25em;color: #696969;}#sk-container-id-15 label.sk-toggleable__label-arrow:hover:before {color: black;}#sk-container-id-15 div.sk-estimator:hover label.sk-toggleable__label-arrow:before {color: black;}#sk-container-id-15 div.sk-toggleable__content {max-height: 0;max-width: 0;overflow: hidden;text-align: left;background-color: #f0f8ff;}#sk-container-id-15 div.sk-toggleable__content pre {margin: 0.2em;color: black;border-radius: 0.25em;background-color: #f0f8ff;}#sk-container-id-15 input.sk-toggleable__control:checked~div.sk-toggleable__content {max-height: 200px;max-width: 100%;overflow: auto;}#sk-container-id-15 input.sk-toggleable__control:checked~label.sk-toggleable__label-arrow:before {content: \"▾\";}#sk-container-id-15 div.sk-estimator input.sk-toggleable__control:checked~label.sk-toggleable__label {background-color: #d4ebff;}#sk-container-id-15 div.sk-label input.sk-toggleable__control:checked~label.sk-toggleable__label {background-color: #d4ebff;}#sk-container-id-15 input.sk-hidden--visually {border: 0;clip: rect(1px 1px 1px 1px);clip: rect(1px, 1px, 1px, 1px);height: 1px;margin: -1px;overflow: hidden;padding: 0;position: absolute;width: 1px;}#sk-container-id-15 div.sk-estimator {font-family: monospace;background-color: #f0f8ff;border: 1px dotted black;border-radius: 0.25em;box-sizing: border-box;margin-bottom: 0.5em;}#sk-container-id-15 div.sk-estimator:hover {background-color: #d4ebff;}#sk-container-id-15 div.sk-parallel-item::after {content: \"\";width: 100%;border-bottom: 1px solid gray;flex-grow: 1;}#sk-container-id-15 div.sk-label:hover label.sk-toggleable__label {background-color: #d4ebff;}#sk-container-id-15 div.sk-serial::before {content: \"\";position: absolute;border-left: 1px solid gray;box-sizing: border-box;top: 0;bottom: 0;left: 50%;z-index: 0;}#sk-container-id-15 div.sk-serial {display: flex;flex-direction: column;align-items: center;background-color: white;padding-right: 0.2em;padding-left: 0.2em;position: relative;}#sk-container-id-15 div.sk-item {position: relative;z-index: 1;}#sk-container-id-15 div.sk-parallel {display: flex;align-items: stretch;justify-content: center;background-color: white;position: relative;}#sk-container-id-15 div.sk-item::before, #sk-container-id-15 div.sk-parallel-item::before {content: \"\";position: absolute;border-left: 1px solid gray;box-sizing: border-box;top: 0;bottom: 0;left: 50%;z-index: -1;}#sk-container-id-15 div.sk-parallel-item {display: flex;flex-direction: column;z-index: 1;position: relative;background-color: white;}#sk-container-id-15 div.sk-parallel-item:first-child::after {align-self: flex-end;width: 50%;}#sk-container-id-15 div.sk-parallel-item:last-child::after {align-self: flex-start;width: 50%;}#sk-container-id-15 div.sk-parallel-item:only-child::after {width: 0;}#sk-container-id-15 div.sk-dashed-wrapped {border: 1px dashed gray;margin: 0 0.4em 0.5em 0.4em;box-sizing: border-box;padding-bottom: 0.4em;background-color: white;}#sk-container-id-15 div.sk-label label {font-family: monospace;font-weight: bold;display: inline-block;line-height: 1.2em;}#sk-container-id-15 div.sk-label-container {text-align: center;}#sk-container-id-15 div.sk-container {/* jupyter's `normalize.less` sets `[hidden] { display: none; }` but bootstrap.min.css set `[hidden] { display: none !important; }` so we also need the `!important` here to be able to override the default hidden behavior on the sphinx rendered scikit-learn.org. See: https://github.com/scikit-learn/scikit-learn/issues/21755 */display: inline-block !important;position: relative;}#sk-container-id-15 div.sk-text-repr-fallback {display: none;}</style><div id=\"sk-container-id-15\" class=\"sk-top-container\"><div class=\"sk-text-repr-fallback\"><pre>GaussianNB()</pre><b>In a Jupyter environment, please rerun this cell to show the HTML representation or trust the notebook. <br />On GitHub, the HTML representation is unable to render, please try loading this page with nbviewer.org.</b></div><div class=\"sk-container\" hidden><div class=\"sk-item\"><div class=\"sk-estimator sk-toggleable\"><input class=\"sk-toggleable__control sk-hidden--visually\" id=\"sk-estimator-id-15\" type=\"checkbox\" checked><label for=\"sk-estimator-id-15\" class=\"sk-toggleable__label sk-toggleable__label-arrow\">GaussianNB</label><div class=\"sk-toggleable__content\"><pre>GaussianNB()</pre></div></div></div></div></div>"
      ],
      "text/plain": [
       "GaussianNB()"
      ]
     },
     "execution_count": 151,
     "metadata": {},
     "output_type": "execute_result"
    }
   ],
   "source": [
    "from sklearn.naive_bayes import GaussianNB\n",
    "clf = GaussianNB()\n",
    "clf.fit(athlete_features_train, athlete_label_train)"
   ]
  },
  {
   "cell_type": "code",
   "execution_count": 152,
   "metadata": {
    "colab": {
     "base_uri": "https://localhost:8080/"
    },
    "id": "HwJD6_-XEx8f",
    "outputId": "3ea528ba-a22a-48f6-fa39-2dea0a99c7ae"
   },
   "outputs": [
    {
     "data": {
      "text/plain": [
       "array(['basketball', 'gymnastics', 'basketball', 'gymnastics',\n",
       "       'gymnastics', 'gymnastics', 'basketball', 'gymnastics',\n",
       "       'gymnastics', 'gymnastics', 'gymnastics', 'gymnastics',\n",
       "       'gymnastics', 'basketball', 'basketball', 'basketball',\n",
       "       'basketball', 'basketball', 'basketball', 'gymnastics',\n",
       "       'basketball'], dtype='<U10')"
      ]
     },
     "execution_count": 152,
     "metadata": {},
     "output_type": "execute_result"
    }
   ],
   "source": [
    "clf.predict(athlete_features_test)"
   ]
  },
  {
   "cell_type": "markdown",
   "metadata": {
    "id": "isG_XoZ6Ex8h"
   },
   "source": [
    "So regardless of algorithm, the steps were\n",
    "\n",
    "1. create the classifier. For ex., `knn = KNeighborsClassifier()`\n",
    "2. fit the classifier. For ex., `knn.fit(athletes_features, athletes_labels)`\n",
    "3. used the classifier to make predictions on new data. For ex., `knn.predict([70])`\n",
    "\n",
    "\n",
    "Ok. back to kNN.\n",
    "\n",
    "![](https://raw.githubusercontent.com/zacharski/datamining-guide/master/labs/pics/divider.png)\n"
   ]
  },
  {
   "attachments": {},
   "cell_type": "markdown",
   "metadata": {
    "id": "fhKL632MEx8q"
   },
   "source": [
    "\n",
    "\n",
    "## the non-coding part of the notebook\n",
    "\n",
    "\n",
    "Let's go back to thinking about height and weight as features. Allyson Michelle Felix is among the fastest women on the planet (she won 6 Olympic Gold Medals). Her height is 5'5 and she weighs 121. Courtney Williams is a guard for the Connecticut Suns WNBA team. She is 5'8\" and weighs 136.  Here is the chart so you can see those numbers:\n",
    "\n",
    "\n",
    " person | height | weight\n",
    " :---: |  :---: | :---: \n",
    "Allyson Michelle Felix | 65 | 121\n",
    "Courtney Williams | 68 | 136\n",
    "\n",
    "\n",
    "Now I want to classify an athlete who is 5'4 and weighs 130. What is your gut feeling? Do you think she is a track person or a WNBA player?\n",
    "\n",
    "My thinking is that she is track since she seems too short for a basketball player (and plus I know that those are the stats for Carmelita 'The Jet' Jeter, the fastest women on the planet. (Although, the shortest person in the WNBA, Shannon Denise Bobbitt, is only 5'2\").  But if we classify someone who is 5'4\" by using the Manhattan Distance:\n",
    "\n",
    "    distance(Carmelita, Allyson) = abs(64 - 65) + abs(130 - 120) = 1 + 10 = 11\n",
    "    distance(Carmelita, Courtney) = abs(64 - 68) + abs(130 - 136) = 4 + 6 = 10\n",
    "    \n",
    "We'd pick that she was a basketball player (and we would still pick basketball even if we used Euclidean Distance.\n",
    "    \n",
    "\n",
    "So this is sort of a bummer.  It's the same problem that I mentioned in the kNN video. If I had a match making site and had this misguided idea that the best relationships are those people who are about the same age and have the same salaries. And I have 2 guys:\n",
    "\n",
    " Guys | age | salary\n",
    " ---: | :---: | :---: \n",
    " Mr. Cool | 26 | 80,000\n",
    " Old Dude | 67 | 115,000\n",
    " \n",
    " And I am trying to match up Ann who is 28 and earns 100k. \n",
    " \n",
    " The Manhattan Distance between Ann and Mr. Cool is 2 + 20k = 20,002.\n",
    " \n",
    " The Manhattan Distance between Ann and Old Dude is 31 + 15k  = 15,031\n",
    " \n",
    " So, sadly, our algorithm would recommend the old dude to Ann. This is again a bummer. The problem in both examples is that the range of values in one column is far larger than the range in another column. In our case, the weight column values are much larger than the height values.\n",
    " \n",
    "### rescaling\n",
    "\n",
    "A solution to this problem is to rescale the values so the values in all columns range from 0 to 1. There are other (and possibly better) ways to rescale but let's start with this simple one for now.\n",
    "\n",
    "##### the formula for minmax rescaling:\n",
    "\n",
    "### $$x'= \\frac{x-x_{min}}{x_{max}-x_{min}}$$\n",
    "\n",
    "Let's look at our simple example of Ann, Mr. Cool and Old Dude:\n",
    "\n",
    "Person | Age | Salary\n",
    " ---: | :---: | :---: \n",
    " Mr. Cool | 26 | 80,000\n",
    " Old Dude | 67 | 115,000\n",
    " Ann   | 28 | 100,000\n",
    "\n",
    "so the minimum value of the age column is 26 and the max is 67 and let's say I want to normalize Mr. Cool's age:\n",
    "\n",
    "\n",
    "### $$x'_{Mr.Cool}= \\frac{x_{Mr.Cool}-x_{min}}{x_{max}-x_{min}} = \\frac{26-26}{67-26} = \\frac{0}{41} = 0$$\n",
    "\n",
    "Ann's normalized age:\n",
    "\n",
    "### $$x'_{Ann}= \\frac{x_{Ann}-x_{min}}{x_{max}-x_{min}} = \\frac{28-26}{67-26} = \\frac{2}{41} = 0.048$$\n",
    "\n",
    "Old Dude's normalized age:\n",
    "\n",
    "### $$x'_{OldDude}= \\frac{x_{OldDude}-x_{min}}{x_{max}-x_{min}} = \\frac{67-26}{67-26} = \\frac{41}{41} = 1$$\n",
    "\n",
    "\n",
    "### Normalize Salary\n",
    "Can you normalize the values in the salary column?\n",
    "\n",
    "Double click this cell, enter the data, and shift-enter to render this markdown cell\n",
    "\n",
    "Person | Age | Salary\n",
    " ---: | :---: | :---: \n",
    " Mr. Cool | 0 | 0\n",
    " Old Dude | 1 | 1\n",
    " Ann   | 0.048 | 0.571428571"
   ]
  },
  {
   "cell_type": "markdown",
   "metadata": {
    "id": "Iam-CVSkEx8q"
   },
   "source": [
    "## It's pretty easy to do this in straight Python:\n",
    "\n"
   ]
  },
  {
   "cell_type": "code",
   "execution_count": 153,
   "metadata": {
    "id": "10H_1MmEEx8q",
    "outputId": "a7cb9134-58c2-4f32-e55e-b072a378bcb0"
   },
   "outputs": [
    {
     "data": {
      "text/plain": [
       "[0.0, 1.0, 0.04878048780487805]"
      ]
     },
     "execution_count": 153,
     "metadata": {},
     "output_type": "execute_result"
    }
   ],
   "source": [
    "age = [26, 67, 28]\n",
    "\n",
    "def scale(arr):\n",
    "    return [(x - min(arr))/ (max(arr) - min(arr)) for x in arr]\n",
    "\n",
    "scale(age)\n"
   ]
  },
  {
   "cell_type": "markdown",
   "metadata": {
    "id": "1NbIYqsnEx8s"
   },
   "source": [
    "![](https://raw.githubusercontent.com/zacharski/datamining-guide/master/labs/pics/divider.png)\n",
    "## Using the min-max scale method in sklearn\n",
    "It's even easier to do it for pandas DataFrames. \n",
    "First, let's make a dataframe from the data we have been using."
   ]
  },
  {
   "cell_type": "code",
   "execution_count": 154,
   "metadata": {
    "colab": {
     "base_uri": "https://localhost:8080/",
     "height": 143
    },
    "id": "cmCvI5AoEx8s",
    "outputId": "b1c6e179-32b1-4d75-eb4a-9c0724367f90"
   },
   "outputs": [
    {
     "data": {
      "text/html": [
       "<div>\n",
       "<style scoped>\n",
       "    .dataframe tbody tr th:only-of-type {\n",
       "        vertical-align: middle;\n",
       "    }\n",
       "\n",
       "    .dataframe tbody tr th {\n",
       "        vertical-align: top;\n",
       "    }\n",
       "\n",
       "    .dataframe thead th {\n",
       "        text-align: right;\n",
       "    }\n",
       "</style>\n",
       "<table border=\"1\" class=\"dataframe\">\n",
       "  <thead>\n",
       "    <tr style=\"text-align: right;\">\n",
       "      <th></th>\n",
       "      <th>age</th>\n",
       "      <th>salary</th>\n",
       "    </tr>\n",
       "  </thead>\n",
       "  <tbody>\n",
       "    <tr>\n",
       "      <th>Mr. Cool</th>\n",
       "      <td>26</td>\n",
       "      <td>80000</td>\n",
       "    </tr>\n",
       "    <tr>\n",
       "      <th>Old Dude</th>\n",
       "      <td>67</td>\n",
       "      <td>115000</td>\n",
       "    </tr>\n",
       "    <tr>\n",
       "      <th>Ann</th>\n",
       "      <td>28</td>\n",
       "      <td>100000</td>\n",
       "    </tr>\n",
       "  </tbody>\n",
       "</table>\n",
       "</div>"
      ],
      "text/plain": [
       "          age  salary\n",
       "Mr. Cool   26   80000\n",
       "Old Dude   67  115000\n",
       "Ann        28  100000"
      ]
     },
     "execution_count": 154,
     "metadata": {},
     "output_type": "execute_result"
    }
   ],
   "source": [
    "simple = DataFrame({'age': [26, 67, 28], 'salary': [80000, 115000, 100000]}, index=['Mr. Cool', 'Old Dude', 'Ann'])\n",
    "simple"
   ]
  },
  {
   "cell_type": "markdown",
   "metadata": {
    "id": "eX-FKQQ-Ex8u"
   },
   "source": [
    "ok. and now let's scale those values:"
   ]
  },
  {
   "cell_type": "code",
   "execution_count": 155,
   "metadata": {
    "colab": {
     "base_uri": "https://localhost:8080/",
     "height": 143
    },
    "id": "qIOT4l71Ex8v",
    "outputId": "fb50f2b1-733a-4e7c-88f4-2ae0aee4b0ce"
   },
   "outputs": [
    {
     "data": {
      "text/html": [
       "<div>\n",
       "<style scoped>\n",
       "    .dataframe tbody tr th:only-of-type {\n",
       "        vertical-align: middle;\n",
       "    }\n",
       "\n",
       "    .dataframe tbody tr th {\n",
       "        vertical-align: top;\n",
       "    }\n",
       "\n",
       "    .dataframe thead th {\n",
       "        text-align: right;\n",
       "    }\n",
       "</style>\n",
       "<table border=\"1\" class=\"dataframe\">\n",
       "  <thead>\n",
       "    <tr style=\"text-align: right;\">\n",
       "      <th></th>\n",
       "      <th>age</th>\n",
       "      <th>salary</th>\n",
       "    </tr>\n",
       "  </thead>\n",
       "  <tbody>\n",
       "    <tr>\n",
       "      <th>Mr. Cool</th>\n",
       "      <td>0.00000</td>\n",
       "      <td>0.000000</td>\n",
       "    </tr>\n",
       "    <tr>\n",
       "      <th>Old Dude</th>\n",
       "      <td>1.00000</td>\n",
       "      <td>1.000000</td>\n",
       "    </tr>\n",
       "    <tr>\n",
       "      <th>Ann</th>\n",
       "      <td>0.04878</td>\n",
       "      <td>0.571429</td>\n",
       "    </tr>\n",
       "  </tbody>\n",
       "</table>\n",
       "</div>"
      ],
      "text/plain": [
       "              age    salary\n",
       "Mr. Cool  0.00000  0.000000\n",
       "Old Dude  1.00000  1.000000\n",
       "Ann       0.04878  0.571429"
      ]
     },
     "execution_count": 155,
     "metadata": {},
     "output_type": "execute_result"
    }
   ],
   "source": [
    "from sklearn.preprocessing import MinMaxScaler\n",
    "scaler = MinMaxScaler()\n",
    "simple[['age', 'salary']] =  scaler.fit_transform(simple[['age', 'salary']] )\n",
    "simple"
   ]
  },
  {
   "attachments": {},
   "cell_type": "markdown",
   "metadata": {
    "id": "PLeXXOTiho8M"
   },
   "source": [
    "Cool.  Now when I try to find the Manhattan distance from Ann to both Mr. Cool and Old Dude I get:\n",
    "\n",
    "###   $$distance_{Ann,Mr.Cool} = \\left|.048 - 0.0\\right| + \\left|0.57-0\\right| = .048 + 0.57 = 0.618$$\n",
    "\n",
    "###   $$distance_{Ann,OldDude} = \\left|.048 - 1.0\\right| + \\left|0.57-1\\right| = .952 + 0.43 = 1.382$$\n",
    "\n",
    "#### Now, fortunately, Ann is closer to Mr. Cool!\n",
    "\n",
    "## Rugby\n",
    "Let's go back to the original dataset with the Rugby players along with basketball and gymnastics. \n",
    "\n",
    "Just to remind ourselves, that DataFrame was called `athletes`"
   ]
  },
  {
   "cell_type": "code",
   "execution_count": 156,
   "metadata": {
    "colab": {
     "base_uri": "https://localhost:8080/",
     "height": 424
    },
    "id": "n16CLBSliXpx",
    "outputId": "dec776a2-4311-4685-ec16-522d072dade7"
   },
   "outputs": [
    {
     "data": {
      "text/html": [
       "<div>\n",
       "<style scoped>\n",
       "    .dataframe tbody tr th:only-of-type {\n",
       "        vertical-align: middle;\n",
       "    }\n",
       "\n",
       "    .dataframe tbody tr th {\n",
       "        vertical-align: top;\n",
       "    }\n",
       "\n",
       "    .dataframe thead th {\n",
       "        text-align: right;\n",
       "    }\n",
       "</style>\n",
       "<table border=\"1\" class=\"dataframe\">\n",
       "  <thead>\n",
       "    <tr style=\"text-align: right;\">\n",
       "      <th></th>\n",
       "      <th>name</th>\n",
       "      <th>height_in</th>\n",
       "      <th>weight_lb</th>\n",
       "      <th>sport</th>\n",
       "    </tr>\n",
       "  </thead>\n",
       "  <tbody>\n",
       "    <tr>\n",
       "      <th>0</th>\n",
       "      <td>Moeko Nagaoka</td>\n",
       "      <td>72</td>\n",
       "      <td>165</td>\n",
       "      <td>basketball</td>\n",
       "    </tr>\n",
       "    <tr>\n",
       "      <th>1</th>\n",
       "      <td>Maki Takada</td>\n",
       "      <td>72</td>\n",
       "      <td>168</td>\n",
       "      <td>basketball</td>\n",
       "    </tr>\n",
       "    <tr>\n",
       "      <th>2</th>\n",
       "      <td>Naho Miyoshi</td>\n",
       "      <td>65</td>\n",
       "      <td>141</td>\n",
       "      <td>basketball</td>\n",
       "    </tr>\n",
       "    <tr>\n",
       "      <th>3</th>\n",
       "      <td>Rui Machida</td>\n",
       "      <td>64</td>\n",
       "      <td>126</td>\n",
       "      <td>basketball</td>\n",
       "    </tr>\n",
       "    <tr>\n",
       "      <th>4</th>\n",
       "      <td>Nako Motohashi</td>\n",
       "      <td>65</td>\n",
       "      <td>121</td>\n",
       "      <td>basketball</td>\n",
       "    </tr>\n",
       "    <tr>\n",
       "      <th>...</th>\n",
       "      <td>...</td>\n",
       "      <td>...</td>\n",
       "      <td>...</td>\n",
       "      <td>...</td>\n",
       "    </tr>\n",
       "    <tr>\n",
       "      <th>145</th>\n",
       "      <td>Millie Boyle</td>\n",
       "      <td>71</td>\n",
       "      <td>183</td>\n",
       "      <td>rugby</td>\n",
       "    </tr>\n",
       "    <tr>\n",
       "      <th>146</th>\n",
       "      <td>Kezie Apps</td>\n",
       "      <td>72</td>\n",
       "      <td>181</td>\n",
       "      <td>rugby</td>\n",
       "    </tr>\n",
       "    <tr>\n",
       "      <th>147</th>\n",
       "      <td>Annette Brander</td>\n",
       "      <td>65</td>\n",
       "      <td>172</td>\n",
       "      <td>rugby</td>\n",
       "    </tr>\n",
       "    <tr>\n",
       "      <th>148</th>\n",
       "      <td>Hannah Southwell</td>\n",
       "      <td>68</td>\n",
       "      <td>165</td>\n",
       "      <td>rugby</td>\n",
       "    </tr>\n",
       "    <tr>\n",
       "      <th>149</th>\n",
       "      <td>Botille Vette-Welsh</td>\n",
       "      <td>68</td>\n",
       "      <td>148</td>\n",
       "      <td>rugby</td>\n",
       "    </tr>\n",
       "  </tbody>\n",
       "</table>\n",
       "<p>150 rows × 4 columns</p>\n",
       "</div>"
      ],
      "text/plain": [
       "                    name  height_in  weight_lb       sport\n",
       "0          Moeko Nagaoka         72        165  basketball\n",
       "1            Maki Takada         72        168  basketball\n",
       "2           Naho Miyoshi         65        141  basketball\n",
       "3            Rui Machida         64        126  basketball\n",
       "4         Nako Motohashi         65        121  basketball\n",
       "..                   ...        ...        ...         ...\n",
       "145         Millie Boyle         71        183       rugby\n",
       "146           Kezie Apps         72        181       rugby\n",
       "147      Annette Brander         65        172       rugby\n",
       "148     Hannah Southwell         68        165       rugby\n",
       "149  Botille Vette-Welsh         68        148       rugby\n",
       "\n",
       "[150 rows x 4 columns]"
      ]
     },
     "execution_count": 156,
     "metadata": {},
     "output_type": "execute_result"
    }
   ],
   "source": [
    "athletes"
   ]
  },
  {
   "cell_type": "markdown",
   "metadata": {
    "id": "xfmCGqV2ipWB"
   },
   "source": [
    "We can create a new DataFrame, `athletes_normalized` that contains the normalized height and weight columns. We will first create a copy of the `athletes` DataFrame using `copy()` and then normalize the copy."
   ]
  },
  {
   "cell_type": "code",
   "execution_count": 157,
   "metadata": {
    "colab": {
     "base_uri": "https://localhost:8080/",
     "height": 363
    },
    "id": "jvqX0amQiyLU",
    "outputId": "6755cf59-491f-424b-d562-8a3711060149"
   },
   "outputs": [
    {
     "data": {
      "text/html": [
       "<div>\n",
       "<style scoped>\n",
       "    .dataframe tbody tr th:only-of-type {\n",
       "        vertical-align: middle;\n",
       "    }\n",
       "\n",
       "    .dataframe tbody tr th {\n",
       "        vertical-align: top;\n",
       "    }\n",
       "\n",
       "    .dataframe thead th {\n",
       "        text-align: right;\n",
       "    }\n",
       "</style>\n",
       "<table border=\"1\" class=\"dataframe\">\n",
       "  <thead>\n",
       "    <tr style=\"text-align: right;\">\n",
       "      <th></th>\n",
       "      <th>name</th>\n",
       "      <th>height_in</th>\n",
       "      <th>weight_lb</th>\n",
       "      <th>sport</th>\n",
       "    </tr>\n",
       "  </thead>\n",
       "  <tbody>\n",
       "    <tr>\n",
       "      <th>0</th>\n",
       "      <td>Moeko Nagaoka</td>\n",
       "      <td>0.666667</td>\n",
       "      <td>0.565789</td>\n",
       "      <td>basketball</td>\n",
       "    </tr>\n",
       "    <tr>\n",
       "      <th>1</th>\n",
       "      <td>Maki Takada</td>\n",
       "      <td>0.666667</td>\n",
       "      <td>0.585526</td>\n",
       "      <td>basketball</td>\n",
       "    </tr>\n",
       "    <tr>\n",
       "      <th>2</th>\n",
       "      <td>Naho Miyoshi</td>\n",
       "      <td>0.407407</td>\n",
       "      <td>0.407895</td>\n",
       "      <td>basketball</td>\n",
       "    </tr>\n",
       "    <tr>\n",
       "      <th>3</th>\n",
       "      <td>Rui Machida</td>\n",
       "      <td>0.370370</td>\n",
       "      <td>0.309211</td>\n",
       "      <td>basketball</td>\n",
       "    </tr>\n",
       "    <tr>\n",
       "      <th>4</th>\n",
       "      <td>Nako Motohashi</td>\n",
       "      <td>0.407407</td>\n",
       "      <td>0.276316</td>\n",
       "      <td>basketball</td>\n",
       "    </tr>\n",
       "    <tr>\n",
       "      <th>5</th>\n",
       "      <td>Nanako Todo</td>\n",
       "      <td>0.555556</td>\n",
       "      <td>0.394737</td>\n",
       "      <td>basketball</td>\n",
       "    </tr>\n",
       "    <tr>\n",
       "      <th>6</th>\n",
       "      <td>Saki Hayashi</td>\n",
       "      <td>0.518519</td>\n",
       "      <td>0.453947</td>\n",
       "      <td>basketball</td>\n",
       "    </tr>\n",
       "    <tr>\n",
       "      <th>7</th>\n",
       "      <td>Evelyn Mawuli</td>\n",
       "      <td>0.629630</td>\n",
       "      <td>0.625000</td>\n",
       "      <td>basketball</td>\n",
       "    </tr>\n",
       "    <tr>\n",
       "      <th>8</th>\n",
       "      <td>Saori Miyazaki</td>\n",
       "      <td>0.444444</td>\n",
       "      <td>0.289474</td>\n",
       "      <td>basketball</td>\n",
       "    </tr>\n",
       "    <tr>\n",
       "      <th>9</th>\n",
       "      <td>Yuki Miyazawa</td>\n",
       "      <td>0.666667</td>\n",
       "      <td>0.539474</td>\n",
       "      <td>basketball</td>\n",
       "    </tr>\n",
       "  </tbody>\n",
       "</table>\n",
       "</div>"
      ],
      "text/plain": [
       "             name  height_in  weight_lb       sport\n",
       "0   Moeko Nagaoka   0.666667   0.565789  basketball\n",
       "1     Maki Takada   0.666667   0.585526  basketball\n",
       "2    Naho Miyoshi   0.407407   0.407895  basketball\n",
       "3     Rui Machida   0.370370   0.309211  basketball\n",
       "4  Nako Motohashi   0.407407   0.276316  basketball\n",
       "5     Nanako Todo   0.555556   0.394737  basketball\n",
       "6    Saki Hayashi   0.518519   0.453947  basketball\n",
       "7   Evelyn Mawuli   0.629630   0.625000  basketball\n",
       "8  Saori Miyazaki   0.444444   0.289474  basketball\n",
       "9   Yuki Miyazawa   0.666667   0.539474  basketball"
      ]
     },
     "execution_count": 157,
     "metadata": {},
     "output_type": "execute_result"
    }
   ],
   "source": [
    "athletes_normalized = athletes.copy()\n",
    "scaler = MinMaxScaler()\n",
    "athletes_normalized[['height_in', 'weight_lb']] =  scaler.fit_transform(athletes_normalized[['height_in', 'weight_lb']] )\n",
    "athletes_normalized[:10]"
   ]
  },
  {
   "cell_type": "markdown",
   "metadata": {
    "id": "DcsGJ9YNjaS2"
   },
   "source": [
    "![](https://raw.githubusercontent.com/zacharski/datamining-guide/master/labs/pics/torchdivide.png)\n",
    "\n",
    "\n",
    "# <font color='#EE4C2C'>You Try ...</font> \n",
    "\n",
    "## <font color='#EE4C2C'>1. Comparing normalized vs raw data</font> \n",
    "Using knns with Euclidean distance and 3 nearest neighbors, compare the performance of a knn trained with the raw data vs. a knn trained with the normalized data.\n",
    "\n",
    "First, we need to divide the DataFrames as we did before.\n"
   ]
  },
  {
   "cell_type": "code",
   "execution_count": 158,
   "metadata": {
    "colab": {
     "base_uri": "https://localhost:8080/",
     "height": 363
    },
    "id": "yqMBpk8BjyrD",
    "outputId": "d6089502-07a7-4e2f-e3c5-bd2319a76b25"
   },
   "outputs": [],
   "source": [
    "x_raw = athletes[['height_in', 'weight_lb']]\n",
    "y_raw = athletes[['sport']]\n",
    "\n",
    "x_raw_train, x_raw_test, y_raw_train, y_raw_test = train_test_split(x_raw, y_raw, random_state = 0, test_size = 0.2)"
   ]
  },
  {
   "cell_type": "code",
   "execution_count": 159,
   "metadata": {
    "id": "TItX-TcWtP-3"
   },
   "outputs": [],
   "source": [
    "x_normalized = scaler.fit_transform(athletes[['height_in', 'weight_lb']])\n",
    "y_normalized = (athletes[['sport']])\n",
    "\n",
    "x_normalized_train, x_normalized_test, y_normalized_train, y_normalized_test = train_test_split(x_normalized, y_normalized, random_state = 0, test_size = 0.2)"
   ]
  },
  {
   "cell_type": "markdown",
   "metadata": {
    "id": "vJmQZpV4tBCT"
   },
   "source": [
    "### Now the actual building, fitting and testing of a knn classifier"
   ]
  },
  {
   "cell_type": "code",
   "execution_count": 160,
   "metadata": {
    "colab": {
     "base_uri": "https://localhost:8080/"
    },
    "id": "MvqLFLQKwYjM",
    "outputId": "cbb939df-d5d2-46b2-d891-f540df1325b7"
   },
   "outputs": [
    {
     "name": "stderr",
     "output_type": "stream",
     "text": [
      "/home/machine/.local/lib/python3.10/site-packages/sklearn/neighbors/_classification.py:215: DataConversionWarning: A column-vector y was passed when a 1d array was expected. Please change the shape of y to (n_samples,), for example using ravel().\n",
      "  return self._fit(X, y)\n"
     ]
    },
    {
     "data": {
      "text/plain": [
       "0.9333333333333333"
      ]
     },
     "execution_count": 160,
     "metadata": {},
     "output_type": "execute_result"
    }
   ],
   "source": [
    "knn_raw = KNeighborsClassifier(n_neighbors = 3)\n",
    "knn_raw = knn_raw.fit(x_raw_train, y_raw_train)\n",
    "\n",
    "predictions_raw = knn_raw.predict(x_raw_test)\n",
    "\n",
    "accuracy_score(y_raw_test, predictions_raw)"
   ]
  },
  {
   "cell_type": "code",
   "execution_count": 161,
   "metadata": {
    "colab": {
     "base_uri": "https://localhost:8080/"
    },
    "id": "OtiMXLeEsyga",
    "outputId": "d11fa16c-9450-4bdd-b5f5-eac9a693b8cc"
   },
   "outputs": [
    {
     "name": "stderr",
     "output_type": "stream",
     "text": [
      "/home/machine/.local/lib/python3.10/site-packages/sklearn/neighbors/_classification.py:215: DataConversionWarning: A column-vector y was passed when a 1d array was expected. Please change the shape of y to (n_samples,), for example using ravel().\n",
      "  return self._fit(X, y)\n"
     ]
    },
    {
     "data": {
      "text/plain": [
       "0.8666666666666667"
      ]
     },
     "execution_count": 161,
     "metadata": {},
     "output_type": "execute_result"
    }
   ],
   "source": [
    "knn_normalized = KNeighborsClassifier(n_neighbors = 3)\n",
    "knn_normalized = knn_normalized.fit(x_normalized_train, y_normalized_train)\n",
    "\n",
    "predictions_normalized = knn_normalized.predict(x_normalized_test)\n",
    "\n",
    "accuracy_score(y_normalized_test, predictions_normalized)"
   ]
  },
  {
   "attachments": {},
   "cell_type": "markdown",
   "metadata": {
    "id": "lDO6ebLrxcR7"
   },
   "source": [
    "### Results\n",
    "The k nearest neighbor trained (n_neighbors set to 3) with the raw data had better accuracy than the same model architecture that was trained with the normalized dataset"
   ]
  },
  {
   "cell_type": "markdown",
   "metadata": {
    "id": "y_zMDcckEx8w"
   },
   "source": [
    "\n",
    "![](https://raw.githubusercontent.com/zacharski/datamining-guide/master/labs/pics/PyDivideTwo.png)\n",
    "## <font color='#EE4C2C'>2. The Iris Dataset</font> \n",
    "\n",
    "\n",
    "![](https://raw.githubusercontent.com/zacharski/datamining-guide/master/labs/pics/irises.png)\n",
    "What is the accuracy of your new model with one epoch of training?\n",
    "\n",
    "We are going to use the Iris Dataset, one of the standard data mining data sets which has been around since 1988.  The data set contains 3 classes of 50 instances each\n",
    "\n",
    "1. Iris Setosa \n",
    "2. Iris Versicolour \n",
    "3. Iris Virginica \n",
    "\n",
    "There are only 4 attributes or features:\n",
    "\n",
    "1. sepal length in cm \n",
    "2. sepal width in cm \n",
    "3. petal length in cm \n",
    "4. petal width in cm \n",
    "\n",
    "Here is an example of the data:\n",
    "\n",
    "Sepal Length|Sepal Width|Petal Length|Petal Width|Class\n",
    ":--: | :--: |:--: |:--: |:--: \n",
    "5.3|3.7|1.5|0.2|Iris-setosa\n",
    "5.0|3.3|1.4|0.2|Iris-setosa\n",
    "5.0|2.0|3.5|1.0|Iris-versicolor\n",
    "5.9|3.0|4.2|1.5|Iris-versicolor\n",
    "6.3|3.4|5.6|2.4|Iris-virginica\n",
    "6.4|3.1|5.5|1.8|Iris-virginica\n",
    "\n",
    "The job of the classifier is to determine the class of an instance (the type of Iris) based on the values of the attributes.\n",
    "\n",
    "The dataset is available at\n",
    "\n",
    "    https://raw.githubusercontent.com/zacharski/ml-class/master/data/irisTrain.csv\n",
    "    \n",
    "When you divide into training and test sets please use `random_state=0` so we can compare results. \n",
    "\n",
    "You should include a short paragraph describing your results."
   ]
  },
  {
   "cell_type": "code",
   "execution_count": 162,
   "metadata": {},
   "outputs": [
    {
     "data": {
      "text/html": [
       "<div>\n",
       "<style scoped>\n",
       "    .dataframe tbody tr th:only-of-type {\n",
       "        vertical-align: middle;\n",
       "    }\n",
       "\n",
       "    .dataframe tbody tr th {\n",
       "        vertical-align: top;\n",
       "    }\n",
       "\n",
       "    .dataframe thead th {\n",
       "        text-align: right;\n",
       "    }\n",
       "</style>\n",
       "<table border=\"1\" class=\"dataframe\">\n",
       "  <thead>\n",
       "    <tr style=\"text-align: right;\">\n",
       "      <th></th>\n",
       "      <th>Sepal Length</th>\n",
       "      <th>Sepal Width</th>\n",
       "      <th>Petal Length</th>\n",
       "      <th>Petal Width</th>\n",
       "      <th>Class</th>\n",
       "    </tr>\n",
       "  </thead>\n",
       "  <tbody>\n",
       "    <tr>\n",
       "      <th>0</th>\n",
       "      <td>5.4</td>\n",
       "      <td>3.7</td>\n",
       "      <td>1.5</td>\n",
       "      <td>0.2</td>\n",
       "      <td>Iris-setosa</td>\n",
       "    </tr>\n",
       "    <tr>\n",
       "      <th>1</th>\n",
       "      <td>4.8</td>\n",
       "      <td>3.4</td>\n",
       "      <td>1.6</td>\n",
       "      <td>0.2</td>\n",
       "      <td>Iris-setosa</td>\n",
       "    </tr>\n",
       "    <tr>\n",
       "      <th>2</th>\n",
       "      <td>4.8</td>\n",
       "      <td>3.0</td>\n",
       "      <td>1.4</td>\n",
       "      <td>0.1</td>\n",
       "      <td>Iris-setosa</td>\n",
       "    </tr>\n",
       "    <tr>\n",
       "      <th>3</th>\n",
       "      <td>4.3</td>\n",
       "      <td>3.0</td>\n",
       "      <td>1.1</td>\n",
       "      <td>0.1</td>\n",
       "      <td>Iris-setosa</td>\n",
       "    </tr>\n",
       "    <tr>\n",
       "      <th>4</th>\n",
       "      <td>5.8</td>\n",
       "      <td>4.0</td>\n",
       "      <td>1.2</td>\n",
       "      <td>0.2</td>\n",
       "      <td>Iris-setosa</td>\n",
       "    </tr>\n",
       "    <tr>\n",
       "      <th>...</th>\n",
       "      <td>...</td>\n",
       "      <td>...</td>\n",
       "      <td>...</td>\n",
       "      <td>...</td>\n",
       "      <td>...</td>\n",
       "    </tr>\n",
       "    <tr>\n",
       "      <th>115</th>\n",
       "      <td>6.7</td>\n",
       "      <td>3.0</td>\n",
       "      <td>5.2</td>\n",
       "      <td>2.3</td>\n",
       "      <td>Iris-virginica</td>\n",
       "    </tr>\n",
       "    <tr>\n",
       "      <th>116</th>\n",
       "      <td>6.3</td>\n",
       "      <td>2.5</td>\n",
       "      <td>5.0</td>\n",
       "      <td>1.9</td>\n",
       "      <td>Iris-virginica</td>\n",
       "    </tr>\n",
       "    <tr>\n",
       "      <th>117</th>\n",
       "      <td>6.5</td>\n",
       "      <td>3.0</td>\n",
       "      <td>5.2</td>\n",
       "      <td>2.0</td>\n",
       "      <td>Iris-virginica</td>\n",
       "    </tr>\n",
       "    <tr>\n",
       "      <th>118</th>\n",
       "      <td>6.2</td>\n",
       "      <td>3.4</td>\n",
       "      <td>5.4</td>\n",
       "      <td>2.3</td>\n",
       "      <td>Iris-virginica</td>\n",
       "    </tr>\n",
       "    <tr>\n",
       "      <th>119</th>\n",
       "      <td>5.9</td>\n",
       "      <td>3.0</td>\n",
       "      <td>5.1</td>\n",
       "      <td>1.8</td>\n",
       "      <td>Iris-virginica</td>\n",
       "    </tr>\n",
       "  </tbody>\n",
       "</table>\n",
       "<p>120 rows × 5 columns</p>\n",
       "</div>"
      ],
      "text/plain": [
       "     Sepal Length  Sepal Width  Petal Length  Petal Width           Class\n",
       "0             5.4          3.7           1.5          0.2     Iris-setosa\n",
       "1             4.8          3.4           1.6          0.2     Iris-setosa\n",
       "2             4.8          3.0           1.4          0.1     Iris-setosa\n",
       "3             4.3          3.0           1.1          0.1     Iris-setosa\n",
       "4             5.8          4.0           1.2          0.2     Iris-setosa\n",
       "..            ...          ...           ...          ...             ...\n",
       "115           6.7          3.0           5.2          2.3  Iris-virginica\n",
       "116           6.3          2.5           5.0          1.9  Iris-virginica\n",
       "117           6.5          3.0           5.2          2.0  Iris-virginica\n",
       "118           6.2          3.4           5.4          2.3  Iris-virginica\n",
       "119           5.9          3.0           5.1          1.8  Iris-virginica\n",
       "\n",
       "[120 rows x 5 columns]"
      ]
     },
     "execution_count": 162,
     "metadata": {},
     "output_type": "execute_result"
    }
   ],
   "source": [
    "df_iris = pd.read_csv('https://raw.githubusercontent.com/zacharski/ml-class/master/data/irisTrain.csv')\n",
    "df_iris"
   ]
  },
  {
   "cell_type": "code",
   "execution_count": 163,
   "metadata": {},
   "outputs": [
    {
     "data": {
      "text/html": [
       "<div>\n",
       "<style scoped>\n",
       "    .dataframe tbody tr th:only-of-type {\n",
       "        vertical-align: middle;\n",
       "    }\n",
       "\n",
       "    .dataframe tbody tr th {\n",
       "        vertical-align: top;\n",
       "    }\n",
       "\n",
       "    .dataframe thead th {\n",
       "        text-align: right;\n",
       "    }\n",
       "</style>\n",
       "<table border=\"1\" class=\"dataframe\">\n",
       "  <thead>\n",
       "    <tr style=\"text-align: right;\">\n",
       "      <th></th>\n",
       "      <th>Sepal Length</th>\n",
       "      <th>Sepal Width</th>\n",
       "      <th>Petal Length</th>\n",
       "      <th>Petal Width</th>\n",
       "    </tr>\n",
       "  </thead>\n",
       "  <tbody>\n",
       "    <tr>\n",
       "      <th>0</th>\n",
       "      <td>5.4</td>\n",
       "      <td>3.7</td>\n",
       "      <td>1.5</td>\n",
       "      <td>0.2</td>\n",
       "    </tr>\n",
       "    <tr>\n",
       "      <th>1</th>\n",
       "      <td>4.8</td>\n",
       "      <td>3.4</td>\n",
       "      <td>1.6</td>\n",
       "      <td>0.2</td>\n",
       "    </tr>\n",
       "    <tr>\n",
       "      <th>2</th>\n",
       "      <td>4.8</td>\n",
       "      <td>3.0</td>\n",
       "      <td>1.4</td>\n",
       "      <td>0.1</td>\n",
       "    </tr>\n",
       "    <tr>\n",
       "      <th>3</th>\n",
       "      <td>4.3</td>\n",
       "      <td>3.0</td>\n",
       "      <td>1.1</td>\n",
       "      <td>0.1</td>\n",
       "    </tr>\n",
       "    <tr>\n",
       "      <th>4</th>\n",
       "      <td>5.8</td>\n",
       "      <td>4.0</td>\n",
       "      <td>1.2</td>\n",
       "      <td>0.2</td>\n",
       "    </tr>\n",
       "    <tr>\n",
       "      <th>...</th>\n",
       "      <td>...</td>\n",
       "      <td>...</td>\n",
       "      <td>...</td>\n",
       "      <td>...</td>\n",
       "    </tr>\n",
       "    <tr>\n",
       "      <th>115</th>\n",
       "      <td>6.7</td>\n",
       "      <td>3.0</td>\n",
       "      <td>5.2</td>\n",
       "      <td>2.3</td>\n",
       "    </tr>\n",
       "    <tr>\n",
       "      <th>116</th>\n",
       "      <td>6.3</td>\n",
       "      <td>2.5</td>\n",
       "      <td>5.0</td>\n",
       "      <td>1.9</td>\n",
       "    </tr>\n",
       "    <tr>\n",
       "      <th>117</th>\n",
       "      <td>6.5</td>\n",
       "      <td>3.0</td>\n",
       "      <td>5.2</td>\n",
       "      <td>2.0</td>\n",
       "    </tr>\n",
       "    <tr>\n",
       "      <th>118</th>\n",
       "      <td>6.2</td>\n",
       "      <td>3.4</td>\n",
       "      <td>5.4</td>\n",
       "      <td>2.3</td>\n",
       "    </tr>\n",
       "    <tr>\n",
       "      <th>119</th>\n",
       "      <td>5.9</td>\n",
       "      <td>3.0</td>\n",
       "      <td>5.1</td>\n",
       "      <td>1.8</td>\n",
       "    </tr>\n",
       "  </tbody>\n",
       "</table>\n",
       "<p>120 rows × 4 columns</p>\n",
       "</div>"
      ],
      "text/plain": [
       "     Sepal Length  Sepal Width  Petal Length  Petal Width\n",
       "0             5.4          3.7           1.5          0.2\n",
       "1             4.8          3.4           1.6          0.2\n",
       "2             4.8          3.0           1.4          0.1\n",
       "3             4.3          3.0           1.1          0.1\n",
       "4             5.8          4.0           1.2          0.2\n",
       "..            ...          ...           ...          ...\n",
       "115           6.7          3.0           5.2          2.3\n",
       "116           6.3          2.5           5.0          1.9\n",
       "117           6.5          3.0           5.2          2.0\n",
       "118           6.2          3.4           5.4          2.3\n",
       "119           5.9          3.0           5.1          1.8\n",
       "\n",
       "[120 rows x 4 columns]"
      ]
     },
     "execution_count": 163,
     "metadata": {},
     "output_type": "execute_result"
    }
   ],
   "source": [
    "# dataset features\n",
    "df_iris_features = df_iris[['Sepal Length', 'Sepal Width', 'Petal Length', 'Petal Width']]\n",
    "df_iris_features"
   ]
  },
  {
   "cell_type": "code",
   "execution_count": 164,
   "metadata": {},
   "outputs": [
    {
     "data": {
      "text/plain": [
       "array([[0.30555556, 0.70833333, 0.08474576, 0.04166667],\n",
       "       [0.13888889, 0.58333333, 0.10169492, 0.04166667],\n",
       "       [0.13888889, 0.41666667, 0.06779661, 0.        ],\n",
       "       [0.        , 0.41666667, 0.01694915, 0.        ],\n",
       "       [0.41666667, 0.83333333, 0.03389831, 0.04166667],\n",
       "       [0.38888889, 1.        , 0.08474576, 0.125     ],\n",
       "       [0.30555556, 0.79166667, 0.05084746, 0.125     ],\n",
       "       [0.22222222, 0.625     , 0.06779661, 0.08333333],\n",
       "       [0.38888889, 0.75      , 0.11864407, 0.08333333],\n",
       "       [0.22222222, 0.75      , 0.08474576, 0.08333333],\n",
       "       [0.30555556, 0.58333333, 0.11864407, 0.04166667],\n",
       "       [0.22222222, 0.70833333, 0.08474576, 0.125     ],\n",
       "       [0.08333333, 0.66666667, 0.        , 0.04166667],\n",
       "       [0.22222222, 0.54166667, 0.11864407, 0.16666667],\n",
       "       [0.13888889, 0.58333333, 0.15254237, 0.04166667],\n",
       "       [0.19444444, 0.41666667, 0.10169492, 0.04166667],\n",
       "       [0.19444444, 0.58333333, 0.10169492, 0.125     ],\n",
       "       [0.25      , 0.625     , 0.08474576, 0.04166667],\n",
       "       [0.25      , 0.58333333, 0.06779661, 0.04166667],\n",
       "       [0.11111111, 0.5       , 0.10169492, 0.04166667],\n",
       "       [0.13888889, 0.45833333, 0.10169492, 0.04166667],\n",
       "       [0.30555556, 0.58333333, 0.08474576, 0.125     ],\n",
       "       [0.25      , 0.875     , 0.08474576, 0.        ],\n",
       "       [0.33333333, 0.91666667, 0.06779661, 0.04166667],\n",
       "       [0.16666667, 0.45833333, 0.08474576, 0.        ],\n",
       "       [0.19444444, 0.5       , 0.03389831, 0.04166667],\n",
       "       [0.33333333, 0.625     , 0.05084746, 0.04166667],\n",
       "       [0.16666667, 0.45833333, 0.08474576, 0.        ],\n",
       "       [0.02777778, 0.41666667, 0.05084746, 0.04166667],\n",
       "       [0.22222222, 0.58333333, 0.08474576, 0.04166667],\n",
       "       [0.19444444, 0.625     , 0.05084746, 0.08333333],\n",
       "       [0.05555556, 0.125     , 0.05084746, 0.08333333],\n",
       "       [0.02777778, 0.5       , 0.05084746, 0.04166667],\n",
       "       [0.19444444, 0.625     , 0.10169492, 0.20833333],\n",
       "       [0.22222222, 0.75      , 0.15254237, 0.125     ],\n",
       "       [0.13888889, 0.41666667, 0.06779661, 0.08333333],\n",
       "       [0.22222222, 0.75      , 0.10169492, 0.04166667],\n",
       "       [0.08333333, 0.5       , 0.06779661, 0.04166667],\n",
       "       [0.27777778, 0.70833333, 0.08474576, 0.04166667],\n",
       "       [0.19444444, 0.54166667, 0.06779661, 0.04166667],\n",
       "       [0.19444444, 0.        , 0.42372881, 0.375     ],\n",
       "       [0.44444444, 0.41666667, 0.54237288, 0.58333333],\n",
       "       [0.47222222, 0.08333333, 0.50847458, 0.375     ],\n",
       "       [0.5       , 0.375     , 0.62711864, 0.54166667],\n",
       "       [0.36111111, 0.375     , 0.44067797, 0.5       ],\n",
       "       [0.66666667, 0.45833333, 0.57627119, 0.54166667],\n",
       "       [0.36111111, 0.41666667, 0.59322034, 0.58333333],\n",
       "       [0.41666667, 0.29166667, 0.52542373, 0.375     ],\n",
       "       [0.52777778, 0.08333333, 0.59322034, 0.58333333],\n",
       "       [0.36111111, 0.20833333, 0.49152542, 0.41666667],\n",
       "       [0.44444444, 0.5       , 0.6440678 , 0.70833333],\n",
       "       [0.5       , 0.33333333, 0.50847458, 0.5       ],\n",
       "       [0.55555556, 0.20833333, 0.66101695, 0.58333333],\n",
       "       [0.5       , 0.33333333, 0.62711864, 0.45833333],\n",
       "       [0.58333333, 0.375     , 0.55932203, 0.5       ],\n",
       "       [0.63888889, 0.41666667, 0.57627119, 0.54166667],\n",
       "       [0.69444444, 0.33333333, 0.6440678 , 0.54166667],\n",
       "       [0.66666667, 0.41666667, 0.6779661 , 0.66666667],\n",
       "       [0.47222222, 0.375     , 0.59322034, 0.58333333],\n",
       "       [0.38888889, 0.25      , 0.42372881, 0.375     ],\n",
       "       [0.33333333, 0.16666667, 0.47457627, 0.41666667],\n",
       "       [0.33333333, 0.16666667, 0.45762712, 0.375     ],\n",
       "       [0.41666667, 0.29166667, 0.49152542, 0.45833333],\n",
       "       [0.47222222, 0.29166667, 0.69491525, 0.625     ],\n",
       "       [0.30555556, 0.41666667, 0.59322034, 0.58333333],\n",
       "       [0.47222222, 0.58333333, 0.59322034, 0.625     ],\n",
       "       [0.66666667, 0.45833333, 0.62711864, 0.58333333],\n",
       "       [0.55555556, 0.125     , 0.57627119, 0.5       ],\n",
       "       [0.36111111, 0.41666667, 0.52542373, 0.5       ],\n",
       "       [0.33333333, 0.20833333, 0.50847458, 0.5       ],\n",
       "       [0.33333333, 0.25      , 0.57627119, 0.45833333],\n",
       "       [0.5       , 0.41666667, 0.61016949, 0.54166667],\n",
       "       [0.41666667, 0.25      , 0.50847458, 0.45833333],\n",
       "       [0.19444444, 0.125     , 0.38983051, 0.375     ],\n",
       "       [0.36111111, 0.29166667, 0.54237288, 0.5       ],\n",
       "       [0.38888889, 0.41666667, 0.54237288, 0.45833333],\n",
       "       [0.38888889, 0.375     , 0.54237288, 0.5       ],\n",
       "       [0.52777778, 0.375     , 0.55932203, 0.5       ],\n",
       "       [0.22222222, 0.20833333, 0.33898305, 0.41666667],\n",
       "       [0.38888889, 0.33333333, 0.52542373, 0.5       ],\n",
       "       [0.61111111, 0.5       , 0.69491525, 0.79166667],\n",
       "       [0.58333333, 0.29166667, 0.72881356, 0.75      ],\n",
       "       [0.69444444, 0.41666667, 0.76271186, 0.83333333],\n",
       "       [0.38888889, 0.20833333, 0.6779661 , 0.79166667],\n",
       "       [0.41666667, 0.33333333, 0.69491525, 0.95833333],\n",
       "       [0.58333333, 0.5       , 0.72881356, 0.91666667],\n",
       "       [0.61111111, 0.41666667, 0.76271186, 0.70833333],\n",
       "       [0.94444444, 0.75      , 0.96610169, 0.875     ],\n",
       "       [0.94444444, 0.25      , 1.        , 0.91666667],\n",
       "       [0.47222222, 0.08333333, 0.6779661 , 0.58333333],\n",
       "       [0.72222222, 0.5       , 0.79661017, 0.91666667],\n",
       "       [0.36111111, 0.33333333, 0.66101695, 0.79166667],\n",
       "       [0.94444444, 0.33333333, 0.96610169, 0.79166667],\n",
       "       [0.55555556, 0.29166667, 0.66101695, 0.70833333],\n",
       "       [0.66666667, 0.54166667, 0.79661017, 0.83333333],\n",
       "       [0.80555556, 0.5       , 0.84745763, 0.70833333],\n",
       "       [0.52777778, 0.33333333, 0.6440678 , 0.70833333],\n",
       "       [0.5       , 0.41666667, 0.66101695, 0.70833333],\n",
       "       [0.58333333, 0.33333333, 0.77966102, 0.83333333],\n",
       "       [0.80555556, 0.41666667, 0.81355932, 0.625     ],\n",
       "       [0.86111111, 0.33333333, 0.86440678, 0.75      ],\n",
       "       [1.        , 0.75      , 0.91525424, 0.79166667],\n",
       "       [0.58333333, 0.33333333, 0.77966102, 0.875     ],\n",
       "       [0.55555556, 0.33333333, 0.69491525, 0.58333333],\n",
       "       [0.5       , 0.25      , 0.77966102, 0.54166667],\n",
       "       [0.94444444, 0.41666667, 0.86440678, 0.91666667],\n",
       "       [0.55555556, 0.58333333, 0.77966102, 0.95833333],\n",
       "       [0.58333333, 0.45833333, 0.76271186, 0.70833333],\n",
       "       [0.47222222, 0.41666667, 0.6440678 , 0.70833333],\n",
       "       [0.72222222, 0.45833333, 0.74576271, 0.83333333],\n",
       "       [0.66666667, 0.45833333, 0.77966102, 0.95833333],\n",
       "       [0.72222222, 0.45833333, 0.69491525, 0.91666667],\n",
       "       [0.41666667, 0.29166667, 0.69491525, 0.75      ],\n",
       "       [0.69444444, 0.5       , 0.83050847, 0.91666667],\n",
       "       [0.66666667, 0.54166667, 0.79661017, 1.        ],\n",
       "       [0.66666667, 0.41666667, 0.71186441, 0.91666667],\n",
       "       [0.55555556, 0.20833333, 0.6779661 , 0.75      ],\n",
       "       [0.61111111, 0.41666667, 0.71186441, 0.79166667],\n",
       "       [0.52777778, 0.58333333, 0.74576271, 0.91666667],\n",
       "       [0.44444444, 0.41666667, 0.69491525, 0.70833333]])"
      ]
     },
     "execution_count": 164,
     "metadata": {},
     "output_type": "execute_result"
    }
   ],
   "source": [
    "# dataset features  normalized\n",
    "df_iris_features_normalized = scaler.fit_transform(df_iris[['Sepal Length', 'Sepal Width', 'Petal Length', 'Petal Width']])\n",
    "df_iris_features_normalized"
   ]
  },
  {
   "cell_type": "code",
   "execution_count": 165,
   "metadata": {},
   "outputs": [
    {
     "data": {
      "text/html": [
       "<div>\n",
       "<style scoped>\n",
       "    .dataframe tbody tr th:only-of-type {\n",
       "        vertical-align: middle;\n",
       "    }\n",
       "\n",
       "    .dataframe tbody tr th {\n",
       "        vertical-align: top;\n",
       "    }\n",
       "\n",
       "    .dataframe thead th {\n",
       "        text-align: right;\n",
       "    }\n",
       "</style>\n",
       "<table border=\"1\" class=\"dataframe\">\n",
       "  <thead>\n",
       "    <tr style=\"text-align: right;\">\n",
       "      <th></th>\n",
       "      <th>Class</th>\n",
       "    </tr>\n",
       "  </thead>\n",
       "  <tbody>\n",
       "    <tr>\n",
       "      <th>0</th>\n",
       "      <td>Iris-setosa</td>\n",
       "    </tr>\n",
       "    <tr>\n",
       "      <th>1</th>\n",
       "      <td>Iris-setosa</td>\n",
       "    </tr>\n",
       "    <tr>\n",
       "      <th>2</th>\n",
       "      <td>Iris-setosa</td>\n",
       "    </tr>\n",
       "    <tr>\n",
       "      <th>3</th>\n",
       "      <td>Iris-setosa</td>\n",
       "    </tr>\n",
       "    <tr>\n",
       "      <th>4</th>\n",
       "      <td>Iris-setosa</td>\n",
       "    </tr>\n",
       "    <tr>\n",
       "      <th>...</th>\n",
       "      <td>...</td>\n",
       "    </tr>\n",
       "    <tr>\n",
       "      <th>115</th>\n",
       "      <td>Iris-virginica</td>\n",
       "    </tr>\n",
       "    <tr>\n",
       "      <th>116</th>\n",
       "      <td>Iris-virginica</td>\n",
       "    </tr>\n",
       "    <tr>\n",
       "      <th>117</th>\n",
       "      <td>Iris-virginica</td>\n",
       "    </tr>\n",
       "    <tr>\n",
       "      <th>118</th>\n",
       "      <td>Iris-virginica</td>\n",
       "    </tr>\n",
       "    <tr>\n",
       "      <th>119</th>\n",
       "      <td>Iris-virginica</td>\n",
       "    </tr>\n",
       "  </tbody>\n",
       "</table>\n",
       "<p>120 rows × 1 columns</p>\n",
       "</div>"
      ],
      "text/plain": [
       "              Class\n",
       "0       Iris-setosa\n",
       "1       Iris-setosa\n",
       "2       Iris-setosa\n",
       "3       Iris-setosa\n",
       "4       Iris-setosa\n",
       "..              ...\n",
       "115  Iris-virginica\n",
       "116  Iris-virginica\n",
       "117  Iris-virginica\n",
       "118  Iris-virginica\n",
       "119  Iris-virginica\n",
       "\n",
       "[120 rows x 1 columns]"
      ]
     },
     "execution_count": 165,
     "metadata": {},
     "output_type": "execute_result"
    }
   ],
   "source": [
    "# dataset labels\n",
    "df_iris_labels = df_iris[['Class']]\n",
    "df_iris_labels"
   ]
  },
  {
   "cell_type": "code",
   "execution_count": 166,
   "metadata": {},
   "outputs": [
    {
     "data": {
      "text/html": [
       "<div>\n",
       "<style scoped>\n",
       "    .dataframe tbody tr th:only-of-type {\n",
       "        vertical-align: middle;\n",
       "    }\n",
       "\n",
       "    .dataframe tbody tr th {\n",
       "        vertical-align: top;\n",
       "    }\n",
       "\n",
       "    .dataframe thead th {\n",
       "        text-align: right;\n",
       "    }\n",
       "</style>\n",
       "<table border=\"1\" class=\"dataframe\">\n",
       "  <thead>\n",
       "    <tr style=\"text-align: right;\">\n",
       "      <th></th>\n",
       "      <th>Class</th>\n",
       "    </tr>\n",
       "  </thead>\n",
       "  <tbody>\n",
       "    <tr>\n",
       "      <th>0</th>\n",
       "      <td>Iris-setosa</td>\n",
       "    </tr>\n",
       "    <tr>\n",
       "      <th>1</th>\n",
       "      <td>Iris-setosa</td>\n",
       "    </tr>\n",
       "    <tr>\n",
       "      <th>2</th>\n",
       "      <td>Iris-setosa</td>\n",
       "    </tr>\n",
       "    <tr>\n",
       "      <th>3</th>\n",
       "      <td>Iris-setosa</td>\n",
       "    </tr>\n",
       "    <tr>\n",
       "      <th>4</th>\n",
       "      <td>Iris-setosa</td>\n",
       "    </tr>\n",
       "    <tr>\n",
       "      <th>...</th>\n",
       "      <td>...</td>\n",
       "    </tr>\n",
       "    <tr>\n",
       "      <th>115</th>\n",
       "      <td>Iris-virginica</td>\n",
       "    </tr>\n",
       "    <tr>\n",
       "      <th>116</th>\n",
       "      <td>Iris-virginica</td>\n",
       "    </tr>\n",
       "    <tr>\n",
       "      <th>117</th>\n",
       "      <td>Iris-virginica</td>\n",
       "    </tr>\n",
       "    <tr>\n",
       "      <th>118</th>\n",
       "      <td>Iris-virginica</td>\n",
       "    </tr>\n",
       "    <tr>\n",
       "      <th>119</th>\n",
       "      <td>Iris-virginica</td>\n",
       "    </tr>\n",
       "  </tbody>\n",
       "</table>\n",
       "<p>120 rows × 1 columns</p>\n",
       "</div>"
      ],
      "text/plain": [
       "              Class\n",
       "0       Iris-setosa\n",
       "1       Iris-setosa\n",
       "2       Iris-setosa\n",
       "3       Iris-setosa\n",
       "4       Iris-setosa\n",
       "..              ...\n",
       "115  Iris-virginica\n",
       "116  Iris-virginica\n",
       "117  Iris-virginica\n",
       "118  Iris-virginica\n",
       "119  Iris-virginica\n",
       "\n",
       "[120 rows x 1 columns]"
      ]
     },
     "execution_count": 166,
     "metadata": {},
     "output_type": "execute_result"
    }
   ],
   "source": [
    "# dataset labels normalized\n",
    "df_iris_labels_normalized = df_iris[['Class']]\n",
    "df_iris_labels_normalized"
   ]
  },
  {
   "cell_type": "code",
   "execution_count": 167,
   "metadata": {},
   "outputs": [],
   "source": [
    "# train and test features and labels split\n",
    "df_iris_features_train, df_iris_features_test, df_iris_labels_train, df_iris_labels_test = train_test_split(df_iris_features, df_iris_labels, train_size = 0.8, random_state = 0)"
   ]
  },
  {
   "cell_type": "code",
   "execution_count": 168,
   "metadata": {},
   "outputs": [],
   "source": [
    "# train and test features and labels split normalized\n",
    "df_iris_features_train_normalized, df_iris_features_test_normalized, df_iris_labels_train_normalized, df_iris_labels_test_normalized = train_test_split(df_iris_features_normalized, df_iris_labels_normalized, train_size = 0.8, random_state = 0)"
   ]
  },
  {
   "cell_type": "code",
   "execution_count": 169,
   "metadata": {
    "colab": {
     "base_uri": "https://localhost:8080/",
     "height": 417
    },
    "id": "R6fjnhmSEx8x",
    "outputId": "69474383-4f36-4f31-9d29-be723c17104d",
    "scrolled": true
   },
   "outputs": [],
   "source": [
    "knn_iris = KNeighborsClassifier(n_neighbors = 3)"
   ]
  },
  {
   "cell_type": "code",
   "execution_count": 170,
   "metadata": {},
   "outputs": [
    {
     "name": "stderr",
     "output_type": "stream",
     "text": [
      "/home/machine/.local/lib/python3.10/site-packages/sklearn/neighbors/_classification.py:215: DataConversionWarning: A column-vector y was passed when a 1d array was expected. Please change the shape of y to (n_samples,), for example using ravel().\n",
      "  return self._fit(X, y)\n"
     ]
    }
   ],
   "source": [
    "knn_iris = knn_iris.fit(df_iris_features_train, df_iris_labels_train)"
   ]
  },
  {
   "cell_type": "code",
   "execution_count": 171,
   "metadata": {},
   "outputs": [],
   "source": [
    "knn_iris_normalized = KNeighborsClassifier(n_neighbors = 3)"
   ]
  },
  {
   "cell_type": "code",
   "execution_count": 172,
   "metadata": {},
   "outputs": [
    {
     "name": "stderr",
     "output_type": "stream",
     "text": [
      "/home/machine/.local/lib/python3.10/site-packages/sklearn/neighbors/_classification.py:215: DataConversionWarning: A column-vector y was passed when a 1d array was expected. Please change the shape of y to (n_samples,), for example using ravel().\n",
      "  return self._fit(X, y)\n"
     ]
    }
   ],
   "source": [
    "knn_iris_normalized = knn_iris_normalized.fit(df_iris_features_train_normalized, df_iris_labels_train_normalized)"
   ]
  },
  {
   "cell_type": "code",
   "execution_count": 173,
   "metadata": {
    "id": "MKKOm1Vf0eAf"
   },
   "outputs": [
    {
     "data": {
      "text/plain": [
       "0.9166666666666666"
      ]
     },
     "execution_count": 173,
     "metadata": {},
     "output_type": "execute_result"
    }
   ],
   "source": [
    "predictions_iris = knn_iris.predict(df_iris_features_test)\n",
    "\n",
    "accuracy_score(predictions_iris, df_iris_labels_test)"
   ]
  },
  {
   "cell_type": "code",
   "execution_count": 174,
   "metadata": {},
   "outputs": [
    {
     "data": {
      "text/plain": [
       "0.9166666666666666"
      ]
     },
     "execution_count": 174,
     "metadata": {},
     "output_type": "execute_result"
    }
   ],
   "source": [
    "predictions_iris_normalized = knn_iris_normalized.predict(df_iris_features_test_normalized)\n",
    "\n",
    "accuracy_score(predictions_iris_normalized, df_iris_labels_test_normalized)"
   ]
  },
  {
   "attachments": {},
   "cell_type": "markdown",
   "metadata": {},
   "source": [
    "# Results\n",
    "the k nearest neighbor model, with a k value of 3, performed just as well with the raw data as with the normalized data. the accuracy for both was `0.9166`."
   ]
  },
  {
   "cell_type": "markdown",
   "metadata": {
    "id": "08SwSbUc0emC"
   },
   "source": [
    "![](https://raw.githubusercontent.com/zacharski/datamining-guide/master/labs/pics/PyDivideTwo.png)"
   ]
  }
 ],
 "metadata": {
  "anaconda-cloud": {},
  "colab": {
   "collapsed_sections": [],
   "name": "Intro-to-sklearn-2022.ipynb",
   "provenance": []
  },
  "kernelspec": {
   "display_name": "Python 3",
   "language": "python",
   "name": "python3"
  },
  "language_info": {
   "codemirror_mode": {
    "name": "ipython",
    "version": 3
   },
   "file_extension": ".py",
   "mimetype": "text/x-python",
   "name": "python",
   "nbconvert_exporter": "python",
   "pygments_lexer": "ipython3",
   "version": "3.10.9 (main, Dec  7 2022, 00:00:00) [GCC 12.2.1 20221121 (Red Hat 12.2.1-4)]"
  },
  "vscode": {
   "interpreter": {
    "hash": "e7370f93d1d0cde622a1f8e1c04877d8463912d04d973331ad4851f04de6915a"
   }
  }
 },
 "nbformat": 4,
 "nbformat_minor": 1
}
