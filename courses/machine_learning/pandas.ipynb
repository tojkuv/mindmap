{
 "cells": [
  {
   "cell_type": "markdown",
   "metadata": {
    "id": "Q-Rl8kzb5_52"
   },
   "source": [
    "# Intro to Pandas\n",
    "\n",
    "![](https://raw.githubusercontent.com/zacharski/datamining-guide/master/labs/pics/pandas-logo-2.png)\n",
    "\n",
    "<font size='0.85em'>(logo by [Marc Garcia](https://github.com/pandas-dev/pandas/blob/master/web/pandas/static/img/pandas.svg))</font> \n",
    "\n",
    "\n",
    "> A suggestion: This worksheet is organized in a way that, hopefully, best presents the topics and not in a way that is the most useful for reference. As you progress through this worksheet, your future you will find it useful if you create your own notes so that you can quickly find the relevant information. These notes might take the form of a separate Google Colab notebook or handwritten notes. In addition, just the activity of taking notes will help you retain the information.\n",
    "\n",
    "The Pandas Library is built on top of Numpy and is designed to make working with data fast and easy. Like Numpy, the library includes data structures and functions to manipulate that data.\n",
    "\n",
    "As we learned in the Numpy Notebook, we need to load in the library before we can use it."
   ]
  },
  {
   "cell_type": "code",
   "execution_count": 61,
   "metadata": {
    "id": "lppgxVqU5_57"
   },
   "outputs": [],
   "source": [
    "from pandas import Series, DataFrame\n",
    "import numpy as np\n",
    "import pandas as pd"
   ]
  },
  {
   "cell_type": "markdown",
   "metadata": {
    "id": "V5Th0Kjp5_5-"
   },
   "source": [
    "Let's dissect the code above.\n",
    "\n",
    "The `Series` and `DataFrame` datatypes are commonly used so we import them directly with\n",
    "\n",
    "```\n",
    "from pandas import Series, DataFrame\n",
    "```\n",
    "\n",
    "For all other datatypes and functions in the library, the `pd` prefix is commonly used so we import that with\n",
    "\n",
    "```\n",
    "import pandas as pd\n",
    "```\n",
    "\n",
    "## Series\n",
    "A series is a 1d array-like object\n",
    "\n",
    "Let's consider the heights (in cm) of the members of the Japan's Women's Basketball Team at the 2020 Olympics (they won the silver medal).      \n",
    "\n",
    "![](https://raw.githubusercontent.com/zacharski/datamining-guide/master/labs/pics/basketball2020.png)\n",
    "We can create a series in a number of ways.\n",
    "\n",
    "For example, we can create it directly from a Python list"
   ]
  },
  {
   "cell_type": "code",
   "execution_count": 62,
   "metadata": {
    "id": "sdvQNSrr5_5_"
   },
   "outputs": [],
   "source": [
    "japan = [183, 185, 167, 162, 165, 174, 173, 181, 167, 183, 185, 182] # a Python list\n",
    "athletesHeight = Series(japan) # converted to a Pandas Series"
   ]
  },
  {
   "cell_type": "markdown",
   "metadata": {
    "id": "Szaal64L5_5_"
   },
   "source": [
    "We could also have done"
   ]
  },
  {
   "cell_type": "code",
   "execution_count": 63,
   "metadata": {
    "id": "gqWTF-8H5_5_"
   },
   "outputs": [],
   "source": [
    "athletesHeight = Series([183, 185, 167, 162, 165, 174, 173, 181, 167, 183, 185, 182])"
   ]
  },
  {
   "cell_type": "markdown",
   "metadata": {
    "id": "x2gRLx7E5_6E"
   },
   "source": [
    "In either case we can see the value of the Series `athletesHeight`"
   ]
  },
  {
   "cell_type": "code",
   "execution_count": 64,
   "metadata": {
    "colab": {
     "base_uri": "https://localhost:8080/"
    },
    "id": "TfYxpgAC5_6F",
    "outputId": "ad1826d9-7c6d-4c9a-b405-3ee5213ca927"
   },
   "outputs": [
    {
     "data": {
      "text/plain": "0     183\n1     185\n2     167\n3     162\n4     165\n5     174\n6     173\n7     181\n8     167\n9     183\n10    185\n11    182\ndtype: int64"
     },
     "execution_count": 64,
     "metadata": {},
     "output_type": "execute_result"
    }
   ],
   "source": [
    " athletesHeight"
   ]
  },
  {
   "cell_type": "markdown",
   "metadata": {
    "id": "Ux4Jf9aP5_6G"
   },
   "source": [
    "You are probably familiar with arrays in programming languages and this works in a similar way. The left number is the index and the right the value. And we can find the value at a particular index by the usual:"
   ]
  },
  {
   "cell_type": "code",
   "execution_count": 65,
   "metadata": {
    "colab": {
     "base_uri": "https://localhost:8080/"
    },
    "id": "OQBLBpQj5_6H",
    "outputId": "01f04053-e9d0-4f0a-df02-dcc81c198b48"
   },
   "outputs": [
    {
     "data": {
      "text/plain": "162"
     },
     "execution_count": 65,
     "metadata": {},
     "output_type": "execute_result"
    }
   ],
   "source": [
    "athletesHeight[3]"
   ]
  },
  {
   "cell_type": "markdown",
   "metadata": {
    "collapsed": true,
    "id": "S9BpB2Mf5_6H"
   },
   "source": [
    "#### specifying indices\n",
    "Instead of the index 0, 1, 2, 3 ... you can specify your own index values. For example, we can label them 'Moeko Nagaoka', 'Maki Takada', 'Naho Miyoshi' ... etc. "
   ]
  },
  {
   "cell_type": "code",
   "execution_count": 66,
   "metadata": {
    "colab": {
     "base_uri": "https://localhost:8080/"
    },
    "id": "-Enao90q5_6I",
    "outputId": "05e5c90c-22cd-42b2-ecc0-352634bcf356"
   },
   "outputs": [
    {
     "data": {
      "text/plain": "Moeko Nagaoka     183\nMaki Takada       185\nNaho Miyoshi      167\nRui Machida       162\nNako Motohashi    165\nNanaka Todo       174\nSaki Hayashi      173\nEvelyn Mawuli     181\nSaori Miyazaki    167\nYuki Miyazawa     183\nHimawari Akaho    185\nMonica Okoye      182\ndtype: int64"
     },
     "execution_count": 66,
     "metadata": {},
     "output_type": "execute_result"
    }
   ],
   "source": [
    "athletes2 = Series(japan, index = ['Moeko Nagaoka', 'Maki Takada', 'Naho Miyoshi', \n",
    "                                   'Rui Machida', 'Nako Motohashi', 'Nanaka Todo', \n",
    "                                   'Saki Hayashi','Evelyn Mawuli', 'Saori Miyazaki', 'Yuki Miyazawa', 'Himawari Akaho', \n",
    "                                   'Monica Okoye'])\n",
    "athletes2"
   ]
  },
  {
   "cell_type": "markdown",
   "metadata": {
    "id": "w6jOkNbJ5_6I"
   },
   "source": [
    "The names we see are not another column of the data. We can see the shape of athletes2 by:"
   ]
  },
  {
   "cell_type": "code",
   "execution_count": 67,
   "metadata": {
    "colab": {
     "base_uri": "https://localhost:8080/"
    },
    "id": "s4zOW58H5_6I",
    "outputId": "030b9cf7-2e28-4b80-d0ee-736056ca65fc"
   },
   "outputs": [
    {
     "data": {
      "text/plain": "(12,)"
     },
     "execution_count": 67,
     "metadata": {},
     "output_type": "execute_result"
    }
   ],
   "source": [
    "athletes2.shape"
   ]
  },
  {
   "cell_type": "markdown",
   "metadata": {
    "id": "0Rbf4ALF5_6I"
   },
   "source": [
    "This shows that athletes2 is a one dimensional matrix and that dimension has a length of 12. So the names we see are not values in a column but rather the indices.\n",
    "\n",
    "\n",
    "Let's use the index to get the Height of Himawari Akaho:"
   ]
  },
  {
   "cell_type": "code",
   "execution_count": 68,
   "metadata": {
    "colab": {
     "base_uri": "https://localhost:8080/"
    },
    "id": "qGSUN9nk5_6I",
    "outputId": "7ecfc2a9-3a4c-4424-f7a9-5e5a018b3e79"
   },
   "outputs": [
    {
     "data": {
      "text/plain": "185"
     },
     "execution_count": 68,
     "metadata": {},
     "output_type": "execute_result"
    }
   ],
   "source": [
    "athletes2['Himawari Akaho']"
   ]
  },
  {
   "cell_type": "markdown",
   "metadata": {
    "id": "jsnoRfoB5_6I"
   },
   "source": [
    "\n",
    "![](https://raw.githubusercontent.com/zacharski/datamining-guide/master/labs/pics/divider.png)\n",
    "## DataFrame\n",
    "DataFrames are **the most important data structure of Pandas** and are simply\n",
    "a table or spreadsheet like structure.  A DataFrame represents a table like:\n",
    "![](https://raw.githubusercontent.com/zacharski/datamining-guide/master/labs/pics/ioniq5s.png)\n",
    "\n",
    "Make | Drive | Range | Battery_kwH | PeakPower_kW | MPGe | 0-60\n",
    ":---- | :--- | ---: | ---: | ---: | ---: | ---:\n",
    "Ioniq 5 | AWD | 256 | 77.4 | 239 | 98 | 5.0\n",
    "Tesla Model 3 | AWD | 315 | 80 | 298 | 113 | 3.1\n",
    "Rivian R1T | AWD | 316 | 135 | 562 | 70 | 3.0 \n",
    "VW ID.4 | RWD | 260 | 82 | 260 | 107 |  7.7\n",
    "F150 Lightning | AWD | 230 | 110 | 318 | 68 | 4.0\n",
    "\n",
    "### Creating a DataFrame by Hand\n",
    "\n",
    "A common way to create a DataFrame is to use a Python dictionary as follows:"
   ]
  },
  {
   "cell_type": "code",
   "execution_count": 69,
   "metadata": {
    "id": "vrBTdvff5_6J"
   },
   "outputs": [],
   "source": [
    " cars = {'Make': ['Ioniq 5', 'Tesla Model 3', 'Rivian R1T', 'VW ID.4', 'F150 Lightning'],\n",
    "         'Drive': ['AWD', 'AWD', 'AWD', 'RWD', 'AWD'],\n",
    "         'Range': [256, 315, 316, 260, 230],\n",
    "         'Battery_kwH': [77.4, 80, 135, 82, 110],\n",
    "         'PeakPower_kW': [239, 298, 562, 260, 318],\n",
    "         'MPGe': [98, 113, 70, 107, 68],\n",
    "         '0-60': [5.0, 3.1, 3.0, 7.7, 4.0]}\n"
   ]
  },
  {
   "cell_type": "markdown",
   "metadata": {
    "id": "EdgC4ps_5_6J"
   },
   "source": [
    "and now we can create a DataFrame from the `cars` Python dictionary:"
   ]
  },
  {
   "cell_type": "code",
   "execution_count": 70,
   "metadata": {
    "colab": {
     "base_uri": "https://localhost:8080/",
     "height": 206
    },
    "id": "rXSEGWrE5_6J",
    "outputId": "5995da11-30f3-42f6-f3a6-941f74ba8b6e"
   },
   "outputs": [
    {
     "data": {
      "text/plain": "             Make Drive  Range  Battery_kwH  PeakPower_kW  MPGe  0-60\n0         Ioniq 5   AWD    256         77.4           239    98   5.0\n1   Tesla Model 3   AWD    315         80.0           298   113   3.1\n2      Rivian R1T   AWD    316        135.0           562    70   3.0\n3         VW ID.4   RWD    260         82.0           260   107   7.7\n4  F150 Lightning   AWD    230        110.0           318    68   4.0",
      "text/html": "<div>\n<style scoped>\n    .dataframe tbody tr th:only-of-type {\n        vertical-align: middle;\n    }\n\n    .dataframe tbody tr th {\n        vertical-align: top;\n    }\n\n    .dataframe thead th {\n        text-align: right;\n    }\n</style>\n<table border=\"1\" class=\"dataframe\">\n  <thead>\n    <tr style=\"text-align: right;\">\n      <th></th>\n      <th>Make</th>\n      <th>Drive</th>\n      <th>Range</th>\n      <th>Battery_kwH</th>\n      <th>PeakPower_kW</th>\n      <th>MPGe</th>\n      <th>0-60</th>\n    </tr>\n  </thead>\n  <tbody>\n    <tr>\n      <th>0</th>\n      <td>Ioniq 5</td>\n      <td>AWD</td>\n      <td>256</td>\n      <td>77.4</td>\n      <td>239</td>\n      <td>98</td>\n      <td>5.0</td>\n    </tr>\n    <tr>\n      <th>1</th>\n      <td>Tesla Model 3</td>\n      <td>AWD</td>\n      <td>315</td>\n      <td>80.0</td>\n      <td>298</td>\n      <td>113</td>\n      <td>3.1</td>\n    </tr>\n    <tr>\n      <th>2</th>\n      <td>Rivian R1T</td>\n      <td>AWD</td>\n      <td>316</td>\n      <td>135.0</td>\n      <td>562</td>\n      <td>70</td>\n      <td>3.0</td>\n    </tr>\n    <tr>\n      <th>3</th>\n      <td>VW ID.4</td>\n      <td>RWD</td>\n      <td>260</td>\n      <td>82.0</td>\n      <td>260</td>\n      <td>107</td>\n      <td>7.7</td>\n    </tr>\n    <tr>\n      <th>4</th>\n      <td>F150 Lightning</td>\n      <td>AWD</td>\n      <td>230</td>\n      <td>110.0</td>\n      <td>318</td>\n      <td>68</td>\n      <td>4.0</td>\n    </tr>\n  </tbody>\n</table>\n</div>"
     },
     "execution_count": 70,
     "metadata": {},
     "output_type": "execute_result"
    }
   ],
   "source": [
    "df = DataFrame(cars)\n",
    "df\n"
   ]
  },
  {
   "cell_type": "markdown",
   "metadata": {
    "id": "jEg3Sf9b5_6L"
   },
   "source": [
    "Prior to my life with Pandas, I would represent a table like the above one as:"
   ]
  },
  {
   "cell_type": "code",
   "execution_count": 71,
   "metadata": {
    "colab": {
     "base_uri": "https://localhost:8080/",
     "height": 35
    },
    "id": "S9ZOpv1s5_6N",
    "outputId": "e80d9ef1-5f09-44cd-a48f-9f01bae35790"
   },
   "outputs": [
    {
     "data": {
      "text/plain": "'Ioniq 5'"
     },
     "execution_count": 71,
     "metadata": {},
     "output_type": "execute_result"
    }
   ],
   "source": [
    "prePandas = [{'Make': 'Ioniq 5', 'Drive': 'AWD', 'Range': 256, 'Battery_kwH': 77.4, 'PeakPower_kW': 98, 'MPGe': 98, '0-60': 5.0},\n",
    "             {'Make': 'Tesla Model 3', 'Drive': 'AWD', 'Range': 315, 'Battery_kwH': 80.0, 'PeakPower_kW': 113,'MPGe': 113, '0-60': 3.1},\n",
    "             {'Make': 'Rivian R1T', 'Drive': 'AWD', 'Range': 316, 'Battery_kwH': 135.0, 'PeakPower_kW': 562,'MPGe': 70, '0-60': 3.0},\n",
    "             {'Make': 'VW ID.4', 'Drive': 'RWD', 'Range': 260, 'Battery_kwH': 82.0, 'PeakPower_kW': 260,'MPGe': 107, '0-60': 7.7},\n",
    "             {'Make': 'F150 Lightning', 'Drive': 'AWD', 'Range': 230, 'Battery_kwH': 110.0, 'PeakPower_kW': 318,'MPGe': 68, '0-60': 4.0}]\n",
    "\n",
    "\n",
    "prePandas[0]['Make']"
   ]
  },
  {
   "cell_type": "markdown",
   "metadata": {
    "id": "nn_l6LeM5_6N"
   },
   "source": [
    "In the prePandas scheme the data is organized first by rows. That seemed logical to me since each row represents an object and is how we organize data in an SQL database. In the Pandas representation the data is organized by columns. \n"
   ]
  },
  {
   "cell_type": "markdown",
   "metadata": {
    "id": "jF0ki9F-5_6R"
   },
   "source": [
    "\n",
    "![](https://raw.githubusercontent.com/zacharski/datamining-guide/master/labs/pics/divider.png)\n",
    "\n",
    "## Reading data from a csv file:\n",
    "\n",
    "A CSV file (comma separated values) is a common data format for data science files. As| the name suggests, the data values in a row are separated by commas. For example, the data file to represent the table:\n",
    "\n",
    "\n",
    "Make | Drive | Range | Battery_kwH | PeakPower_kW | MPGe | 0-60\n",
    ":---- | :--- | ---: | ---: | ---: | ---: | ---:\n",
    "Ioniq 5 | AWD | 256 | 77.4 | 239 | 98 | 5.0\n",
    "Tesla Model 3 | AWD | 315 | 80 | 298 | 113 | 3.1\n",
    "Rivian R1T | AWD | 316 | 135 | 562 | 70 | 3.0 \n",
    "VW ID.4 | RWD | 260 | 82 | 260 | 107 |  7.7\n",
    "F150 Lightning | AWD | 230 | 110 | 318 | 68 | 4.0\n",
    "\n",
    "\n",
    "would be\n",
    "\n",
    "```\n",
    "Make,Drive,Range,Battery_kwH,PeakPower_kW,MPGe,0-60\n",
    "Ioniq 5,AWD,256,77.4,239,98,5.0\n",
    "Tesla Model 3,AWD,315,80,298,113,3.1\n",
    "Rivian R1T,AWD,316,135,562,70,3.0 \n",
    "VW ID.4,RWD,260,82,260,107,7.7\n",
    "F150 Lightning,AWD,230,110,318,68,4.0\n",
    "\n",
    "```\n",
    "\n",
    "\n",
    "As the name suggests, we use the `pd.read_csv` function to read a csv file.  `pd.read_csv` can read a csv file from either your local machine or the web. Let's start with the web.\n",
    "\n",
    "### Reading a CSV file from the web.\n",
    "To read a file from the web, we simply provide a URL:\n"
   ]
  },
  {
   "cell_type": "code",
   "execution_count": 72,
   "metadata": {
    "colab": {
     "base_uri": "https://localhost:8080/",
     "height": 424
    },
    "id": "aI_DSjQi5_6S",
    "outputId": "41dd3ef8-0ea6-43d7-c209-09f921223746"
   },
   "outputs": [
    {
     "data": {
      "text/plain": "          Brand                            Model  AccelSec  TopSpeed_KmH  \\\n0         Tesla    Model 3 Long Range Dual Motor       4.6           233   \n1    Volkswagen                        ID.3 Pure      10.0           160   \n2      Polestar                                2       4.7           210   \n3           BMW                              iX3       6.8           180   \n4         Honda                                e       9.5           145   \n..          ...                              ...       ...           ...   \n101      Nissan  Ariya e-4ORCE 87kWh Performance       5.1           200   \n102       Byton                M-Byte 95 kWh 2WD       7.5           190   \n103      Rivian                              R1T       3.0           185   \n104         GMC                        Hummer EV       3.0           171   \n105        Ford                   F150 Lightning       3.0           180   \n\n     Range_Km  Efficiency_WhKm FastCharge_KmH RapidCharge PowerTrain  \\\n0         450              161            940         Yes        AWD   \n1         270              167            250         Yes        RWD   \n2         400              181            620         Yes        AWD   \n3         360              206            560         Yes        RWD   \n4         170              168            190         Yes        RWD   \n..        ...              ...            ...         ...        ...   \n101       375              232            450         Yes        AWD   \n102       400              238            480         Yes        AWD   \n103       505              299            337         Yes        AWD   \n104       529              446           250          Yes        AWD   \n105       514              299           309          Yes        AWD   \n\n       PlugType  BodyStyle Segment  Seats PriceEuro  \n0    Type 2 CCS      Sedan       D      5     55480  \n1    Type 2 CCS  Hatchback       C      5     30000  \n2    Type 2 CCS   Liftback       D      5     56440  \n3    Type 2 CCS        SUV       D      5     68040  \n4    Type 2 CCS  Hatchback       B      4     32997  \n..          ...        ...     ...    ...       ...  \n101  Type 2 CCS  Hatchback       C      5     65000  \n102  Type 2 CCS        SUV       E      5     62000  \n103  Type 2 CCS     Pickup       N      6     75000  \n104  Type 2 CCS      Truck       E      5         -  \n105  Type 2 CCS      Truck       E      5         -  \n\n[106 rows x 14 columns]",
      "text/html": "<div>\n<style scoped>\n    .dataframe tbody tr th:only-of-type {\n        vertical-align: middle;\n    }\n\n    .dataframe tbody tr th {\n        vertical-align: top;\n    }\n\n    .dataframe thead th {\n        text-align: right;\n    }\n</style>\n<table border=\"1\" class=\"dataframe\">\n  <thead>\n    <tr style=\"text-align: right;\">\n      <th></th>\n      <th>Brand</th>\n      <th>Model</th>\n      <th>AccelSec</th>\n      <th>TopSpeed_KmH</th>\n      <th>Range_Km</th>\n      <th>Efficiency_WhKm</th>\n      <th>FastCharge_KmH</th>\n      <th>RapidCharge</th>\n      <th>PowerTrain</th>\n      <th>PlugType</th>\n      <th>BodyStyle</th>\n      <th>Segment</th>\n      <th>Seats</th>\n      <th>PriceEuro</th>\n    </tr>\n  </thead>\n  <tbody>\n    <tr>\n      <th>0</th>\n      <td>Tesla</td>\n      <td>Model 3 Long Range Dual Motor</td>\n      <td>4.6</td>\n      <td>233</td>\n      <td>450</td>\n      <td>161</td>\n      <td>940</td>\n      <td>Yes</td>\n      <td>AWD</td>\n      <td>Type 2 CCS</td>\n      <td>Sedan</td>\n      <td>D</td>\n      <td>5</td>\n      <td>55480</td>\n    </tr>\n    <tr>\n      <th>1</th>\n      <td>Volkswagen</td>\n      <td>ID.3 Pure</td>\n      <td>10.0</td>\n      <td>160</td>\n      <td>270</td>\n      <td>167</td>\n      <td>250</td>\n      <td>Yes</td>\n      <td>RWD</td>\n      <td>Type 2 CCS</td>\n      <td>Hatchback</td>\n      <td>C</td>\n      <td>5</td>\n      <td>30000</td>\n    </tr>\n    <tr>\n      <th>2</th>\n      <td>Polestar</td>\n      <td>2</td>\n      <td>4.7</td>\n      <td>210</td>\n      <td>400</td>\n      <td>181</td>\n      <td>620</td>\n      <td>Yes</td>\n      <td>AWD</td>\n      <td>Type 2 CCS</td>\n      <td>Liftback</td>\n      <td>D</td>\n      <td>5</td>\n      <td>56440</td>\n    </tr>\n    <tr>\n      <th>3</th>\n      <td>BMW</td>\n      <td>iX3</td>\n      <td>6.8</td>\n      <td>180</td>\n      <td>360</td>\n      <td>206</td>\n      <td>560</td>\n      <td>Yes</td>\n      <td>RWD</td>\n      <td>Type 2 CCS</td>\n      <td>SUV</td>\n      <td>D</td>\n      <td>5</td>\n      <td>68040</td>\n    </tr>\n    <tr>\n      <th>4</th>\n      <td>Honda</td>\n      <td>e</td>\n      <td>9.5</td>\n      <td>145</td>\n      <td>170</td>\n      <td>168</td>\n      <td>190</td>\n      <td>Yes</td>\n      <td>RWD</td>\n      <td>Type 2 CCS</td>\n      <td>Hatchback</td>\n      <td>B</td>\n      <td>4</td>\n      <td>32997</td>\n    </tr>\n    <tr>\n      <th>...</th>\n      <td>...</td>\n      <td>...</td>\n      <td>...</td>\n      <td>...</td>\n      <td>...</td>\n      <td>...</td>\n      <td>...</td>\n      <td>...</td>\n      <td>...</td>\n      <td>...</td>\n      <td>...</td>\n      <td>...</td>\n      <td>...</td>\n      <td>...</td>\n    </tr>\n    <tr>\n      <th>101</th>\n      <td>Nissan</td>\n      <td>Ariya e-4ORCE 87kWh Performance</td>\n      <td>5.1</td>\n      <td>200</td>\n      <td>375</td>\n      <td>232</td>\n      <td>450</td>\n      <td>Yes</td>\n      <td>AWD</td>\n      <td>Type 2 CCS</td>\n      <td>Hatchback</td>\n      <td>C</td>\n      <td>5</td>\n      <td>65000</td>\n    </tr>\n    <tr>\n      <th>102</th>\n      <td>Byton</td>\n      <td>M-Byte 95 kWh 2WD</td>\n      <td>7.5</td>\n      <td>190</td>\n      <td>400</td>\n      <td>238</td>\n      <td>480</td>\n      <td>Yes</td>\n      <td>AWD</td>\n      <td>Type 2 CCS</td>\n      <td>SUV</td>\n      <td>E</td>\n      <td>5</td>\n      <td>62000</td>\n    </tr>\n    <tr>\n      <th>103</th>\n      <td>Rivian</td>\n      <td>R1T</td>\n      <td>3.0</td>\n      <td>185</td>\n      <td>505</td>\n      <td>299</td>\n      <td>337</td>\n      <td>Yes</td>\n      <td>AWD</td>\n      <td>Type 2 CCS</td>\n      <td>Pickup</td>\n      <td>N</td>\n      <td>6</td>\n      <td>75000</td>\n    </tr>\n    <tr>\n      <th>104</th>\n      <td>GMC</td>\n      <td>Hummer EV</td>\n      <td>3.0</td>\n      <td>171</td>\n      <td>529</td>\n      <td>446</td>\n      <td>250</td>\n      <td>Yes</td>\n      <td>AWD</td>\n      <td>Type 2 CCS</td>\n      <td>Truck</td>\n      <td>E</td>\n      <td>5</td>\n      <td>-</td>\n    </tr>\n    <tr>\n      <th>105</th>\n      <td>Ford</td>\n      <td>F150 Lightning</td>\n      <td>3.0</td>\n      <td>180</td>\n      <td>514</td>\n      <td>299</td>\n      <td>309</td>\n      <td>Yes</td>\n      <td>AWD</td>\n      <td>Type 2 CCS</td>\n      <td>Truck</td>\n      <td>E</td>\n      <td>5</td>\n      <td>-</td>\n    </tr>\n  </tbody>\n</table>\n<p>106 rows × 14 columns</p>\n</div>"
     },
     "execution_count": 72,
     "metadata": {},
     "output_type": "execute_result"
    }
   ],
   "source": [
    "evs = pd.read_csv('https://raw.githubusercontent.com/zacharski/datamining-guide/main/data/ElectricCarData_Clean.csv')\n",
    "evs"
   ]
  },
  {
   "cell_type": "markdown",
   "metadata": {
    "id": "yzGCv3ub5_6S"
   },
   "source": [
    "Sometimes the csv file has a header row as was the case in the example above. That file starts with the line\n",
    "```\n",
    "Brand,Model,AccelSec,TopSpeed_KmH,Range_Km,Efficiency_WhKm,FastCharge_KmH,RapidCharge,PowerTrain,PlugType,BodyStyle,Segment,Seats,PriceEuro\n",
    "```\n",
    "as we can see by using `curl`\n",
    "\n"
   ]
  },
  {
   "cell_type": "code",
   "execution_count": 73,
   "metadata": {
    "colab": {
     "base_uri": "https://localhost:8080/"
    },
    "id": "fdv2ZbES5_6S",
    "outputId": "29f09f59-e315-4766-9762-0c52c7ab572f"
   },
   "outputs": [
    {
     "name": "stdout",
     "output_type": "stream",
     "text": [
      "Brand,Model,AccelSec,TopSpeed_KmH,Range_Km,Efficiency_WhKm,FastCharge_KmH,RapidCharge,PowerTrain,PlugType,BodyStyle,Segment,Seats,PriceEuro\r\n",
      "Tesla,Model 3 Long Range Dual Motor,4.6,233,450,161,940,Yes,AWD,Type 2 CCS,Sedan,D,5,55480\r\n",
      "Volkswagen,ID.3 Pure,10,160,270,167,250,Yes,RWD,Type 2 CCS,Hatchback,C,5,30000\r\n",
      "Polestar,2,4.7,210,400,181,620,Yes,AWD,Type 2 CCS,Liftback,D,5,56440\r\n",
      "BMW,iX3,6.8,180,360,206,560,Yes,RWD,Type 2 CCS,SUV,D,5,68040\r\n",
      "Honda,e,9.5,145,170,168,190,Yes,RWD,Type 2 CCS,Hatchback,B,4,32997\r\n",
      "Lucid,Air,2.8,250,610,180,620,Yes,AWD,Type 2 CCS,Sedan,F,5,105000\r\n",
      "Volkswagen,e-Golf,9.6,150,190,168,220,Yes,FWD,Type 2 CCS,Hatchback,C,5,31900\r\n",
      "Peugeot,e-208,8.1,150,275,164,420,Yes,FWD,Type 2 CCS,Hatchback,B,5,29682\r\n",
      "Tesla,Model 3 Standard Range Plus,5.6,225,310,153,650,Yes,RWD,Type 2 CCS,Sedan,D,5,46380\r\n"
     ]
    }
   ],
   "source": [
    "!curl -s https://raw.githubusercontent.com/zacharski/datamining-guide/main/data/ElectricCarData_Clean.csv |  head"
   ]
  },
  {
   "cell_type": "markdown",
   "metadata": {
    "id": "5efST_F75_6S"
   },
   "source": [
    "**An aside**\n",
    "\n",
    "We can preface any Unix command with a bang (!) to have it execute in our Notebook.  This is amazingly handy:\n",
    "\n"
   ]
  },
  {
   "cell_type": "code",
   "execution_count": 74,
   "metadata": {
    "colab": {
     "base_uri": "https://localhost:8080/"
    },
    "id": "5uwwuq_05_6S",
    "outputId": "dcabf97e-4c74-46e5-fdb5-c30935d4e977"
   },
   "outputs": [
    {
     "name": "stdout",
     "output_type": "stream",
     "text": [
      "data\t\t\t intro_to_sklearn.ipynb  pandas.ipynb\t   README.md\r\n",
      "intro-to-sklearn2.ipynb  numpy.ipynb\t\t Quickstart.ipynb\r\n"
     ]
    }
   ],
   "source": [
    "!ls"
   ]
  },
  {
   "cell_type": "code",
   "execution_count": 75,
   "metadata": {
    "colab": {
     "base_uri": "https://localhost:8080/"
    },
    "id": "yIffxBbG5_6S",
    "outputId": "be6a08bd-13c1-4631-e4d0-bbc07e23bc9e"
   },
   "outputs": [
    {
     "name": "stdout",
     "output_type": "stream",
     "text": [
      "/home/machine/Documents/GitHub/mindmap/courses/machine_learning\r\n"
     ]
    }
   ],
   "source": [
    "!pwd"
   ]
  },
  {
   "cell_type": "markdown",
   "metadata": {
    "id": "crLbUs435_6S"
   },
   "source": [
    "### Files with No Header Row\n",
    "Sometimes the csv file does not have a header row. So for example, data might start on the very first line of the file\n",
    "\n",
    "```\n",
    "Tesla ,Model 3 Long Range Dual Motor,4.6,233,450,161,940,Yes,AWD,Type 2 CCS,Sedan,D,5,55480\n",
    "Volkswagen ,ID.3 Pure,10,160,270,167,250,Yes,RWD,Type 2 CCS,Hatchback,C,5,30000\n",
    "Polestar ,2,4.7,210,400,181,620,Yes,AWD,Type 2 CCS,Liftback,D,5,56440\n",
    "```\n",
    "\n",
    "In that case you specify the names of the columns using the `names` parameter:"
   ]
  },
  {
   "cell_type": "code",
   "execution_count": 76,
   "metadata": {
    "colab": {
     "base_uri": "https://localhost:8080/",
     "height": 424
    },
    "id": "fZdLb0Fb5_6S",
    "outputId": "3d22d9cf-5726-4323-c42a-cb6fa41edd2f"
   },
   "outputs": [
    {
     "data": {
      "text/plain": "           Brand                            Model  AccelSec  TopSpeed_KmH  \\\n0         Tesla     Model 3 Long Range Dual Motor       4.6           233   \n1    Volkswagen                         ID.3 Pure      10.0           160   \n2      Polestar                                 2       4.7           210   \n3           BMW                              iX3        6.8           180   \n4         Honda                                e        9.5           145   \n..           ...                              ...       ...           ...   \n98       Nissan                       Ariya 63kWh       7.5           160   \n99         Audi     e-tron S Sportback 55 quattro       4.5           210   \n100      Nissan               Ariya e-4ORCE 63kWh       5.9           200   \n101      Nissan   Ariya e-4ORCE 87kWh Performance       5.1           200   \n102       Byton                 M-Byte 95 kWh 2WD       7.5           190   \n\n     Range_Km  Efficiency_WhKm FastCharge_KmH RapidCharge PowerTrain  \\\n0         450              161            940         Yes        AWD   \n1         270              167            250         Yes        RWD   \n2         400              181            620         Yes        AWD   \n3         360              206            560         Yes        RWD   \n4         170              168            190         Yes        RWD   \n..        ...              ...            ...         ...        ...   \n98        330              191            440         Yes        FWD   \n99        335              258            540         Yes        AWD   \n100       325              194            440         Yes        AWD   \n101       375              232            450         Yes        AWD   \n102       400              238            480         Yes        AWD   \n\n       PlugType  BodyStyle Segment  Seats  PriceEuro  \n0    Type 2 CCS      Sedan       D      5      55480  \n1    Type 2 CCS  Hatchback       C      5      30000  \n2    Type 2 CCS   Liftback       D      5      56440  \n3    Type 2 CCS        SUV       D      5      68040  \n4    Type 2 CCS  Hatchback       B      4      32997  \n..          ...        ...     ...    ...        ...  \n98   Type 2 CCS  Hatchback       C      5      45000  \n99   Type 2 CCS        SUV       E      5      96050  \n100  Type 2 CCS  Hatchback       C      5      50000  \n101  Type 2 CCS  Hatchback       C      5      65000  \n102  Type 2 CCS        SUV       E      5      62000  \n\n[103 rows x 14 columns]",
      "text/html": "<div>\n<style scoped>\n    .dataframe tbody tr th:only-of-type {\n        vertical-align: middle;\n    }\n\n    .dataframe tbody tr th {\n        vertical-align: top;\n    }\n\n    .dataframe thead th {\n        text-align: right;\n    }\n</style>\n<table border=\"1\" class=\"dataframe\">\n  <thead>\n    <tr style=\"text-align: right;\">\n      <th></th>\n      <th>Brand</th>\n      <th>Model</th>\n      <th>AccelSec</th>\n      <th>TopSpeed_KmH</th>\n      <th>Range_Km</th>\n      <th>Efficiency_WhKm</th>\n      <th>FastCharge_KmH</th>\n      <th>RapidCharge</th>\n      <th>PowerTrain</th>\n      <th>PlugType</th>\n      <th>BodyStyle</th>\n      <th>Segment</th>\n      <th>Seats</th>\n      <th>PriceEuro</th>\n    </tr>\n  </thead>\n  <tbody>\n    <tr>\n      <th>0</th>\n      <td>Tesla</td>\n      <td>Model 3 Long Range Dual Motor</td>\n      <td>4.6</td>\n      <td>233</td>\n      <td>450</td>\n      <td>161</td>\n      <td>940</td>\n      <td>Yes</td>\n      <td>AWD</td>\n      <td>Type 2 CCS</td>\n      <td>Sedan</td>\n      <td>D</td>\n      <td>5</td>\n      <td>55480</td>\n    </tr>\n    <tr>\n      <th>1</th>\n      <td>Volkswagen</td>\n      <td>ID.3 Pure</td>\n      <td>10.0</td>\n      <td>160</td>\n      <td>270</td>\n      <td>167</td>\n      <td>250</td>\n      <td>Yes</td>\n      <td>RWD</td>\n      <td>Type 2 CCS</td>\n      <td>Hatchback</td>\n      <td>C</td>\n      <td>5</td>\n      <td>30000</td>\n    </tr>\n    <tr>\n      <th>2</th>\n      <td>Polestar</td>\n      <td>2</td>\n      <td>4.7</td>\n      <td>210</td>\n      <td>400</td>\n      <td>181</td>\n      <td>620</td>\n      <td>Yes</td>\n      <td>AWD</td>\n      <td>Type 2 CCS</td>\n      <td>Liftback</td>\n      <td>D</td>\n      <td>5</td>\n      <td>56440</td>\n    </tr>\n    <tr>\n      <th>3</th>\n      <td>BMW</td>\n      <td>iX3</td>\n      <td>6.8</td>\n      <td>180</td>\n      <td>360</td>\n      <td>206</td>\n      <td>560</td>\n      <td>Yes</td>\n      <td>RWD</td>\n      <td>Type 2 CCS</td>\n      <td>SUV</td>\n      <td>D</td>\n      <td>5</td>\n      <td>68040</td>\n    </tr>\n    <tr>\n      <th>4</th>\n      <td>Honda</td>\n      <td>e</td>\n      <td>9.5</td>\n      <td>145</td>\n      <td>170</td>\n      <td>168</td>\n      <td>190</td>\n      <td>Yes</td>\n      <td>RWD</td>\n      <td>Type 2 CCS</td>\n      <td>Hatchback</td>\n      <td>B</td>\n      <td>4</td>\n      <td>32997</td>\n    </tr>\n    <tr>\n      <th>...</th>\n      <td>...</td>\n      <td>...</td>\n      <td>...</td>\n      <td>...</td>\n      <td>...</td>\n      <td>...</td>\n      <td>...</td>\n      <td>...</td>\n      <td>...</td>\n      <td>...</td>\n      <td>...</td>\n      <td>...</td>\n      <td>...</td>\n      <td>...</td>\n    </tr>\n    <tr>\n      <th>98</th>\n      <td>Nissan</td>\n      <td>Ariya 63kWh</td>\n      <td>7.5</td>\n      <td>160</td>\n      <td>330</td>\n      <td>191</td>\n      <td>440</td>\n      <td>Yes</td>\n      <td>FWD</td>\n      <td>Type 2 CCS</td>\n      <td>Hatchback</td>\n      <td>C</td>\n      <td>5</td>\n      <td>45000</td>\n    </tr>\n    <tr>\n      <th>99</th>\n      <td>Audi</td>\n      <td>e-tron S Sportback 55 quattro</td>\n      <td>4.5</td>\n      <td>210</td>\n      <td>335</td>\n      <td>258</td>\n      <td>540</td>\n      <td>Yes</td>\n      <td>AWD</td>\n      <td>Type 2 CCS</td>\n      <td>SUV</td>\n      <td>E</td>\n      <td>5</td>\n      <td>96050</td>\n    </tr>\n    <tr>\n      <th>100</th>\n      <td>Nissan</td>\n      <td>Ariya e-4ORCE 63kWh</td>\n      <td>5.9</td>\n      <td>200</td>\n      <td>325</td>\n      <td>194</td>\n      <td>440</td>\n      <td>Yes</td>\n      <td>AWD</td>\n      <td>Type 2 CCS</td>\n      <td>Hatchback</td>\n      <td>C</td>\n      <td>5</td>\n      <td>50000</td>\n    </tr>\n    <tr>\n      <th>101</th>\n      <td>Nissan</td>\n      <td>Ariya e-4ORCE 87kWh Performance</td>\n      <td>5.1</td>\n      <td>200</td>\n      <td>375</td>\n      <td>232</td>\n      <td>450</td>\n      <td>Yes</td>\n      <td>AWD</td>\n      <td>Type 2 CCS</td>\n      <td>Hatchback</td>\n      <td>C</td>\n      <td>5</td>\n      <td>65000</td>\n    </tr>\n    <tr>\n      <th>102</th>\n      <td>Byton</td>\n      <td>M-Byte 95 kWh 2WD</td>\n      <td>7.5</td>\n      <td>190</td>\n      <td>400</td>\n      <td>238</td>\n      <td>480</td>\n      <td>Yes</td>\n      <td>AWD</td>\n      <td>Type 2 CCS</td>\n      <td>SUV</td>\n      <td>E</td>\n      <td>5</td>\n      <td>62000</td>\n    </tr>\n  </tbody>\n</table>\n<p>103 rows × 14 columns</p>\n</div>"
     },
     "execution_count": 76,
     "metadata": {},
     "output_type": "execute_result"
    }
   ],
   "source": [
    "columnNames = ['Brand','Model','AccelSec','TopSpeed_KmH','Range_Km','Efficiency_WhKm',\n",
    "               'FastCharge_KmH','RapidCharge','PowerTrain','PlugType','BodyStyle',\n",
    "               'Segment','Seats','PriceEuro']\n",
    "\n",
    "evs2 = pd.read_csv('https://raw.githubusercontent.com/zacharski/datamining-guide/main/data/ElectricCarData_Clean_NoHeader.csv', names=columnNames)\n",
    "evs2"
   ]
  },
  {
   "cell_type": "markdown",
   "metadata": {
    "id": "rDEsbtEb5_6S"
   },
   "source": [
    "\n",
    "![](https://raw.githubusercontent.com/zacharski/datamining-guide/master/labs/pics/divider.png)\n",
    "\n",
    "### Reading a CSV file the local machine\n",
    "First, let's get that file onto our local machine:"
   ]
  },
  {
   "cell_type": "code",
   "execution_count": 77,
   "metadata": {
    "colab": {
     "base_uri": "https://localhost:8080/"
    },
    "id": "fqawj6Hs5_6T",
    "outputId": "52294aee-9523-4c09-8db2-e0d05209c8c0"
   },
   "outputs": [
    {
     "name": "stdout",
     "output_type": "stream",
     "text": [
      "  % Total    % Received % Xferd  Average Speed   Time    Time     Time  Current\r\n",
      "                                 Dload  Upload   Total   Spent    Left  Speed\r\n",
      "100  8268  100  8268    0     0  92947      0 --:--:-- --:--:-- --:--:-- 93954\r\n"
     ]
    }
   ],
   "source": [
    "!curl https://raw.githubusercontent.com/zacharski/datamining-guide/main/data/ElectricCarData_Clean.csv > evs.csv"
   ]
  },
  {
   "cell_type": "markdown",
   "metadata": {
    "id": "26XgMZAN5_6T"
   },
   "source": [
    "Hmm. That didn't work. Can you fix the error and rerun that cell?\n",
    "\n",
    "---\n",
    "Now we can specify the local file using `pd=read_csv`"
   ]
  },
  {
   "cell_type": "code",
   "execution_count": 78,
   "metadata": {
    "colab": {
     "base_uri": "https://localhost:8080/",
     "height": 424
    },
    "id": "a4BfeSRF5_6T",
    "outputId": "82e324bf-f6f1-49cd-adda-44413a332609",
    "scrolled": true
   },
   "outputs": [
    {
     "data": {
      "text/plain": "          Brand                            Model  AccelSec  TopSpeed_KmH  \\\n0         Tesla    Model 3 Long Range Dual Motor       4.6           233   \n1    Volkswagen                        ID.3 Pure      10.0           160   \n2      Polestar                                2       4.7           210   \n3           BMW                              iX3       6.8           180   \n4         Honda                                e       9.5           145   \n..          ...                              ...       ...           ...   \n101      Nissan  Ariya e-4ORCE 87kWh Performance       5.1           200   \n102       Byton                M-Byte 95 kWh 2WD       7.5           190   \n103      Rivian                              R1T       3.0           185   \n104         GMC                        Hummer EV       3.0           171   \n105        Ford                   F150 Lightning       3.0           180   \n\n     Range_Km  Efficiency_WhKm FastCharge_KmH RapidCharge PowerTrain  \\\n0         450              161            940         Yes        AWD   \n1         270              167            250         Yes        RWD   \n2         400              181            620         Yes        AWD   \n3         360              206            560         Yes        RWD   \n4         170              168            190         Yes        RWD   \n..        ...              ...            ...         ...        ...   \n101       375              232            450         Yes        AWD   \n102       400              238            480         Yes        AWD   \n103       505              299            337         Yes        AWD   \n104       529              446           250          Yes        AWD   \n105       514              299           309          Yes        AWD   \n\n       PlugType  BodyStyle Segment  Seats PriceEuro  \n0    Type 2 CCS      Sedan       D      5     55480  \n1    Type 2 CCS  Hatchback       C      5     30000  \n2    Type 2 CCS   Liftback       D      5     56440  \n3    Type 2 CCS        SUV       D      5     68040  \n4    Type 2 CCS  Hatchback       B      4     32997  \n..          ...        ...     ...    ...       ...  \n101  Type 2 CCS  Hatchback       C      5     65000  \n102  Type 2 CCS        SUV       E      5     62000  \n103  Type 2 CCS     Pickup       N      6     75000  \n104  Type 2 CCS      Truck       E      5         -  \n105  Type 2 CCS      Truck       E      5         -  \n\n[106 rows x 14 columns]",
      "text/html": "<div>\n<style scoped>\n    .dataframe tbody tr th:only-of-type {\n        vertical-align: middle;\n    }\n\n    .dataframe tbody tr th {\n        vertical-align: top;\n    }\n\n    .dataframe thead th {\n        text-align: right;\n    }\n</style>\n<table border=\"1\" class=\"dataframe\">\n  <thead>\n    <tr style=\"text-align: right;\">\n      <th></th>\n      <th>Brand</th>\n      <th>Model</th>\n      <th>AccelSec</th>\n      <th>TopSpeed_KmH</th>\n      <th>Range_Km</th>\n      <th>Efficiency_WhKm</th>\n      <th>FastCharge_KmH</th>\n      <th>RapidCharge</th>\n      <th>PowerTrain</th>\n      <th>PlugType</th>\n      <th>BodyStyle</th>\n      <th>Segment</th>\n      <th>Seats</th>\n      <th>PriceEuro</th>\n    </tr>\n  </thead>\n  <tbody>\n    <tr>\n      <th>0</th>\n      <td>Tesla</td>\n      <td>Model 3 Long Range Dual Motor</td>\n      <td>4.6</td>\n      <td>233</td>\n      <td>450</td>\n      <td>161</td>\n      <td>940</td>\n      <td>Yes</td>\n      <td>AWD</td>\n      <td>Type 2 CCS</td>\n      <td>Sedan</td>\n      <td>D</td>\n      <td>5</td>\n      <td>55480</td>\n    </tr>\n    <tr>\n      <th>1</th>\n      <td>Volkswagen</td>\n      <td>ID.3 Pure</td>\n      <td>10.0</td>\n      <td>160</td>\n      <td>270</td>\n      <td>167</td>\n      <td>250</td>\n      <td>Yes</td>\n      <td>RWD</td>\n      <td>Type 2 CCS</td>\n      <td>Hatchback</td>\n      <td>C</td>\n      <td>5</td>\n      <td>30000</td>\n    </tr>\n    <tr>\n      <th>2</th>\n      <td>Polestar</td>\n      <td>2</td>\n      <td>4.7</td>\n      <td>210</td>\n      <td>400</td>\n      <td>181</td>\n      <td>620</td>\n      <td>Yes</td>\n      <td>AWD</td>\n      <td>Type 2 CCS</td>\n      <td>Liftback</td>\n      <td>D</td>\n      <td>5</td>\n      <td>56440</td>\n    </tr>\n    <tr>\n      <th>3</th>\n      <td>BMW</td>\n      <td>iX3</td>\n      <td>6.8</td>\n      <td>180</td>\n      <td>360</td>\n      <td>206</td>\n      <td>560</td>\n      <td>Yes</td>\n      <td>RWD</td>\n      <td>Type 2 CCS</td>\n      <td>SUV</td>\n      <td>D</td>\n      <td>5</td>\n      <td>68040</td>\n    </tr>\n    <tr>\n      <th>4</th>\n      <td>Honda</td>\n      <td>e</td>\n      <td>9.5</td>\n      <td>145</td>\n      <td>170</td>\n      <td>168</td>\n      <td>190</td>\n      <td>Yes</td>\n      <td>RWD</td>\n      <td>Type 2 CCS</td>\n      <td>Hatchback</td>\n      <td>B</td>\n      <td>4</td>\n      <td>32997</td>\n    </tr>\n    <tr>\n      <th>...</th>\n      <td>...</td>\n      <td>...</td>\n      <td>...</td>\n      <td>...</td>\n      <td>...</td>\n      <td>...</td>\n      <td>...</td>\n      <td>...</td>\n      <td>...</td>\n      <td>...</td>\n      <td>...</td>\n      <td>...</td>\n      <td>...</td>\n      <td>...</td>\n    </tr>\n    <tr>\n      <th>101</th>\n      <td>Nissan</td>\n      <td>Ariya e-4ORCE 87kWh Performance</td>\n      <td>5.1</td>\n      <td>200</td>\n      <td>375</td>\n      <td>232</td>\n      <td>450</td>\n      <td>Yes</td>\n      <td>AWD</td>\n      <td>Type 2 CCS</td>\n      <td>Hatchback</td>\n      <td>C</td>\n      <td>5</td>\n      <td>65000</td>\n    </tr>\n    <tr>\n      <th>102</th>\n      <td>Byton</td>\n      <td>M-Byte 95 kWh 2WD</td>\n      <td>7.5</td>\n      <td>190</td>\n      <td>400</td>\n      <td>238</td>\n      <td>480</td>\n      <td>Yes</td>\n      <td>AWD</td>\n      <td>Type 2 CCS</td>\n      <td>SUV</td>\n      <td>E</td>\n      <td>5</td>\n      <td>62000</td>\n    </tr>\n    <tr>\n      <th>103</th>\n      <td>Rivian</td>\n      <td>R1T</td>\n      <td>3.0</td>\n      <td>185</td>\n      <td>505</td>\n      <td>299</td>\n      <td>337</td>\n      <td>Yes</td>\n      <td>AWD</td>\n      <td>Type 2 CCS</td>\n      <td>Pickup</td>\n      <td>N</td>\n      <td>6</td>\n      <td>75000</td>\n    </tr>\n    <tr>\n      <th>104</th>\n      <td>GMC</td>\n      <td>Hummer EV</td>\n      <td>3.0</td>\n      <td>171</td>\n      <td>529</td>\n      <td>446</td>\n      <td>250</td>\n      <td>Yes</td>\n      <td>AWD</td>\n      <td>Type 2 CCS</td>\n      <td>Truck</td>\n      <td>E</td>\n      <td>5</td>\n      <td>-</td>\n    </tr>\n    <tr>\n      <th>105</th>\n      <td>Ford</td>\n      <td>F150 Lightning</td>\n      <td>3.0</td>\n      <td>180</td>\n      <td>514</td>\n      <td>299</td>\n      <td>309</td>\n      <td>Yes</td>\n      <td>AWD</td>\n      <td>Type 2 CCS</td>\n      <td>Truck</td>\n      <td>E</td>\n      <td>5</td>\n      <td>-</td>\n    </tr>\n  </tbody>\n</table>\n<p>106 rows × 14 columns</p>\n</div>"
     },
     "execution_count": 78,
     "metadata": {},
     "output_type": "execute_result"
    }
   ],
   "source": [
    "ev3 = pd.read_csv('evs.csv')\n",
    "ev3"
   ]
  },
  {
   "cell_type": "markdown",
   "metadata": {
    "id": "X4nV_5qa5_6T"
   },
   "source": [
    "Suppose we want that file in a data directory. Let's go ahead and create the directory and move the file there."
   ]
  },
  {
   "cell_type": "code",
   "execution_count": 79,
   "metadata": {
    "id": "dSXrr4Er5_6T"
   },
   "outputs": [
    {
     "name": "stdout",
     "output_type": "stream",
     "text": [
      "mkdir: cannot create directory ‘data’: File exists\r\n"
     ]
    }
   ],
   "source": [
    "!mkdir data\n",
    "!mv evs.csv data"
   ]
  },
  {
   "cell_type": "markdown",
   "metadata": {
    "id": "o4-wisLL5_6T"
   },
   "source": [
    "Now when we load the file we need to give more of a path:"
   ]
  },
  {
   "cell_type": "code",
   "execution_count": 80,
   "metadata": {
    "colab": {
     "base_uri": "https://localhost:8080/",
     "height": 424
    },
    "id": "UhuexVjS5_6T",
    "outputId": "4e46dd17-f064-4ebb-fd3e-458c8995fd04"
   },
   "outputs": [
    {
     "data": {
      "text/plain": "          Brand                            Model  AccelSec  TopSpeed_KmH  \\\n0         Tesla    Model 3 Long Range Dual Motor       4.6           233   \n1    Volkswagen                        ID.3 Pure      10.0           160   \n2      Polestar                                2       4.7           210   \n3           BMW                              iX3       6.8           180   \n4         Honda                                e       9.5           145   \n..          ...                              ...       ...           ...   \n101      Nissan  Ariya e-4ORCE 87kWh Performance       5.1           200   \n102       Byton                M-Byte 95 kWh 2WD       7.5           190   \n103      Rivian                              R1T       3.0           185   \n104         GMC                        Hummer EV       3.0           171   \n105        Ford                   F150 Lightning       3.0           180   \n\n     Range_Km  Efficiency_WhKm FastCharge_KmH RapidCharge PowerTrain  \\\n0         450              161            940         Yes        AWD   \n1         270              167            250         Yes        RWD   \n2         400              181            620         Yes        AWD   \n3         360              206            560         Yes        RWD   \n4         170              168            190         Yes        RWD   \n..        ...              ...            ...         ...        ...   \n101       375              232            450         Yes        AWD   \n102       400              238            480         Yes        AWD   \n103       505              299            337         Yes        AWD   \n104       529              446           250          Yes        AWD   \n105       514              299           309          Yes        AWD   \n\n       PlugType  BodyStyle Segment  Seats PriceEuro  \n0    Type 2 CCS      Sedan       D      5     55480  \n1    Type 2 CCS  Hatchback       C      5     30000  \n2    Type 2 CCS   Liftback       D      5     56440  \n3    Type 2 CCS        SUV       D      5     68040  \n4    Type 2 CCS  Hatchback       B      4     32997  \n..          ...        ...     ...    ...       ...  \n101  Type 2 CCS  Hatchback       C      5     65000  \n102  Type 2 CCS        SUV       E      5     62000  \n103  Type 2 CCS     Pickup       N      6     75000  \n104  Type 2 CCS      Truck       E      5         -  \n105  Type 2 CCS      Truck       E      5         -  \n\n[106 rows x 14 columns]",
      "text/html": "<div>\n<style scoped>\n    .dataframe tbody tr th:only-of-type {\n        vertical-align: middle;\n    }\n\n    .dataframe tbody tr th {\n        vertical-align: top;\n    }\n\n    .dataframe thead th {\n        text-align: right;\n    }\n</style>\n<table border=\"1\" class=\"dataframe\">\n  <thead>\n    <tr style=\"text-align: right;\">\n      <th></th>\n      <th>Brand</th>\n      <th>Model</th>\n      <th>AccelSec</th>\n      <th>TopSpeed_KmH</th>\n      <th>Range_Km</th>\n      <th>Efficiency_WhKm</th>\n      <th>FastCharge_KmH</th>\n      <th>RapidCharge</th>\n      <th>PowerTrain</th>\n      <th>PlugType</th>\n      <th>BodyStyle</th>\n      <th>Segment</th>\n      <th>Seats</th>\n      <th>PriceEuro</th>\n    </tr>\n  </thead>\n  <tbody>\n    <tr>\n      <th>0</th>\n      <td>Tesla</td>\n      <td>Model 3 Long Range Dual Motor</td>\n      <td>4.6</td>\n      <td>233</td>\n      <td>450</td>\n      <td>161</td>\n      <td>940</td>\n      <td>Yes</td>\n      <td>AWD</td>\n      <td>Type 2 CCS</td>\n      <td>Sedan</td>\n      <td>D</td>\n      <td>5</td>\n      <td>55480</td>\n    </tr>\n    <tr>\n      <th>1</th>\n      <td>Volkswagen</td>\n      <td>ID.3 Pure</td>\n      <td>10.0</td>\n      <td>160</td>\n      <td>270</td>\n      <td>167</td>\n      <td>250</td>\n      <td>Yes</td>\n      <td>RWD</td>\n      <td>Type 2 CCS</td>\n      <td>Hatchback</td>\n      <td>C</td>\n      <td>5</td>\n      <td>30000</td>\n    </tr>\n    <tr>\n      <th>2</th>\n      <td>Polestar</td>\n      <td>2</td>\n      <td>4.7</td>\n      <td>210</td>\n      <td>400</td>\n      <td>181</td>\n      <td>620</td>\n      <td>Yes</td>\n      <td>AWD</td>\n      <td>Type 2 CCS</td>\n      <td>Liftback</td>\n      <td>D</td>\n      <td>5</td>\n      <td>56440</td>\n    </tr>\n    <tr>\n      <th>3</th>\n      <td>BMW</td>\n      <td>iX3</td>\n      <td>6.8</td>\n      <td>180</td>\n      <td>360</td>\n      <td>206</td>\n      <td>560</td>\n      <td>Yes</td>\n      <td>RWD</td>\n      <td>Type 2 CCS</td>\n      <td>SUV</td>\n      <td>D</td>\n      <td>5</td>\n      <td>68040</td>\n    </tr>\n    <tr>\n      <th>4</th>\n      <td>Honda</td>\n      <td>e</td>\n      <td>9.5</td>\n      <td>145</td>\n      <td>170</td>\n      <td>168</td>\n      <td>190</td>\n      <td>Yes</td>\n      <td>RWD</td>\n      <td>Type 2 CCS</td>\n      <td>Hatchback</td>\n      <td>B</td>\n      <td>4</td>\n      <td>32997</td>\n    </tr>\n    <tr>\n      <th>...</th>\n      <td>...</td>\n      <td>...</td>\n      <td>...</td>\n      <td>...</td>\n      <td>...</td>\n      <td>...</td>\n      <td>...</td>\n      <td>...</td>\n      <td>...</td>\n      <td>...</td>\n      <td>...</td>\n      <td>...</td>\n      <td>...</td>\n      <td>...</td>\n    </tr>\n    <tr>\n      <th>101</th>\n      <td>Nissan</td>\n      <td>Ariya e-4ORCE 87kWh Performance</td>\n      <td>5.1</td>\n      <td>200</td>\n      <td>375</td>\n      <td>232</td>\n      <td>450</td>\n      <td>Yes</td>\n      <td>AWD</td>\n      <td>Type 2 CCS</td>\n      <td>Hatchback</td>\n      <td>C</td>\n      <td>5</td>\n      <td>65000</td>\n    </tr>\n    <tr>\n      <th>102</th>\n      <td>Byton</td>\n      <td>M-Byte 95 kWh 2WD</td>\n      <td>7.5</td>\n      <td>190</td>\n      <td>400</td>\n      <td>238</td>\n      <td>480</td>\n      <td>Yes</td>\n      <td>AWD</td>\n      <td>Type 2 CCS</td>\n      <td>SUV</td>\n      <td>E</td>\n      <td>5</td>\n      <td>62000</td>\n    </tr>\n    <tr>\n      <th>103</th>\n      <td>Rivian</td>\n      <td>R1T</td>\n      <td>3.0</td>\n      <td>185</td>\n      <td>505</td>\n      <td>299</td>\n      <td>337</td>\n      <td>Yes</td>\n      <td>AWD</td>\n      <td>Type 2 CCS</td>\n      <td>Pickup</td>\n      <td>N</td>\n      <td>6</td>\n      <td>75000</td>\n    </tr>\n    <tr>\n      <th>104</th>\n      <td>GMC</td>\n      <td>Hummer EV</td>\n      <td>3.0</td>\n      <td>171</td>\n      <td>529</td>\n      <td>446</td>\n      <td>250</td>\n      <td>Yes</td>\n      <td>AWD</td>\n      <td>Type 2 CCS</td>\n      <td>Truck</td>\n      <td>E</td>\n      <td>5</td>\n      <td>-</td>\n    </tr>\n    <tr>\n      <th>105</th>\n      <td>Ford</td>\n      <td>F150 Lightning</td>\n      <td>3.0</td>\n      <td>180</td>\n      <td>514</td>\n      <td>299</td>\n      <td>309</td>\n      <td>Yes</td>\n      <td>AWD</td>\n      <td>Type 2 CCS</td>\n      <td>Truck</td>\n      <td>E</td>\n      <td>5</td>\n      <td>-</td>\n    </tr>\n  </tbody>\n</table>\n<p>106 rows × 14 columns</p>\n</div>"
     },
     "execution_count": 80,
     "metadata": {},
     "output_type": "execute_result"
    }
   ],
   "source": [
    "evs4 = pd.read_csv('data/evs.csv')\n",
    "evs4"
   ]
  },
  {
   "cell_type": "markdown",
   "metadata": {
    "id": "FQofXF9o5_6T"
   },
   "source": [
    "\n",
    "![](https://raw.githubusercontent.com/zacharski/datamining-guide/master/labs/pics/divider.png)\n",
    "\n",
    "## Missing Data\n",
    "\n",
    "\n",
    "In real machine learning tasks, we often encounter missing values.\n",
    "\n",
    "### Missing Data in Files\n",
    "For example, suppose we didn't know The Polestar 2's acceleration, the BMW iX3's top speed and the Honda's model name. In that case our CSV file would start\n",
    "\n",
    "\n",
    "```\n",
    "Brand,Model,AccelSec,TopSpeed_KmH,Range_Km\n",
    "Tesla ,Model 3 Long Range Dual Motor,4.6,233,450\n",
    "Volkswagen ,ID.3 Pure,10.0,160,270\n",
    "Polestar ,2,,210,400\n",
    "BMW ,iX3 ,6.8,,360\n",
    "Honda ,,9.5,145,\n",
    "```\n",
    "\n",
    "with the double comma on the Polestar, BMW and Honda lines representing the missing data. When we read that file.\n",
    "\n"
   ]
  },
  {
   "cell_type": "code",
   "execution_count": 81,
   "metadata": {
    "colab": {
     "base_uri": "https://localhost:8080/",
     "height": 677
    },
    "id": "h8S1xMW85_6U",
    "outputId": "1a3c3697-b118-41d7-e57e-0af3196eec70"
   },
   "outputs": [
    {
     "data": {
      "text/plain": "          Brand                          Model  AccelSec  TopSpeed_KmH  \\\n0        Tesla   Model 3 Long Range Dual Motor       4.6         233.0   \n1   Volkswagen                       ID.3 Pure      10.0         160.0   \n2     Polestar                               2       NaN         210.0   \n3          BMW                            iX3        6.8           NaN   \n4        Honda                             NaN       9.5         145.0   \n5        Lucid                            Air        2.8         250.0   \n6   Volkswagen                         e-Golf        9.6         150.0   \n7      Peugeot                          e-208        8.1         150.0   \n8        Tesla     Model 3 Standard Range Plus       5.6         225.0   \n9         Audi                      Q4 e-tron        6.3         180.0   \n10    Mercedes                  EQC 400 4MATIC       5.1         180.0   \n11      Nissan                           Leaf        7.9         144.0   \n12     Hyundai            Kona Electric 64 kWh       7.9         167.0   \n13         BMW                             i4        4.0         200.0   \n14     Hyundai                  IONIQ Electric       9.7         165.0   \n15  Volkswagen                      ID.3 Pro S       7.9         160.0   \n16     Porsche                  Taycan Turbo S       2.8         260.0   \n17  Volkswagen                          e-Up!       11.9         130.0   \n18          MG                           ZS EV       8.2         140.0   \n19        Mini                      Cooper SE        7.3         150.0   \n\n    Range_Km  \n0      450.0  \n1      270.0  \n2      400.0  \n3      360.0  \n4        NaN  \n5      610.0  \n6      190.0  \n7      275.0  \n8      310.0  \n9      400.0  \n10     370.0  \n11     220.0  \n12     400.0  \n13     450.0  \n14     250.0  \n15     440.0  \n16     375.0  \n17     195.0  \n18     220.0  \n19     185.0  ",
      "text/html": "<div>\n<style scoped>\n    .dataframe tbody tr th:only-of-type {\n        vertical-align: middle;\n    }\n\n    .dataframe tbody tr th {\n        vertical-align: top;\n    }\n\n    .dataframe thead th {\n        text-align: right;\n    }\n</style>\n<table border=\"1\" class=\"dataframe\">\n  <thead>\n    <tr style=\"text-align: right;\">\n      <th></th>\n      <th>Brand</th>\n      <th>Model</th>\n      <th>AccelSec</th>\n      <th>TopSpeed_KmH</th>\n      <th>Range_Km</th>\n    </tr>\n  </thead>\n  <tbody>\n    <tr>\n      <th>0</th>\n      <td>Tesla</td>\n      <td>Model 3 Long Range Dual Motor</td>\n      <td>4.6</td>\n      <td>233.0</td>\n      <td>450.0</td>\n    </tr>\n    <tr>\n      <th>1</th>\n      <td>Volkswagen</td>\n      <td>ID.3 Pure</td>\n      <td>10.0</td>\n      <td>160.0</td>\n      <td>270.0</td>\n    </tr>\n    <tr>\n      <th>2</th>\n      <td>Polestar</td>\n      <td>2</td>\n      <td>NaN</td>\n      <td>210.0</td>\n      <td>400.0</td>\n    </tr>\n    <tr>\n      <th>3</th>\n      <td>BMW</td>\n      <td>iX3</td>\n      <td>6.8</td>\n      <td>NaN</td>\n      <td>360.0</td>\n    </tr>\n    <tr>\n      <th>4</th>\n      <td>Honda</td>\n      <td>NaN</td>\n      <td>9.5</td>\n      <td>145.0</td>\n      <td>NaN</td>\n    </tr>\n    <tr>\n      <th>5</th>\n      <td>Lucid</td>\n      <td>Air</td>\n      <td>2.8</td>\n      <td>250.0</td>\n      <td>610.0</td>\n    </tr>\n    <tr>\n      <th>6</th>\n      <td>Volkswagen</td>\n      <td>e-Golf</td>\n      <td>9.6</td>\n      <td>150.0</td>\n      <td>190.0</td>\n    </tr>\n    <tr>\n      <th>7</th>\n      <td>Peugeot</td>\n      <td>e-208</td>\n      <td>8.1</td>\n      <td>150.0</td>\n      <td>275.0</td>\n    </tr>\n    <tr>\n      <th>8</th>\n      <td>Tesla</td>\n      <td>Model 3 Standard Range Plus</td>\n      <td>5.6</td>\n      <td>225.0</td>\n      <td>310.0</td>\n    </tr>\n    <tr>\n      <th>9</th>\n      <td>Audi</td>\n      <td>Q4 e-tron</td>\n      <td>6.3</td>\n      <td>180.0</td>\n      <td>400.0</td>\n    </tr>\n    <tr>\n      <th>10</th>\n      <td>Mercedes</td>\n      <td>EQC 400 4MATIC</td>\n      <td>5.1</td>\n      <td>180.0</td>\n      <td>370.0</td>\n    </tr>\n    <tr>\n      <th>11</th>\n      <td>Nissan</td>\n      <td>Leaf</td>\n      <td>7.9</td>\n      <td>144.0</td>\n      <td>220.0</td>\n    </tr>\n    <tr>\n      <th>12</th>\n      <td>Hyundai</td>\n      <td>Kona Electric 64 kWh</td>\n      <td>7.9</td>\n      <td>167.0</td>\n      <td>400.0</td>\n    </tr>\n    <tr>\n      <th>13</th>\n      <td>BMW</td>\n      <td>i4</td>\n      <td>4.0</td>\n      <td>200.0</td>\n      <td>450.0</td>\n    </tr>\n    <tr>\n      <th>14</th>\n      <td>Hyundai</td>\n      <td>IONIQ Electric</td>\n      <td>9.7</td>\n      <td>165.0</td>\n      <td>250.0</td>\n    </tr>\n    <tr>\n      <th>15</th>\n      <td>Volkswagen</td>\n      <td>ID.3 Pro S</td>\n      <td>7.9</td>\n      <td>160.0</td>\n      <td>440.0</td>\n    </tr>\n    <tr>\n      <th>16</th>\n      <td>Porsche</td>\n      <td>Taycan Turbo S</td>\n      <td>2.8</td>\n      <td>260.0</td>\n      <td>375.0</td>\n    </tr>\n    <tr>\n      <th>17</th>\n      <td>Volkswagen</td>\n      <td>e-Up!</td>\n      <td>11.9</td>\n      <td>130.0</td>\n      <td>195.0</td>\n    </tr>\n    <tr>\n      <th>18</th>\n      <td>MG</td>\n      <td>ZS EV</td>\n      <td>8.2</td>\n      <td>140.0</td>\n      <td>220.0</td>\n    </tr>\n    <tr>\n      <th>19</th>\n      <td>Mini</td>\n      <td>Cooper SE</td>\n      <td>7.3</td>\n      <td>150.0</td>\n      <td>185.0</td>\n    </tr>\n  </tbody>\n</table>\n</div>"
     },
     "execution_count": 81,
     "metadata": {},
     "output_type": "execute_result"
    }
   ],
   "source": [
    "evs5 = pd.read_csv('https://raw.githubusercontent.com/zacharski/datamining-guide/main/data/ev_cars_small.csv')\n",
    "evs5"
   ]
  },
  {
   "cell_type": "markdown",
   "metadata": {
    "id": "CbUtXaSf5_6U"
   },
   "source": [
    "We see that missing values are now the floating point values NaN meaning Not a Number. This NaN value is used even in columns that do not contain floating point values. For example, in row 4 above, Honda has NaN in the model name column. Wes McKinney, the developer of Pandas calls NaN a *sentinel* value that is easily detected and indicates a missing value.\n",
    "\n",
    "### Special Characters Representing NaN in the Data File\n",
    "\n",
    "Sometimes, special characters are used in a data file to represent missing values. For example, sometimes a dash is used ...\n",
    "\n",
    "Brand|Model|AccelSec|TopSpeed_KmH|Range_Km\n",
    ":--- | :--- | ---: | ---: | ---: |\n",
    "Tesla |Model 3 Long Range Dual Motor|4.6|233|450\n",
    "Volkswagen |ID.3 Pure|10.0|160|270\n",
    "Polestar |2|-|210|400\n",
    "BMW |iX3 |6.8|-|360\n",
    "Honda |-|9.5|145|\n",
    "\n",
    "The associated data file would look like\n",
    "\n",
    "```\n",
    "Brand,Model,AccelSec,TopSpeed_KmH,Range_Km\n",
    "Tesla ,Model 3 Long Range Dual Motor,4.6,233,450\n",
    "Volkswagen ,ID.3 Pure,10.0,160,270\n",
    "Polestar ,2,-,210,400\n",
    "BMW ,iX3 ,6.8,-,360\n",
    "Honda ,-,9.5,145,\n",
    "```\n",
    "\n",
    "If we do not convert these to `NaN`, these dashes will create havoc with future calculations:\n",
    "\n",
    "``` \n",
    "TypeError: can't multiply sequence by non-int of type 'float'\n",
    "```\n",
    "\n",
    "When we read in the csv file we need to convert the dashes to `NaN` by using the `na_values` parameter in `read_csv`. As you can see in the following example, our data file has the dashes "
   ]
  },
  {
   "cell_type": "code",
   "execution_count": 82,
   "metadata": {
    "colab": {
     "base_uri": "https://localhost:8080/"
    },
    "id": "lglr_kCMofk_",
    "outputId": "83e087db-654d-4cf7-902c-544f335c5c2c"
   },
   "outputs": [
    {
     "name": "stdout",
     "output_type": "stream",
     "text": [
      "Brand,Model,AccelSec,TopSpeed_KmH,Range_Km\r\n",
      "Tesla ,Model 3 Long Range Dual Motor,4.6,233,450\r\n",
      "Volkswagen ,ID.3 Pure,10.0,160,270\r\n",
      "Polestar ,2,-,210,400\r\n",
      "BMW ,iX3 ,6.8,-,360\r\n",
      "Honda ,-,9.5,145,\r\n",
      "Lucid ,Air ,2.8,250,610\r\n",
      "Volkswagen ,e-Golf ,9.6,150,190\r\n",
      "Peugeot ,e-208 ,8.1,150,275\r\n",
      "Tesla ,Model 3 Standard Range Plus,5.6,225,310\r\n",
      "Audi ,Q4 e-tron ,6.3,180,400\r\n",
      "Mercedes ,EQC 400 4MATIC,5.1,180,370\r\n",
      "Nissan ,Leaf ,7.9,144,220\r\n",
      "Hyundai ,Kona Electric 64 kWh,7.9,167,400\r\n",
      "BMW ,i4 ,4.0,200,450\r\n",
      "Hyundai ,IONIQ Electric,9.7,165,250\r\n",
      "Volkswagen ,ID.3 Pro S,7.9,160,440\r\n",
      "Porsche ,Taycan Turbo S,2.8,260,375\r\n",
      "Volkswagen ,e-Up! ,11.9,130,195\r\n",
      "MG ,ZS EV,8.2,140,220\r\n",
      "Mini ,Cooper SE ,7.3,150,185\r\n"
     ]
    }
   ],
   "source": [
    "!curl https://raw.githubusercontent.com/zacharski/datamining-guide/main/data/ev_cars_small-dash.csv"
   ]
  },
  {
   "cell_type": "markdown",
   "metadata": {
    "id": "iXQQB9Bxq_hj"
   },
   "source": [
    "and we can convert those to `NaN` when we read the file"
   ]
  },
  {
   "cell_type": "code",
   "execution_count": 83,
   "metadata": {
    "colab": {
     "base_uri": "https://localhost:8080/",
     "height": 238
    },
    "id": "bN9w_lx4rEAZ",
    "outputId": "a32872c5-fe3b-4600-a01a-d14b984c84bd"
   },
   "outputs": [
    {
     "data": {
      "text/plain": "         Brand                          Model  AccelSec  TopSpeed_KmH  \\\n0       Tesla   Model 3 Long Range Dual Motor       4.6         233.0   \n1  Volkswagen                       ID.3 Pure      10.0         160.0   \n2    Polestar                               2       NaN         210.0   \n3         BMW                            iX3        6.8           NaN   \n4       Honda                             NaN       9.5         145.0   \n5       Lucid                            Air        2.8         250.0   \n\n   Range_Km  \n0     450.0  \n1     270.0  \n2     400.0  \n3     360.0  \n4       NaN  \n5     610.0  ",
      "text/html": "<div>\n<style scoped>\n    .dataframe tbody tr th:only-of-type {\n        vertical-align: middle;\n    }\n\n    .dataframe tbody tr th {\n        vertical-align: top;\n    }\n\n    .dataframe thead th {\n        text-align: right;\n    }\n</style>\n<table border=\"1\" class=\"dataframe\">\n  <thead>\n    <tr style=\"text-align: right;\">\n      <th></th>\n      <th>Brand</th>\n      <th>Model</th>\n      <th>AccelSec</th>\n      <th>TopSpeed_KmH</th>\n      <th>Range_Km</th>\n    </tr>\n  </thead>\n  <tbody>\n    <tr>\n      <th>0</th>\n      <td>Tesla</td>\n      <td>Model 3 Long Range Dual Motor</td>\n      <td>4.6</td>\n      <td>233.0</td>\n      <td>450.0</td>\n    </tr>\n    <tr>\n      <th>1</th>\n      <td>Volkswagen</td>\n      <td>ID.3 Pure</td>\n      <td>10.0</td>\n      <td>160.0</td>\n      <td>270.0</td>\n    </tr>\n    <tr>\n      <th>2</th>\n      <td>Polestar</td>\n      <td>2</td>\n      <td>NaN</td>\n      <td>210.0</td>\n      <td>400.0</td>\n    </tr>\n    <tr>\n      <th>3</th>\n      <td>BMW</td>\n      <td>iX3</td>\n      <td>6.8</td>\n      <td>NaN</td>\n      <td>360.0</td>\n    </tr>\n    <tr>\n      <th>4</th>\n      <td>Honda</td>\n      <td>NaN</td>\n      <td>9.5</td>\n      <td>145.0</td>\n      <td>NaN</td>\n    </tr>\n    <tr>\n      <th>5</th>\n      <td>Lucid</td>\n      <td>Air</td>\n      <td>2.8</td>\n      <td>250.0</td>\n      <td>610.0</td>\n    </tr>\n  </tbody>\n</table>\n</div>"
     },
     "execution_count": 83,
     "metadata": {},
     "output_type": "execute_result"
    }
   ],
   "source": [
    "evdash = pd.read_csv('https://raw.githubusercontent.com/zacharski/datamining-guide/main/data/ev_cars_small-dash.csv',\n",
    "                     na_values='-')\n",
    "evdash[:6]"
   ]
  },
  {
   "cell_type": "markdown",
   "metadata": {
    "id": "UDs0cAprogc9"
   },
   "source": [
    "### Specifying Missing Values by hand\n",
    "Suppose we didn't know the range of the Hyundai Ioniq 5 and the MPGe of the Tesla.\n",
    "\n",
    "![](https://raw.githubusercontent.com/zacharski/datamining-guide/master/labs/pics/ioniq5s.png)\n",
    "\n",
    "Make | Drive | Range | Battery_kwH | PeakPower_kW | MPGe | 0-60\n",
    ":---- | :--- | ---: | ---: | ---: | ---: | ---:\n",
    "Ioniq 5 | AWD | - | 77.4 | 239 | 98 | 5.0\n",
    "Tesla Model 3 | AWD | 315 | 80 | 298 | - | 3.1\n",
    "Rivian R1T | AWD | 316 | 135 | 562 | 70 | 3.0 \n",
    "VW ID.4 | RWD | 260 | 82 | 260 | 107 |  7.7\n",
    "F150 Lightning | AWD | 230 | 110 | 318 | 68 | 4.0\n",
    "\n",
    "In that case we can create a dataframe like:"
   ]
  },
  {
   "cell_type": "code",
   "execution_count": 84,
   "metadata": {
    "colab": {
     "base_uri": "https://localhost:8080/",
     "height": 206
    },
    "id": "FApiirdy5_6U",
    "outputId": "a4bb5e62-1ffb-420d-9ea0-f5658827be6d"
   },
   "outputs": [
    {
     "data": {
      "text/plain": "             Make Drive  Range  Battery_kwH  PeakPower_kW   MPGe  0-60\n0         Ioniq 5   AWD    NaN         77.4           239   98.0   5.0\n1   Tesla Model 3   AWD  315.0         80.0           298    NaN   3.1\n2      Rivian R1T   AWD  316.0        135.0           562   70.0   3.0\n3         VW ID.4   RWD  260.0         82.0           260  107.0   7.7\n4  F150 Lightning   AWD  230.0        110.0           318   68.0   4.0",
      "text/html": "<div>\n<style scoped>\n    .dataframe tbody tr th:only-of-type {\n        vertical-align: middle;\n    }\n\n    .dataframe tbody tr th {\n        vertical-align: top;\n    }\n\n    .dataframe thead th {\n        text-align: right;\n    }\n</style>\n<table border=\"1\" class=\"dataframe\">\n  <thead>\n    <tr style=\"text-align: right;\">\n      <th></th>\n      <th>Make</th>\n      <th>Drive</th>\n      <th>Range</th>\n      <th>Battery_kwH</th>\n      <th>PeakPower_kW</th>\n      <th>MPGe</th>\n      <th>0-60</th>\n    </tr>\n  </thead>\n  <tbody>\n    <tr>\n      <th>0</th>\n      <td>Ioniq 5</td>\n      <td>AWD</td>\n      <td>NaN</td>\n      <td>77.4</td>\n      <td>239</td>\n      <td>98.0</td>\n      <td>5.0</td>\n    </tr>\n    <tr>\n      <th>1</th>\n      <td>Tesla Model 3</td>\n      <td>AWD</td>\n      <td>315.0</td>\n      <td>80.0</td>\n      <td>298</td>\n      <td>NaN</td>\n      <td>3.1</td>\n    </tr>\n    <tr>\n      <th>2</th>\n      <td>Rivian R1T</td>\n      <td>AWD</td>\n      <td>316.0</td>\n      <td>135.0</td>\n      <td>562</td>\n      <td>70.0</td>\n      <td>3.0</td>\n    </tr>\n    <tr>\n      <th>3</th>\n      <td>VW ID.4</td>\n      <td>RWD</td>\n      <td>260.0</td>\n      <td>82.0</td>\n      <td>260</td>\n      <td>107.0</td>\n      <td>7.7</td>\n    </tr>\n    <tr>\n      <th>4</th>\n      <td>F150 Lightning</td>\n      <td>AWD</td>\n      <td>230.0</td>\n      <td>110.0</td>\n      <td>318</td>\n      <td>68.0</td>\n      <td>4.0</td>\n    </tr>\n  </tbody>\n</table>\n</div>"
     },
     "execution_count": 84,
     "metadata": {},
     "output_type": "execute_result"
    }
   ],
   "source": [
    "cars3 = {'Make': ['Ioniq 5', 'Tesla Model 3', 'Rivian R1T', 'VW ID.4', 'F150 Lightning'],\n",
    "         'Drive': ['AWD', 'AWD', 'AWD', 'RWD', 'AWD'],\n",
    "         'Range': [np.nan, 315, 316, 260, 230],\n",
    "         'Battery_kwH': [77.4, 80, 135, 82, 110],\n",
    "         'PeakPower_kW': [239, 298, 562, 260, 318],\n",
    "         'MPGe': [98, np.nan, 70, 107, 68],\n",
    "         '0-60': [5.0, 3.1, 3.0, 7.7, 4.0]}\n",
    "        \n",
    "carz = DataFrame(cars3)\n",
    "carz"
   ]
  },
  {
   "cell_type": "markdown",
   "metadata": {
    "id": "1ichMMal5_6V"
   },
   "source": [
    "where `np.nan` is Numpy's NaN.  We can also use Python's `None`:\n"
   ]
  },
  {
   "cell_type": "code",
   "execution_count": 85,
   "metadata": {
    "colab": {
     "base_uri": "https://localhost:8080/",
     "height": 206
    },
    "id": "PW8Yg5fL5_6V",
    "outputId": "e89d904e-c1eb-4486-b2dc-f977afc97bde"
   },
   "outputs": [
    {
     "data": {
      "text/plain": "             Make Drive  Range  Battery_kwH  PeakPower_kW   MPGe  0-60\n0         Ioniq 5   AWD    NaN         77.4           239   98.0   5.0\n1   Tesla Model 3   AWD  315.0         80.0           298    NaN   3.1\n2      Rivian R1T   AWD  316.0        135.0           562   70.0   3.0\n3         VW ID.4   RWD  260.0         82.0           260  107.0   7.7\n4  F150 Lightning   AWD  230.0        110.0           318   68.0   4.0",
      "text/html": "<div>\n<style scoped>\n    .dataframe tbody tr th:only-of-type {\n        vertical-align: middle;\n    }\n\n    .dataframe tbody tr th {\n        vertical-align: top;\n    }\n\n    .dataframe thead th {\n        text-align: right;\n    }\n</style>\n<table border=\"1\" class=\"dataframe\">\n  <thead>\n    <tr style=\"text-align: right;\">\n      <th></th>\n      <th>Make</th>\n      <th>Drive</th>\n      <th>Range</th>\n      <th>Battery_kwH</th>\n      <th>PeakPower_kW</th>\n      <th>MPGe</th>\n      <th>0-60</th>\n    </tr>\n  </thead>\n  <tbody>\n    <tr>\n      <th>0</th>\n      <td>Ioniq 5</td>\n      <td>AWD</td>\n      <td>NaN</td>\n      <td>77.4</td>\n      <td>239</td>\n      <td>98.0</td>\n      <td>5.0</td>\n    </tr>\n    <tr>\n      <th>1</th>\n      <td>Tesla Model 3</td>\n      <td>AWD</td>\n      <td>315.0</td>\n      <td>80.0</td>\n      <td>298</td>\n      <td>NaN</td>\n      <td>3.1</td>\n    </tr>\n    <tr>\n      <th>2</th>\n      <td>Rivian R1T</td>\n      <td>AWD</td>\n      <td>316.0</td>\n      <td>135.0</td>\n      <td>562</td>\n      <td>70.0</td>\n      <td>3.0</td>\n    </tr>\n    <tr>\n      <th>3</th>\n      <td>VW ID.4</td>\n      <td>RWD</td>\n      <td>260.0</td>\n      <td>82.0</td>\n      <td>260</td>\n      <td>107.0</td>\n      <td>7.7</td>\n    </tr>\n    <tr>\n      <th>4</th>\n      <td>F150 Lightning</td>\n      <td>AWD</td>\n      <td>230.0</td>\n      <td>110.0</td>\n      <td>318</td>\n      <td>68.0</td>\n      <td>4.0</td>\n    </tr>\n  </tbody>\n</table>\n</div>"
     },
     "execution_count": 85,
     "metadata": {},
     "output_type": "execute_result"
    }
   ],
   "source": [
    "cars3 = {'Make': ['Ioniq 5', 'Tesla Model 3', 'Rivian R1T', 'VW ID.4', 'F150 Lightning'],\n",
    "         'Drive': ['AWD', 'AWD', 'AWD', 'RWD', 'AWD'],\n",
    "         'Range': [None, 315, 316, 260, 230],\n",
    "         'Battery_kwH': [77.4, 80, 135, 82, 110],\n",
    "         'PeakPower_kW': [239, 298, 562, 260, 318],\n",
    "         'MPGe': [98, None, 70, 107, 68],\n",
    "         '0-60': [5.0, 3.1, 3.0, 7.7, 4.0]}\n",
    "        \n",
    "carz = DataFrame(cars3)\n",
    "carz"
   ]
  },
  {
   "cell_type": "markdown",
   "metadata": {
    "id": "uxTlzaux5_6V"
   },
   "source": [
    "In addition to reading CSV files, there are many other ways of reading in data including from SQL databases, mongoDB, and webpages. See the [Pandas documentation](https://pandas.pydata.org/pandas-docs/stable/) for details.\n"
   ]
  },
  {
   "cell_type": "markdown",
   "metadata": {
    "id": "edf753hojSkc"
   },
   "source": [
    "\n",
    "![](https://raw.githubusercontent.com/zacharski/datamining-guide/master/labs/pics/divider.png)\n",
    "\n",
    "## Indices\n",
    "In all the examples above, when we created a DataFrame, an auto-generated, auto-incrementing index was generated. So our initial data might look like:\n",
    "\n",
    "\n",
    "Make | Drive | Range | Battery_kwH | PeakPower_kW | MPGe | 0-60\n",
    ":---- | :--- | ---: | ---: | ---: | ---: | ---:\n",
    "Ioniq 5 | AWD | - | 77.4 | 239 | 98 | 5.0\n",
    "Tesla Model 3 | AWD | 315 | 80 | 298 | - | 3.1\n",
    "Rivian R1T | AWD | 316 | 135 | 562 | 70 | 3.0 \n",
    "VW ID.4 | RWD | 260 | 82 | 260 | 107 |  7.7\n",
    "F150 Lightning | AWD | 230 | 110 | 318 | 68 | 4.0\n",
    "\n",
    "But the DataFrame looks like ..."
   ]
  },
  {
   "cell_type": "code",
   "execution_count": 86,
   "metadata": {
    "colab": {
     "base_uri": "https://localhost:8080/",
     "height": 206
    },
    "id": "joIX9AMF5_6W",
    "outputId": "37afe46c-86f3-4198-8046-eda9849b26cb"
   },
   "outputs": [
    {
     "data": {
      "text/plain": "             Make Drive  Range  Battery_kwH  PeakPower_kW   MPGe  0-60\n0         Ioniq 5   AWD    NaN         77.4           239   98.0   5.0\n1   Tesla Model 3   AWD  315.0         80.0           298    NaN   3.1\n2      Rivian R1T   AWD  316.0        135.0           562   70.0   3.0\n3         VW ID.4   RWD  260.0         82.0           260  107.0   7.7\n4  F150 Lightning   AWD  230.0        110.0           318   68.0   4.0",
      "text/html": "<div>\n<style scoped>\n    .dataframe tbody tr th:only-of-type {\n        vertical-align: middle;\n    }\n\n    .dataframe tbody tr th {\n        vertical-align: top;\n    }\n\n    .dataframe thead th {\n        text-align: right;\n    }\n</style>\n<table border=\"1\" class=\"dataframe\">\n  <thead>\n    <tr style=\"text-align: right;\">\n      <th></th>\n      <th>Make</th>\n      <th>Drive</th>\n      <th>Range</th>\n      <th>Battery_kwH</th>\n      <th>PeakPower_kW</th>\n      <th>MPGe</th>\n      <th>0-60</th>\n    </tr>\n  </thead>\n  <tbody>\n    <tr>\n      <th>0</th>\n      <td>Ioniq 5</td>\n      <td>AWD</td>\n      <td>NaN</td>\n      <td>77.4</td>\n      <td>239</td>\n      <td>98.0</td>\n      <td>5.0</td>\n    </tr>\n    <tr>\n      <th>1</th>\n      <td>Tesla Model 3</td>\n      <td>AWD</td>\n      <td>315.0</td>\n      <td>80.0</td>\n      <td>298</td>\n      <td>NaN</td>\n      <td>3.1</td>\n    </tr>\n    <tr>\n      <th>2</th>\n      <td>Rivian R1T</td>\n      <td>AWD</td>\n      <td>316.0</td>\n      <td>135.0</td>\n      <td>562</td>\n      <td>70.0</td>\n      <td>3.0</td>\n    </tr>\n    <tr>\n      <th>3</th>\n      <td>VW ID.4</td>\n      <td>RWD</td>\n      <td>260.0</td>\n      <td>82.0</td>\n      <td>260</td>\n      <td>107.0</td>\n      <td>7.7</td>\n    </tr>\n    <tr>\n      <th>4</th>\n      <td>F150 Lightning</td>\n      <td>AWD</td>\n      <td>230.0</td>\n      <td>110.0</td>\n      <td>318</td>\n      <td>68.0</td>\n      <td>4.0</td>\n    </tr>\n  </tbody>\n</table>\n</div>"
     },
     "execution_count": 86,
     "metadata": {},
     "output_type": "execute_result"
    }
   ],
   "source": [
    "carz\n",
    "   "
   ]
  },
  {
   "cell_type": "markdown",
   "metadata": {
    "id": "HnY07gtE38MY"
   },
   "source": [
    "with the 0, 1, 2 ... indices added (the column on the left). This makes it handy when we want to access a particular row."
   ]
  },
  {
   "cell_type": "code",
   "execution_count": 87,
   "metadata": {
    "colab": {
     "base_uri": "https://localhost:8080/"
    },
    "id": "KCj7gU_l5_6W",
    "outputId": "adbf53cf-f71b-4eaa-a526-4aa9eb9dfe3d"
   },
   "outputs": [
    {
     "data": {
      "text/plain": "Make            F150 Lightning\nDrive                      AWD\nRange                    230.0\nBattery_kwH              110.0\nPeakPower_kW               318\nMPGe                      68.0\n0-60                       4.0\nName: 4, dtype: object"
     },
     "execution_count": 87,
     "metadata": {},
     "output_type": "execute_result"
    }
   ],
   "source": [
    "carz.loc[4]"
   ]
  },
  {
   "cell_type": "markdown",
   "metadata": {
    "id": "qcQnal5C4VVp"
   },
   "source": [
    "As you can see in the above code, we access a particular row (or rows) with the `loc` method.\n",
    "\n",
    "Sometimes the rows in our data already have a unique identifier. For example in a data file for U.S. states each state might have the unique 2 character state code\n",
    "\n",
    "\n",
    "![](https://raw.githubusercontent.com/zacharski/datamining-guide/master/labs/pics/grayStates.png)\n",
    "\n",
    "State|Name|Pop2022|Pop2021|Pop2010|TotalArea|LandArea\n",
    ":--- | :--- | ---: | ---: | ---: | ---: | ---: | \n",
    "AK| Alaska| 720763|724357|713910|665384|570640.95\n",
    "AL| Alabama|4949697|4934193|4785437|52420|50645.33\n",
    "AR| Arkansas|3042017|3033946|2921964|53179|52035.48\n",
    "AZ| Arizona|7640796|7520103|6407172|113990|113594.08\n",
    "\n",
    "In that case we can use the unique identifier, in this case the 2 letter state code, as our index. "
   ]
  },
  {
   "cell_type": "code",
   "execution_count": 88,
   "metadata": {
    "colab": {
     "base_uri": "https://localhost:8080/",
     "height": 1000
    },
    "id": "O2hnNYg-6B_X",
    "outputId": "a1dc3770-c09f-4b16-9b53-8da55904f654"
   },
   "outputs": [
    {
     "data": {
      "text/plain": "                 Name   Pop2022   Pop2021   Pop2010  TotalArea   LandArea\nState                                                                    \nAK             Alaska    720763    724357    713910     665384  570640.95\nAL            Alabama   4949697   4934193   4785437      52420   50645.33\nAR           Arkansas   3042017   3033946   2921964      53179   52035.48\nAZ            Arizona   7640796   7520103   6407172     113990  113594.08\nCA         California  39664128  39613493  37319502     163695  155779.22\nCO           Colorado   5961083   5893634   5047349     104094  103641.89\nCT        Connecticut   3546588   3552821   3579114       5543    4842.36\nDE           Delaware    998619    990334    899593       2489    1948.54\nFL            Florida  22177997  21944577  18845537      65758   53624.76\nGA            Georgia  10936299  10830007   9711881      59425   57513.49\nHI             Hawaii   1401709   1406430   1363963      10932    6422.63\nIA               Iowa   3174426   3167974   3050745      56273   55857.13\nID              Idaho   1896652   1860123   1570746      83569   82643.12\nIL           Illinois  12518071  12569321  12840503      57914   55518.93\nIN            Indiana   6842385   6805663   6490432      36420   35826.11\nKS             Kansas   2919179   2917224   2858190      82278   81758.72\nKY           Kentucky   4487233   4480713   4348181      40408   39486.34\nLA          Louisiana   4616106   4627002   4544532      52378   43293.90\nMA      Massachusetts   6922107   6912239   6566307      10554    7800.06\nMD           Maryland   6075314   6065436   5788645      12406    9707.24\nME              Maine   1359677   1354522   1327629      35380   30842.92\nMI           Michigan   9995212   9992427   9877510      96714   56538.90\nMN          Minnesota   5739781   5706398   5310828      86936   79626.74\nMO           Missouri   6184843   6169038   5995974      69707   68741.52\nMS        Mississippi   2961536   2966407   2970548      48432   43923.27\nMT            Montana   1093117   1085004    990697     147040  145545.80\nNC     North Carolina  10807491  10701022   9574323      53819   48617.91\nND       North Dakota    774008    770026    674715      70698   69000.80\nNE           Nebraska   1960790   1951996   1829542      77348   76824.17\nNH      New Hampshire   1378449   1372203   1316762       9349    8952.65\nNJ         New Jersey   8870685   8874520   8799446       8723    7354.22\nNM         New Mexico   2109093   2105005   2064552     121590  121298.15\nNV             Nevada   3238601   3185786   2702405     110572  109781.18\nNY           New York  19223191  19299981  19399878      54555   47126.40\nOH               Ohio  11727377  11714618  11539336      44826   40860.69\nOK           Oklahoma   4007179   3990443   3759944      69899   68594.92\nOR             Oregon   4325290   4289439   3837491      98379   95988.01\nPA       Pennsylvania  12805190  12804123  12711160      46054   44742.70\nRI       Rhode Island   1062583   1061509   1053959       1545    1033.81\nSC     South Carolina   5342388   5277830   4635649      32020   30060.70\nSD       South Dakota    902542    896581    816166      77116   75811.00\nTN          Tennessee   7001803   6944260   6355311      42114   41234.90\nTX              Texas  30097526  29730311  25241971     268596  261231.71\nUT               Utah   3363182   3310774   2775332      84897   82169.62\nVA           Virginia   8638218   8603985   8023699      42775   39490.09\nVT            Vermont    622882    623251    625879       9616    9216.66\nWA         Washington   7887965   7796941   6742830      71298   66455.52\nWI          Wisconsin   5867518   5852490   5690475      65496   54157.80\nWV      West Virginia   1755715   1767859   1854239      24230   24038.21\nWY            Wyoming    582233    581075    564487      97813   97093.14",
      "text/html": "<div>\n<style scoped>\n    .dataframe tbody tr th:only-of-type {\n        vertical-align: middle;\n    }\n\n    .dataframe tbody tr th {\n        vertical-align: top;\n    }\n\n    .dataframe thead th {\n        text-align: right;\n    }\n</style>\n<table border=\"1\" class=\"dataframe\">\n  <thead>\n    <tr style=\"text-align: right;\">\n      <th></th>\n      <th>Name</th>\n      <th>Pop2022</th>\n      <th>Pop2021</th>\n      <th>Pop2010</th>\n      <th>TotalArea</th>\n      <th>LandArea</th>\n    </tr>\n    <tr>\n      <th>State</th>\n      <th></th>\n      <th></th>\n      <th></th>\n      <th></th>\n      <th></th>\n      <th></th>\n    </tr>\n  </thead>\n  <tbody>\n    <tr>\n      <th>AK</th>\n      <td>Alaska</td>\n      <td>720763</td>\n      <td>724357</td>\n      <td>713910</td>\n      <td>665384</td>\n      <td>570640.95</td>\n    </tr>\n    <tr>\n      <th>AL</th>\n      <td>Alabama</td>\n      <td>4949697</td>\n      <td>4934193</td>\n      <td>4785437</td>\n      <td>52420</td>\n      <td>50645.33</td>\n    </tr>\n    <tr>\n      <th>AR</th>\n      <td>Arkansas</td>\n      <td>3042017</td>\n      <td>3033946</td>\n      <td>2921964</td>\n      <td>53179</td>\n      <td>52035.48</td>\n    </tr>\n    <tr>\n      <th>AZ</th>\n      <td>Arizona</td>\n      <td>7640796</td>\n      <td>7520103</td>\n      <td>6407172</td>\n      <td>113990</td>\n      <td>113594.08</td>\n    </tr>\n    <tr>\n      <th>CA</th>\n      <td>California</td>\n      <td>39664128</td>\n      <td>39613493</td>\n      <td>37319502</td>\n      <td>163695</td>\n      <td>155779.22</td>\n    </tr>\n    <tr>\n      <th>CO</th>\n      <td>Colorado</td>\n      <td>5961083</td>\n      <td>5893634</td>\n      <td>5047349</td>\n      <td>104094</td>\n      <td>103641.89</td>\n    </tr>\n    <tr>\n      <th>CT</th>\n      <td>Connecticut</td>\n      <td>3546588</td>\n      <td>3552821</td>\n      <td>3579114</td>\n      <td>5543</td>\n      <td>4842.36</td>\n    </tr>\n    <tr>\n      <th>DE</th>\n      <td>Delaware</td>\n      <td>998619</td>\n      <td>990334</td>\n      <td>899593</td>\n      <td>2489</td>\n      <td>1948.54</td>\n    </tr>\n    <tr>\n      <th>FL</th>\n      <td>Florida</td>\n      <td>22177997</td>\n      <td>21944577</td>\n      <td>18845537</td>\n      <td>65758</td>\n      <td>53624.76</td>\n    </tr>\n    <tr>\n      <th>GA</th>\n      <td>Georgia</td>\n      <td>10936299</td>\n      <td>10830007</td>\n      <td>9711881</td>\n      <td>59425</td>\n      <td>57513.49</td>\n    </tr>\n    <tr>\n      <th>HI</th>\n      <td>Hawaii</td>\n      <td>1401709</td>\n      <td>1406430</td>\n      <td>1363963</td>\n      <td>10932</td>\n      <td>6422.63</td>\n    </tr>\n    <tr>\n      <th>IA</th>\n      <td>Iowa</td>\n      <td>3174426</td>\n      <td>3167974</td>\n      <td>3050745</td>\n      <td>56273</td>\n      <td>55857.13</td>\n    </tr>\n    <tr>\n      <th>ID</th>\n      <td>Idaho</td>\n      <td>1896652</td>\n      <td>1860123</td>\n      <td>1570746</td>\n      <td>83569</td>\n      <td>82643.12</td>\n    </tr>\n    <tr>\n      <th>IL</th>\n      <td>Illinois</td>\n      <td>12518071</td>\n      <td>12569321</td>\n      <td>12840503</td>\n      <td>57914</td>\n      <td>55518.93</td>\n    </tr>\n    <tr>\n      <th>IN</th>\n      <td>Indiana</td>\n      <td>6842385</td>\n      <td>6805663</td>\n      <td>6490432</td>\n      <td>36420</td>\n      <td>35826.11</td>\n    </tr>\n    <tr>\n      <th>KS</th>\n      <td>Kansas</td>\n      <td>2919179</td>\n      <td>2917224</td>\n      <td>2858190</td>\n      <td>82278</td>\n      <td>81758.72</td>\n    </tr>\n    <tr>\n      <th>KY</th>\n      <td>Kentucky</td>\n      <td>4487233</td>\n      <td>4480713</td>\n      <td>4348181</td>\n      <td>40408</td>\n      <td>39486.34</td>\n    </tr>\n    <tr>\n      <th>LA</th>\n      <td>Louisiana</td>\n      <td>4616106</td>\n      <td>4627002</td>\n      <td>4544532</td>\n      <td>52378</td>\n      <td>43293.90</td>\n    </tr>\n    <tr>\n      <th>MA</th>\n      <td>Massachusetts</td>\n      <td>6922107</td>\n      <td>6912239</td>\n      <td>6566307</td>\n      <td>10554</td>\n      <td>7800.06</td>\n    </tr>\n    <tr>\n      <th>MD</th>\n      <td>Maryland</td>\n      <td>6075314</td>\n      <td>6065436</td>\n      <td>5788645</td>\n      <td>12406</td>\n      <td>9707.24</td>\n    </tr>\n    <tr>\n      <th>ME</th>\n      <td>Maine</td>\n      <td>1359677</td>\n      <td>1354522</td>\n      <td>1327629</td>\n      <td>35380</td>\n      <td>30842.92</td>\n    </tr>\n    <tr>\n      <th>MI</th>\n      <td>Michigan</td>\n      <td>9995212</td>\n      <td>9992427</td>\n      <td>9877510</td>\n      <td>96714</td>\n      <td>56538.90</td>\n    </tr>\n    <tr>\n      <th>MN</th>\n      <td>Minnesota</td>\n      <td>5739781</td>\n      <td>5706398</td>\n      <td>5310828</td>\n      <td>86936</td>\n      <td>79626.74</td>\n    </tr>\n    <tr>\n      <th>MO</th>\n      <td>Missouri</td>\n      <td>6184843</td>\n      <td>6169038</td>\n      <td>5995974</td>\n      <td>69707</td>\n      <td>68741.52</td>\n    </tr>\n    <tr>\n      <th>MS</th>\n      <td>Mississippi</td>\n      <td>2961536</td>\n      <td>2966407</td>\n      <td>2970548</td>\n      <td>48432</td>\n      <td>43923.27</td>\n    </tr>\n    <tr>\n      <th>MT</th>\n      <td>Montana</td>\n      <td>1093117</td>\n      <td>1085004</td>\n      <td>990697</td>\n      <td>147040</td>\n      <td>145545.80</td>\n    </tr>\n    <tr>\n      <th>NC</th>\n      <td>North Carolina</td>\n      <td>10807491</td>\n      <td>10701022</td>\n      <td>9574323</td>\n      <td>53819</td>\n      <td>48617.91</td>\n    </tr>\n    <tr>\n      <th>ND</th>\n      <td>North Dakota</td>\n      <td>774008</td>\n      <td>770026</td>\n      <td>674715</td>\n      <td>70698</td>\n      <td>69000.80</td>\n    </tr>\n    <tr>\n      <th>NE</th>\n      <td>Nebraska</td>\n      <td>1960790</td>\n      <td>1951996</td>\n      <td>1829542</td>\n      <td>77348</td>\n      <td>76824.17</td>\n    </tr>\n    <tr>\n      <th>NH</th>\n      <td>New Hampshire</td>\n      <td>1378449</td>\n      <td>1372203</td>\n      <td>1316762</td>\n      <td>9349</td>\n      <td>8952.65</td>\n    </tr>\n    <tr>\n      <th>NJ</th>\n      <td>New Jersey</td>\n      <td>8870685</td>\n      <td>8874520</td>\n      <td>8799446</td>\n      <td>8723</td>\n      <td>7354.22</td>\n    </tr>\n    <tr>\n      <th>NM</th>\n      <td>New Mexico</td>\n      <td>2109093</td>\n      <td>2105005</td>\n      <td>2064552</td>\n      <td>121590</td>\n      <td>121298.15</td>\n    </tr>\n    <tr>\n      <th>NV</th>\n      <td>Nevada</td>\n      <td>3238601</td>\n      <td>3185786</td>\n      <td>2702405</td>\n      <td>110572</td>\n      <td>109781.18</td>\n    </tr>\n    <tr>\n      <th>NY</th>\n      <td>New York</td>\n      <td>19223191</td>\n      <td>19299981</td>\n      <td>19399878</td>\n      <td>54555</td>\n      <td>47126.40</td>\n    </tr>\n    <tr>\n      <th>OH</th>\n      <td>Ohio</td>\n      <td>11727377</td>\n      <td>11714618</td>\n      <td>11539336</td>\n      <td>44826</td>\n      <td>40860.69</td>\n    </tr>\n    <tr>\n      <th>OK</th>\n      <td>Oklahoma</td>\n      <td>4007179</td>\n      <td>3990443</td>\n      <td>3759944</td>\n      <td>69899</td>\n      <td>68594.92</td>\n    </tr>\n    <tr>\n      <th>OR</th>\n      <td>Oregon</td>\n      <td>4325290</td>\n      <td>4289439</td>\n      <td>3837491</td>\n      <td>98379</td>\n      <td>95988.01</td>\n    </tr>\n    <tr>\n      <th>PA</th>\n      <td>Pennsylvania</td>\n      <td>12805190</td>\n      <td>12804123</td>\n      <td>12711160</td>\n      <td>46054</td>\n      <td>44742.70</td>\n    </tr>\n    <tr>\n      <th>RI</th>\n      <td>Rhode Island</td>\n      <td>1062583</td>\n      <td>1061509</td>\n      <td>1053959</td>\n      <td>1545</td>\n      <td>1033.81</td>\n    </tr>\n    <tr>\n      <th>SC</th>\n      <td>South Carolina</td>\n      <td>5342388</td>\n      <td>5277830</td>\n      <td>4635649</td>\n      <td>32020</td>\n      <td>30060.70</td>\n    </tr>\n    <tr>\n      <th>SD</th>\n      <td>South Dakota</td>\n      <td>902542</td>\n      <td>896581</td>\n      <td>816166</td>\n      <td>77116</td>\n      <td>75811.00</td>\n    </tr>\n    <tr>\n      <th>TN</th>\n      <td>Tennessee</td>\n      <td>7001803</td>\n      <td>6944260</td>\n      <td>6355311</td>\n      <td>42114</td>\n      <td>41234.90</td>\n    </tr>\n    <tr>\n      <th>TX</th>\n      <td>Texas</td>\n      <td>30097526</td>\n      <td>29730311</td>\n      <td>25241971</td>\n      <td>268596</td>\n      <td>261231.71</td>\n    </tr>\n    <tr>\n      <th>UT</th>\n      <td>Utah</td>\n      <td>3363182</td>\n      <td>3310774</td>\n      <td>2775332</td>\n      <td>84897</td>\n      <td>82169.62</td>\n    </tr>\n    <tr>\n      <th>VA</th>\n      <td>Virginia</td>\n      <td>8638218</td>\n      <td>8603985</td>\n      <td>8023699</td>\n      <td>42775</td>\n      <td>39490.09</td>\n    </tr>\n    <tr>\n      <th>VT</th>\n      <td>Vermont</td>\n      <td>622882</td>\n      <td>623251</td>\n      <td>625879</td>\n      <td>9616</td>\n      <td>9216.66</td>\n    </tr>\n    <tr>\n      <th>WA</th>\n      <td>Washington</td>\n      <td>7887965</td>\n      <td>7796941</td>\n      <td>6742830</td>\n      <td>71298</td>\n      <td>66455.52</td>\n    </tr>\n    <tr>\n      <th>WI</th>\n      <td>Wisconsin</td>\n      <td>5867518</td>\n      <td>5852490</td>\n      <td>5690475</td>\n      <td>65496</td>\n      <td>54157.80</td>\n    </tr>\n    <tr>\n      <th>WV</th>\n      <td>West Virginia</td>\n      <td>1755715</td>\n      <td>1767859</td>\n      <td>1854239</td>\n      <td>24230</td>\n      <td>24038.21</td>\n    </tr>\n    <tr>\n      <th>WY</th>\n      <td>Wyoming</td>\n      <td>582233</td>\n      <td>581075</td>\n      <td>564487</td>\n      <td>97813</td>\n      <td>97093.14</td>\n    </tr>\n  </tbody>\n</table>\n</div>"
     },
     "execution_count": 88,
     "metadata": {},
     "output_type": "execute_result"
    }
   ],
   "source": [
    "states = pd.read_csv('https://raw.githubusercontent.com/zacharski/datamining-guide/main/data/usStates.csv',\n",
    "                     index_col='State')\n",
    "states"
   ]
  },
  {
   "cell_type": "markdown",
   "metadata": {
    "id": "74y5zDcK6eUq"
   },
   "source": [
    "We can access a particular row, say the info for New Mexico by "
   ]
  },
  {
   "cell_type": "code",
   "execution_count": 89,
   "metadata": {
    "colab": {
     "base_uri": "https://localhost:8080/"
    },
    "id": "_VKAC2Yn6jCL",
    "outputId": "953c6ab0-cad2-450d-803b-e3729f53b9e8"
   },
   "outputs": [
    {
     "data": {
      "text/plain": "Name         New Mexico\nPop2022         2109093\nPop2021         2105005\nPop2010         2064552\nTotalArea        121590\nLandArea      121298.15\nName: NM, dtype: object"
     },
     "execution_count": 89,
     "metadata": {},
     "output_type": "execute_result"
    }
   ],
   "source": [
    "states.loc['NM']"
   ]
  },
  {
   "cell_type": "markdown",
   "metadata": {
    "id": "ZFx51fOf688-"
   },
   "source": [
    "You can access a range of rows by the standard Python method:"
   ]
  },
  {
   "cell_type": "code",
   "execution_count": 90,
   "metadata": {
    "colab": {
     "base_uri": "https://localhost:8080/",
     "height": 238
    },
    "id": "Yex0HIPR7Obd",
    "outputId": "829ee6bd-a917-4a19-eb04-5e3895f4bb16"
   },
   "outputs": [
    {
     "data": {
      "text/plain": "             Name   Pop2022   Pop2021   Pop2010  TotalArea   LandArea\nState                                                                \nAK         Alaska    720763    724357    713910     665384  570640.95\nAL        Alabama   4949697   4934193   4785437      52420   50645.33\nAR       Arkansas   3042017   3033946   2921964      53179   52035.48\nAZ        Arizona   7640796   7520103   6407172     113990  113594.08\nCA     California  39664128  39613493  37319502     163695  155779.22",
      "text/html": "<div>\n<style scoped>\n    .dataframe tbody tr th:only-of-type {\n        vertical-align: middle;\n    }\n\n    .dataframe tbody tr th {\n        vertical-align: top;\n    }\n\n    .dataframe thead th {\n        text-align: right;\n    }\n</style>\n<table border=\"1\" class=\"dataframe\">\n  <thead>\n    <tr style=\"text-align: right;\">\n      <th></th>\n      <th>Name</th>\n      <th>Pop2022</th>\n      <th>Pop2021</th>\n      <th>Pop2010</th>\n      <th>TotalArea</th>\n      <th>LandArea</th>\n    </tr>\n    <tr>\n      <th>State</th>\n      <th></th>\n      <th></th>\n      <th></th>\n      <th></th>\n      <th></th>\n      <th></th>\n    </tr>\n  </thead>\n  <tbody>\n    <tr>\n      <th>AK</th>\n      <td>Alaska</td>\n      <td>720763</td>\n      <td>724357</td>\n      <td>713910</td>\n      <td>665384</td>\n      <td>570640.95</td>\n    </tr>\n    <tr>\n      <th>AL</th>\n      <td>Alabama</td>\n      <td>4949697</td>\n      <td>4934193</td>\n      <td>4785437</td>\n      <td>52420</td>\n      <td>50645.33</td>\n    </tr>\n    <tr>\n      <th>AR</th>\n      <td>Arkansas</td>\n      <td>3042017</td>\n      <td>3033946</td>\n      <td>2921964</td>\n      <td>53179</td>\n      <td>52035.48</td>\n    </tr>\n    <tr>\n      <th>AZ</th>\n      <td>Arizona</td>\n      <td>7640796</td>\n      <td>7520103</td>\n      <td>6407172</td>\n      <td>113990</td>\n      <td>113594.08</td>\n    </tr>\n    <tr>\n      <th>CA</th>\n      <td>California</td>\n      <td>39664128</td>\n      <td>39613493</td>\n      <td>37319502</td>\n      <td>163695</td>\n      <td>155779.22</td>\n    </tr>\n  </tbody>\n</table>\n</div>"
     },
     "execution_count": 90,
     "metadata": {},
     "output_type": "execute_result"
    }
   ],
   "source": [
    "states[:5]"
   ]
  },
  {
   "cell_type": "markdown",
   "metadata": {
    "id": "tT4n3wWs7Y72"
   },
   "source": [
    "or\n"
   ]
  },
  {
   "cell_type": "code",
   "execution_count": 91,
   "metadata": {
    "colab": {
     "base_uri": "https://localhost:8080/",
     "height": 238
    },
    "id": "PoD_VMet7aEj",
    "outputId": "33bcc491-049c-4256-c46f-1551fcb1f3b3"
   },
   "outputs": [
    {
     "data": {
      "text/plain": "           Name   Pop2022   Pop2021   Pop2010  TotalArea  LandArea\nState                                                             \nIA         Iowa   3174426   3167974   3050745      56273  55857.13\nID        Idaho   1896652   1860123   1570746      83569  82643.12\nIL     Illinois  12518071  12569321  12840503      57914  55518.93\nIN      Indiana   6842385   6805663   6490432      36420  35826.11\nKS       Kansas   2919179   2917224   2858190      82278  81758.72",
      "text/html": "<div>\n<style scoped>\n    .dataframe tbody tr th:only-of-type {\n        vertical-align: middle;\n    }\n\n    .dataframe tbody tr th {\n        vertical-align: top;\n    }\n\n    .dataframe thead th {\n        text-align: right;\n    }\n</style>\n<table border=\"1\" class=\"dataframe\">\n  <thead>\n    <tr style=\"text-align: right;\">\n      <th></th>\n      <th>Name</th>\n      <th>Pop2022</th>\n      <th>Pop2021</th>\n      <th>Pop2010</th>\n      <th>TotalArea</th>\n      <th>LandArea</th>\n    </tr>\n    <tr>\n      <th>State</th>\n      <th></th>\n      <th></th>\n      <th></th>\n      <th></th>\n      <th></th>\n      <th></th>\n    </tr>\n  </thead>\n  <tbody>\n    <tr>\n      <th>IA</th>\n      <td>Iowa</td>\n      <td>3174426</td>\n      <td>3167974</td>\n      <td>3050745</td>\n      <td>56273</td>\n      <td>55857.13</td>\n    </tr>\n    <tr>\n      <th>ID</th>\n      <td>Idaho</td>\n      <td>1896652</td>\n      <td>1860123</td>\n      <td>1570746</td>\n      <td>83569</td>\n      <td>82643.12</td>\n    </tr>\n    <tr>\n      <th>IL</th>\n      <td>Illinois</td>\n      <td>12518071</td>\n      <td>12569321</td>\n      <td>12840503</td>\n      <td>57914</td>\n      <td>55518.93</td>\n    </tr>\n    <tr>\n      <th>IN</th>\n      <td>Indiana</td>\n      <td>6842385</td>\n      <td>6805663</td>\n      <td>6490432</td>\n      <td>36420</td>\n      <td>35826.11</td>\n    </tr>\n    <tr>\n      <th>KS</th>\n      <td>Kansas</td>\n      <td>2919179</td>\n      <td>2917224</td>\n      <td>2858190</td>\n      <td>82278</td>\n      <td>81758.72</td>\n    </tr>\n  </tbody>\n</table>\n</div>"
     },
     "execution_count": 91,
     "metadata": {},
     "output_type": "execute_result"
    }
   ],
   "source": [
    "states[11:16]"
   ]
  },
  {
   "cell_type": "markdown",
   "metadata": {
    "id": "sIYbCKxq7iVJ"
   },
   "source": [
    "or using these index values:"
   ]
  },
  {
   "cell_type": "code",
   "execution_count": 92,
   "metadata": {
    "colab": {
     "base_uri": "https://localhost:8080/",
     "height": 238
    },
    "id": "cNTbbUwQ7kio",
    "outputId": "d1bc63b7-a980-4eb8-812d-c8781038cd53"
   },
   "outputs": [
    {
     "data": {
      "text/plain": "           Name   Pop2022   Pop2021   Pop2010  TotalArea  LandArea\nState                                                             \nIA         Iowa   3174426   3167974   3050745      56273  55857.13\nID        Idaho   1896652   1860123   1570746      83569  82643.12\nIL     Illinois  12518071  12569321  12840503      57914  55518.93\nIN      Indiana   6842385   6805663   6490432      36420  35826.11\nKS       Kansas   2919179   2917224   2858190      82278  81758.72",
      "text/html": "<div>\n<style scoped>\n    .dataframe tbody tr th:only-of-type {\n        vertical-align: middle;\n    }\n\n    .dataframe tbody tr th {\n        vertical-align: top;\n    }\n\n    .dataframe thead th {\n        text-align: right;\n    }\n</style>\n<table border=\"1\" class=\"dataframe\">\n  <thead>\n    <tr style=\"text-align: right;\">\n      <th></th>\n      <th>Name</th>\n      <th>Pop2022</th>\n      <th>Pop2021</th>\n      <th>Pop2010</th>\n      <th>TotalArea</th>\n      <th>LandArea</th>\n    </tr>\n    <tr>\n      <th>State</th>\n      <th></th>\n      <th></th>\n      <th></th>\n      <th></th>\n      <th></th>\n      <th></th>\n    </tr>\n  </thead>\n  <tbody>\n    <tr>\n      <th>IA</th>\n      <td>Iowa</td>\n      <td>3174426</td>\n      <td>3167974</td>\n      <td>3050745</td>\n      <td>56273</td>\n      <td>55857.13</td>\n    </tr>\n    <tr>\n      <th>ID</th>\n      <td>Idaho</td>\n      <td>1896652</td>\n      <td>1860123</td>\n      <td>1570746</td>\n      <td>83569</td>\n      <td>82643.12</td>\n    </tr>\n    <tr>\n      <th>IL</th>\n      <td>Illinois</td>\n      <td>12518071</td>\n      <td>12569321</td>\n      <td>12840503</td>\n      <td>57914</td>\n      <td>55518.93</td>\n    </tr>\n    <tr>\n      <th>IN</th>\n      <td>Indiana</td>\n      <td>6842385</td>\n      <td>6805663</td>\n      <td>6490432</td>\n      <td>36420</td>\n      <td>35826.11</td>\n    </tr>\n    <tr>\n      <th>KS</th>\n      <td>Kansas</td>\n      <td>2919179</td>\n      <td>2917224</td>\n      <td>2858190</td>\n      <td>82278</td>\n      <td>81758.72</td>\n    </tr>\n  </tbody>\n</table>\n</div>"
     },
     "execution_count": 92,
     "metadata": {},
     "output_type": "execute_result"
    }
   ],
   "source": [
    "states['IA': 'KS']"
   ]
  },
  {
   "cell_type": "markdown",
   "metadata": {
    "id": "VF415m0h5_6W"
   },
   "source": [
    "\n",
    "![](https://raw.githubusercontent.com/zacharski/datamining-guide/master/labs/pics/divider.png)\n",
    "\n",
    "## Retrieving particular columns\n",
    "We can get a column of a DataFrame by using the column name:"
   ]
  },
  {
   "cell_type": "code",
   "execution_count": 93,
   "metadata": {
    "colab": {
     "base_uri": "https://localhost:8080/",
     "height": 1000
    },
    "id": "A2mz_V9a6uAO",
    "outputId": "8ccc6ec7-a283-4a26-f8f4-445b7027ce84"
   },
   "outputs": [
    {
     "data": {
      "text/plain": "        Pop2022\nState          \nAK       720763\nAL      4949697\nAR      3042017\nAZ      7640796\nCA     39664128\nCO      5961083\nCT      3546588\nDE       998619\nFL     22177997\nGA     10936299\nHI      1401709\nIA      3174426\nID      1896652\nIL     12518071\nIN      6842385\nKS      2919179\nKY      4487233\nLA      4616106\nMA      6922107\nMD      6075314\nME      1359677\nMI      9995212\nMN      5739781\nMO      6184843\nMS      2961536\nMT      1093117\nNC     10807491\nND       774008\nNE      1960790\nNH      1378449\nNJ      8870685\nNM      2109093\nNV      3238601\nNY     19223191\nOH     11727377\nOK      4007179\nOR      4325290\nPA     12805190\nRI      1062583\nSC      5342388\nSD       902542\nTN      7001803\nTX     30097526\nUT      3363182\nVA      8638218\nVT       622882\nWA      7887965\nWI      5867518\nWV      1755715\nWY       582233",
      "text/html": "<div>\n<style scoped>\n    .dataframe tbody tr th:only-of-type {\n        vertical-align: middle;\n    }\n\n    .dataframe tbody tr th {\n        vertical-align: top;\n    }\n\n    .dataframe thead th {\n        text-align: right;\n    }\n</style>\n<table border=\"1\" class=\"dataframe\">\n  <thead>\n    <tr style=\"text-align: right;\">\n      <th></th>\n      <th>Pop2022</th>\n    </tr>\n    <tr>\n      <th>State</th>\n      <th></th>\n    </tr>\n  </thead>\n  <tbody>\n    <tr>\n      <th>AK</th>\n      <td>720763</td>\n    </tr>\n    <tr>\n      <th>AL</th>\n      <td>4949697</td>\n    </tr>\n    <tr>\n      <th>AR</th>\n      <td>3042017</td>\n    </tr>\n    <tr>\n      <th>AZ</th>\n      <td>7640796</td>\n    </tr>\n    <tr>\n      <th>CA</th>\n      <td>39664128</td>\n    </tr>\n    <tr>\n      <th>CO</th>\n      <td>5961083</td>\n    </tr>\n    <tr>\n      <th>CT</th>\n      <td>3546588</td>\n    </tr>\n    <tr>\n      <th>DE</th>\n      <td>998619</td>\n    </tr>\n    <tr>\n      <th>FL</th>\n      <td>22177997</td>\n    </tr>\n    <tr>\n      <th>GA</th>\n      <td>10936299</td>\n    </tr>\n    <tr>\n      <th>HI</th>\n      <td>1401709</td>\n    </tr>\n    <tr>\n      <th>IA</th>\n      <td>3174426</td>\n    </tr>\n    <tr>\n      <th>ID</th>\n      <td>1896652</td>\n    </tr>\n    <tr>\n      <th>IL</th>\n      <td>12518071</td>\n    </tr>\n    <tr>\n      <th>IN</th>\n      <td>6842385</td>\n    </tr>\n    <tr>\n      <th>KS</th>\n      <td>2919179</td>\n    </tr>\n    <tr>\n      <th>KY</th>\n      <td>4487233</td>\n    </tr>\n    <tr>\n      <th>LA</th>\n      <td>4616106</td>\n    </tr>\n    <tr>\n      <th>MA</th>\n      <td>6922107</td>\n    </tr>\n    <tr>\n      <th>MD</th>\n      <td>6075314</td>\n    </tr>\n    <tr>\n      <th>ME</th>\n      <td>1359677</td>\n    </tr>\n    <tr>\n      <th>MI</th>\n      <td>9995212</td>\n    </tr>\n    <tr>\n      <th>MN</th>\n      <td>5739781</td>\n    </tr>\n    <tr>\n      <th>MO</th>\n      <td>6184843</td>\n    </tr>\n    <tr>\n      <th>MS</th>\n      <td>2961536</td>\n    </tr>\n    <tr>\n      <th>MT</th>\n      <td>1093117</td>\n    </tr>\n    <tr>\n      <th>NC</th>\n      <td>10807491</td>\n    </tr>\n    <tr>\n      <th>ND</th>\n      <td>774008</td>\n    </tr>\n    <tr>\n      <th>NE</th>\n      <td>1960790</td>\n    </tr>\n    <tr>\n      <th>NH</th>\n      <td>1378449</td>\n    </tr>\n    <tr>\n      <th>NJ</th>\n      <td>8870685</td>\n    </tr>\n    <tr>\n      <th>NM</th>\n      <td>2109093</td>\n    </tr>\n    <tr>\n      <th>NV</th>\n      <td>3238601</td>\n    </tr>\n    <tr>\n      <th>NY</th>\n      <td>19223191</td>\n    </tr>\n    <tr>\n      <th>OH</th>\n      <td>11727377</td>\n    </tr>\n    <tr>\n      <th>OK</th>\n      <td>4007179</td>\n    </tr>\n    <tr>\n      <th>OR</th>\n      <td>4325290</td>\n    </tr>\n    <tr>\n      <th>PA</th>\n      <td>12805190</td>\n    </tr>\n    <tr>\n      <th>RI</th>\n      <td>1062583</td>\n    </tr>\n    <tr>\n      <th>SC</th>\n      <td>5342388</td>\n    </tr>\n    <tr>\n      <th>SD</th>\n      <td>902542</td>\n    </tr>\n    <tr>\n      <th>TN</th>\n      <td>7001803</td>\n    </tr>\n    <tr>\n      <th>TX</th>\n      <td>30097526</td>\n    </tr>\n    <tr>\n      <th>UT</th>\n      <td>3363182</td>\n    </tr>\n    <tr>\n      <th>VA</th>\n      <td>8638218</td>\n    </tr>\n    <tr>\n      <th>VT</th>\n      <td>622882</td>\n    </tr>\n    <tr>\n      <th>WA</th>\n      <td>7887965</td>\n    </tr>\n    <tr>\n      <th>WI</th>\n      <td>5867518</td>\n    </tr>\n    <tr>\n      <th>WV</th>\n      <td>1755715</td>\n    </tr>\n    <tr>\n      <th>WY</th>\n      <td>582233</td>\n    </tr>\n  </tbody>\n</table>\n</div>"
     },
     "execution_count": 93,
     "metadata": {},
     "output_type": "execute_result"
    }
   ],
   "source": [
    "states[['Pop2022']]"
   ]
  },
  {
   "cell_type": "markdown",
   "metadata": {
    "id": "2pgNbgzM5_6W"
   },
   "source": [
    "and we can get multiple columns by passing a list of column names"
   ]
  },
  {
   "cell_type": "code",
   "execution_count": 94,
   "metadata": {
    "colab": {
     "base_uri": "https://localhost:8080/",
     "height": 1000
    },
    "id": "0DbFAGla5_6W",
    "outputId": "32258730-8c0d-4505-9b16-d62615d44ed8"
   },
   "outputs": [
    {
     "data": {
      "text/plain": "        Pop2022   Pop2010\nState                    \nAK       720763    713910\nAL      4949697   4785437\nAR      3042017   2921964\nAZ      7640796   6407172\nCA     39664128  37319502\nCO      5961083   5047349\nCT      3546588   3579114\nDE       998619    899593\nFL     22177997  18845537\nGA     10936299   9711881\nHI      1401709   1363963\nIA      3174426   3050745\nID      1896652   1570746\nIL     12518071  12840503\nIN      6842385   6490432\nKS      2919179   2858190\nKY      4487233   4348181\nLA      4616106   4544532\nMA      6922107   6566307\nMD      6075314   5788645\nME      1359677   1327629\nMI      9995212   9877510\nMN      5739781   5310828\nMO      6184843   5995974\nMS      2961536   2970548\nMT      1093117    990697\nNC     10807491   9574323\nND       774008    674715\nNE      1960790   1829542\nNH      1378449   1316762\nNJ      8870685   8799446\nNM      2109093   2064552\nNV      3238601   2702405\nNY     19223191  19399878\nOH     11727377  11539336\nOK      4007179   3759944\nOR      4325290   3837491\nPA     12805190  12711160\nRI      1062583   1053959\nSC      5342388   4635649\nSD       902542    816166\nTN      7001803   6355311\nTX     30097526  25241971\nUT      3363182   2775332\nVA      8638218   8023699\nVT       622882    625879\nWA      7887965   6742830\nWI      5867518   5690475\nWV      1755715   1854239\nWY       582233    564487",
      "text/html": "<div>\n<style scoped>\n    .dataframe tbody tr th:only-of-type {\n        vertical-align: middle;\n    }\n\n    .dataframe tbody tr th {\n        vertical-align: top;\n    }\n\n    .dataframe thead th {\n        text-align: right;\n    }\n</style>\n<table border=\"1\" class=\"dataframe\">\n  <thead>\n    <tr style=\"text-align: right;\">\n      <th></th>\n      <th>Pop2022</th>\n      <th>Pop2010</th>\n    </tr>\n    <tr>\n      <th>State</th>\n      <th></th>\n      <th></th>\n    </tr>\n  </thead>\n  <tbody>\n    <tr>\n      <th>AK</th>\n      <td>720763</td>\n      <td>713910</td>\n    </tr>\n    <tr>\n      <th>AL</th>\n      <td>4949697</td>\n      <td>4785437</td>\n    </tr>\n    <tr>\n      <th>AR</th>\n      <td>3042017</td>\n      <td>2921964</td>\n    </tr>\n    <tr>\n      <th>AZ</th>\n      <td>7640796</td>\n      <td>6407172</td>\n    </tr>\n    <tr>\n      <th>CA</th>\n      <td>39664128</td>\n      <td>37319502</td>\n    </tr>\n    <tr>\n      <th>CO</th>\n      <td>5961083</td>\n      <td>5047349</td>\n    </tr>\n    <tr>\n      <th>CT</th>\n      <td>3546588</td>\n      <td>3579114</td>\n    </tr>\n    <tr>\n      <th>DE</th>\n      <td>998619</td>\n      <td>899593</td>\n    </tr>\n    <tr>\n      <th>FL</th>\n      <td>22177997</td>\n      <td>18845537</td>\n    </tr>\n    <tr>\n      <th>GA</th>\n      <td>10936299</td>\n      <td>9711881</td>\n    </tr>\n    <tr>\n      <th>HI</th>\n      <td>1401709</td>\n      <td>1363963</td>\n    </tr>\n    <tr>\n      <th>IA</th>\n      <td>3174426</td>\n      <td>3050745</td>\n    </tr>\n    <tr>\n      <th>ID</th>\n      <td>1896652</td>\n      <td>1570746</td>\n    </tr>\n    <tr>\n      <th>IL</th>\n      <td>12518071</td>\n      <td>12840503</td>\n    </tr>\n    <tr>\n      <th>IN</th>\n      <td>6842385</td>\n      <td>6490432</td>\n    </tr>\n    <tr>\n      <th>KS</th>\n      <td>2919179</td>\n      <td>2858190</td>\n    </tr>\n    <tr>\n      <th>KY</th>\n      <td>4487233</td>\n      <td>4348181</td>\n    </tr>\n    <tr>\n      <th>LA</th>\n      <td>4616106</td>\n      <td>4544532</td>\n    </tr>\n    <tr>\n      <th>MA</th>\n      <td>6922107</td>\n      <td>6566307</td>\n    </tr>\n    <tr>\n      <th>MD</th>\n      <td>6075314</td>\n      <td>5788645</td>\n    </tr>\n    <tr>\n      <th>ME</th>\n      <td>1359677</td>\n      <td>1327629</td>\n    </tr>\n    <tr>\n      <th>MI</th>\n      <td>9995212</td>\n      <td>9877510</td>\n    </tr>\n    <tr>\n      <th>MN</th>\n      <td>5739781</td>\n      <td>5310828</td>\n    </tr>\n    <tr>\n      <th>MO</th>\n      <td>6184843</td>\n      <td>5995974</td>\n    </tr>\n    <tr>\n      <th>MS</th>\n      <td>2961536</td>\n      <td>2970548</td>\n    </tr>\n    <tr>\n      <th>MT</th>\n      <td>1093117</td>\n      <td>990697</td>\n    </tr>\n    <tr>\n      <th>NC</th>\n      <td>10807491</td>\n      <td>9574323</td>\n    </tr>\n    <tr>\n      <th>ND</th>\n      <td>774008</td>\n      <td>674715</td>\n    </tr>\n    <tr>\n      <th>NE</th>\n      <td>1960790</td>\n      <td>1829542</td>\n    </tr>\n    <tr>\n      <th>NH</th>\n      <td>1378449</td>\n      <td>1316762</td>\n    </tr>\n    <tr>\n      <th>NJ</th>\n      <td>8870685</td>\n      <td>8799446</td>\n    </tr>\n    <tr>\n      <th>NM</th>\n      <td>2109093</td>\n      <td>2064552</td>\n    </tr>\n    <tr>\n      <th>NV</th>\n      <td>3238601</td>\n      <td>2702405</td>\n    </tr>\n    <tr>\n      <th>NY</th>\n      <td>19223191</td>\n      <td>19399878</td>\n    </tr>\n    <tr>\n      <th>OH</th>\n      <td>11727377</td>\n      <td>11539336</td>\n    </tr>\n    <tr>\n      <th>OK</th>\n      <td>4007179</td>\n      <td>3759944</td>\n    </tr>\n    <tr>\n      <th>OR</th>\n      <td>4325290</td>\n      <td>3837491</td>\n    </tr>\n    <tr>\n      <th>PA</th>\n      <td>12805190</td>\n      <td>12711160</td>\n    </tr>\n    <tr>\n      <th>RI</th>\n      <td>1062583</td>\n      <td>1053959</td>\n    </tr>\n    <tr>\n      <th>SC</th>\n      <td>5342388</td>\n      <td>4635649</td>\n    </tr>\n    <tr>\n      <th>SD</th>\n      <td>902542</td>\n      <td>816166</td>\n    </tr>\n    <tr>\n      <th>TN</th>\n      <td>7001803</td>\n      <td>6355311</td>\n    </tr>\n    <tr>\n      <th>TX</th>\n      <td>30097526</td>\n      <td>25241971</td>\n    </tr>\n    <tr>\n      <th>UT</th>\n      <td>3363182</td>\n      <td>2775332</td>\n    </tr>\n    <tr>\n      <th>VA</th>\n      <td>8638218</td>\n      <td>8023699</td>\n    </tr>\n    <tr>\n      <th>VT</th>\n      <td>622882</td>\n      <td>625879</td>\n    </tr>\n    <tr>\n      <th>WA</th>\n      <td>7887965</td>\n      <td>6742830</td>\n    </tr>\n    <tr>\n      <th>WI</th>\n      <td>5867518</td>\n      <td>5690475</td>\n    </tr>\n    <tr>\n      <th>WV</th>\n      <td>1755715</td>\n      <td>1854239</td>\n    </tr>\n    <tr>\n      <th>WY</th>\n      <td>582233</td>\n      <td>564487</td>\n    </tr>\n  </tbody>\n</table>\n</div>"
     },
     "execution_count": 94,
     "metadata": {},
     "output_type": "execute_result"
    }
   ],
   "source": [
    "states[['Pop2022', 'Pop2010']]"
   ]
  },
  {
   "cell_type": "markdown",
   "metadata": {
    "id": "gx4xPt_z5_6X"
   },
   "source": [
    "### Returning rows with loc\n",
    "\n",
    "As we have seen we can retrieve rows using the loc function. \n",
    "\n",
    "We can also get rows that match a specific criterion. For example, all states whose 2022 population exceeded 10 million. "
   ]
  },
  {
   "cell_type": "code",
   "execution_count": 95,
   "metadata": {
    "colab": {
     "base_uri": "https://localhost:8080/",
     "height": 363
    },
    "id": "1V9oYofC5_6X",
    "outputId": "ad1cc83b-1907-4a62-d52e-8b3586d0d1ac"
   },
   "outputs": [
    {
     "data": {
      "text/plain": "                 Name   Pop2022   Pop2021   Pop2010  TotalArea   LandArea\nState                                                                    \nCA         California  39664128  39613493  37319502     163695  155779.22\nFL            Florida  22177997  21944577  18845537      65758   53624.76\nGA            Georgia  10936299  10830007   9711881      59425   57513.49\nIL           Illinois  12518071  12569321  12840503      57914   55518.93\nNC     North Carolina  10807491  10701022   9574323      53819   48617.91\nNY           New York  19223191  19299981  19399878      54555   47126.40\nOH               Ohio  11727377  11714618  11539336      44826   40860.69\nPA       Pennsylvania  12805190  12804123  12711160      46054   44742.70\nTX              Texas  30097526  29730311  25241971     268596  261231.71",
      "text/html": "<div>\n<style scoped>\n    .dataframe tbody tr th:only-of-type {\n        vertical-align: middle;\n    }\n\n    .dataframe tbody tr th {\n        vertical-align: top;\n    }\n\n    .dataframe thead th {\n        text-align: right;\n    }\n</style>\n<table border=\"1\" class=\"dataframe\">\n  <thead>\n    <tr style=\"text-align: right;\">\n      <th></th>\n      <th>Name</th>\n      <th>Pop2022</th>\n      <th>Pop2021</th>\n      <th>Pop2010</th>\n      <th>TotalArea</th>\n      <th>LandArea</th>\n    </tr>\n    <tr>\n      <th>State</th>\n      <th></th>\n      <th></th>\n      <th></th>\n      <th></th>\n      <th></th>\n      <th></th>\n    </tr>\n  </thead>\n  <tbody>\n    <tr>\n      <th>CA</th>\n      <td>California</td>\n      <td>39664128</td>\n      <td>39613493</td>\n      <td>37319502</td>\n      <td>163695</td>\n      <td>155779.22</td>\n    </tr>\n    <tr>\n      <th>FL</th>\n      <td>Florida</td>\n      <td>22177997</td>\n      <td>21944577</td>\n      <td>18845537</td>\n      <td>65758</td>\n      <td>53624.76</td>\n    </tr>\n    <tr>\n      <th>GA</th>\n      <td>Georgia</td>\n      <td>10936299</td>\n      <td>10830007</td>\n      <td>9711881</td>\n      <td>59425</td>\n      <td>57513.49</td>\n    </tr>\n    <tr>\n      <th>IL</th>\n      <td>Illinois</td>\n      <td>12518071</td>\n      <td>12569321</td>\n      <td>12840503</td>\n      <td>57914</td>\n      <td>55518.93</td>\n    </tr>\n    <tr>\n      <th>NC</th>\n      <td>North Carolina</td>\n      <td>10807491</td>\n      <td>10701022</td>\n      <td>9574323</td>\n      <td>53819</td>\n      <td>48617.91</td>\n    </tr>\n    <tr>\n      <th>NY</th>\n      <td>New York</td>\n      <td>19223191</td>\n      <td>19299981</td>\n      <td>19399878</td>\n      <td>54555</td>\n      <td>47126.40</td>\n    </tr>\n    <tr>\n      <th>OH</th>\n      <td>Ohio</td>\n      <td>11727377</td>\n      <td>11714618</td>\n      <td>11539336</td>\n      <td>44826</td>\n      <td>40860.69</td>\n    </tr>\n    <tr>\n      <th>PA</th>\n      <td>Pennsylvania</td>\n      <td>12805190</td>\n      <td>12804123</td>\n      <td>12711160</td>\n      <td>46054</td>\n      <td>44742.70</td>\n    </tr>\n    <tr>\n      <th>TX</th>\n      <td>Texas</td>\n      <td>30097526</td>\n      <td>29730311</td>\n      <td>25241971</td>\n      <td>268596</td>\n      <td>261231.71</td>\n    </tr>\n  </tbody>\n</table>\n</div>"
     },
     "execution_count": 95,
     "metadata": {},
     "output_type": "execute_result"
    }
   ],
   "source": [
    "populousStates = states.loc[states['Pop2022'] > 10000000] \n",
    "populousStates"
   ]
  },
  {
   "cell_type": "markdown",
   "metadata": {
    "id": "OGMYMikjGAll"
   },
   "source": [
    "Or let's say we are interested in the states that lost population between 2021 and 2022."
   ]
  },
  {
   "cell_type": "code",
   "execution_count": 96,
   "metadata": {
    "colab": {
     "base_uri": "https://localhost:8080/",
     "height": 394
    },
    "id": "FgJy-85BGF2K",
    "outputId": "741a0642-b546-45d6-a120-bd45bb66737f"
   },
   "outputs": [
    {
     "data": {
      "text/plain": "                Name   Pop2022   Pop2021   Pop2010  TotalArea   LandArea\nState                                                                   \nAK            Alaska    720763    724357    713910     665384  570640.95\nCT       Connecticut   3546588   3552821   3579114       5543    4842.36\nHI            Hawaii   1401709   1406430   1363963      10932    6422.63\nIL          Illinois  12518071  12569321  12840503      57914   55518.93\nLA         Louisiana   4616106   4627002   4544532      52378   43293.90\nMS       Mississippi   2961536   2966407   2970548      48432   43923.27\nNJ        New Jersey   8870685   8874520   8799446       8723    7354.22\nNY          New York  19223191  19299981  19399878      54555   47126.40\nVT           Vermont    622882    623251    625879       9616    9216.66\nWV     West Virginia   1755715   1767859   1854239      24230   24038.21",
      "text/html": "<div>\n<style scoped>\n    .dataframe tbody tr th:only-of-type {\n        vertical-align: middle;\n    }\n\n    .dataframe tbody tr th {\n        vertical-align: top;\n    }\n\n    .dataframe thead th {\n        text-align: right;\n    }\n</style>\n<table border=\"1\" class=\"dataframe\">\n  <thead>\n    <tr style=\"text-align: right;\">\n      <th></th>\n      <th>Name</th>\n      <th>Pop2022</th>\n      <th>Pop2021</th>\n      <th>Pop2010</th>\n      <th>TotalArea</th>\n      <th>LandArea</th>\n    </tr>\n    <tr>\n      <th>State</th>\n      <th></th>\n      <th></th>\n      <th></th>\n      <th></th>\n      <th></th>\n      <th></th>\n    </tr>\n  </thead>\n  <tbody>\n    <tr>\n      <th>AK</th>\n      <td>Alaska</td>\n      <td>720763</td>\n      <td>724357</td>\n      <td>713910</td>\n      <td>665384</td>\n      <td>570640.95</td>\n    </tr>\n    <tr>\n      <th>CT</th>\n      <td>Connecticut</td>\n      <td>3546588</td>\n      <td>3552821</td>\n      <td>3579114</td>\n      <td>5543</td>\n      <td>4842.36</td>\n    </tr>\n    <tr>\n      <th>HI</th>\n      <td>Hawaii</td>\n      <td>1401709</td>\n      <td>1406430</td>\n      <td>1363963</td>\n      <td>10932</td>\n      <td>6422.63</td>\n    </tr>\n    <tr>\n      <th>IL</th>\n      <td>Illinois</td>\n      <td>12518071</td>\n      <td>12569321</td>\n      <td>12840503</td>\n      <td>57914</td>\n      <td>55518.93</td>\n    </tr>\n    <tr>\n      <th>LA</th>\n      <td>Louisiana</td>\n      <td>4616106</td>\n      <td>4627002</td>\n      <td>4544532</td>\n      <td>52378</td>\n      <td>43293.90</td>\n    </tr>\n    <tr>\n      <th>MS</th>\n      <td>Mississippi</td>\n      <td>2961536</td>\n      <td>2966407</td>\n      <td>2970548</td>\n      <td>48432</td>\n      <td>43923.27</td>\n    </tr>\n    <tr>\n      <th>NJ</th>\n      <td>New Jersey</td>\n      <td>8870685</td>\n      <td>8874520</td>\n      <td>8799446</td>\n      <td>8723</td>\n      <td>7354.22</td>\n    </tr>\n    <tr>\n      <th>NY</th>\n      <td>New York</td>\n      <td>19223191</td>\n      <td>19299981</td>\n      <td>19399878</td>\n      <td>54555</td>\n      <td>47126.40</td>\n    </tr>\n    <tr>\n      <th>VT</th>\n      <td>Vermont</td>\n      <td>622882</td>\n      <td>623251</td>\n      <td>625879</td>\n      <td>9616</td>\n      <td>9216.66</td>\n    </tr>\n    <tr>\n      <th>WV</th>\n      <td>West Virginia</td>\n      <td>1755715</td>\n      <td>1767859</td>\n      <td>1854239</td>\n      <td>24230</td>\n      <td>24038.21</td>\n    </tr>\n  </tbody>\n</table>\n</div>"
     },
     "execution_count": 96,
     "metadata": {},
     "output_type": "execute_result"
    }
   ],
   "source": [
    "states.loc[states['Pop2022'] < states['Pop2021']]"
   ]
  },
  {
   "cell_type": "markdown",
   "metadata": {
    "id": "Y7ZJDokzGZVm"
   },
   "source": [
    "States that are over 10 million population and have lost population in 2022:"
   ]
  },
  {
   "cell_type": "code",
   "execution_count": 97,
   "metadata": {
    "colab": {
     "base_uri": "https://localhost:8080/",
     "height": 143
    },
    "id": "KIQ643qXGdoD",
    "outputId": "3bd030af-056e-4d60-a6a8-4584a74f5684"
   },
   "outputs": [
    {
     "data": {
      "text/plain": "           Name   Pop2022   Pop2021   Pop2010  TotalArea  LandArea\nState                                                             \nIL     Illinois  12518071  12569321  12840503      57914  55518.93\nNY     New York  19223191  19299981  19399878      54555  47126.40",
      "text/html": "<div>\n<style scoped>\n    .dataframe tbody tr th:only-of-type {\n        vertical-align: middle;\n    }\n\n    .dataframe tbody tr th {\n        vertical-align: top;\n    }\n\n    .dataframe thead th {\n        text-align: right;\n    }\n</style>\n<table border=\"1\" class=\"dataframe\">\n  <thead>\n    <tr style=\"text-align: right;\">\n      <th></th>\n      <th>Name</th>\n      <th>Pop2022</th>\n      <th>Pop2021</th>\n      <th>Pop2010</th>\n      <th>TotalArea</th>\n      <th>LandArea</th>\n    </tr>\n    <tr>\n      <th>State</th>\n      <th></th>\n      <th></th>\n      <th></th>\n      <th></th>\n      <th></th>\n      <th></th>\n    </tr>\n  </thead>\n  <tbody>\n    <tr>\n      <th>IL</th>\n      <td>Illinois</td>\n      <td>12518071</td>\n      <td>12569321</td>\n      <td>12840503</td>\n      <td>57914</td>\n      <td>55518.93</td>\n    </tr>\n    <tr>\n      <th>NY</th>\n      <td>New York</td>\n      <td>19223191</td>\n      <td>19299981</td>\n      <td>19399878</td>\n      <td>54555</td>\n      <td>47126.40</td>\n    </tr>\n  </tbody>\n</table>\n</div>"
     },
     "execution_count": 97,
     "metadata": {},
     "output_type": "execute_result"
    }
   ],
   "source": [
    "states.loc[(states['Pop2022'] < states['Pop2021']) & (states['Pop2022'] > 10000000)]"
   ]
  },
  {
   "cell_type": "markdown",
   "metadata": {
    "id": "l8OSpDM9HwcX"
   },
   "source": [
    "\n",
    "![](https://raw.githubusercontent.com/zacharski/datamining-guide/master/labs/pics/divider.png)\n",
    "\n",
    "## Creating new columns\n",
    "\n",
    "#### State Density\n",
    "\n",
    "![](https://raw.githubusercontent.com/zacharski/datamining-guide/master/labs/pics/stateDensity.png)\n",
    "\n",
    "Let's say we want to add a new column, Density, that gives the number of people per square mile of land area. So the Formula is\n",
    "\n",
    "\n",
    "\n",
    "$$Density=\\frac{Pop2022}{LandArea}$$\n",
    "\n",
    "We can do that with\n"
   ]
  },
  {
   "cell_type": "code",
   "execution_count": 98,
   "metadata": {
    "colab": {
     "base_uri": "https://localhost:8080/",
     "height": 238
    },
    "id": "8ft7c-EAIttE",
    "outputId": "785a3f78-9384-4df5-b5f7-18a253d247f8"
   },
   "outputs": [
    {
     "data": {
      "text/plain": "             Name     Density\nState                        \nAK         Alaska    1.263076\nAL        Alabama   97.732545\nAR       Arkansas   58.460439\nAZ        Arizona   67.264033\nCA     California  254.617580",
      "text/html": "<div>\n<style scoped>\n    .dataframe tbody tr th:only-of-type {\n        vertical-align: middle;\n    }\n\n    .dataframe tbody tr th {\n        vertical-align: top;\n    }\n\n    .dataframe thead th {\n        text-align: right;\n    }\n</style>\n<table border=\"1\" class=\"dataframe\">\n  <thead>\n    <tr style=\"text-align: right;\">\n      <th></th>\n      <th>Name</th>\n      <th>Density</th>\n    </tr>\n    <tr>\n      <th>State</th>\n      <th></th>\n      <th></th>\n    </tr>\n  </thead>\n  <tbody>\n    <tr>\n      <th>AK</th>\n      <td>Alaska</td>\n      <td>1.263076</td>\n    </tr>\n    <tr>\n      <th>AL</th>\n      <td>Alabama</td>\n      <td>97.732545</td>\n    </tr>\n    <tr>\n      <th>AR</th>\n      <td>Arkansas</td>\n      <td>58.460439</td>\n    </tr>\n    <tr>\n      <th>AZ</th>\n      <td>Arizona</td>\n      <td>67.264033</td>\n    </tr>\n    <tr>\n      <th>CA</th>\n      <td>California</td>\n      <td>254.617580</td>\n    </tr>\n  </tbody>\n</table>\n</div>"
     },
     "execution_count": 98,
     "metadata": {},
     "output_type": "execute_result"
    }
   ],
   "source": [
    "states['Density'] = states['Pop2022'] / states['LandArea']\n",
    "states[:5][['Name', 'Density']]"
   ]
  },
  {
   "cell_type": "markdown",
   "metadata": {
    "id": "P_GSii5JJhJH"
   },
   "source": [
    "\n",
    "![](https://raw.githubusercontent.com/zacharski/datamining-guide/master/labs/pics/divider.png)\n",
    "\n",
    "## Sorting\n",
    "\n",
    "Density is nice but it would be nice if we ordered the DataFrame by Density..."
   ]
  },
  {
   "cell_type": "code",
   "execution_count": 99,
   "metadata": {
    "colab": {
     "base_uri": "https://localhost:8080/",
     "height": 1000
    },
    "id": "rWh7w8EbKZTK",
    "outputId": "3d02b71b-27f6-45d7-e3d9-9a2a1b71b31b"
   },
   "outputs": [
    {
     "data": {
      "text/plain": "                 Name   Pop2022   Pop2021   Pop2010  TotalArea   LandArea  \\\nState                                                                       \nAK             Alaska    720763    724357    713910     665384  570640.95   \nWY            Wyoming    582233    581075    564487      97813   97093.14   \nMT            Montana   1093117   1085004    990697     147040  145545.80   \nND       North Dakota    774008    770026    674715      70698   69000.80   \nSD       South Dakota    902542    896581    816166      77116   75811.00   \nNM         New Mexico   2109093   2105005   2064552     121590  121298.15   \nID              Idaho   1896652   1860123   1570746      83569   82643.12   \nNE           Nebraska   1960790   1951996   1829542      77348   76824.17   \nNV             Nevada   3238601   3185786   2702405     110572  109781.18   \nKS             Kansas   2919179   2917224   2858190      82278   81758.72   \nUT               Utah   3363182   3310774   2775332      84897   82169.62   \nME              Maine   1359677   1354522   1327629      35380   30842.92   \nOR             Oregon   4325290   4289439   3837491      98379   95988.01   \nIA               Iowa   3174426   3167974   3050745      56273   55857.13   \nCO           Colorado   5961083   5893634   5047349     104094  103641.89   \nOK           Oklahoma   4007179   3990443   3759944      69899   68594.92   \nAR           Arkansas   3042017   3033946   2921964      53179   52035.48   \nAZ            Arizona   7640796   7520103   6407172     113990  113594.08   \nMS        Mississippi   2961536   2966407   2970548      48432   43923.27   \nVT            Vermont    622882    623251    625879       9616    9216.66   \nMN          Minnesota   5739781   5706398   5310828      86936   79626.74   \nWV      West Virginia   1755715   1767859   1854239      24230   24038.21   \nMO           Missouri   6184843   6169038   5995974      69707   68741.52   \nAL            Alabama   4949697   4934193   4785437      52420   50645.33   \nLA          Louisiana   4616106   4627002   4544532      52378   43293.90   \nWI          Wisconsin   5867518   5852490   5690475      65496   54157.80   \nKY           Kentucky   4487233   4480713   4348181      40408   39486.34   \nTX              Texas  30097526  29730311  25241971     268596  261231.71   \nWA         Washington   7887965   7796941   6742830      71298   66455.52   \nNH      New Hampshire   1378449   1372203   1316762       9349    8952.65   \nTN          Tennessee   7001803   6944260   6355311      42114   41234.90   \nMI           Michigan   9995212   9992427   9877510      96714   56538.90   \nSC     South Carolina   5342388   5277830   4635649      32020   30060.70   \nGA            Georgia  10936299  10830007   9711881      59425   57513.49   \nIN            Indiana   6842385   6805663   6490432      36420   35826.11   \nHI             Hawaii   1401709   1406430   1363963      10932    6422.63   \nVA           Virginia   8638218   8603985   8023699      42775   39490.09   \nNC     North Carolina  10807491  10701022   9574323      53819   48617.91   \nIL           Illinois  12518071  12569321  12840503      57914   55518.93   \nCA         California  39664128  39613493  37319502     163695  155779.22   \nPA       Pennsylvania  12805190  12804123  12711160      46054   44742.70   \nOH               Ohio  11727377  11714618  11539336      44826   40860.69   \nNY           New York  19223191  19299981  19399878      54555   47126.40   \nFL            Florida  22177997  21944577  18845537      65758   53624.76   \nDE           Delaware    998619    990334    899593       2489    1948.54   \nMD           Maryland   6075314   6065436   5788645      12406    9707.24   \nCT        Connecticut   3546588   3552821   3579114       5543    4842.36   \nMA      Massachusetts   6922107   6912239   6566307      10554    7800.06   \nRI       Rhode Island   1062583   1061509   1053959       1545    1033.81   \nNJ         New Jersey   8870685   8874520   8799446       8723    7354.22   \n\n           Density  \nState               \nAK        1.263076  \nWY        5.996644  \nMT        7.510467  \nND       11.217377  \nSD       11.905159  \nNM       17.387677  \nID       22.949908  \nNE       25.523087  \nNV       29.500512  \nKS       35.704803  \nUT       40.929750  \nME       44.083926  \nOR       45.060732  \nIA       56.831169  \nCO       57.516155  \nOK       58.418014  \nAR       58.460439  \nAZ       67.264033  \nMS       67.425217  \nVT       67.582183  \nMN       72.083586  \nWV       73.038508  \nMO       89.972450  \nAL       97.732545  \nLA      106.622550  \nWI      108.341144  \nKY      113.640135  \nTX      115.213907  \nWA      118.695407  \nNH      153.971059  \nTN      169.802837  \nMI      176.784692  \nSC      177.720013  \nGA      190.151893  \nIN      190.988779  \nHI      218.245329  \nVA      218.743943  \nNC      222.294438  \nIL      225.473924  \nCA      254.617580  \nPA      286.196184  \nOH      287.008785  \nNY      407.907054  \nFL      413.577553  \nDE      512.496023  \nMD      625.853899  \nCT      732.408991  \nMA      887.442789  \nRI     1027.832000  \nNJ     1206.203377  ",
      "text/html": "<div>\n<style scoped>\n    .dataframe tbody tr th:only-of-type {\n        vertical-align: middle;\n    }\n\n    .dataframe tbody tr th {\n        vertical-align: top;\n    }\n\n    .dataframe thead th {\n        text-align: right;\n    }\n</style>\n<table border=\"1\" class=\"dataframe\">\n  <thead>\n    <tr style=\"text-align: right;\">\n      <th></th>\n      <th>Name</th>\n      <th>Pop2022</th>\n      <th>Pop2021</th>\n      <th>Pop2010</th>\n      <th>TotalArea</th>\n      <th>LandArea</th>\n      <th>Density</th>\n    </tr>\n    <tr>\n      <th>State</th>\n      <th></th>\n      <th></th>\n      <th></th>\n      <th></th>\n      <th></th>\n      <th></th>\n      <th></th>\n    </tr>\n  </thead>\n  <tbody>\n    <tr>\n      <th>AK</th>\n      <td>Alaska</td>\n      <td>720763</td>\n      <td>724357</td>\n      <td>713910</td>\n      <td>665384</td>\n      <td>570640.95</td>\n      <td>1.263076</td>\n    </tr>\n    <tr>\n      <th>WY</th>\n      <td>Wyoming</td>\n      <td>582233</td>\n      <td>581075</td>\n      <td>564487</td>\n      <td>97813</td>\n      <td>97093.14</td>\n      <td>5.996644</td>\n    </tr>\n    <tr>\n      <th>MT</th>\n      <td>Montana</td>\n      <td>1093117</td>\n      <td>1085004</td>\n      <td>990697</td>\n      <td>147040</td>\n      <td>145545.80</td>\n      <td>7.510467</td>\n    </tr>\n    <tr>\n      <th>ND</th>\n      <td>North Dakota</td>\n      <td>774008</td>\n      <td>770026</td>\n      <td>674715</td>\n      <td>70698</td>\n      <td>69000.80</td>\n      <td>11.217377</td>\n    </tr>\n    <tr>\n      <th>SD</th>\n      <td>South Dakota</td>\n      <td>902542</td>\n      <td>896581</td>\n      <td>816166</td>\n      <td>77116</td>\n      <td>75811.00</td>\n      <td>11.905159</td>\n    </tr>\n    <tr>\n      <th>NM</th>\n      <td>New Mexico</td>\n      <td>2109093</td>\n      <td>2105005</td>\n      <td>2064552</td>\n      <td>121590</td>\n      <td>121298.15</td>\n      <td>17.387677</td>\n    </tr>\n    <tr>\n      <th>ID</th>\n      <td>Idaho</td>\n      <td>1896652</td>\n      <td>1860123</td>\n      <td>1570746</td>\n      <td>83569</td>\n      <td>82643.12</td>\n      <td>22.949908</td>\n    </tr>\n    <tr>\n      <th>NE</th>\n      <td>Nebraska</td>\n      <td>1960790</td>\n      <td>1951996</td>\n      <td>1829542</td>\n      <td>77348</td>\n      <td>76824.17</td>\n      <td>25.523087</td>\n    </tr>\n    <tr>\n      <th>NV</th>\n      <td>Nevada</td>\n      <td>3238601</td>\n      <td>3185786</td>\n      <td>2702405</td>\n      <td>110572</td>\n      <td>109781.18</td>\n      <td>29.500512</td>\n    </tr>\n    <tr>\n      <th>KS</th>\n      <td>Kansas</td>\n      <td>2919179</td>\n      <td>2917224</td>\n      <td>2858190</td>\n      <td>82278</td>\n      <td>81758.72</td>\n      <td>35.704803</td>\n    </tr>\n    <tr>\n      <th>UT</th>\n      <td>Utah</td>\n      <td>3363182</td>\n      <td>3310774</td>\n      <td>2775332</td>\n      <td>84897</td>\n      <td>82169.62</td>\n      <td>40.929750</td>\n    </tr>\n    <tr>\n      <th>ME</th>\n      <td>Maine</td>\n      <td>1359677</td>\n      <td>1354522</td>\n      <td>1327629</td>\n      <td>35380</td>\n      <td>30842.92</td>\n      <td>44.083926</td>\n    </tr>\n    <tr>\n      <th>OR</th>\n      <td>Oregon</td>\n      <td>4325290</td>\n      <td>4289439</td>\n      <td>3837491</td>\n      <td>98379</td>\n      <td>95988.01</td>\n      <td>45.060732</td>\n    </tr>\n    <tr>\n      <th>IA</th>\n      <td>Iowa</td>\n      <td>3174426</td>\n      <td>3167974</td>\n      <td>3050745</td>\n      <td>56273</td>\n      <td>55857.13</td>\n      <td>56.831169</td>\n    </tr>\n    <tr>\n      <th>CO</th>\n      <td>Colorado</td>\n      <td>5961083</td>\n      <td>5893634</td>\n      <td>5047349</td>\n      <td>104094</td>\n      <td>103641.89</td>\n      <td>57.516155</td>\n    </tr>\n    <tr>\n      <th>OK</th>\n      <td>Oklahoma</td>\n      <td>4007179</td>\n      <td>3990443</td>\n      <td>3759944</td>\n      <td>69899</td>\n      <td>68594.92</td>\n      <td>58.418014</td>\n    </tr>\n    <tr>\n      <th>AR</th>\n      <td>Arkansas</td>\n      <td>3042017</td>\n      <td>3033946</td>\n      <td>2921964</td>\n      <td>53179</td>\n      <td>52035.48</td>\n      <td>58.460439</td>\n    </tr>\n    <tr>\n      <th>AZ</th>\n      <td>Arizona</td>\n      <td>7640796</td>\n      <td>7520103</td>\n      <td>6407172</td>\n      <td>113990</td>\n      <td>113594.08</td>\n      <td>67.264033</td>\n    </tr>\n    <tr>\n      <th>MS</th>\n      <td>Mississippi</td>\n      <td>2961536</td>\n      <td>2966407</td>\n      <td>2970548</td>\n      <td>48432</td>\n      <td>43923.27</td>\n      <td>67.425217</td>\n    </tr>\n    <tr>\n      <th>VT</th>\n      <td>Vermont</td>\n      <td>622882</td>\n      <td>623251</td>\n      <td>625879</td>\n      <td>9616</td>\n      <td>9216.66</td>\n      <td>67.582183</td>\n    </tr>\n    <tr>\n      <th>MN</th>\n      <td>Minnesota</td>\n      <td>5739781</td>\n      <td>5706398</td>\n      <td>5310828</td>\n      <td>86936</td>\n      <td>79626.74</td>\n      <td>72.083586</td>\n    </tr>\n    <tr>\n      <th>WV</th>\n      <td>West Virginia</td>\n      <td>1755715</td>\n      <td>1767859</td>\n      <td>1854239</td>\n      <td>24230</td>\n      <td>24038.21</td>\n      <td>73.038508</td>\n    </tr>\n    <tr>\n      <th>MO</th>\n      <td>Missouri</td>\n      <td>6184843</td>\n      <td>6169038</td>\n      <td>5995974</td>\n      <td>69707</td>\n      <td>68741.52</td>\n      <td>89.972450</td>\n    </tr>\n    <tr>\n      <th>AL</th>\n      <td>Alabama</td>\n      <td>4949697</td>\n      <td>4934193</td>\n      <td>4785437</td>\n      <td>52420</td>\n      <td>50645.33</td>\n      <td>97.732545</td>\n    </tr>\n    <tr>\n      <th>LA</th>\n      <td>Louisiana</td>\n      <td>4616106</td>\n      <td>4627002</td>\n      <td>4544532</td>\n      <td>52378</td>\n      <td>43293.90</td>\n      <td>106.622550</td>\n    </tr>\n    <tr>\n      <th>WI</th>\n      <td>Wisconsin</td>\n      <td>5867518</td>\n      <td>5852490</td>\n      <td>5690475</td>\n      <td>65496</td>\n      <td>54157.80</td>\n      <td>108.341144</td>\n    </tr>\n    <tr>\n      <th>KY</th>\n      <td>Kentucky</td>\n      <td>4487233</td>\n      <td>4480713</td>\n      <td>4348181</td>\n      <td>40408</td>\n      <td>39486.34</td>\n      <td>113.640135</td>\n    </tr>\n    <tr>\n      <th>TX</th>\n      <td>Texas</td>\n      <td>30097526</td>\n      <td>29730311</td>\n      <td>25241971</td>\n      <td>268596</td>\n      <td>261231.71</td>\n      <td>115.213907</td>\n    </tr>\n    <tr>\n      <th>WA</th>\n      <td>Washington</td>\n      <td>7887965</td>\n      <td>7796941</td>\n      <td>6742830</td>\n      <td>71298</td>\n      <td>66455.52</td>\n      <td>118.695407</td>\n    </tr>\n    <tr>\n      <th>NH</th>\n      <td>New Hampshire</td>\n      <td>1378449</td>\n      <td>1372203</td>\n      <td>1316762</td>\n      <td>9349</td>\n      <td>8952.65</td>\n      <td>153.971059</td>\n    </tr>\n    <tr>\n      <th>TN</th>\n      <td>Tennessee</td>\n      <td>7001803</td>\n      <td>6944260</td>\n      <td>6355311</td>\n      <td>42114</td>\n      <td>41234.90</td>\n      <td>169.802837</td>\n    </tr>\n    <tr>\n      <th>MI</th>\n      <td>Michigan</td>\n      <td>9995212</td>\n      <td>9992427</td>\n      <td>9877510</td>\n      <td>96714</td>\n      <td>56538.90</td>\n      <td>176.784692</td>\n    </tr>\n    <tr>\n      <th>SC</th>\n      <td>South Carolina</td>\n      <td>5342388</td>\n      <td>5277830</td>\n      <td>4635649</td>\n      <td>32020</td>\n      <td>30060.70</td>\n      <td>177.720013</td>\n    </tr>\n    <tr>\n      <th>GA</th>\n      <td>Georgia</td>\n      <td>10936299</td>\n      <td>10830007</td>\n      <td>9711881</td>\n      <td>59425</td>\n      <td>57513.49</td>\n      <td>190.151893</td>\n    </tr>\n    <tr>\n      <th>IN</th>\n      <td>Indiana</td>\n      <td>6842385</td>\n      <td>6805663</td>\n      <td>6490432</td>\n      <td>36420</td>\n      <td>35826.11</td>\n      <td>190.988779</td>\n    </tr>\n    <tr>\n      <th>HI</th>\n      <td>Hawaii</td>\n      <td>1401709</td>\n      <td>1406430</td>\n      <td>1363963</td>\n      <td>10932</td>\n      <td>6422.63</td>\n      <td>218.245329</td>\n    </tr>\n    <tr>\n      <th>VA</th>\n      <td>Virginia</td>\n      <td>8638218</td>\n      <td>8603985</td>\n      <td>8023699</td>\n      <td>42775</td>\n      <td>39490.09</td>\n      <td>218.743943</td>\n    </tr>\n    <tr>\n      <th>NC</th>\n      <td>North Carolina</td>\n      <td>10807491</td>\n      <td>10701022</td>\n      <td>9574323</td>\n      <td>53819</td>\n      <td>48617.91</td>\n      <td>222.294438</td>\n    </tr>\n    <tr>\n      <th>IL</th>\n      <td>Illinois</td>\n      <td>12518071</td>\n      <td>12569321</td>\n      <td>12840503</td>\n      <td>57914</td>\n      <td>55518.93</td>\n      <td>225.473924</td>\n    </tr>\n    <tr>\n      <th>CA</th>\n      <td>California</td>\n      <td>39664128</td>\n      <td>39613493</td>\n      <td>37319502</td>\n      <td>163695</td>\n      <td>155779.22</td>\n      <td>254.617580</td>\n    </tr>\n    <tr>\n      <th>PA</th>\n      <td>Pennsylvania</td>\n      <td>12805190</td>\n      <td>12804123</td>\n      <td>12711160</td>\n      <td>46054</td>\n      <td>44742.70</td>\n      <td>286.196184</td>\n    </tr>\n    <tr>\n      <th>OH</th>\n      <td>Ohio</td>\n      <td>11727377</td>\n      <td>11714618</td>\n      <td>11539336</td>\n      <td>44826</td>\n      <td>40860.69</td>\n      <td>287.008785</td>\n    </tr>\n    <tr>\n      <th>NY</th>\n      <td>New York</td>\n      <td>19223191</td>\n      <td>19299981</td>\n      <td>19399878</td>\n      <td>54555</td>\n      <td>47126.40</td>\n      <td>407.907054</td>\n    </tr>\n    <tr>\n      <th>FL</th>\n      <td>Florida</td>\n      <td>22177997</td>\n      <td>21944577</td>\n      <td>18845537</td>\n      <td>65758</td>\n      <td>53624.76</td>\n      <td>413.577553</td>\n    </tr>\n    <tr>\n      <th>DE</th>\n      <td>Delaware</td>\n      <td>998619</td>\n      <td>990334</td>\n      <td>899593</td>\n      <td>2489</td>\n      <td>1948.54</td>\n      <td>512.496023</td>\n    </tr>\n    <tr>\n      <th>MD</th>\n      <td>Maryland</td>\n      <td>6075314</td>\n      <td>6065436</td>\n      <td>5788645</td>\n      <td>12406</td>\n      <td>9707.24</td>\n      <td>625.853899</td>\n    </tr>\n    <tr>\n      <th>CT</th>\n      <td>Connecticut</td>\n      <td>3546588</td>\n      <td>3552821</td>\n      <td>3579114</td>\n      <td>5543</td>\n      <td>4842.36</td>\n      <td>732.408991</td>\n    </tr>\n    <tr>\n      <th>MA</th>\n      <td>Massachusetts</td>\n      <td>6922107</td>\n      <td>6912239</td>\n      <td>6566307</td>\n      <td>10554</td>\n      <td>7800.06</td>\n      <td>887.442789</td>\n    </tr>\n    <tr>\n      <th>RI</th>\n      <td>Rhode Island</td>\n      <td>1062583</td>\n      <td>1061509</td>\n      <td>1053959</td>\n      <td>1545</td>\n      <td>1033.81</td>\n      <td>1027.832000</td>\n    </tr>\n    <tr>\n      <th>NJ</th>\n      <td>New Jersey</td>\n      <td>8870685</td>\n      <td>8874520</td>\n      <td>8799446</td>\n      <td>8723</td>\n      <td>7354.22</td>\n      <td>1206.203377</td>\n    </tr>\n  </tbody>\n</table>\n</div>"
     },
     "execution_count": 99,
     "metadata": {},
     "output_type": "execute_result"
    }
   ],
   "source": [
    "states.sort_values(by=['Density'])"
   ]
  },
  {
   "cell_type": "markdown",
   "metadata": {
    "id": "mF4Lt2CYKiXC"
   },
   "source": [
    "That is better, but perhaps we would like to order by densest states first and only show the top five ...\n",
    " "
   ]
  },
  {
   "cell_type": "code",
   "execution_count": 100,
   "metadata": {
    "colab": {
     "base_uri": "https://localhost:8080/",
     "height": 238
    },
    "id": "iOE3ux2kKrGN",
    "outputId": "c9c18f6f-ac6b-49fc-e315-987cff98ce03"
   },
   "outputs": [
    {
     "data": {
      "text/plain": "                Name  Pop2022  Pop2021  Pop2010  TotalArea  LandArea  \\\nState                                                                  \nNJ        New Jersey  8870685  8874520  8799446       8723   7354.22   \nRI      Rhode Island  1062583  1061509  1053959       1545   1033.81   \nMA     Massachusetts  6922107  6912239  6566307      10554   7800.06   \nCT       Connecticut  3546588  3552821  3579114       5543   4842.36   \nMD          Maryland  6075314  6065436  5788645      12406   9707.24   \n\n           Density  \nState               \nNJ     1206.203377  \nRI     1027.832000  \nMA      887.442789  \nCT      732.408991  \nMD      625.853899  ",
      "text/html": "<div>\n<style scoped>\n    .dataframe tbody tr th:only-of-type {\n        vertical-align: middle;\n    }\n\n    .dataframe tbody tr th {\n        vertical-align: top;\n    }\n\n    .dataframe thead th {\n        text-align: right;\n    }\n</style>\n<table border=\"1\" class=\"dataframe\">\n  <thead>\n    <tr style=\"text-align: right;\">\n      <th></th>\n      <th>Name</th>\n      <th>Pop2022</th>\n      <th>Pop2021</th>\n      <th>Pop2010</th>\n      <th>TotalArea</th>\n      <th>LandArea</th>\n      <th>Density</th>\n    </tr>\n    <tr>\n      <th>State</th>\n      <th></th>\n      <th></th>\n      <th></th>\n      <th></th>\n      <th></th>\n      <th></th>\n      <th></th>\n    </tr>\n  </thead>\n  <tbody>\n    <tr>\n      <th>NJ</th>\n      <td>New Jersey</td>\n      <td>8870685</td>\n      <td>8874520</td>\n      <td>8799446</td>\n      <td>8723</td>\n      <td>7354.22</td>\n      <td>1206.203377</td>\n    </tr>\n    <tr>\n      <th>RI</th>\n      <td>Rhode Island</td>\n      <td>1062583</td>\n      <td>1061509</td>\n      <td>1053959</td>\n      <td>1545</td>\n      <td>1033.81</td>\n      <td>1027.832000</td>\n    </tr>\n    <tr>\n      <th>MA</th>\n      <td>Massachusetts</td>\n      <td>6922107</td>\n      <td>6912239</td>\n      <td>6566307</td>\n      <td>10554</td>\n      <td>7800.06</td>\n      <td>887.442789</td>\n    </tr>\n    <tr>\n      <th>CT</th>\n      <td>Connecticut</td>\n      <td>3546588</td>\n      <td>3552821</td>\n      <td>3579114</td>\n      <td>5543</td>\n      <td>4842.36</td>\n      <td>732.408991</td>\n    </tr>\n    <tr>\n      <th>MD</th>\n      <td>Maryland</td>\n      <td>6075314</td>\n      <td>6065436</td>\n      <td>5788645</td>\n      <td>12406</td>\n      <td>9707.24</td>\n      <td>625.853899</td>\n    </tr>\n  </tbody>\n</table>\n</div>"
     },
     "execution_count": 100,
     "metadata": {},
     "output_type": "execute_result"
    }
   ],
   "source": [
    "states.sort_values(by=['Density'], ascending=False)[:5]"
   ]
  },
  {
   "cell_type": "markdown",
   "metadata": {
    "id": "5mk5YrN-LeYT"
   },
   "source": [
    "Finally, let's add a column, growth, that shows the percent change in population from 2021 to 2022.  That formula would be\n",
    "\n",
    "$$Growth=(\\frac{Pop2022}{Pop2021} - 1) \\times 100  $$"
   ]
  },
  {
   "cell_type": "code",
   "execution_count": 101,
   "metadata": {
    "colab": {
     "base_uri": "https://localhost:8080/",
     "height": 394
    },
    "id": "hEoh-KQ15_6X",
    "outputId": "54363d93-fd7c-47ae-8805-6b6b2a549e52"
   },
   "outputs": [
    {
     "data": {
      "text/plain": "              Name   Pop2022   Pop2021   Pop2010  TotalArea   LandArea  \\\nState                                                                    \nAK          Alaska    720763    724357    713910     665384  570640.95   \nAL         Alabama   4949697   4934193   4785437      52420   50645.33   \nAR        Arkansas   3042017   3033946   2921964      53179   52035.48   \nAZ         Arizona   7640796   7520103   6407172     113990  113594.08   \nCA      California  39664128  39613493  37319502     163695  155779.22   \nCO        Colorado   5961083   5893634   5047349     104094  103641.89   \nCT     Connecticut   3546588   3552821   3579114       5543    4842.36   \nDE        Delaware    998619    990334    899593       2489    1948.54   \nFL         Florida  22177997  21944577  18845537      65758   53624.76   \nGA         Georgia  10936299  10830007   9711881      59425   57513.49   \n\n          Density    Growth  \nState                        \nAK       1.263076 -0.496164  \nAL      97.732545  0.314216  \nAR      58.460439  0.266023  \nAZ      67.264033  1.604938  \nCA     254.617580  0.127823  \nCO      57.516155  1.144438  \nCT     732.408991 -0.175438  \nDE     512.496023  0.836586  \nFL     413.577553  1.063680  \nGA     190.151893  0.981458  ",
      "text/html": "<div>\n<style scoped>\n    .dataframe tbody tr th:only-of-type {\n        vertical-align: middle;\n    }\n\n    .dataframe tbody tr th {\n        vertical-align: top;\n    }\n\n    .dataframe thead th {\n        text-align: right;\n    }\n</style>\n<table border=\"1\" class=\"dataframe\">\n  <thead>\n    <tr style=\"text-align: right;\">\n      <th></th>\n      <th>Name</th>\n      <th>Pop2022</th>\n      <th>Pop2021</th>\n      <th>Pop2010</th>\n      <th>TotalArea</th>\n      <th>LandArea</th>\n      <th>Density</th>\n      <th>Growth</th>\n    </tr>\n    <tr>\n      <th>State</th>\n      <th></th>\n      <th></th>\n      <th></th>\n      <th></th>\n      <th></th>\n      <th></th>\n      <th></th>\n      <th></th>\n    </tr>\n  </thead>\n  <tbody>\n    <tr>\n      <th>AK</th>\n      <td>Alaska</td>\n      <td>720763</td>\n      <td>724357</td>\n      <td>713910</td>\n      <td>665384</td>\n      <td>570640.95</td>\n      <td>1.263076</td>\n      <td>-0.496164</td>\n    </tr>\n    <tr>\n      <th>AL</th>\n      <td>Alabama</td>\n      <td>4949697</td>\n      <td>4934193</td>\n      <td>4785437</td>\n      <td>52420</td>\n      <td>50645.33</td>\n      <td>97.732545</td>\n      <td>0.314216</td>\n    </tr>\n    <tr>\n      <th>AR</th>\n      <td>Arkansas</td>\n      <td>3042017</td>\n      <td>3033946</td>\n      <td>2921964</td>\n      <td>53179</td>\n      <td>52035.48</td>\n      <td>58.460439</td>\n      <td>0.266023</td>\n    </tr>\n    <tr>\n      <th>AZ</th>\n      <td>Arizona</td>\n      <td>7640796</td>\n      <td>7520103</td>\n      <td>6407172</td>\n      <td>113990</td>\n      <td>113594.08</td>\n      <td>67.264033</td>\n      <td>1.604938</td>\n    </tr>\n    <tr>\n      <th>CA</th>\n      <td>California</td>\n      <td>39664128</td>\n      <td>39613493</td>\n      <td>37319502</td>\n      <td>163695</td>\n      <td>155779.22</td>\n      <td>254.617580</td>\n      <td>0.127823</td>\n    </tr>\n    <tr>\n      <th>CO</th>\n      <td>Colorado</td>\n      <td>5961083</td>\n      <td>5893634</td>\n      <td>5047349</td>\n      <td>104094</td>\n      <td>103641.89</td>\n      <td>57.516155</td>\n      <td>1.144438</td>\n    </tr>\n    <tr>\n      <th>CT</th>\n      <td>Connecticut</td>\n      <td>3546588</td>\n      <td>3552821</td>\n      <td>3579114</td>\n      <td>5543</td>\n      <td>4842.36</td>\n      <td>732.408991</td>\n      <td>-0.175438</td>\n    </tr>\n    <tr>\n      <th>DE</th>\n      <td>Delaware</td>\n      <td>998619</td>\n      <td>990334</td>\n      <td>899593</td>\n      <td>2489</td>\n      <td>1948.54</td>\n      <td>512.496023</td>\n      <td>0.836586</td>\n    </tr>\n    <tr>\n      <th>FL</th>\n      <td>Florida</td>\n      <td>22177997</td>\n      <td>21944577</td>\n      <td>18845537</td>\n      <td>65758</td>\n      <td>53624.76</td>\n      <td>413.577553</td>\n      <td>1.063680</td>\n    </tr>\n    <tr>\n      <th>GA</th>\n      <td>Georgia</td>\n      <td>10936299</td>\n      <td>10830007</td>\n      <td>9711881</td>\n      <td>59425</td>\n      <td>57513.49</td>\n      <td>190.151893</td>\n      <td>0.981458</td>\n    </tr>\n  </tbody>\n</table>\n</div>"
     },
     "execution_count": 101,
     "metadata": {},
     "output_type": "execute_result"
    }
   ],
   "source": [
    "states['Growth'] = (states['Pop2022'] / states['Pop2021'] - 1) * 100\n",
    "states[:10]"
   ]
  },
  {
   "cell_type": "markdown",
   "metadata": {
    "id": "79CqMYEh5_6X"
   },
   "source": [
    "And let's find the 5 fastest growing states:"
   ]
  },
  {
   "cell_type": "code",
   "execution_count": 102,
   "metadata": {
    "colab": {
     "base_uri": "https://localhost:8080/",
     "height": 238
    },
    "id": "Z3R0BzU85_6Y",
    "outputId": "9052b139-52d1-4a31-9275-115dca2d9e55"
   },
   "outputs": [
    {
     "data": {
      "text/plain": "          Name   Pop2022   Pop2021   Pop2010  TotalArea   LandArea  \\\nState                                                                \nID       Idaho   1896652   1860123   1570746      83569   82643.12   \nNV      Nevada   3238601   3185786   2702405     110572  109781.18   \nAZ     Arizona   7640796   7520103   6407172     113990  113594.08   \nUT        Utah   3363182   3310774   2775332      84897   82169.62   \nTX       Texas  30097526  29730311  25241971     268596  261231.71   \n\n          Density    Growth  \nState                        \nID      22.949908  1.963795  \nNV      29.500512  1.657833  \nAZ      67.264033  1.604938  \nUT      40.929750  1.582953  \nTX     115.213907  1.235154  ",
      "text/html": "<div>\n<style scoped>\n    .dataframe tbody tr th:only-of-type {\n        vertical-align: middle;\n    }\n\n    .dataframe tbody tr th {\n        vertical-align: top;\n    }\n\n    .dataframe thead th {\n        text-align: right;\n    }\n</style>\n<table border=\"1\" class=\"dataframe\">\n  <thead>\n    <tr style=\"text-align: right;\">\n      <th></th>\n      <th>Name</th>\n      <th>Pop2022</th>\n      <th>Pop2021</th>\n      <th>Pop2010</th>\n      <th>TotalArea</th>\n      <th>LandArea</th>\n      <th>Density</th>\n      <th>Growth</th>\n    </tr>\n    <tr>\n      <th>State</th>\n      <th></th>\n      <th></th>\n      <th></th>\n      <th></th>\n      <th></th>\n      <th></th>\n      <th></th>\n      <th></th>\n    </tr>\n  </thead>\n  <tbody>\n    <tr>\n      <th>ID</th>\n      <td>Idaho</td>\n      <td>1896652</td>\n      <td>1860123</td>\n      <td>1570746</td>\n      <td>83569</td>\n      <td>82643.12</td>\n      <td>22.949908</td>\n      <td>1.963795</td>\n    </tr>\n    <tr>\n      <th>NV</th>\n      <td>Nevada</td>\n      <td>3238601</td>\n      <td>3185786</td>\n      <td>2702405</td>\n      <td>110572</td>\n      <td>109781.18</td>\n      <td>29.500512</td>\n      <td>1.657833</td>\n    </tr>\n    <tr>\n      <th>AZ</th>\n      <td>Arizona</td>\n      <td>7640796</td>\n      <td>7520103</td>\n      <td>6407172</td>\n      <td>113990</td>\n      <td>113594.08</td>\n      <td>67.264033</td>\n      <td>1.604938</td>\n    </tr>\n    <tr>\n      <th>UT</th>\n      <td>Utah</td>\n      <td>3363182</td>\n      <td>3310774</td>\n      <td>2775332</td>\n      <td>84897</td>\n      <td>82169.62</td>\n      <td>40.929750</td>\n      <td>1.582953</td>\n    </tr>\n    <tr>\n      <th>TX</th>\n      <td>Texas</td>\n      <td>30097526</td>\n      <td>29730311</td>\n      <td>25241971</td>\n      <td>268596</td>\n      <td>261231.71</td>\n      <td>115.213907</td>\n      <td>1.235154</td>\n    </tr>\n  </tbody>\n</table>\n</div>"
     },
     "execution_count": 102,
     "metadata": {},
     "output_type": "execute_result"
    }
   ],
   "source": [
    "states.sort_values(by=['Growth'], ascending=False)[:5]"
   ]
  },
  {
   "cell_type": "markdown",
   "metadata": {
    "id": "Uqa6q5jI5_6Y"
   },
   "source": [
    "\n",
    "![](https://raw.githubusercontent.com/zacharski/datamining-guide/master/labs/pics/divider.png)\n",
    "\n",
    "## Descriptive Statistics on DataFrames\n",
    "One handy function is `describe`"
   ]
  },
  {
   "cell_type": "code",
   "execution_count": 103,
   "metadata": {
    "colab": {
     "base_uri": "https://localhost:8080/",
     "height": 300
    },
    "id": "X3Vl_HUM5_6Y",
    "outputId": "54f7a8f2-aec6-48e5-af56-f051799c6867"
   },
   "outputs": [
    {
     "data": {
      "text/plain": "            Pop2022       Pop2021       Pop2010     TotalArea       LandArea  \\\ncount  5.000000e+01  5.000000e+01  5.000000e+01      50.00000      50.000000   \nmean   6.643545e+06  6.612588e+06  6.174329e+06   75932.92000   70578.687800   \nstd    7.492630e+06  7.457727e+06  6.862379e+06   97327.62071   85833.058576   \nmin    5.822330e+05  5.810750e+05  5.644870e+05    1545.00000    1033.810000   \n25%    1.912686e+06  1.883091e+06  1.835716e+06   37417.00000   36741.167500   \n50%    4.551670e+06  4.553858e+06  4.446356e+06   57093.50000   53891.280000   \n75%    7.826173e+06  7.727732e+06  6.698699e+06   84565.00000   81225.725000   \nmax    3.966413e+07  3.961349e+07  3.731950e+07  665384.00000  570640.950000   \n\n           Density     Growth  \ncount    50.000000  50.000000  \nmean    204.271834   0.437188  \nstd     266.566750   0.599162  \nmin       1.263076  -0.686933  \n25%      48.003341   0.075556  \n50%     107.481847   0.290119  \n75%     221.406815   0.834008  \nmax    1206.203377   1.963795  ",
      "text/html": "<div>\n<style scoped>\n    .dataframe tbody tr th:only-of-type {\n        vertical-align: middle;\n    }\n\n    .dataframe tbody tr th {\n        vertical-align: top;\n    }\n\n    .dataframe thead th {\n        text-align: right;\n    }\n</style>\n<table border=\"1\" class=\"dataframe\">\n  <thead>\n    <tr style=\"text-align: right;\">\n      <th></th>\n      <th>Pop2022</th>\n      <th>Pop2021</th>\n      <th>Pop2010</th>\n      <th>TotalArea</th>\n      <th>LandArea</th>\n      <th>Density</th>\n      <th>Growth</th>\n    </tr>\n  </thead>\n  <tbody>\n    <tr>\n      <th>count</th>\n      <td>5.000000e+01</td>\n      <td>5.000000e+01</td>\n      <td>5.000000e+01</td>\n      <td>50.00000</td>\n      <td>50.000000</td>\n      <td>50.000000</td>\n      <td>50.000000</td>\n    </tr>\n    <tr>\n      <th>mean</th>\n      <td>6.643545e+06</td>\n      <td>6.612588e+06</td>\n      <td>6.174329e+06</td>\n      <td>75932.92000</td>\n      <td>70578.687800</td>\n      <td>204.271834</td>\n      <td>0.437188</td>\n    </tr>\n    <tr>\n      <th>std</th>\n      <td>7.492630e+06</td>\n      <td>7.457727e+06</td>\n      <td>6.862379e+06</td>\n      <td>97327.62071</td>\n      <td>85833.058576</td>\n      <td>266.566750</td>\n      <td>0.599162</td>\n    </tr>\n    <tr>\n      <th>min</th>\n      <td>5.822330e+05</td>\n      <td>5.810750e+05</td>\n      <td>5.644870e+05</td>\n      <td>1545.00000</td>\n      <td>1033.810000</td>\n      <td>1.263076</td>\n      <td>-0.686933</td>\n    </tr>\n    <tr>\n      <th>25%</th>\n      <td>1.912686e+06</td>\n      <td>1.883091e+06</td>\n      <td>1.835716e+06</td>\n      <td>37417.00000</td>\n      <td>36741.167500</td>\n      <td>48.003341</td>\n      <td>0.075556</td>\n    </tr>\n    <tr>\n      <th>50%</th>\n      <td>4.551670e+06</td>\n      <td>4.553858e+06</td>\n      <td>4.446356e+06</td>\n      <td>57093.50000</td>\n      <td>53891.280000</td>\n      <td>107.481847</td>\n      <td>0.290119</td>\n    </tr>\n    <tr>\n      <th>75%</th>\n      <td>7.826173e+06</td>\n      <td>7.727732e+06</td>\n      <td>6.698699e+06</td>\n      <td>84565.00000</td>\n      <td>81225.725000</td>\n      <td>221.406815</td>\n      <td>0.834008</td>\n    </tr>\n    <tr>\n      <th>max</th>\n      <td>3.966413e+07</td>\n      <td>3.961349e+07</td>\n      <td>3.731950e+07</td>\n      <td>665384.00000</td>\n      <td>570640.950000</td>\n      <td>1206.203377</td>\n      <td>1.963795</td>\n    </tr>\n  </tbody>\n</table>\n</div>"
     },
     "execution_count": 103,
     "metadata": {},
     "output_type": "execute_result"
    }
   ],
   "source": [
    "states.describe()"
   ]
  },
  {
   "cell_type": "markdown",
   "metadata": {
    "id": "0BDKVkjG5_6Y"
   },
   "source": [
    "Alternatively, we could retrieve a specific statistic:\n"
   ]
  },
  {
   "cell_type": "code",
   "execution_count": 104,
   "metadata": {
    "colab": {
     "base_uri": "https://localhost:8080/"
    },
    "id": "9QvGB_sO5_6Y",
    "outputId": "a43c69e2-3162-4131-f563-12d5e33db501"
   },
   "outputs": [
    {
     "data": {
      "text/plain": "6643544.68"
     },
     "execution_count": 104,
     "metadata": {},
     "output_type": "execute_result"
    }
   ],
   "source": [
    "states['Pop2022'].mean()"
   ]
  },
  {
   "cell_type": "markdown",
   "metadata": {
    "id": "9SuTANUhYcln"
   },
   "source": [
    "or find out how many states lost population in 2022 using `count`:"
   ]
  },
  {
   "cell_type": "code",
   "execution_count": 105,
   "metadata": {
    "colab": {
     "base_uri": "https://localhost:8080/"
    },
    "id": "lPbUUTZeYlyF",
    "outputId": "99344f94-5927-40ef-9026-b9d8394b1056"
   },
   "outputs": [
    {
     "data": {
      "text/plain": "Pop2022    10\ndtype: int64"
     },
     "execution_count": 105,
     "metadata": {},
     "output_type": "execute_result"
    }
   ],
   "source": [
    "states.loc[states['Pop2022'] < states['Pop2021']][['Pop2022']].count()"
   ]
  },
  {
   "cell_type": "markdown",
   "metadata": {
    "id": "E7yg3o40Bn2s"
   },
   "source": [
    "Or get the total population of the United States (minus the District of Columbia)"
   ]
  },
  {
   "cell_type": "code",
   "execution_count": 106,
   "metadata": {
    "colab": {
     "base_uri": "https://localhost:8080/"
    },
    "id": "M813i5BF5_6Y",
    "outputId": "e0a494ab-41a3-4447-b6fd-749289d0bdcc"
   },
   "outputs": [
    {
     "data": {
      "text/plain": "332177234"
     },
     "execution_count": 106,
     "metadata": {},
     "output_type": "execute_result"
    }
   ],
   "source": [
    "states['Pop2022'].sum()"
   ]
  },
  {
   "cell_type": "markdown",
   "metadata": {
    "id": "ACn45SPTCRU1"
   },
   "source": [
    "or to make that more readable"
   ]
  },
  {
   "cell_type": "code",
   "execution_count": 107,
   "metadata": {
    "colab": {
     "base_uri": "https://localhost:8080/"
    },
    "id": "62FwVBdiCUgW",
    "outputId": "655baf31-09f7-45dc-ed64-2dca1bb36508"
   },
   "outputs": [
    {
     "name": "stdout",
     "output_type": "stream",
     "text": [
      "Total Population: 332,177,234\n"
     ]
    }
   ],
   "source": [
    "totalPop = \"{:,}\".format(states['Pop2022'].sum())\n",
    "print('Total Population: ' + totalPop)"
   ]
  },
  {
   "cell_type": "markdown",
   "metadata": {
    "id": "EtSUCI6aDOJP"
   },
   "source": [
    "What percentage of the U. S. population is accounted for by the top 5 most populous states?"
   ]
  },
  {
   "cell_type": "code",
   "execution_count": 108,
   "metadata": {
    "colab": {
     "base_uri": "https://localhost:8080/"
    },
    "id": "BfrCdDHs5_6Y",
    "outputId": "15105a0b-1421-4fca-9d99-d21ccd5eded3"
   },
   "outputs": [
    {
     "name": "stdout",
     "output_type": "stream",
     "text": [
      "The top 10 most populous states account for 37.32 percent of the U.S. Population\n"
     ]
    }
   ],
   "source": [
    "statesByPopulation = states.sort_values(by=['Pop2022'], ascending=False)[:5][['Pop2022']]\n",
    "percent = (statesByPopulation.sum() / states['Pop2022'].sum()) * 100\n",
    "print(\"The top 10 most populous states account for {:4.2f} percent of the U.S. Population\" .format(percent['Pop2022']))"
   ]
  },
  {
   "cell_type": "markdown",
   "metadata": {
    "id": "altMRJTX5_6Y"
   },
   "source": [
    "## Summary Statistics and Axes\n",
    "\n",
    "![](https://raw.githubusercontent.com/zacharski/datamining-guide/master/labs/pics/ax.png)\n",
    "Suppose I have customers of my vinyl record shop rate different artists\n",
    "\n",
    "|Customer | Taylor Swift | Miranda Lambert | Carrie Underwood | Nicki Minaj | Ariana Grande |\n",
    "|:-----------|:------:|:------:|:---------:|:------:|:--------:|\n",
    "|Jake|5|-|5|2|2|\n",
    "|Clara|2|-|-|4|5|\n",
    "|Kelsey|5|5|5|2|-|\n",
    "|Angelica|2|3|-|5|5|\n",
    "|Jordyn|2|1|-|5|-|\n",
    "\n",
    "First we will read in the file ..."
   ]
  },
  {
   "cell_type": "code",
   "execution_count": 109,
   "metadata": {
    "colab": {
     "base_uri": "https://localhost:8080/",
     "height": 238
    },
    "id": "KheA1gk_5_6Y",
    "outputId": "e48469e5-b589-48b8-8062-05ac3dcea040"
   },
   "outputs": [
    {
     "data": {
      "text/plain": "          Taylor Swift  Miranda Lambert  Carrie Underwood  Nicki Minaj  \\\nCustomer                                                                 \nJake                 5              NaN               5.0            2   \nClara                2              NaN               NaN            4   \nKelsey               5              5.0               5.0            2   \nAngelica             2              3.0               NaN            5   \nJordyn               2              1.0               NaN            5   \n\n          Ariana Grande  \nCustomer                 \nJake                2.0  \nClara               5.0  \nKelsey              NaN  \nAngelica            5.0  \nJordyn              NaN  ",
      "text/html": "<div>\n<style scoped>\n    .dataframe tbody tr th:only-of-type {\n        vertical-align: middle;\n    }\n\n    .dataframe tbody tr th {\n        vertical-align: top;\n    }\n\n    .dataframe thead th {\n        text-align: right;\n    }\n</style>\n<table border=\"1\" class=\"dataframe\">\n  <thead>\n    <tr style=\"text-align: right;\">\n      <th></th>\n      <th>Taylor Swift</th>\n      <th>Miranda Lambert</th>\n      <th>Carrie Underwood</th>\n      <th>Nicki Minaj</th>\n      <th>Ariana Grande</th>\n    </tr>\n    <tr>\n      <th>Customer</th>\n      <th></th>\n      <th></th>\n      <th></th>\n      <th></th>\n      <th></th>\n    </tr>\n  </thead>\n  <tbody>\n    <tr>\n      <th>Jake</th>\n      <td>5</td>\n      <td>NaN</td>\n      <td>5.0</td>\n      <td>2</td>\n      <td>2.0</td>\n    </tr>\n    <tr>\n      <th>Clara</th>\n      <td>2</td>\n      <td>NaN</td>\n      <td>NaN</td>\n      <td>4</td>\n      <td>5.0</td>\n    </tr>\n    <tr>\n      <th>Kelsey</th>\n      <td>5</td>\n      <td>5.0</td>\n      <td>5.0</td>\n      <td>2</td>\n      <td>NaN</td>\n    </tr>\n    <tr>\n      <th>Angelica</th>\n      <td>2</td>\n      <td>3.0</td>\n      <td>NaN</td>\n      <td>5</td>\n      <td>5.0</td>\n    </tr>\n    <tr>\n      <th>Jordyn</th>\n      <td>2</td>\n      <td>1.0</td>\n      <td>NaN</td>\n      <td>5</td>\n      <td>NaN</td>\n    </tr>\n  </tbody>\n</table>\n</div>"
     },
     "execution_count": 109,
     "metadata": {},
     "output_type": "execute_result"
    }
   ],
   "source": [
    "ratings = pd.read_csv('https://raw.githubusercontent.com/zacharski/ml-class/master/data/ratings.csv', index_col=0)\n",
    "ratings"
   ]
  },
  {
   "cell_type": "markdown",
   "metadata": {
    "id": "l1_dazQX5_6Z"
   },
   "source": [
    "We can get the mean rating of each artist by:\n"
   ]
  },
  {
   "cell_type": "code",
   "execution_count": 110,
   "metadata": {
    "id": "mqpPhVng5_6Z",
    "outputId": "a32afa8b-10df-4ece-e416-ec591a1b5689"
   },
   "outputs": [
    {
     "data": {
      "text/plain": "Taylor Swift        3.2\nMiranda Lambert     3.0\nCarrie Underwood    5.0\nNicki Minaj         3.6\nAriana Grande       4.0\ndtype: float64"
     },
     "execution_count": 110,
     "metadata": {},
     "output_type": "execute_result"
    }
   ],
   "source": [
    "ratings.mean()"
   ]
  },
  {
   "cell_type": "markdown",
   "metadata": {
    "id": "qqF9WVYG5_6Z"
   },
   "source": [
    "Note that the summary statistics ignore NaN entries. The mean rating for Miranda Lambert is computed just on the people that rated her.\n",
    "\n",
    "Many descriptive statistics functions take an optional parameter `axis` that tells which axis to reduce over. If we want the mean ratings for each **customer** instead of each artist we can do:"
   ]
  },
  {
   "cell_type": "code",
   "execution_count": 111,
   "metadata": {
    "colab": {
     "base_uri": "https://localhost:8080/"
    },
    "id": "LHlXy45l5_6Z",
    "outputId": "7686c59c-1089-416c-c48a-85f1a3a03c81"
   },
   "outputs": [
    {
     "data": {
      "text/plain": "Customer\nJake        3.500000\nClara       3.666667\nKelsey      4.250000\nAngelica    3.750000\nJordyn      2.666667\ndtype: float64"
     },
     "execution_count": 111,
     "metadata": {},
     "output_type": "execute_result"
    }
   ],
   "source": [
    "ratings.mean(axis=1)"
   ]
  },
  {
   "cell_type": "markdown",
   "metadata": {
    "id": "UdHgb_g-5_6a"
   },
   "source": [
    "\n",
    "\n",
    "Sweet! So `axis=1` means reduce by rows and `axis=0` means reduce by columns:"
   ]
  },
  {
   "cell_type": "code",
   "execution_count": 112,
   "metadata": {
    "colab": {
     "base_uri": "https://localhost:8080/"
    },
    "id": "CTJp_AXc5_6a",
    "outputId": "2e6e151f-69c4-4360-b585-744fa01b68ba"
   },
   "outputs": [
    {
     "data": {
      "text/plain": "Taylor Swift        3.2\nMiranda Lambert     3.0\nCarrie Underwood    5.0\nNicki Minaj         3.6\nAriana Grande       4.0\ndtype: float64"
     },
     "execution_count": 112,
     "metadata": {},
     "output_type": "execute_result"
    }
   ],
   "source": [
    "ratings.mean(axis=0)"
   ]
  },
  {
   "cell_type": "markdown",
   "metadata": {
    "id": "9ayvoKIL5_6a"
   },
   "source": [
    "![](https://raw.githubusercontent.com/zacharski/datamining-guide/master/labs/pics/divider.png)\n",
    "\n",
    "## List of Descriptive Statistics\n",
    "(from the book *Python for Data Analysis*)\n",
    "\n",
    "Method | Description\n",
    ":-- | :--\n",
    "`count` | Number of non-NaN values\n",
    "`describe` | A set of common summary statistics\n",
    "`min, max` | compute minimum and maximum values\n",
    "`argmin, argmax` | compute index locations of minimum and maximum values\n",
    "`sum` | Sum the values\n",
    "`mean` | Mean of values\n",
    "`median` | Median of values\n",
    "`std` | Sample standard deviation\n",
    "\n",
    "So, for example, the lowest rating for each artist:\n"
   ]
  },
  {
   "cell_type": "code",
   "execution_count": 113,
   "metadata": {
    "colab": {
     "base_uri": "https://localhost:8080/"
    },
    "id": "P5IwyqA_5_6a",
    "outputId": "ea5a3d03-a7b1-476e-90da-a3ae9cb4fe8d"
   },
   "outputs": [
    {
     "data": {
      "text/plain": "Taylor Swift        2.0\nMiranda Lambert     1.0\nCarrie Underwood    5.0\nNicki Minaj         2.0\nAriana Grande       2.0\ndtype: float64"
     },
     "execution_count": 113,
     "metadata": {},
     "output_type": "execute_result"
    }
   ],
   "source": [
    "ratings.min()"
   ]
  },
  {
   "cell_type": "markdown",
   "metadata": {
    "id": "-d5X1BGZgm6s"
   },
   "source": [
    "\n",
    "![](https://raw.githubusercontent.com/zacharski/datamining-guide/master/labs/pics/divider.png)\n",
    "\n",
    "# <font color='#EE4C2C'>You Try ...</font> \n",
    "Ok, it is time for you to try out what you just learned. Let us start with the electric vehicle datafile we have already seen:\n",
    "\n",
    "```\n",
    "https://raw.githubusercontent.com/zacharski/datamining-guide/main/data/ElectricCarData_Clean.csv\n",
    "```\n",
    "When we loaded the datafile before, it worked fine for those examples, but you may encounter an error here, that will require you to modify the `read_csv`.\n",
    "\n",
    "![](https://raw.githubusercontent.com/zacharski/datamining-guide/master/labs/pics/evBanner.png)"
   ]
  },
  {
   "cell_type": "code",
   "execution_count": 114,
   "metadata": {
    "id": "BVp_U2L_jP-H"
   },
   "outputs": [
    {
     "data": {
      "text/plain": "          Brand                            Model  AccelSec  TopSpeed_KmH  \\\n0         Tesla    Model 3 Long Range Dual Motor       4.6           233   \n1    Volkswagen                        ID.3 Pure      10.0           160   \n2      Polestar                                2       4.7           210   \n3           BMW                              iX3       6.8           180   \n4         Honda                                e       9.5           145   \n..          ...                              ...       ...           ...   \n101      Nissan  Ariya e-4ORCE 87kWh Performance       5.1           200   \n102       Byton                M-Byte 95 kWh 2WD       7.5           190   \n103      Rivian                              R1T       3.0           185   \n104         GMC                        Hummer EV       3.0           171   \n105        Ford                   F150 Lightning       3.0           180   \n\n     Range_Km  Efficiency_WhKm  FastCharge_KmH RapidCharge PowerTrain  \\\n0         450              161           940.0         Yes        AWD   \n1         270              167           250.0         Yes        RWD   \n2         400              181           620.0         Yes        AWD   \n3         360              206           560.0         Yes        RWD   \n4         170              168           190.0         Yes        RWD   \n..        ...              ...             ...         ...        ...   \n101       375              232           450.0         Yes        AWD   \n102       400              238           480.0         Yes        AWD   \n103       505              299           337.0         Yes        AWD   \n104       529              446           250.0         Yes        AWD   \n105       514              299           309.0         Yes        AWD   \n\n       PlugType  BodyStyle Segment  Seats  PriceEuro  \n0    Type 2 CCS      Sedan       D      5    55480.0  \n1    Type 2 CCS  Hatchback       C      5    30000.0  \n2    Type 2 CCS   Liftback       D      5    56440.0  \n3    Type 2 CCS        SUV       D      5    68040.0  \n4    Type 2 CCS  Hatchback       B      4    32997.0  \n..          ...        ...     ...    ...        ...  \n101  Type 2 CCS  Hatchback       C      5    65000.0  \n102  Type 2 CCS        SUV       E      5    62000.0  \n103  Type 2 CCS     Pickup       N      6    75000.0  \n104  Type 2 CCS      Truck       E      5        NaN  \n105  Type 2 CCS      Truck       E      5        NaN  \n\n[106 rows x 14 columns]",
      "text/html": "<div>\n<style scoped>\n    .dataframe tbody tr th:only-of-type {\n        vertical-align: middle;\n    }\n\n    .dataframe tbody tr th {\n        vertical-align: top;\n    }\n\n    .dataframe thead th {\n        text-align: right;\n    }\n</style>\n<table border=\"1\" class=\"dataframe\">\n  <thead>\n    <tr style=\"text-align: right;\">\n      <th></th>\n      <th>Brand</th>\n      <th>Model</th>\n      <th>AccelSec</th>\n      <th>TopSpeed_KmH</th>\n      <th>Range_Km</th>\n      <th>Efficiency_WhKm</th>\n      <th>FastCharge_KmH</th>\n      <th>RapidCharge</th>\n      <th>PowerTrain</th>\n      <th>PlugType</th>\n      <th>BodyStyle</th>\n      <th>Segment</th>\n      <th>Seats</th>\n      <th>PriceEuro</th>\n    </tr>\n  </thead>\n  <tbody>\n    <tr>\n      <th>0</th>\n      <td>Tesla</td>\n      <td>Model 3 Long Range Dual Motor</td>\n      <td>4.6</td>\n      <td>233</td>\n      <td>450</td>\n      <td>161</td>\n      <td>940.0</td>\n      <td>Yes</td>\n      <td>AWD</td>\n      <td>Type 2 CCS</td>\n      <td>Sedan</td>\n      <td>D</td>\n      <td>5</td>\n      <td>55480.0</td>\n    </tr>\n    <tr>\n      <th>1</th>\n      <td>Volkswagen</td>\n      <td>ID.3 Pure</td>\n      <td>10.0</td>\n      <td>160</td>\n      <td>270</td>\n      <td>167</td>\n      <td>250.0</td>\n      <td>Yes</td>\n      <td>RWD</td>\n      <td>Type 2 CCS</td>\n      <td>Hatchback</td>\n      <td>C</td>\n      <td>5</td>\n      <td>30000.0</td>\n    </tr>\n    <tr>\n      <th>2</th>\n      <td>Polestar</td>\n      <td>2</td>\n      <td>4.7</td>\n      <td>210</td>\n      <td>400</td>\n      <td>181</td>\n      <td>620.0</td>\n      <td>Yes</td>\n      <td>AWD</td>\n      <td>Type 2 CCS</td>\n      <td>Liftback</td>\n      <td>D</td>\n      <td>5</td>\n      <td>56440.0</td>\n    </tr>\n    <tr>\n      <th>3</th>\n      <td>BMW</td>\n      <td>iX3</td>\n      <td>6.8</td>\n      <td>180</td>\n      <td>360</td>\n      <td>206</td>\n      <td>560.0</td>\n      <td>Yes</td>\n      <td>RWD</td>\n      <td>Type 2 CCS</td>\n      <td>SUV</td>\n      <td>D</td>\n      <td>5</td>\n      <td>68040.0</td>\n    </tr>\n    <tr>\n      <th>4</th>\n      <td>Honda</td>\n      <td>e</td>\n      <td>9.5</td>\n      <td>145</td>\n      <td>170</td>\n      <td>168</td>\n      <td>190.0</td>\n      <td>Yes</td>\n      <td>RWD</td>\n      <td>Type 2 CCS</td>\n      <td>Hatchback</td>\n      <td>B</td>\n      <td>4</td>\n      <td>32997.0</td>\n    </tr>\n    <tr>\n      <th>...</th>\n      <td>...</td>\n      <td>...</td>\n      <td>...</td>\n      <td>...</td>\n      <td>...</td>\n      <td>...</td>\n      <td>...</td>\n      <td>...</td>\n      <td>...</td>\n      <td>...</td>\n      <td>...</td>\n      <td>...</td>\n      <td>...</td>\n      <td>...</td>\n    </tr>\n    <tr>\n      <th>101</th>\n      <td>Nissan</td>\n      <td>Ariya e-4ORCE 87kWh Performance</td>\n      <td>5.1</td>\n      <td>200</td>\n      <td>375</td>\n      <td>232</td>\n      <td>450.0</td>\n      <td>Yes</td>\n      <td>AWD</td>\n      <td>Type 2 CCS</td>\n      <td>Hatchback</td>\n      <td>C</td>\n      <td>5</td>\n      <td>65000.0</td>\n    </tr>\n    <tr>\n      <th>102</th>\n      <td>Byton</td>\n      <td>M-Byte 95 kWh 2WD</td>\n      <td>7.5</td>\n      <td>190</td>\n      <td>400</td>\n      <td>238</td>\n      <td>480.0</td>\n      <td>Yes</td>\n      <td>AWD</td>\n      <td>Type 2 CCS</td>\n      <td>SUV</td>\n      <td>E</td>\n      <td>5</td>\n      <td>62000.0</td>\n    </tr>\n    <tr>\n      <th>103</th>\n      <td>Rivian</td>\n      <td>R1T</td>\n      <td>3.0</td>\n      <td>185</td>\n      <td>505</td>\n      <td>299</td>\n      <td>337.0</td>\n      <td>Yes</td>\n      <td>AWD</td>\n      <td>Type 2 CCS</td>\n      <td>Pickup</td>\n      <td>N</td>\n      <td>6</td>\n      <td>75000.0</td>\n    </tr>\n    <tr>\n      <th>104</th>\n      <td>GMC</td>\n      <td>Hummer EV</td>\n      <td>3.0</td>\n      <td>171</td>\n      <td>529</td>\n      <td>446</td>\n      <td>250.0</td>\n      <td>Yes</td>\n      <td>AWD</td>\n      <td>Type 2 CCS</td>\n      <td>Truck</td>\n      <td>E</td>\n      <td>5</td>\n      <td>NaN</td>\n    </tr>\n    <tr>\n      <th>105</th>\n      <td>Ford</td>\n      <td>F150 Lightning</td>\n      <td>3.0</td>\n      <td>180</td>\n      <td>514</td>\n      <td>299</td>\n      <td>309.0</td>\n      <td>Yes</td>\n      <td>AWD</td>\n      <td>Type 2 CCS</td>\n      <td>Truck</td>\n      <td>E</td>\n      <td>5</td>\n      <td>NaN</td>\n    </tr>\n  </tbody>\n</table>\n<p>106 rows × 14 columns</p>\n</div>"
     },
     "execution_count": 114,
     "metadata": {},
     "output_type": "execute_result"
    }
   ],
   "source": [
    "# TO DO\n",
    "df = pd.read_csv('https://raw.githubusercontent.com/zacharski/datamining-guide/main/data/ElectricCarData_Clean.csv', na_values = '-')\n",
    "df"
   ]
  },
  {
   "cell_type": "markdown",
   "metadata": {
    "id": "r6zIkL0LjXAp"
   },
   "source": [
    "Some of the columns are based on kilometers:\n",
    "\n",
    "* TopSpeed_KmH\t\n",
    "* Range_Km\t\n",
    "* Efficiency_WhKm\t\n",
    "* FastCharge_KmH\n",
    "\n",
    "and we are first going to add USA mile-centric columns.\n",
    "\n",
    "## <font color='#EE4C2C'>1. TopSpeed_MPH</font>\n",
    "\n",
    "Add a new column `TopSpeed_MPH` computed from the `TopSpeed_KmH` column, and just to check, display the first 10 rows. (The Lucid Air should have a top speed slightly over 155 MPH)\n"
   ]
  },
  {
   "cell_type": "code",
   "execution_count": 115,
   "metadata": {
    "colab": {
     "base_uri": "https://localhost:8080/",
     "height": 407
    },
    "id": "nE9hHZORkKHt",
    "outputId": "03697495-b5cf-4fc5-cff7-80ddfcddac0c"
   },
   "outputs": [
    {
     "data": {
      "text/plain": "        Brand                          Model  AccelSec  TopSpeed_KmH  \\\n0       Tesla  Model 3 Long Range Dual Motor       4.6           233   \n1  Volkswagen                      ID.3 Pure      10.0           160   \n2    Polestar                              2       4.7           210   \n3         BMW                            iX3       6.8           180   \n4       Honda                              e       9.5           145   \n5       Lucid                            Air       2.8           250   \n6  Volkswagen                         e-Golf       9.6           150   \n7     Peugeot                          e-208       8.1           150   \n8       Tesla    Model 3 Standard Range Plus       5.6           225   \n9        Audi                      Q4 e-tron       6.3           180   \n\n   Range_Km  Efficiency_WhKm  FastCharge_KmH RapidCharge PowerTrain  \\\n0       450              161           940.0         Yes        AWD   \n1       270              167           250.0         Yes        RWD   \n2       400              181           620.0         Yes        AWD   \n3       360              206           560.0         Yes        RWD   \n4       170              168           190.0         Yes        RWD   \n5       610              180           620.0         Yes        AWD   \n6       190              168           220.0         Yes        FWD   \n7       275              164           420.0         Yes        FWD   \n8       310              153           650.0         Yes        RWD   \n9       400              193           540.0         Yes        AWD   \n\n     PlugType  BodyStyle Segment  Seats  PriceEuro  TopSpeed_MPH  \n0  Type 2 CCS      Sedan       D      5    55480.0    144.779490  \n1  Type 2 CCS  Hatchback       C      5    30000.0     99.419392  \n2  Type 2 CCS   Liftback       D      5    56440.0    130.487952  \n3  Type 2 CCS        SUV       D      5    68040.0    111.846816  \n4  Type 2 CCS  Hatchback       B      4    32997.0     90.098824  \n5  Type 2 CCS      Sedan       F      5   105000.0    155.342800  \n6  Type 2 CCS  Hatchback       C      5    31900.0     93.205680  \n7  Type 2 CCS  Hatchback       B      5    29682.0     93.205680  \n8  Type 2 CCS      Sedan       D      5    46380.0    139.808520  \n9  Type 2 CCS        SUV       D      5    55000.0    111.846816  ",
      "text/html": "<div>\n<style scoped>\n    .dataframe tbody tr th:only-of-type {\n        vertical-align: middle;\n    }\n\n    .dataframe tbody tr th {\n        vertical-align: top;\n    }\n\n    .dataframe thead th {\n        text-align: right;\n    }\n</style>\n<table border=\"1\" class=\"dataframe\">\n  <thead>\n    <tr style=\"text-align: right;\">\n      <th></th>\n      <th>Brand</th>\n      <th>Model</th>\n      <th>AccelSec</th>\n      <th>TopSpeed_KmH</th>\n      <th>Range_Km</th>\n      <th>Efficiency_WhKm</th>\n      <th>FastCharge_KmH</th>\n      <th>RapidCharge</th>\n      <th>PowerTrain</th>\n      <th>PlugType</th>\n      <th>BodyStyle</th>\n      <th>Segment</th>\n      <th>Seats</th>\n      <th>PriceEuro</th>\n      <th>TopSpeed_MPH</th>\n    </tr>\n  </thead>\n  <tbody>\n    <tr>\n      <th>0</th>\n      <td>Tesla</td>\n      <td>Model 3 Long Range Dual Motor</td>\n      <td>4.6</td>\n      <td>233</td>\n      <td>450</td>\n      <td>161</td>\n      <td>940.0</td>\n      <td>Yes</td>\n      <td>AWD</td>\n      <td>Type 2 CCS</td>\n      <td>Sedan</td>\n      <td>D</td>\n      <td>5</td>\n      <td>55480.0</td>\n      <td>144.779490</td>\n    </tr>\n    <tr>\n      <th>1</th>\n      <td>Volkswagen</td>\n      <td>ID.3 Pure</td>\n      <td>10.0</td>\n      <td>160</td>\n      <td>270</td>\n      <td>167</td>\n      <td>250.0</td>\n      <td>Yes</td>\n      <td>RWD</td>\n      <td>Type 2 CCS</td>\n      <td>Hatchback</td>\n      <td>C</td>\n      <td>5</td>\n      <td>30000.0</td>\n      <td>99.419392</td>\n    </tr>\n    <tr>\n      <th>2</th>\n      <td>Polestar</td>\n      <td>2</td>\n      <td>4.7</td>\n      <td>210</td>\n      <td>400</td>\n      <td>181</td>\n      <td>620.0</td>\n      <td>Yes</td>\n      <td>AWD</td>\n      <td>Type 2 CCS</td>\n      <td>Liftback</td>\n      <td>D</td>\n      <td>5</td>\n      <td>56440.0</td>\n      <td>130.487952</td>\n    </tr>\n    <tr>\n      <th>3</th>\n      <td>BMW</td>\n      <td>iX3</td>\n      <td>6.8</td>\n      <td>180</td>\n      <td>360</td>\n      <td>206</td>\n      <td>560.0</td>\n      <td>Yes</td>\n      <td>RWD</td>\n      <td>Type 2 CCS</td>\n      <td>SUV</td>\n      <td>D</td>\n      <td>5</td>\n      <td>68040.0</td>\n      <td>111.846816</td>\n    </tr>\n    <tr>\n      <th>4</th>\n      <td>Honda</td>\n      <td>e</td>\n      <td>9.5</td>\n      <td>145</td>\n      <td>170</td>\n      <td>168</td>\n      <td>190.0</td>\n      <td>Yes</td>\n      <td>RWD</td>\n      <td>Type 2 CCS</td>\n      <td>Hatchback</td>\n      <td>B</td>\n      <td>4</td>\n      <td>32997.0</td>\n      <td>90.098824</td>\n    </tr>\n    <tr>\n      <th>5</th>\n      <td>Lucid</td>\n      <td>Air</td>\n      <td>2.8</td>\n      <td>250</td>\n      <td>610</td>\n      <td>180</td>\n      <td>620.0</td>\n      <td>Yes</td>\n      <td>AWD</td>\n      <td>Type 2 CCS</td>\n      <td>Sedan</td>\n      <td>F</td>\n      <td>5</td>\n      <td>105000.0</td>\n      <td>155.342800</td>\n    </tr>\n    <tr>\n      <th>6</th>\n      <td>Volkswagen</td>\n      <td>e-Golf</td>\n      <td>9.6</td>\n      <td>150</td>\n      <td>190</td>\n      <td>168</td>\n      <td>220.0</td>\n      <td>Yes</td>\n      <td>FWD</td>\n      <td>Type 2 CCS</td>\n      <td>Hatchback</td>\n      <td>C</td>\n      <td>5</td>\n      <td>31900.0</td>\n      <td>93.205680</td>\n    </tr>\n    <tr>\n      <th>7</th>\n      <td>Peugeot</td>\n      <td>e-208</td>\n      <td>8.1</td>\n      <td>150</td>\n      <td>275</td>\n      <td>164</td>\n      <td>420.0</td>\n      <td>Yes</td>\n      <td>FWD</td>\n      <td>Type 2 CCS</td>\n      <td>Hatchback</td>\n      <td>B</td>\n      <td>5</td>\n      <td>29682.0</td>\n      <td>93.205680</td>\n    </tr>\n    <tr>\n      <th>8</th>\n      <td>Tesla</td>\n      <td>Model 3 Standard Range Plus</td>\n      <td>5.6</td>\n      <td>225</td>\n      <td>310</td>\n      <td>153</td>\n      <td>650.0</td>\n      <td>Yes</td>\n      <td>RWD</td>\n      <td>Type 2 CCS</td>\n      <td>Sedan</td>\n      <td>D</td>\n      <td>5</td>\n      <td>46380.0</td>\n      <td>139.808520</td>\n    </tr>\n    <tr>\n      <th>9</th>\n      <td>Audi</td>\n      <td>Q4 e-tron</td>\n      <td>6.3</td>\n      <td>180</td>\n      <td>400</td>\n      <td>193</td>\n      <td>540.0</td>\n      <td>Yes</td>\n      <td>AWD</td>\n      <td>Type 2 CCS</td>\n      <td>SUV</td>\n      <td>D</td>\n      <td>5</td>\n      <td>55000.0</td>\n      <td>111.846816</td>\n    </tr>\n  </tbody>\n</table>\n</div>"
     },
     "execution_count": 115,
     "metadata": {},
     "output_type": "execute_result"
    }
   ],
   "source": [
    "df['TopSpeed_MPH'] = df['TopSpeed_KmH'] * 0.6213712\n",
    "df[:10]"
   ]
  },
  {
   "cell_type": "markdown",
   "metadata": {
    "id": "PbH5Ft3Ck5SO"
   },
   "source": [
    "\n",
    "## <font color='#EE4C2C'>2. Range and FastCharge_MPH</font>\n",
    "\n",
    "Add a new column `Range` computed from the `Range_Km` column that shows the range in miles.\n",
    "\n",
    "Also add a column `FastCharge_MPH computed from `FastCharge_KmH`. This will indicate how many miles can you go on one hour of charging. \n",
    "\n",
    "Just to check, display the first 10 rows. (The Tesla Model 3 Long Range Dual Motor should have a range of nearly 280 miles and charge at a rate of 584 miles per hour of fast charging.)"
   ]
  },
  {
   "cell_type": "code",
   "execution_count": 116,
   "metadata": {
    "colab": {
     "base_uri": "https://localhost:8080/",
     "height": 687
    },
    "id": "5MSHK06JlaCa",
    "outputId": "ba3b5c7a-5bbc-4092-eb79-58c3f11965a9"
   },
   "outputs": [
    {
     "data": {
      "text/plain": "        Brand                          Model  AccelSec  TopSpeed_KmH  \\\n0       Tesla  Model 3 Long Range Dual Motor       4.6           233   \n1  Volkswagen                      ID.3 Pure      10.0           160   \n2    Polestar                              2       4.7           210   \n3         BMW                            iX3       6.8           180   \n4       Honda                              e       9.5           145   \n5       Lucid                            Air       2.8           250   \n6  Volkswagen                         e-Golf       9.6           150   \n7     Peugeot                          e-208       8.1           150   \n8       Tesla    Model 3 Standard Range Plus       5.6           225   \n9        Audi                      Q4 e-tron       6.3           180   \n\n   Range_Km  Efficiency_WhKm  FastCharge_KmH RapidCharge PowerTrain  \\\n0       450              161           940.0         Yes        AWD   \n1       270              167           250.0         Yes        RWD   \n2       400              181           620.0         Yes        AWD   \n3       360              206           560.0         Yes        RWD   \n4       170              168           190.0         Yes        RWD   \n5       610              180           620.0         Yes        AWD   \n6       190              168           220.0         Yes        FWD   \n7       275              164           420.0         Yes        FWD   \n8       310              153           650.0         Yes        RWD   \n9       400              193           540.0         Yes        AWD   \n\n     PlugType  BodyStyle Segment  Seats  PriceEuro  TopSpeed_MPH       Range  \\\n0  Type 2 CCS      Sedan       D      5    55480.0    144.779490  279.617040   \n1  Type 2 CCS  Hatchback       C      5    30000.0     99.419392  167.770224   \n2  Type 2 CCS   Liftback       D      5    56440.0    130.487952  248.548480   \n3  Type 2 CCS        SUV       D      5    68040.0    111.846816  223.693632   \n4  Type 2 CCS  Hatchback       B      4    32997.0     90.098824  105.633104   \n5  Type 2 CCS      Sedan       F      5   105000.0    155.342800  379.036432   \n6  Type 2 CCS  Hatchback       C      5    31900.0     93.205680  118.060528   \n7  Type 2 CCS  Hatchback       B      5    29682.0     93.205680  170.877080   \n8  Type 2 CCS      Sedan       D      5    46380.0    139.808520  192.625072   \n9  Type 2 CCS        SUV       D      5    55000.0    111.846816  248.548480   \n\n   FastCharge_MPH  \n0      584.088928  \n1      155.342800  \n2      385.250144  \n3      347.967872  \n4      118.060528  \n5      385.250144  \n6      136.701664  \n7      260.975904  \n8      403.891280  \n9      335.540448  ",
      "text/html": "<div>\n<style scoped>\n    .dataframe tbody tr th:only-of-type {\n        vertical-align: middle;\n    }\n\n    .dataframe tbody tr th {\n        vertical-align: top;\n    }\n\n    .dataframe thead th {\n        text-align: right;\n    }\n</style>\n<table border=\"1\" class=\"dataframe\">\n  <thead>\n    <tr style=\"text-align: right;\">\n      <th></th>\n      <th>Brand</th>\n      <th>Model</th>\n      <th>AccelSec</th>\n      <th>TopSpeed_KmH</th>\n      <th>Range_Km</th>\n      <th>Efficiency_WhKm</th>\n      <th>FastCharge_KmH</th>\n      <th>RapidCharge</th>\n      <th>PowerTrain</th>\n      <th>PlugType</th>\n      <th>BodyStyle</th>\n      <th>Segment</th>\n      <th>Seats</th>\n      <th>PriceEuro</th>\n      <th>TopSpeed_MPH</th>\n      <th>Range</th>\n      <th>FastCharge_MPH</th>\n    </tr>\n  </thead>\n  <tbody>\n    <tr>\n      <th>0</th>\n      <td>Tesla</td>\n      <td>Model 3 Long Range Dual Motor</td>\n      <td>4.6</td>\n      <td>233</td>\n      <td>450</td>\n      <td>161</td>\n      <td>940.0</td>\n      <td>Yes</td>\n      <td>AWD</td>\n      <td>Type 2 CCS</td>\n      <td>Sedan</td>\n      <td>D</td>\n      <td>5</td>\n      <td>55480.0</td>\n      <td>144.779490</td>\n      <td>279.617040</td>\n      <td>584.088928</td>\n    </tr>\n    <tr>\n      <th>1</th>\n      <td>Volkswagen</td>\n      <td>ID.3 Pure</td>\n      <td>10.0</td>\n      <td>160</td>\n      <td>270</td>\n      <td>167</td>\n      <td>250.0</td>\n      <td>Yes</td>\n      <td>RWD</td>\n      <td>Type 2 CCS</td>\n      <td>Hatchback</td>\n      <td>C</td>\n      <td>5</td>\n      <td>30000.0</td>\n      <td>99.419392</td>\n      <td>167.770224</td>\n      <td>155.342800</td>\n    </tr>\n    <tr>\n      <th>2</th>\n      <td>Polestar</td>\n      <td>2</td>\n      <td>4.7</td>\n      <td>210</td>\n      <td>400</td>\n      <td>181</td>\n      <td>620.0</td>\n      <td>Yes</td>\n      <td>AWD</td>\n      <td>Type 2 CCS</td>\n      <td>Liftback</td>\n      <td>D</td>\n      <td>5</td>\n      <td>56440.0</td>\n      <td>130.487952</td>\n      <td>248.548480</td>\n      <td>385.250144</td>\n    </tr>\n    <tr>\n      <th>3</th>\n      <td>BMW</td>\n      <td>iX3</td>\n      <td>6.8</td>\n      <td>180</td>\n      <td>360</td>\n      <td>206</td>\n      <td>560.0</td>\n      <td>Yes</td>\n      <td>RWD</td>\n      <td>Type 2 CCS</td>\n      <td>SUV</td>\n      <td>D</td>\n      <td>5</td>\n      <td>68040.0</td>\n      <td>111.846816</td>\n      <td>223.693632</td>\n      <td>347.967872</td>\n    </tr>\n    <tr>\n      <th>4</th>\n      <td>Honda</td>\n      <td>e</td>\n      <td>9.5</td>\n      <td>145</td>\n      <td>170</td>\n      <td>168</td>\n      <td>190.0</td>\n      <td>Yes</td>\n      <td>RWD</td>\n      <td>Type 2 CCS</td>\n      <td>Hatchback</td>\n      <td>B</td>\n      <td>4</td>\n      <td>32997.0</td>\n      <td>90.098824</td>\n      <td>105.633104</td>\n      <td>118.060528</td>\n    </tr>\n    <tr>\n      <th>5</th>\n      <td>Lucid</td>\n      <td>Air</td>\n      <td>2.8</td>\n      <td>250</td>\n      <td>610</td>\n      <td>180</td>\n      <td>620.0</td>\n      <td>Yes</td>\n      <td>AWD</td>\n      <td>Type 2 CCS</td>\n      <td>Sedan</td>\n      <td>F</td>\n      <td>5</td>\n      <td>105000.0</td>\n      <td>155.342800</td>\n      <td>379.036432</td>\n      <td>385.250144</td>\n    </tr>\n    <tr>\n      <th>6</th>\n      <td>Volkswagen</td>\n      <td>e-Golf</td>\n      <td>9.6</td>\n      <td>150</td>\n      <td>190</td>\n      <td>168</td>\n      <td>220.0</td>\n      <td>Yes</td>\n      <td>FWD</td>\n      <td>Type 2 CCS</td>\n      <td>Hatchback</td>\n      <td>C</td>\n      <td>5</td>\n      <td>31900.0</td>\n      <td>93.205680</td>\n      <td>118.060528</td>\n      <td>136.701664</td>\n    </tr>\n    <tr>\n      <th>7</th>\n      <td>Peugeot</td>\n      <td>e-208</td>\n      <td>8.1</td>\n      <td>150</td>\n      <td>275</td>\n      <td>164</td>\n      <td>420.0</td>\n      <td>Yes</td>\n      <td>FWD</td>\n      <td>Type 2 CCS</td>\n      <td>Hatchback</td>\n      <td>B</td>\n      <td>5</td>\n      <td>29682.0</td>\n      <td>93.205680</td>\n      <td>170.877080</td>\n      <td>260.975904</td>\n    </tr>\n    <tr>\n      <th>8</th>\n      <td>Tesla</td>\n      <td>Model 3 Standard Range Plus</td>\n      <td>5.6</td>\n      <td>225</td>\n      <td>310</td>\n      <td>153</td>\n      <td>650.0</td>\n      <td>Yes</td>\n      <td>RWD</td>\n      <td>Type 2 CCS</td>\n      <td>Sedan</td>\n      <td>D</td>\n      <td>5</td>\n      <td>46380.0</td>\n      <td>139.808520</td>\n      <td>192.625072</td>\n      <td>403.891280</td>\n    </tr>\n    <tr>\n      <th>9</th>\n      <td>Audi</td>\n      <td>Q4 e-tron</td>\n      <td>6.3</td>\n      <td>180</td>\n      <td>400</td>\n      <td>193</td>\n      <td>540.0</td>\n      <td>Yes</td>\n      <td>AWD</td>\n      <td>Type 2 CCS</td>\n      <td>SUV</td>\n      <td>D</td>\n      <td>5</td>\n      <td>55000.0</td>\n      <td>111.846816</td>\n      <td>248.548480</td>\n      <td>335.540448</td>\n    </tr>\n  </tbody>\n</table>\n</div>"
     },
     "execution_count": 116,
     "metadata": {},
     "output_type": "execute_result"
    }
   ],
   "source": [
    "df['Range'] = df['Range_Km'] * 0.6213712\n",
    "df['FastCharge_MPH'] = df['FastCharge_KmH'] * 0.6213712\n",
    "df[:10]"
   ]
  },
  {
   "cell_type": "markdown",
   "metadata": {
    "id": "BUFNJLDmscIh"
   },
   "source": [
    "## <font color='#EE4C2C'>3. Efficiency_MkwH</font>\n",
    "\n",
    "The DataFrame has a column `Efficiency_WhKm` which indicates how many watt hours does it take to go one kilometer. One common measure of efficieny is how many miles can you go on one kilowatt hour (kwH). So please add this column to the DataFrame. (The Tesla Model 3 Standard Range Plus should have an efficiency of around 4 miles per kilowatt hour.) \n"
   ]
  },
  {
   "cell_type": "code",
   "execution_count": 117,
   "metadata": {
    "id": "QFVButVctWCL"
   },
   "outputs": [
    {
     "data": {
      "text/plain": "        Brand                          Model  AccelSec  TopSpeed_KmH  \\\n0       Tesla  Model 3 Long Range Dual Motor       4.6           233   \n1  Volkswagen                      ID.3 Pure      10.0           160   \n2    Polestar                              2       4.7           210   \n3         BMW                            iX3       6.8           180   \n4       Honda                              e       9.5           145   \n5       Lucid                            Air       2.8           250   \n6  Volkswagen                         e-Golf       9.6           150   \n7     Peugeot                          e-208       8.1           150   \n8       Tesla    Model 3 Standard Range Plus       5.6           225   \n9        Audi                      Q4 e-tron       6.3           180   \n\n   Range_Km  Efficiency_WhKm  FastCharge_KmH RapidCharge PowerTrain  \\\n0       450              161           940.0         Yes        AWD   \n1       270              167           250.0         Yes        RWD   \n2       400              181           620.0         Yes        AWD   \n3       360              206           560.0         Yes        RWD   \n4       170              168           190.0         Yes        RWD   \n5       610              180           620.0         Yes        AWD   \n6       190              168           220.0         Yes        FWD   \n7       275              164           420.0         Yes        FWD   \n8       310              153           650.0         Yes        RWD   \n9       400              193           540.0         Yes        AWD   \n\n     PlugType  BodyStyle Segment  Seats  PriceEuro  TopSpeed_MPH       Range  \\\n0  Type 2 CCS      Sedan       D      5    55480.0    144.779490  279.617040   \n1  Type 2 CCS  Hatchback       C      5    30000.0     99.419392  167.770224   \n2  Type 2 CCS   Liftback       D      5    56440.0    130.487952  248.548480   \n3  Type 2 CCS        SUV       D      5    68040.0    111.846816  223.693632   \n4  Type 2 CCS  Hatchback       B      4    32997.0     90.098824  105.633104   \n5  Type 2 CCS      Sedan       F      5   105000.0    155.342800  379.036432   \n6  Type 2 CCS  Hatchback       C      5    31900.0     93.205680  118.060528   \n7  Type 2 CCS  Hatchback       B      5    29682.0     93.205680  170.877080   \n8  Type 2 CCS      Sedan       D      5    46380.0    139.808520  192.625072   \n9  Type 2 CCS        SUV       D      5    55000.0    111.846816  248.548480   \n\n   FastCharge_MPH  Efficiency_MkwH  \n0      584.088928         3.859448  \n1      155.342800         3.720786  \n2      385.250144         3.432990  \n3      347.967872         3.016365  \n4      118.060528         3.698638  \n5      385.250144         3.452062  \n6      136.701664         3.698638  \n7      260.975904         3.788849  \n8      403.891280         4.061250  \n9      335.540448         3.219540  ",
      "text/html": "<div>\n<style scoped>\n    .dataframe tbody tr th:only-of-type {\n        vertical-align: middle;\n    }\n\n    .dataframe tbody tr th {\n        vertical-align: top;\n    }\n\n    .dataframe thead th {\n        text-align: right;\n    }\n</style>\n<table border=\"1\" class=\"dataframe\">\n  <thead>\n    <tr style=\"text-align: right;\">\n      <th></th>\n      <th>Brand</th>\n      <th>Model</th>\n      <th>AccelSec</th>\n      <th>TopSpeed_KmH</th>\n      <th>Range_Km</th>\n      <th>Efficiency_WhKm</th>\n      <th>FastCharge_KmH</th>\n      <th>RapidCharge</th>\n      <th>PowerTrain</th>\n      <th>PlugType</th>\n      <th>BodyStyle</th>\n      <th>Segment</th>\n      <th>Seats</th>\n      <th>PriceEuro</th>\n      <th>TopSpeed_MPH</th>\n      <th>Range</th>\n      <th>FastCharge_MPH</th>\n      <th>Efficiency_MkwH</th>\n    </tr>\n  </thead>\n  <tbody>\n    <tr>\n      <th>0</th>\n      <td>Tesla</td>\n      <td>Model 3 Long Range Dual Motor</td>\n      <td>4.6</td>\n      <td>233</td>\n      <td>450</td>\n      <td>161</td>\n      <td>940.0</td>\n      <td>Yes</td>\n      <td>AWD</td>\n      <td>Type 2 CCS</td>\n      <td>Sedan</td>\n      <td>D</td>\n      <td>5</td>\n      <td>55480.0</td>\n      <td>144.779490</td>\n      <td>279.617040</td>\n      <td>584.088928</td>\n      <td>3.859448</td>\n    </tr>\n    <tr>\n      <th>1</th>\n      <td>Volkswagen</td>\n      <td>ID.3 Pure</td>\n      <td>10.0</td>\n      <td>160</td>\n      <td>270</td>\n      <td>167</td>\n      <td>250.0</td>\n      <td>Yes</td>\n      <td>RWD</td>\n      <td>Type 2 CCS</td>\n      <td>Hatchback</td>\n      <td>C</td>\n      <td>5</td>\n      <td>30000.0</td>\n      <td>99.419392</td>\n      <td>167.770224</td>\n      <td>155.342800</td>\n      <td>3.720786</td>\n    </tr>\n    <tr>\n      <th>2</th>\n      <td>Polestar</td>\n      <td>2</td>\n      <td>4.7</td>\n      <td>210</td>\n      <td>400</td>\n      <td>181</td>\n      <td>620.0</td>\n      <td>Yes</td>\n      <td>AWD</td>\n      <td>Type 2 CCS</td>\n      <td>Liftback</td>\n      <td>D</td>\n      <td>5</td>\n      <td>56440.0</td>\n      <td>130.487952</td>\n      <td>248.548480</td>\n      <td>385.250144</td>\n      <td>3.432990</td>\n    </tr>\n    <tr>\n      <th>3</th>\n      <td>BMW</td>\n      <td>iX3</td>\n      <td>6.8</td>\n      <td>180</td>\n      <td>360</td>\n      <td>206</td>\n      <td>560.0</td>\n      <td>Yes</td>\n      <td>RWD</td>\n      <td>Type 2 CCS</td>\n      <td>SUV</td>\n      <td>D</td>\n      <td>5</td>\n      <td>68040.0</td>\n      <td>111.846816</td>\n      <td>223.693632</td>\n      <td>347.967872</td>\n      <td>3.016365</td>\n    </tr>\n    <tr>\n      <th>4</th>\n      <td>Honda</td>\n      <td>e</td>\n      <td>9.5</td>\n      <td>145</td>\n      <td>170</td>\n      <td>168</td>\n      <td>190.0</td>\n      <td>Yes</td>\n      <td>RWD</td>\n      <td>Type 2 CCS</td>\n      <td>Hatchback</td>\n      <td>B</td>\n      <td>4</td>\n      <td>32997.0</td>\n      <td>90.098824</td>\n      <td>105.633104</td>\n      <td>118.060528</td>\n      <td>3.698638</td>\n    </tr>\n    <tr>\n      <th>5</th>\n      <td>Lucid</td>\n      <td>Air</td>\n      <td>2.8</td>\n      <td>250</td>\n      <td>610</td>\n      <td>180</td>\n      <td>620.0</td>\n      <td>Yes</td>\n      <td>AWD</td>\n      <td>Type 2 CCS</td>\n      <td>Sedan</td>\n      <td>F</td>\n      <td>5</td>\n      <td>105000.0</td>\n      <td>155.342800</td>\n      <td>379.036432</td>\n      <td>385.250144</td>\n      <td>3.452062</td>\n    </tr>\n    <tr>\n      <th>6</th>\n      <td>Volkswagen</td>\n      <td>e-Golf</td>\n      <td>9.6</td>\n      <td>150</td>\n      <td>190</td>\n      <td>168</td>\n      <td>220.0</td>\n      <td>Yes</td>\n      <td>FWD</td>\n      <td>Type 2 CCS</td>\n      <td>Hatchback</td>\n      <td>C</td>\n      <td>5</td>\n      <td>31900.0</td>\n      <td>93.205680</td>\n      <td>118.060528</td>\n      <td>136.701664</td>\n      <td>3.698638</td>\n    </tr>\n    <tr>\n      <th>7</th>\n      <td>Peugeot</td>\n      <td>e-208</td>\n      <td>8.1</td>\n      <td>150</td>\n      <td>275</td>\n      <td>164</td>\n      <td>420.0</td>\n      <td>Yes</td>\n      <td>FWD</td>\n      <td>Type 2 CCS</td>\n      <td>Hatchback</td>\n      <td>B</td>\n      <td>5</td>\n      <td>29682.0</td>\n      <td>93.205680</td>\n      <td>170.877080</td>\n      <td>260.975904</td>\n      <td>3.788849</td>\n    </tr>\n    <tr>\n      <th>8</th>\n      <td>Tesla</td>\n      <td>Model 3 Standard Range Plus</td>\n      <td>5.6</td>\n      <td>225</td>\n      <td>310</td>\n      <td>153</td>\n      <td>650.0</td>\n      <td>Yes</td>\n      <td>RWD</td>\n      <td>Type 2 CCS</td>\n      <td>Sedan</td>\n      <td>D</td>\n      <td>5</td>\n      <td>46380.0</td>\n      <td>139.808520</td>\n      <td>192.625072</td>\n      <td>403.891280</td>\n      <td>4.061250</td>\n    </tr>\n    <tr>\n      <th>9</th>\n      <td>Audi</td>\n      <td>Q4 e-tron</td>\n      <td>6.3</td>\n      <td>180</td>\n      <td>400</td>\n      <td>193</td>\n      <td>540.0</td>\n      <td>Yes</td>\n      <td>AWD</td>\n      <td>Type 2 CCS</td>\n      <td>SUV</td>\n      <td>D</td>\n      <td>5</td>\n      <td>55000.0</td>\n      <td>111.846816</td>\n      <td>248.548480</td>\n      <td>335.540448</td>\n      <td>3.219540</td>\n    </tr>\n  </tbody>\n</table>\n</div>"
     },
     "execution_count": 117,
     "metadata": {},
     "output_type": "execute_result"
    }
   ],
   "source": [
    "df['Efficiency_MkwH'] = (1 / (df['Efficiency_WhKm'] / 1000)) * 0.6213712\n",
    "df[:10]"
   ]
  },
  {
   "cell_type": "code",
   "execution_count": 117,
   "metadata": {
    "colab": {
     "base_uri": "https://localhost:8080/",
     "height": 687
    },
    "id": "goaxBgv4mzSL",
    "outputId": "bab59686-e658-44b7-e9dd-92ece18bc94a"
   },
   "outputs": [],
   "source": []
  },
  {
   "cell_type": "markdown",
   "metadata": {
    "id": "utMo3PX4vR1O"
   },
   "source": [
    "## <font color='#EE4C2C'>4. New DataFrame</font>\n",
    "\n",
    "Create a new DataFrame, `bevs` (battery electric vehicles as opposed to PHEVs) that contain only the following columns from the current DataFrame\n",
    "\n",
    "* Brand\t\n",
    "* Model\t\n",
    "* PowerTrain\t\n",
    "* AccelSec\n",
    "* TopSpeed_MPH\t\n",
    "* Range\t\n",
    "* Efficiency_MkwH\n",
    "\n",
    "```\n",
    "'Brand', 'Model', 'PowerTrain', 'AccelSec', 'TopSpeed_MPH', 'Range', 'Efficiency_MkwH'\n",
    "```\n"
   ]
  },
  {
   "cell_type": "code",
   "execution_count": 118,
   "metadata": {
    "colab": {
     "base_uri": "https://localhost:8080/",
     "height": 363
    },
    "id": "E55PWBXAwZ5E",
    "outputId": "bfc46d6f-581c-4912-ba4d-d6ed65a37be9"
   },
   "outputs": [],
   "source": [
    "bevs = df[['Brand', 'Model', 'PowerTrain', 'AccelSec', 'TopSpeed_MPH', 'Range', 'Efficiency_MkwH']]"
   ]
  },
  {
   "cell_type": "code",
   "execution_count": 119,
   "metadata": {
    "id": "ENLRLgvTQsnC"
   },
   "outputs": [
    {
     "data": {
      "text/plain": "        Brand                          Model PowerTrain  AccelSec  \\\n0       Tesla  Model 3 Long Range Dual Motor        AWD       4.6   \n1  Volkswagen                      ID.3 Pure        RWD      10.0   \n2    Polestar                              2        AWD       4.7   \n3         BMW                            iX3        RWD       6.8   \n4       Honda                              e        RWD       9.5   \n\n   TopSpeed_MPH       Range  Efficiency_MkwH  \n0    144.779490  279.617040         3.859448  \n1     99.419392  167.770224         3.720786  \n2    130.487952  248.548480         3.432990  \n3    111.846816  223.693632         3.016365  \n4     90.098824  105.633104         3.698638  ",
      "text/html": "<div>\n<style scoped>\n    .dataframe tbody tr th:only-of-type {\n        vertical-align: middle;\n    }\n\n    .dataframe tbody tr th {\n        vertical-align: top;\n    }\n\n    .dataframe thead th {\n        text-align: right;\n    }\n</style>\n<table border=\"1\" class=\"dataframe\">\n  <thead>\n    <tr style=\"text-align: right;\">\n      <th></th>\n      <th>Brand</th>\n      <th>Model</th>\n      <th>PowerTrain</th>\n      <th>AccelSec</th>\n      <th>TopSpeed_MPH</th>\n      <th>Range</th>\n      <th>Efficiency_MkwH</th>\n    </tr>\n  </thead>\n  <tbody>\n    <tr>\n      <th>0</th>\n      <td>Tesla</td>\n      <td>Model 3 Long Range Dual Motor</td>\n      <td>AWD</td>\n      <td>4.6</td>\n      <td>144.779490</td>\n      <td>279.617040</td>\n      <td>3.859448</td>\n    </tr>\n    <tr>\n      <th>1</th>\n      <td>Volkswagen</td>\n      <td>ID.3 Pure</td>\n      <td>RWD</td>\n      <td>10.0</td>\n      <td>99.419392</td>\n      <td>167.770224</td>\n      <td>3.720786</td>\n    </tr>\n    <tr>\n      <th>2</th>\n      <td>Polestar</td>\n      <td>2</td>\n      <td>AWD</td>\n      <td>4.7</td>\n      <td>130.487952</td>\n      <td>248.548480</td>\n      <td>3.432990</td>\n    </tr>\n    <tr>\n      <th>3</th>\n      <td>BMW</td>\n      <td>iX3</td>\n      <td>RWD</td>\n      <td>6.8</td>\n      <td>111.846816</td>\n      <td>223.693632</td>\n      <td>3.016365</td>\n    </tr>\n    <tr>\n      <th>4</th>\n      <td>Honda</td>\n      <td>e</td>\n      <td>RWD</td>\n      <td>9.5</td>\n      <td>90.098824</td>\n      <td>105.633104</td>\n      <td>3.698638</td>\n    </tr>\n  </tbody>\n</table>\n</div>"
     },
     "execution_count": 119,
     "metadata": {},
     "output_type": "execute_result"
    }
   ],
   "source": [
    "bevs[:5]"
   ]
  },
  {
   "cell_type": "markdown",
   "metadata": {
    "id": "gi7_bPeKxWbC"
   },
   "source": [
    "## <font color='#EE4C2C'>5. Most and least efficient</font>\n",
    "Using the bevs DataFrame, what are the 5 most efficient evs ordered by the most efficient first?\n"
   ]
  },
  {
   "cell_type": "code",
   "execution_count": 120,
   "metadata": {
    "colab": {
     "base_uri": "https://localhost:8080/",
     "height": 206
    },
    "id": "_Kifc30dQow1",
    "outputId": "07b2f1c2-8fb7-4ecc-983d-7aac66206a62"
   },
   "outputs": [
    {
     "data": {
      "text/plain": "        Brand                        Model PowerTrain  AccelSec  TopSpeed_MPH  \\\n48  Lightyear                          One        AWD      10.0     93.205680   \n8       Tesla  Model 3 Standard Range Plus        RWD       5.6    139.808520   \n14    Hyundai               IONIQ Electric        FWD       9.7    102.526248   \n41    Hyundai         Kona Electric 39 kWh        FWD       9.9     96.312536   \n19       Mini                    Cooper SE        FWD       7.3     93.205680   \n\n         Range  Efficiency_MkwH  \n48  357.288440         5.974723  \n8   192.625072         4.061250  \n14  155.342800         4.061250  \n41  158.449656         4.034878  \n19  114.953672         3.983149  ",
      "text/html": "<div>\n<style scoped>\n    .dataframe tbody tr th:only-of-type {\n        vertical-align: middle;\n    }\n\n    .dataframe tbody tr th {\n        vertical-align: top;\n    }\n\n    .dataframe thead th {\n        text-align: right;\n    }\n</style>\n<table border=\"1\" class=\"dataframe\">\n  <thead>\n    <tr style=\"text-align: right;\">\n      <th></th>\n      <th>Brand</th>\n      <th>Model</th>\n      <th>PowerTrain</th>\n      <th>AccelSec</th>\n      <th>TopSpeed_MPH</th>\n      <th>Range</th>\n      <th>Efficiency_MkwH</th>\n    </tr>\n  </thead>\n  <tbody>\n    <tr>\n      <th>48</th>\n      <td>Lightyear</td>\n      <td>One</td>\n      <td>AWD</td>\n      <td>10.0</td>\n      <td>93.205680</td>\n      <td>357.288440</td>\n      <td>5.974723</td>\n    </tr>\n    <tr>\n      <th>8</th>\n      <td>Tesla</td>\n      <td>Model 3 Standard Range Plus</td>\n      <td>RWD</td>\n      <td>5.6</td>\n      <td>139.808520</td>\n      <td>192.625072</td>\n      <td>4.061250</td>\n    </tr>\n    <tr>\n      <th>14</th>\n      <td>Hyundai</td>\n      <td>IONIQ Electric</td>\n      <td>FWD</td>\n      <td>9.7</td>\n      <td>102.526248</td>\n      <td>155.342800</td>\n      <td>4.061250</td>\n    </tr>\n    <tr>\n      <th>41</th>\n      <td>Hyundai</td>\n      <td>Kona Electric 39 kWh</td>\n      <td>FWD</td>\n      <td>9.9</td>\n      <td>96.312536</td>\n      <td>158.449656</td>\n      <td>4.034878</td>\n    </tr>\n    <tr>\n      <th>19</th>\n      <td>Mini</td>\n      <td>Cooper SE</td>\n      <td>FWD</td>\n      <td>7.3</td>\n      <td>93.205680</td>\n      <td>114.953672</td>\n      <td>3.983149</td>\n    </tr>\n  </tbody>\n</table>\n</div>"
     },
     "execution_count": 120,
     "metadata": {},
     "output_type": "execute_result"
    }
   ],
   "source": [
    "bevs.sort_values(by = 'Efficiency_MkwH', ascending = False)[:5]"
   ]
  },
  {
   "cell_type": "markdown",
   "metadata": {
    "id": "w26i2-ijR-tb"
   },
   "source": [
    "What are the five most inefficient evs ordered by least efficient first?"
   ]
  },
  {
   "cell_type": "code",
   "execution_count": 121,
   "metadata": {
    "colab": {
     "base_uri": "https://localhost:8080/",
     "height": 206
    },
    "id": "5AuYIhCcSGKJ",
    "outputId": "2bad2aee-6276-4085-cf7d-eb77fab39a22"
   },
   "outputs": [
    {
     "data": {
      "text/plain": "        Brand                Model PowerTrain  AccelSec  TopSpeed_MPH  \\\n104       GMC            Hummer EV        AWD       3.0    106.254475   \n105      Ford       F150 Lightning        AWD       3.0    111.846816   \n103    Rivian                  R1T        AWD       3.0    114.953672   \n84   Mercedes         EQV 300 Long        FWD      10.0     86.991968   \n90       Audi  e-tron S 55 quattro        AWD       4.5    130.487952   \n\n          Range  Efficiency_MkwH  \n104  328.705365         1.393209  \n105  319.384797         2.078165  \n103  313.792456         2.078165  \n84   205.052496         2.276085  \n90   198.838784         2.301375  ",
      "text/html": "<div>\n<style scoped>\n    .dataframe tbody tr th:only-of-type {\n        vertical-align: middle;\n    }\n\n    .dataframe tbody tr th {\n        vertical-align: top;\n    }\n\n    .dataframe thead th {\n        text-align: right;\n    }\n</style>\n<table border=\"1\" class=\"dataframe\">\n  <thead>\n    <tr style=\"text-align: right;\">\n      <th></th>\n      <th>Brand</th>\n      <th>Model</th>\n      <th>PowerTrain</th>\n      <th>AccelSec</th>\n      <th>TopSpeed_MPH</th>\n      <th>Range</th>\n      <th>Efficiency_MkwH</th>\n    </tr>\n  </thead>\n  <tbody>\n    <tr>\n      <th>104</th>\n      <td>GMC</td>\n      <td>Hummer EV</td>\n      <td>AWD</td>\n      <td>3.0</td>\n      <td>106.254475</td>\n      <td>328.705365</td>\n      <td>1.393209</td>\n    </tr>\n    <tr>\n      <th>105</th>\n      <td>Ford</td>\n      <td>F150 Lightning</td>\n      <td>AWD</td>\n      <td>3.0</td>\n      <td>111.846816</td>\n      <td>319.384797</td>\n      <td>2.078165</td>\n    </tr>\n    <tr>\n      <th>103</th>\n      <td>Rivian</td>\n      <td>R1T</td>\n      <td>AWD</td>\n      <td>3.0</td>\n      <td>114.953672</td>\n      <td>313.792456</td>\n      <td>2.078165</td>\n    </tr>\n    <tr>\n      <th>84</th>\n      <td>Mercedes</td>\n      <td>EQV 300 Long</td>\n      <td>FWD</td>\n      <td>10.0</td>\n      <td>86.991968</td>\n      <td>205.052496</td>\n      <td>2.276085</td>\n    </tr>\n    <tr>\n      <th>90</th>\n      <td>Audi</td>\n      <td>e-tron S 55 quattro</td>\n      <td>AWD</td>\n      <td>4.5</td>\n      <td>130.487952</td>\n      <td>198.838784</td>\n      <td>2.301375</td>\n    </tr>\n  </tbody>\n</table>\n</div>"
     },
     "execution_count": 121,
     "metadata": {},
     "output_type": "execute_result"
    }
   ],
   "source": [
    "bevs.sort_values(by = 'Efficiency_MkwH')[:5]"
   ]
  },
  {
   "cell_type": "markdown",
   "metadata": {
    "id": "2V0JTAIVOv-P"
   },
   "source": [
    "## <font color='#EE4C2C'>6. fastest\n",
    "![](https://raw.githubusercontent.com/zacharski/datamining-guide/master/labs/pics/porsche.png)\n",
    "\n",
    "The Porsche 911 997 Turbo S is among the world's fastest production combustion cars with a 0-60 acceleration of 2.9 seconds. (In our dataset `AccelSec` measures the same thing.) Which electric cars have better acceleration than this? "
   ]
  },
  {
   "cell_type": "code",
   "execution_count": 122,
   "metadata": {
    "colab": {
     "base_uri": "https://localhost:8080/",
     "height": 206
    },
    "id": "v6fq8xCWPFmM",
    "outputId": "994701a2-8456-405a-b09d-b60bf0f90d11"
   },
   "outputs": [
    {
     "data": {
      "text/plain": "    Brand                Model PowerTrain  AccelSec  TopSpeed_MPH       Range  \\\n51  Tesla             Roadster        AWD       2.1    254.762192  602.730064   \n59  Tesla  Model S Performance        AWD       2.5    162.177883  313.792456   \n\n    Efficiency_MkwH  \n51         3.016365  \n59         3.305166  ",
      "text/html": "<div>\n<style scoped>\n    .dataframe tbody tr th:only-of-type {\n        vertical-align: middle;\n    }\n\n    .dataframe tbody tr th {\n        vertical-align: top;\n    }\n\n    .dataframe thead th {\n        text-align: right;\n    }\n</style>\n<table border=\"1\" class=\"dataframe\">\n  <thead>\n    <tr style=\"text-align: right;\">\n      <th></th>\n      <th>Brand</th>\n      <th>Model</th>\n      <th>PowerTrain</th>\n      <th>AccelSec</th>\n      <th>TopSpeed_MPH</th>\n      <th>Range</th>\n      <th>Efficiency_MkwH</th>\n    </tr>\n  </thead>\n  <tbody>\n    <tr>\n      <th>51</th>\n      <td>Tesla</td>\n      <td>Roadster</td>\n      <td>AWD</td>\n      <td>2.1</td>\n      <td>254.762192</td>\n      <td>602.730064</td>\n      <td>3.016365</td>\n    </tr>\n    <tr>\n      <th>59</th>\n      <td>Tesla</td>\n      <td>Model S Performance</td>\n      <td>AWD</td>\n      <td>2.5</td>\n      <td>162.177883</td>\n      <td>313.792456</td>\n      <td>3.305166</td>\n    </tr>\n  </tbody>\n</table>\n</div>"
     },
     "execution_count": 122,
     "metadata": {},
     "output_type": "execute_result"
    }
   ],
   "source": [
    "bevs.loc[bevs['AccelSec'] < 2.8]"
   ]
  },
  {
   "cell_type": "markdown",
   "metadata": {
    "id": "d6e7oEp3lWOt"
   },
   "source": [
    "## <font color='#EE4C2C'>7. Refrigerators\n",
    "![](https://raw.githubusercontent.com/zacharski/datamining-guide/master/labs/pics/frigTesla.png)\n",
    "\n",
    "Representative Thomas Massie (R-KY) at a hearing questioning Secretarty Pete Buttigieg says the energy (kWh) required to home charge an electric vehicle for a year is 25 times greater than running the average refrigerator. He also said \"It would take four times as much electricity to charge the average household's cars as the average household uses on air conditioning.\" And he said, \"that means the average household would use twice as much electricity charging one of their cars as they would use for all of the air conditioning that they use for the entire year.\" Is this true? \n",
    "\n",
    "Since air conditioner use is quite varied in different regions of the country, perhaps a better measure would be the energy used for air conditioning and heating combined.\n",
    "\n",
    "You are going to need to do some web searching to find the typical energy use of household these household items.\n",
    "\n",
    "What do you think about the usefulness of this comparing household appliances to EVs when making government policy?  \n"
   ]
  },
  {
   "attachments": {},
   "cell_type": "markdown",
   "metadata": {},
   "source": [
    "I don't think it's a comparison that works as well as one would initially think. a direct comparison to gas cars is a much clearer comparison. i don't think comparing an electric car's electricity comsumption to other household appliances would serve of much use if one is interested in electric cars."
   ]
  },
  {
   "cell_type": "code",
   "execution_count": 122,
   "metadata": {},
   "outputs": [],
   "source": []
  },
  {
   "cell_type": "code",
   "execution_count": 122,
   "metadata": {},
   "outputs": [],
   "source": []
  },
  {
   "cell_type": "markdown",
   "metadata": {
    "id": "80KuAzYFbarb"
   },
   "source": [
    "## <font color='#EE4C2C'>8. Global Adoption of EVs\n",
    "\n",
    "![](https://raw.githubusercontent.com/zacharski/datamining-guide/master/labs/pics/earth.png)\n",
    "\n",
    "The data file we are using for this is\n",
    "\n",
    "```\n",
    "https://raw.githubusercontent.com/zacharski/datamining-guide/main/data/IEA-EV-data.csv\n",
    "```\n",
    "\n",
    "This data is from the [International Energy Agency](https://www.iea.org/data-and-statistics/data-product/global-ev-outlook-2022).\n",
    "\n",
    "The first step in data mining work is to examine the dataset, which often is not in the best format to directly answer our questions. That is the case with this file. You have the Pandas skills, but you will need to spend a bit of time looking at the datafile and understanding it, so you can write some code to meet the need.\n",
    "\n",
    "So what is our need? We are interested in what percent of new car sales are evs in 2021. We are interested in historical data, not predictions. We would like to see the top five countries with the best adoption percent and the bottom five. Have appropriate labels indicating the list of top 5 and bottom 5. \n",
    "\n"
   ]
  },
  {
   "cell_type": "code",
   "execution_count": 123,
   "metadata": {
    "colab": {
     "base_uri": "https://localhost:8080/",
     "height": 206
    },
    "id": "M7amAS8SMv06",
    "outputId": "52421dc0-be91-493e-b432-b630f6bbb5ba"
   },
   "outputs": [
    {
     "data": {
      "text/plain": "              region    category       parameter  mode powertrain  year  \\\n73         Australia  Historical  EV sales share  Cars         EV  2021   \n287          Belgium  Historical  EV sales share  Cars         EV  2021   \n362           Brazil  Historical  EV sales share  Cars         EV  2021   \n484           Canada  Historical  EV sales share  Cars         EV  2021   \n579            Chile  Historical  EV sales share  Cars         EV  2021   \n1092           China  Historical  EV sales share  Cars         EV  2021   \n1572         Denmark  Historical  EV sales share  Cars         EV  2021   \n1896          Europe  Historical  EV sales share  Cars         EV  2021   \n2311         Finland  Historical  EV sales share  Cars         EV  2021   \n2546          France  Historical  EV sales share  Cars         EV  2021   \n2749         Germany  Historical  EV sales share  Cars         EV  2021   \n2842          Greece  Historical  EV sales share  Cars         EV  2021   \n3012         Iceland  Historical  EV sales share  Cars         EV  2021   \n3139           India  Historical  EV sales share  Cars         EV  2021   \n3513           Italy  Historical  EV sales share  Cars         EV  2021   \n3689           Japan  Historical  EV sales share  Cars         EV  2021   \n3839           Korea  Historical  EV sales share  Cars         EV  2021   \n3916          Mexico  Historical  EV sales share  Cars         EV  2021   \n4139     Netherlands  Historical  EV sales share  Cars         EV  2021   \n4285     New Zealand  Historical  EV sales share  Cars         EV  2021   \n4490          Norway  Historical  EV sales share  Cars         EV  2021   \n4705    Other Europe  Historical  EV sales share  Cars         EV  2021   \n4853          Poland  Historical  EV sales share  Cars         EV  2021   \n4992        Portugal  Historical  EV sales share  Cars         EV  2021   \n5498    South Africa  Historical  EV sales share  Cars         EV  2021   \n5670           Spain  Historical  EV sales share  Cars         EV  2021   \n5873          Sweden  Historical  EV sales share  Cars         EV  2021   \n6049     Switzerland  Historical  EV sales share  Cars         EV  2021   \n6308  United Kingdom  Historical  EV sales share  Cars         EV  2021   \n6486             USA  Historical  EV sales share  Cars         EV  2021   \n6846           World  Historical  EV sales share  Cars         EV  2021   \n\n         unit      value  \n73    percent   2.822306  \n287   percent  18.448383  \n362   percent   0.465457  \n484   percent   6.598867  \n579   percent   0.191443  \n1092  percent  16.005657  \n1572  percent  35.424446  \n1896  percent  16.617809  \n2311  percent  30.780634  \n2546  percent  18.899277  \n2749  percent  25.986868  \n2842  percent   6.897816  \n3012  percent  71.728737  \n3139  percent   0.380837  \n3513  percent   9.466155  \n3689  percent   0.995796  \n3839  percent   6.242408  \n3916  percent   0.498377  \n4139  percent  29.734264  \n4285  percent   4.404533  \n4490  percent  86.167145  \n4705  percent   4.886049  \n4853  percent   1.360860  \n4992  percent  19.900843  \n5498  percent   0.088581  \n5670  percent   7.879327  \n5873  percent  43.294743  \n6049  percent  22.429041  \n6308  percent  18.958208  \n6486  percent   4.561258  \n6846  percent   8.644046  ",
      "text/html": "<div>\n<style scoped>\n    .dataframe tbody tr th:only-of-type {\n        vertical-align: middle;\n    }\n\n    .dataframe tbody tr th {\n        vertical-align: top;\n    }\n\n    .dataframe thead th {\n        text-align: right;\n    }\n</style>\n<table border=\"1\" class=\"dataframe\">\n  <thead>\n    <tr style=\"text-align: right;\">\n      <th></th>\n      <th>region</th>\n      <th>category</th>\n      <th>parameter</th>\n      <th>mode</th>\n      <th>powertrain</th>\n      <th>year</th>\n      <th>unit</th>\n      <th>value</th>\n    </tr>\n  </thead>\n  <tbody>\n    <tr>\n      <th>73</th>\n      <td>Australia</td>\n      <td>Historical</td>\n      <td>EV sales share</td>\n      <td>Cars</td>\n      <td>EV</td>\n      <td>2021</td>\n      <td>percent</td>\n      <td>2.822306</td>\n    </tr>\n    <tr>\n      <th>287</th>\n      <td>Belgium</td>\n      <td>Historical</td>\n      <td>EV sales share</td>\n      <td>Cars</td>\n      <td>EV</td>\n      <td>2021</td>\n      <td>percent</td>\n      <td>18.448383</td>\n    </tr>\n    <tr>\n      <th>362</th>\n      <td>Brazil</td>\n      <td>Historical</td>\n      <td>EV sales share</td>\n      <td>Cars</td>\n      <td>EV</td>\n      <td>2021</td>\n      <td>percent</td>\n      <td>0.465457</td>\n    </tr>\n    <tr>\n      <th>484</th>\n      <td>Canada</td>\n      <td>Historical</td>\n      <td>EV sales share</td>\n      <td>Cars</td>\n      <td>EV</td>\n      <td>2021</td>\n      <td>percent</td>\n      <td>6.598867</td>\n    </tr>\n    <tr>\n      <th>579</th>\n      <td>Chile</td>\n      <td>Historical</td>\n      <td>EV sales share</td>\n      <td>Cars</td>\n      <td>EV</td>\n      <td>2021</td>\n      <td>percent</td>\n      <td>0.191443</td>\n    </tr>\n    <tr>\n      <th>1092</th>\n      <td>China</td>\n      <td>Historical</td>\n      <td>EV sales share</td>\n      <td>Cars</td>\n      <td>EV</td>\n      <td>2021</td>\n      <td>percent</td>\n      <td>16.005657</td>\n    </tr>\n    <tr>\n      <th>1572</th>\n      <td>Denmark</td>\n      <td>Historical</td>\n      <td>EV sales share</td>\n      <td>Cars</td>\n      <td>EV</td>\n      <td>2021</td>\n      <td>percent</td>\n      <td>35.424446</td>\n    </tr>\n    <tr>\n      <th>1896</th>\n      <td>Europe</td>\n      <td>Historical</td>\n      <td>EV sales share</td>\n      <td>Cars</td>\n      <td>EV</td>\n      <td>2021</td>\n      <td>percent</td>\n      <td>16.617809</td>\n    </tr>\n    <tr>\n      <th>2311</th>\n      <td>Finland</td>\n      <td>Historical</td>\n      <td>EV sales share</td>\n      <td>Cars</td>\n      <td>EV</td>\n      <td>2021</td>\n      <td>percent</td>\n      <td>30.780634</td>\n    </tr>\n    <tr>\n      <th>2546</th>\n      <td>France</td>\n      <td>Historical</td>\n      <td>EV sales share</td>\n      <td>Cars</td>\n      <td>EV</td>\n      <td>2021</td>\n      <td>percent</td>\n      <td>18.899277</td>\n    </tr>\n    <tr>\n      <th>2749</th>\n      <td>Germany</td>\n      <td>Historical</td>\n      <td>EV sales share</td>\n      <td>Cars</td>\n      <td>EV</td>\n      <td>2021</td>\n      <td>percent</td>\n      <td>25.986868</td>\n    </tr>\n    <tr>\n      <th>2842</th>\n      <td>Greece</td>\n      <td>Historical</td>\n      <td>EV sales share</td>\n      <td>Cars</td>\n      <td>EV</td>\n      <td>2021</td>\n      <td>percent</td>\n      <td>6.897816</td>\n    </tr>\n    <tr>\n      <th>3012</th>\n      <td>Iceland</td>\n      <td>Historical</td>\n      <td>EV sales share</td>\n      <td>Cars</td>\n      <td>EV</td>\n      <td>2021</td>\n      <td>percent</td>\n      <td>71.728737</td>\n    </tr>\n    <tr>\n      <th>3139</th>\n      <td>India</td>\n      <td>Historical</td>\n      <td>EV sales share</td>\n      <td>Cars</td>\n      <td>EV</td>\n      <td>2021</td>\n      <td>percent</td>\n      <td>0.380837</td>\n    </tr>\n    <tr>\n      <th>3513</th>\n      <td>Italy</td>\n      <td>Historical</td>\n      <td>EV sales share</td>\n      <td>Cars</td>\n      <td>EV</td>\n      <td>2021</td>\n      <td>percent</td>\n      <td>9.466155</td>\n    </tr>\n    <tr>\n      <th>3689</th>\n      <td>Japan</td>\n      <td>Historical</td>\n      <td>EV sales share</td>\n      <td>Cars</td>\n      <td>EV</td>\n      <td>2021</td>\n      <td>percent</td>\n      <td>0.995796</td>\n    </tr>\n    <tr>\n      <th>3839</th>\n      <td>Korea</td>\n      <td>Historical</td>\n      <td>EV sales share</td>\n      <td>Cars</td>\n      <td>EV</td>\n      <td>2021</td>\n      <td>percent</td>\n      <td>6.242408</td>\n    </tr>\n    <tr>\n      <th>3916</th>\n      <td>Mexico</td>\n      <td>Historical</td>\n      <td>EV sales share</td>\n      <td>Cars</td>\n      <td>EV</td>\n      <td>2021</td>\n      <td>percent</td>\n      <td>0.498377</td>\n    </tr>\n    <tr>\n      <th>4139</th>\n      <td>Netherlands</td>\n      <td>Historical</td>\n      <td>EV sales share</td>\n      <td>Cars</td>\n      <td>EV</td>\n      <td>2021</td>\n      <td>percent</td>\n      <td>29.734264</td>\n    </tr>\n    <tr>\n      <th>4285</th>\n      <td>New Zealand</td>\n      <td>Historical</td>\n      <td>EV sales share</td>\n      <td>Cars</td>\n      <td>EV</td>\n      <td>2021</td>\n      <td>percent</td>\n      <td>4.404533</td>\n    </tr>\n    <tr>\n      <th>4490</th>\n      <td>Norway</td>\n      <td>Historical</td>\n      <td>EV sales share</td>\n      <td>Cars</td>\n      <td>EV</td>\n      <td>2021</td>\n      <td>percent</td>\n      <td>86.167145</td>\n    </tr>\n    <tr>\n      <th>4705</th>\n      <td>Other Europe</td>\n      <td>Historical</td>\n      <td>EV sales share</td>\n      <td>Cars</td>\n      <td>EV</td>\n      <td>2021</td>\n      <td>percent</td>\n      <td>4.886049</td>\n    </tr>\n    <tr>\n      <th>4853</th>\n      <td>Poland</td>\n      <td>Historical</td>\n      <td>EV sales share</td>\n      <td>Cars</td>\n      <td>EV</td>\n      <td>2021</td>\n      <td>percent</td>\n      <td>1.360860</td>\n    </tr>\n    <tr>\n      <th>4992</th>\n      <td>Portugal</td>\n      <td>Historical</td>\n      <td>EV sales share</td>\n      <td>Cars</td>\n      <td>EV</td>\n      <td>2021</td>\n      <td>percent</td>\n      <td>19.900843</td>\n    </tr>\n    <tr>\n      <th>5498</th>\n      <td>South Africa</td>\n      <td>Historical</td>\n      <td>EV sales share</td>\n      <td>Cars</td>\n      <td>EV</td>\n      <td>2021</td>\n      <td>percent</td>\n      <td>0.088581</td>\n    </tr>\n    <tr>\n      <th>5670</th>\n      <td>Spain</td>\n      <td>Historical</td>\n      <td>EV sales share</td>\n      <td>Cars</td>\n      <td>EV</td>\n      <td>2021</td>\n      <td>percent</td>\n      <td>7.879327</td>\n    </tr>\n    <tr>\n      <th>5873</th>\n      <td>Sweden</td>\n      <td>Historical</td>\n      <td>EV sales share</td>\n      <td>Cars</td>\n      <td>EV</td>\n      <td>2021</td>\n      <td>percent</td>\n      <td>43.294743</td>\n    </tr>\n    <tr>\n      <th>6049</th>\n      <td>Switzerland</td>\n      <td>Historical</td>\n      <td>EV sales share</td>\n      <td>Cars</td>\n      <td>EV</td>\n      <td>2021</td>\n      <td>percent</td>\n      <td>22.429041</td>\n    </tr>\n    <tr>\n      <th>6308</th>\n      <td>United Kingdom</td>\n      <td>Historical</td>\n      <td>EV sales share</td>\n      <td>Cars</td>\n      <td>EV</td>\n      <td>2021</td>\n      <td>percent</td>\n      <td>18.958208</td>\n    </tr>\n    <tr>\n      <th>6486</th>\n      <td>USA</td>\n      <td>Historical</td>\n      <td>EV sales share</td>\n      <td>Cars</td>\n      <td>EV</td>\n      <td>2021</td>\n      <td>percent</td>\n      <td>4.561258</td>\n    </tr>\n    <tr>\n      <th>6846</th>\n      <td>World</td>\n      <td>Historical</td>\n      <td>EV sales share</td>\n      <td>Cars</td>\n      <td>EV</td>\n      <td>2021</td>\n      <td>percent</td>\n      <td>8.644046</td>\n    </tr>\n  </tbody>\n</table>\n</div>"
     },
     "execution_count": 123,
     "metadata": {},
     "output_type": "execute_result"
    }
   ],
   "source": [
    "electricVehiclesAdoption = pd.read_csv('https://raw.githubusercontent.com/zacharski/datamining-guide/main/data/IEA-EV-data.csv')\n",
    "historicElectricVehiclesAdoption = electricVehiclesAdoption.loc[(electricVehiclesAdoption['category'] == 'Historical') & \n",
    "                                    (electricVehiclesAdoption['parameter'] == 'EV sales share') & \n",
    "                                    (electricVehiclesAdoption['year'] == 2021) &\n",
    "                                    (electricVehiclesAdoption['mode'] == 'Cars')]\n",
    "historicElectricVehiclesAdoption"
   ]
  },
  {
   "cell_type": "code",
   "execution_count": 124,
   "metadata": {},
   "outputs": [
    {
     "data": {
      "text/plain": "       region    category       parameter  mode powertrain  year     unit  \\\n4490   Norway  Historical  EV sales share  Cars         EV  2021  percent   \n3012  Iceland  Historical  EV sales share  Cars         EV  2021  percent   \n5873   Sweden  Historical  EV sales share  Cars         EV  2021  percent   \n1572  Denmark  Historical  EV sales share  Cars         EV  2021  percent   \n2311  Finland  Historical  EV sales share  Cars         EV  2021  percent   \n\n          value  \n4490  86.167145  \n3012  71.728737  \n5873  43.294743  \n1572  35.424446  \n2311  30.780634  ",
      "text/html": "<div>\n<style scoped>\n    .dataframe tbody tr th:only-of-type {\n        vertical-align: middle;\n    }\n\n    .dataframe tbody tr th {\n        vertical-align: top;\n    }\n\n    .dataframe thead th {\n        text-align: right;\n    }\n</style>\n<table border=\"1\" class=\"dataframe\">\n  <thead>\n    <tr style=\"text-align: right;\">\n      <th></th>\n      <th>region</th>\n      <th>category</th>\n      <th>parameter</th>\n      <th>mode</th>\n      <th>powertrain</th>\n      <th>year</th>\n      <th>unit</th>\n      <th>value</th>\n    </tr>\n  </thead>\n  <tbody>\n    <tr>\n      <th>4490</th>\n      <td>Norway</td>\n      <td>Historical</td>\n      <td>EV sales share</td>\n      <td>Cars</td>\n      <td>EV</td>\n      <td>2021</td>\n      <td>percent</td>\n      <td>86.167145</td>\n    </tr>\n    <tr>\n      <th>3012</th>\n      <td>Iceland</td>\n      <td>Historical</td>\n      <td>EV sales share</td>\n      <td>Cars</td>\n      <td>EV</td>\n      <td>2021</td>\n      <td>percent</td>\n      <td>71.728737</td>\n    </tr>\n    <tr>\n      <th>5873</th>\n      <td>Sweden</td>\n      <td>Historical</td>\n      <td>EV sales share</td>\n      <td>Cars</td>\n      <td>EV</td>\n      <td>2021</td>\n      <td>percent</td>\n      <td>43.294743</td>\n    </tr>\n    <tr>\n      <th>1572</th>\n      <td>Denmark</td>\n      <td>Historical</td>\n      <td>EV sales share</td>\n      <td>Cars</td>\n      <td>EV</td>\n      <td>2021</td>\n      <td>percent</td>\n      <td>35.424446</td>\n    </tr>\n    <tr>\n      <th>2311</th>\n      <td>Finland</td>\n      <td>Historical</td>\n      <td>EV sales share</td>\n      <td>Cars</td>\n      <td>EV</td>\n      <td>2021</td>\n      <td>percent</td>\n      <td>30.780634</td>\n    </tr>\n  </tbody>\n</table>\n</div>"
     },
     "execution_count": 124,
     "metadata": {},
     "output_type": "execute_result"
    }
   ],
   "source": [
    "historicElectricVehiclesAdoption.sort_values(by = 'value', ascending = False)[:5]"
   ]
  },
  {
   "cell_type": "code",
   "execution_count": 125,
   "metadata": {
    "colab": {
     "base_uri": "https://localhost:8080/",
     "height": 206
    },
    "id": "kogeUTBHOhwL",
    "outputId": "728c80da-f941-4666-f7af-4c56b3be2825"
   },
   "outputs": [
    {
     "data": {
      "text/plain": "            region    category       parameter  mode powertrain  year  \\\n5498  South Africa  Historical  EV sales share  Cars         EV  2021   \n579          Chile  Historical  EV sales share  Cars         EV  2021   \n3139         India  Historical  EV sales share  Cars         EV  2021   \n362         Brazil  Historical  EV sales share  Cars         EV  2021   \n3916        Mexico  Historical  EV sales share  Cars         EV  2021   \n\n         unit     value  \n5498  percent  0.088581  \n579   percent  0.191443  \n3139  percent  0.380837  \n362   percent  0.465457  \n3916  percent  0.498377  ",
      "text/html": "<div>\n<style scoped>\n    .dataframe tbody tr th:only-of-type {\n        vertical-align: middle;\n    }\n\n    .dataframe tbody tr th {\n        vertical-align: top;\n    }\n\n    .dataframe thead th {\n        text-align: right;\n    }\n</style>\n<table border=\"1\" class=\"dataframe\">\n  <thead>\n    <tr style=\"text-align: right;\">\n      <th></th>\n      <th>region</th>\n      <th>category</th>\n      <th>parameter</th>\n      <th>mode</th>\n      <th>powertrain</th>\n      <th>year</th>\n      <th>unit</th>\n      <th>value</th>\n    </tr>\n  </thead>\n  <tbody>\n    <tr>\n      <th>5498</th>\n      <td>South Africa</td>\n      <td>Historical</td>\n      <td>EV sales share</td>\n      <td>Cars</td>\n      <td>EV</td>\n      <td>2021</td>\n      <td>percent</td>\n      <td>0.088581</td>\n    </tr>\n    <tr>\n      <th>579</th>\n      <td>Chile</td>\n      <td>Historical</td>\n      <td>EV sales share</td>\n      <td>Cars</td>\n      <td>EV</td>\n      <td>2021</td>\n      <td>percent</td>\n      <td>0.191443</td>\n    </tr>\n    <tr>\n      <th>3139</th>\n      <td>India</td>\n      <td>Historical</td>\n      <td>EV sales share</td>\n      <td>Cars</td>\n      <td>EV</td>\n      <td>2021</td>\n      <td>percent</td>\n      <td>0.380837</td>\n    </tr>\n    <tr>\n      <th>362</th>\n      <td>Brazil</td>\n      <td>Historical</td>\n      <td>EV sales share</td>\n      <td>Cars</td>\n      <td>EV</td>\n      <td>2021</td>\n      <td>percent</td>\n      <td>0.465457</td>\n    </tr>\n    <tr>\n      <th>3916</th>\n      <td>Mexico</td>\n      <td>Historical</td>\n      <td>EV sales share</td>\n      <td>Cars</td>\n      <td>EV</td>\n      <td>2021</td>\n      <td>percent</td>\n      <td>0.498377</td>\n    </tr>\n  </tbody>\n</table>\n</div>"
     },
     "execution_count": 125,
     "metadata": {},
     "output_type": "execute_result"
    }
   ],
   "source": [
    "historicElectricVehiclesAdoption.sort_values(by = 'value')[:5]"
   ]
  },
  {
   "cell_type": "markdown",
   "metadata": {
    "id": "uZsm6tAwPE-f"
   },
   "source": [
    "## <font color='#EE4C2C'>9. Adoption of EVs Worldwide Part 2\n",
    "In the U.S. in 2021 Electric Vehicles account for 2.5% of total new car sales. Is this higher or lower than the average (mean) 2021 figures in our dataset?\n",
    "\n",
    "Also, how many countries have a higher adoption rate than the U.S?\n",
    "\n",
    "In addition to cells showing your work, please have some readable content."
   ]
  },
  {
   "cell_type": "code",
   "execution_count": 126,
   "metadata": {
    "colab": {
     "base_uri": "https://localhost:8080/"
    },
    "id": "9POucaLgQXTv",
    "outputId": "b46a9d06-bd02-4285-98e5-c3a7e036e7d3"
   },
   "outputs": [
    {
     "data": {
      "text/plain": "16.798715151606068"
     },
     "execution_count": 126,
     "metadata": {},
     "output_type": "execute_result"
    }
   ],
   "source": [
    "historicElectricVehiclesAdoption['value'].mean()"
   ]
  },
  {
   "attachments": {},
   "cell_type": "markdown",
   "metadata": {},
   "source": [
    "The mean percentage of new car sales for contries is `~16.7987%` as shown above. "
   ]
  },
  {
   "cell_type": "code",
   "execution_count": 127,
   "metadata": {
    "colab": {
     "base_uri": "https://localhost:8080/"
    },
    "id": "1Ns_haraQtcz",
    "outputId": "fc074c11-3f61-4c7e-e2fa-b399ae4a3053"
   },
   "outputs": [
    {
     "data": {
      "text/plain": "              region    category       parameter  mode powertrain  year  \\\n4490          Norway  Historical  EV sales share  Cars         EV  2021   \n3012         Iceland  Historical  EV sales share  Cars         EV  2021   \n5873          Sweden  Historical  EV sales share  Cars         EV  2021   \n1572         Denmark  Historical  EV sales share  Cars         EV  2021   \n2311         Finland  Historical  EV sales share  Cars         EV  2021   \n4139     Netherlands  Historical  EV sales share  Cars         EV  2021   \n2749         Germany  Historical  EV sales share  Cars         EV  2021   \n6049     Switzerland  Historical  EV sales share  Cars         EV  2021   \n4992        Portugal  Historical  EV sales share  Cars         EV  2021   \n6308  United Kingdom  Historical  EV sales share  Cars         EV  2021   \n2546          France  Historical  EV sales share  Cars         EV  2021   \n287          Belgium  Historical  EV sales share  Cars         EV  2021   \n1896          Europe  Historical  EV sales share  Cars         EV  2021   \n1092           China  Historical  EV sales share  Cars         EV  2021   \n3513           Italy  Historical  EV sales share  Cars         EV  2021   \n6846           World  Historical  EV sales share  Cars         EV  2021   \n5670           Spain  Historical  EV sales share  Cars         EV  2021   \n2842          Greece  Historical  EV sales share  Cars         EV  2021   \n484           Canada  Historical  EV sales share  Cars         EV  2021   \n3839           Korea  Historical  EV sales share  Cars         EV  2021   \n4705    Other Europe  Historical  EV sales share  Cars         EV  2021   \n\n         unit      value  \n4490  percent  86.167145  \n3012  percent  71.728737  \n5873  percent  43.294743  \n1572  percent  35.424446  \n2311  percent  30.780634  \n4139  percent  29.734264  \n2749  percent  25.986868  \n6049  percent  22.429041  \n4992  percent  19.900843  \n6308  percent  18.958208  \n2546  percent  18.899277  \n287   percent  18.448383  \n1896  percent  16.617809  \n1092  percent  16.005657  \n3513  percent   9.466155  \n6846  percent   8.644046  \n5670  percent   7.879327  \n2842  percent   6.897816  \n484   percent   6.598867  \n3839  percent   6.242408  \n4705  percent   4.886049  ",
      "text/html": "<div>\n<style scoped>\n    .dataframe tbody tr th:only-of-type {\n        vertical-align: middle;\n    }\n\n    .dataframe tbody tr th {\n        vertical-align: top;\n    }\n\n    .dataframe thead th {\n        text-align: right;\n    }\n</style>\n<table border=\"1\" class=\"dataframe\">\n  <thead>\n    <tr style=\"text-align: right;\">\n      <th></th>\n      <th>region</th>\n      <th>category</th>\n      <th>parameter</th>\n      <th>mode</th>\n      <th>powertrain</th>\n      <th>year</th>\n      <th>unit</th>\n      <th>value</th>\n    </tr>\n  </thead>\n  <tbody>\n    <tr>\n      <th>4490</th>\n      <td>Norway</td>\n      <td>Historical</td>\n      <td>EV sales share</td>\n      <td>Cars</td>\n      <td>EV</td>\n      <td>2021</td>\n      <td>percent</td>\n      <td>86.167145</td>\n    </tr>\n    <tr>\n      <th>3012</th>\n      <td>Iceland</td>\n      <td>Historical</td>\n      <td>EV sales share</td>\n      <td>Cars</td>\n      <td>EV</td>\n      <td>2021</td>\n      <td>percent</td>\n      <td>71.728737</td>\n    </tr>\n    <tr>\n      <th>5873</th>\n      <td>Sweden</td>\n      <td>Historical</td>\n      <td>EV sales share</td>\n      <td>Cars</td>\n      <td>EV</td>\n      <td>2021</td>\n      <td>percent</td>\n      <td>43.294743</td>\n    </tr>\n    <tr>\n      <th>1572</th>\n      <td>Denmark</td>\n      <td>Historical</td>\n      <td>EV sales share</td>\n      <td>Cars</td>\n      <td>EV</td>\n      <td>2021</td>\n      <td>percent</td>\n      <td>35.424446</td>\n    </tr>\n    <tr>\n      <th>2311</th>\n      <td>Finland</td>\n      <td>Historical</td>\n      <td>EV sales share</td>\n      <td>Cars</td>\n      <td>EV</td>\n      <td>2021</td>\n      <td>percent</td>\n      <td>30.780634</td>\n    </tr>\n    <tr>\n      <th>4139</th>\n      <td>Netherlands</td>\n      <td>Historical</td>\n      <td>EV sales share</td>\n      <td>Cars</td>\n      <td>EV</td>\n      <td>2021</td>\n      <td>percent</td>\n      <td>29.734264</td>\n    </tr>\n    <tr>\n      <th>2749</th>\n      <td>Germany</td>\n      <td>Historical</td>\n      <td>EV sales share</td>\n      <td>Cars</td>\n      <td>EV</td>\n      <td>2021</td>\n      <td>percent</td>\n      <td>25.986868</td>\n    </tr>\n    <tr>\n      <th>6049</th>\n      <td>Switzerland</td>\n      <td>Historical</td>\n      <td>EV sales share</td>\n      <td>Cars</td>\n      <td>EV</td>\n      <td>2021</td>\n      <td>percent</td>\n      <td>22.429041</td>\n    </tr>\n    <tr>\n      <th>4992</th>\n      <td>Portugal</td>\n      <td>Historical</td>\n      <td>EV sales share</td>\n      <td>Cars</td>\n      <td>EV</td>\n      <td>2021</td>\n      <td>percent</td>\n      <td>19.900843</td>\n    </tr>\n    <tr>\n      <th>6308</th>\n      <td>United Kingdom</td>\n      <td>Historical</td>\n      <td>EV sales share</td>\n      <td>Cars</td>\n      <td>EV</td>\n      <td>2021</td>\n      <td>percent</td>\n      <td>18.958208</td>\n    </tr>\n    <tr>\n      <th>2546</th>\n      <td>France</td>\n      <td>Historical</td>\n      <td>EV sales share</td>\n      <td>Cars</td>\n      <td>EV</td>\n      <td>2021</td>\n      <td>percent</td>\n      <td>18.899277</td>\n    </tr>\n    <tr>\n      <th>287</th>\n      <td>Belgium</td>\n      <td>Historical</td>\n      <td>EV sales share</td>\n      <td>Cars</td>\n      <td>EV</td>\n      <td>2021</td>\n      <td>percent</td>\n      <td>18.448383</td>\n    </tr>\n    <tr>\n      <th>1896</th>\n      <td>Europe</td>\n      <td>Historical</td>\n      <td>EV sales share</td>\n      <td>Cars</td>\n      <td>EV</td>\n      <td>2021</td>\n      <td>percent</td>\n      <td>16.617809</td>\n    </tr>\n    <tr>\n      <th>1092</th>\n      <td>China</td>\n      <td>Historical</td>\n      <td>EV sales share</td>\n      <td>Cars</td>\n      <td>EV</td>\n      <td>2021</td>\n      <td>percent</td>\n      <td>16.005657</td>\n    </tr>\n    <tr>\n      <th>3513</th>\n      <td>Italy</td>\n      <td>Historical</td>\n      <td>EV sales share</td>\n      <td>Cars</td>\n      <td>EV</td>\n      <td>2021</td>\n      <td>percent</td>\n      <td>9.466155</td>\n    </tr>\n    <tr>\n      <th>6846</th>\n      <td>World</td>\n      <td>Historical</td>\n      <td>EV sales share</td>\n      <td>Cars</td>\n      <td>EV</td>\n      <td>2021</td>\n      <td>percent</td>\n      <td>8.644046</td>\n    </tr>\n    <tr>\n      <th>5670</th>\n      <td>Spain</td>\n      <td>Historical</td>\n      <td>EV sales share</td>\n      <td>Cars</td>\n      <td>EV</td>\n      <td>2021</td>\n      <td>percent</td>\n      <td>7.879327</td>\n    </tr>\n    <tr>\n      <th>2842</th>\n      <td>Greece</td>\n      <td>Historical</td>\n      <td>EV sales share</td>\n      <td>Cars</td>\n      <td>EV</td>\n      <td>2021</td>\n      <td>percent</td>\n      <td>6.897816</td>\n    </tr>\n    <tr>\n      <th>484</th>\n      <td>Canada</td>\n      <td>Historical</td>\n      <td>EV sales share</td>\n      <td>Cars</td>\n      <td>EV</td>\n      <td>2021</td>\n      <td>percent</td>\n      <td>6.598867</td>\n    </tr>\n    <tr>\n      <th>3839</th>\n      <td>Korea</td>\n      <td>Historical</td>\n      <td>EV sales share</td>\n      <td>Cars</td>\n      <td>EV</td>\n      <td>2021</td>\n      <td>percent</td>\n      <td>6.242408</td>\n    </tr>\n    <tr>\n      <th>4705</th>\n      <td>Other Europe</td>\n      <td>Historical</td>\n      <td>EV sales share</td>\n      <td>Cars</td>\n      <td>EV</td>\n      <td>2021</td>\n      <td>percent</td>\n      <td>4.886049</td>\n    </tr>\n  </tbody>\n</table>\n</div>"
     },
     "execution_count": 127,
     "metadata": {},
     "output_type": "execute_result"
    }
   ],
   "source": [
    "historicElectricVehiclesAdoption = historicElectricVehiclesAdoption.loc[historicElectricVehiclesAdoption['value'] > 4.561258]\n",
    "historicElectricVehiclesAdoption.sort_values(by = 'value', ascending = False)"
   ]
  },
  {
   "cell_type": "markdown",
   "metadata": {
    "id": "KFBGkcF-ReSG"
   },
   "source": []
  },
  {
   "cell_type": "code",
   "execution_count": 128,
   "metadata": {},
   "outputs": [
    {
     "data": {
      "text/plain": "region        21\ncategory      21\nparameter     21\nmode          21\npowertrain    21\nyear          21\nunit          21\nvalue         21\ndtype: int64"
     },
     "execution_count": 128,
     "metadata": {},
     "output_type": "execute_result"
    }
   ],
   "source": [
    "historicElectricVehiclesAdoption.count()"
   ]
  },
  {
   "attachments": {},
   "cell_type": "markdown",
   "metadata": {},
   "source": [
    "There is a total of 21 countries that have a higher adoption rate than the USA. Norway, Iceland, Sweden, Denmark, and Finland has the highest adoption rate, in that decending order"
   ]
  }
 ],
 "metadata": {
  "anaconda-cloud": {},
  "colab": {
   "collapsed_sections": [],
   "name": "Copy of pandas.ipynb",
   "provenance": []
  },
  "kernelspec": {
   "display_name": "Python 3",
   "language": "python",
   "name": "python3"
  },
  "language_info": {
   "codemirror_mode": {
    "name": "ipython",
    "version": 3
   },
   "file_extension": ".py",
   "mimetype": "text/x-python",
   "name": "python",
   "nbconvert_exporter": "python",
   "pygments_lexer": "ipython3",
   "version": "3.10.9"
  },
  "vscode": {
   "interpreter": {
    "hash": "e7370f93d1d0cde622a1f8e1c04877d8463912d04d973331ad4851f04de6915a"
   }
  }
 },
 "nbformat": 4,
 "nbformat_minor": 1
}
