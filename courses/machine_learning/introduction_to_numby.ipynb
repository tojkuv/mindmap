{
  "nbformat": 4,
  "nbformat_minor": 0,
  "metadata": {
    "colab": {
      "provenance": [],
      "authorship_tag": "ABX9TyNY4dDw51nxUZ8kn3wa77Zt",
      "include_colab_link": true
    },
    "kernelspec": {
      "name": "python3",
      "display_name": "Python 3"
    },
    "language_info": {
      "name": "python"
    },
    "accelerator": "GPU",
    "gpuClass": "standard"
  },
  "cells": [
    {
      "cell_type": "markdown",
      "metadata": {
        "id": "view-in-github",
        "colab_type": "text"
      },
      "source": [
        "<a href=\"https://colab.research.google.com/github/trulicups/mindmap/blob/main/courses/machine_learning/introduction_to_numby.ipynb\" target=\"_parent\"><img src=\"https://colab.research.google.com/assets/colab-badge.svg\" alt=\"Open In Colab\"/></a>"
      ]
    },
    {
      "cell_type": "code",
      "source": [
        "a5 = [[x + y * 5 for x in range(5)] for y in range(5)]\n",
        "\n",
        "a5"
      ],
      "metadata": {
        "colab": {
          "base_uri": "https://localhost:8080/"
        },
        "id": "vVTHhU6n_O2H",
        "outputId": "cb577b6f-d8b9-4d74-9de1-05aaee532254"
      },
      "execution_count": null,
      "outputs": [
        {
          "output_type": "execute_result",
          "data": {
            "text/plain": [
              "[[0, 1, 2, 3, 4],\n",
              " [5, 6, 7, 8, 9],\n",
              " [10, 11, 12, 13, 14],\n",
              " [15, 16, 17, 18, 19],\n",
              " [20, 21, 22, 23, 24]]"
            ]
          },
          "metadata": {},
          "execution_count": 11
        }
      ]
    },
    {
      "cell_type": "code",
      "execution_count": null,
      "metadata": {
        "id": "-grIo1tr9hak"
      },
      "outputs": [],
      "source": [
        "a1000 = [[x + y * 5 for x in range(1000)] for y in range(1000)]"
      ]
    },
    {
      "cell_type": "code",
      "source": [
        "def addToArray(i):\n",
        "  for x_index in range(1000):\n",
        "    for y_index in range(1000):\n",
        "      a1000[x_index][y_index] += i"
      ],
      "metadata": {
        "id": "3TBFqF_F_Y8S"
      },
      "execution_count": null,
      "outputs": []
    },
    {
      "cell_type": "code",
      "source": [
        "%time addToArray(10)"
      ],
      "metadata": {
        "colab": {
          "base_uri": "https://localhost:8080/"
        },
        "id": "ko80dUCq_1rG",
        "outputId": "45654c1e-a668-448f-d711-531b431b75a9"
      },
      "execution_count": null,
      "outputs": [
        {
          "output_type": "stream",
          "name": "stdout",
          "text": [
            "CPU times: user 122 ms, sys: 0 ns, total: 122 ms\n",
            "Wall time: 129 ms\n"
          ]
        }
      ]
    },
    {
      "cell_type": "code",
      "source": [
        "import numpy as np\n",
        "arr = np.arange(1000000).reshape((1000,1000))\n",
        "%time arr = arr + 10"
      ],
      "metadata": {
        "colab": {
          "base_uri": "https://localhost:8080/"
        },
        "id": "quSmzTEpB-Jr",
        "outputId": "e7b5ef91-1353-4537-834e-01621ddcd986"
      },
      "execution_count": null,
      "outputs": [
        {
          "output_type": "stream",
          "name": "stdout",
          "text": [
            "CPU times: user 3.28 ms, sys: 11 µs, total: 3.29 ms\n",
            "Wall time: 3.31 ms\n"
          ]
        }
      ]
    },
    {
      "cell_type": "code",
      "source": [
        "arr.mean()"
      ],
      "metadata": {
        "colab": {
          "base_uri": "https://localhost:8080/"
        },
        "id": "ArcepjTBCdzY",
        "outputId": "7e99c46b-7d65-43c5-b0db-ce0ae3e46467"
      },
      "execution_count": null,
      "outputs": [
        {
          "output_type": "execute_result",
          "data": {
            "text/plain": [
              "500009.5"
            ]
          },
          "metadata": {},
          "execution_count": 21
        }
      ]
    },
    {
      "cell_type": "code",
      "source": [
        "arr.std()"
      ],
      "metadata": {
        "colab": {
          "base_uri": "https://localhost:8080/"
        },
        "id": "yhGjAtzZCtFj",
        "outputId": "fea41e1f-1bc5-4a4f-9a5c-2b63808a20f3"
      },
      "execution_count": null,
      "outputs": [
        {
          "output_type": "execute_result",
          "data": {
            "text/plain": [
              "288675.1345946685"
            ]
          },
          "metadata": {},
          "execution_count": 22
        }
      ]
    },
    {
      "cell_type": "code",
      "source": [
        "arr.sum()"
      ],
      "metadata": {
        "colab": {
          "base_uri": "https://localhost:8080/"
        },
        "id": "TlzL8h8dCwbo",
        "outputId": "66eaf84d-451e-4cbc-9056-6ffa0ed5f25e"
      },
      "execution_count": null,
      "outputs": [
        {
          "output_type": "execute_result",
          "data": {
            "text/plain": [
              "500009500000"
            ]
          },
          "metadata": {},
          "execution_count": 23
        }
      ]
    },
    {
      "cell_type": "code",
      "source": [
        "np.zeros(10)"
      ],
      "metadata": {
        "colab": {
          "base_uri": "https://localhost:8080/"
        },
        "id": "AGKyw01LEGTp",
        "outputId": "3ea15e7b-22d4-4d5a-8900-95c715a2fd86"
      },
      "execution_count": null,
      "outputs": [
        {
          "output_type": "execute_result",
          "data": {
            "text/plain": [
              "array([0., 0., 0., 0., 0., 0., 0., 0., 0., 0.])"
            ]
          },
          "metadata": {},
          "execution_count": 24
        }
      ]
    },
    {
      "cell_type": "code",
      "source": [
        "np.ones((5, 2))"
      ],
      "metadata": {
        "colab": {
          "base_uri": "https://localhost:8080/"
        },
        "id": "lOzf42BpEKLI",
        "outputId": "946780f2-84b8-4796-b14b-1dfeadd97da3"
      },
      "execution_count": null,
      "outputs": [
        {
          "output_type": "execute_result",
          "data": {
            "text/plain": [
              "array([[1., 1.],\n",
              "       [1., 1.],\n",
              "       [1., 1.],\n",
              "       [1., 1.],\n",
              "       [1., 1.]])"
            ]
          },
          "metadata": {},
          "execution_count": 25
        }
      ]
    },
    {
      "cell_type": "code",
      "source": [
        "pythonArray = [[1, 2, 3], [4, 5, 6], [7, 8, 9]]\n",
        "\n",
        "numpyArray = np.array(pythonArray)\n",
        "\n",
        "numpyArray"
      ],
      "metadata": {
        "colab": {
          "base_uri": "https://localhost:8080/"
        },
        "id": "jYl-LRKeETho",
        "outputId": "d0911d0e-6c80-48a7-bcb8-c1fd88cb6693"
      },
      "execution_count": null,
      "outputs": [
        {
          "output_type": "execute_result",
          "data": {
            "text/plain": [
              "array([[1, 2, 3],\n",
              "       [4, 5, 6],\n",
              "       [7, 8, 9]])"
            ]
          },
          "metadata": {},
          "execution_count": 30
        }
      ]
    },
    {
      "cell_type": "code",
      "source": [
        "numpyArray[1][2]"
      ],
      "metadata": {
        "colab": {
          "base_uri": "https://localhost:8080/"
        },
        "id": "o5LporRoFCso",
        "outputId": "4476f890-836f-4e61-af8e-ca71016751f5"
      },
      "execution_count": null,
      "outputs": [
        {
          "output_type": "execute_result",
          "data": {
            "text/plain": [
              "6"
            ]
          },
          "metadata": {},
          "execution_count": 29
        }
      ]
    },
    {
      "cell_type": "code",
      "source": [
        "numpyArray[1, 2]"
      ],
      "metadata": {
        "colab": {
          "base_uri": "https://localhost:8080/"
        },
        "id": "n6EFZbseFID9",
        "outputId": "d7191be2-5896-427e-d193-e3f026e87792"
      },
      "execution_count": null,
      "outputs": [
        {
          "output_type": "execute_result",
          "data": {
            "text/plain": [
              "6"
            ]
          },
          "metadata": {},
          "execution_count": 31
        }
      ]
    },
    {
      "cell_type": "code",
      "source": [
        "# python slices\n",
        "a = [10, 20, 30, 40, 50, 60]\n",
        "b = a[1:4] # a slice containing elements from indices 1 through 4, excluding the element at index 4\n",
        "\n",
        "b"
      ],
      "metadata": {
        "colab": {
          "base_uri": "https://localhost:8080/"
        },
        "id": "CTy6In6GFQkz",
        "outputId": "96285ac4-90e4-4efa-d2ac-b9992d788a75"
      },
      "execution_count": null,
      "outputs": [
        {
          "output_type": "execute_result",
          "data": {
            "text/plain": [
              "[20, 30, 40]"
            ]
          },
          "metadata": {},
          "execution_count": 39
        }
      ]
    },
    {
      "cell_type": "code",
      "source": [
        "numpy_a = np.array(a) # numpy copies by value and not by reference\n",
        "\n",
        "numpy_b = numpy_a[1:4] # same logic as above\n",
        "\n",
        "numpy_b"
      ],
      "metadata": {
        "colab": {
          "base_uri": "https://localhost:8080/"
        },
        "id": "PK3e6tsLGJbL",
        "outputId": "7f0ea1fb-3611-4d98-f54e-2329ce413c26"
      },
      "execution_count": null,
      "outputs": [
        {
          "output_type": "execute_result",
          "data": {
            "text/plain": [
              "array([20, 30, 40])"
            ]
          },
          "metadata": {},
          "execution_count": 51
        }
      ]
    },
    {
      "cell_type": "markdown",
      "source": [
        "python copies variables by **value**, not by reference"
      ],
      "metadata": {
        "id": "QT3-ZdEfJmNO"
      }
    },
    {
      "cell_type": "code",
      "source": [
        "b[1] = b[1] + 5"
      ],
      "metadata": {
        "id": "6YtQMjFMHDZX"
      },
      "execution_count": null,
      "outputs": []
    },
    {
      "cell_type": "code",
      "source": [
        "b"
      ],
      "metadata": {
        "colab": {
          "base_uri": "https://localhost:8080/"
        },
        "id": "FWZzCXSQJgum",
        "outputId": "3678d01d-519c-4477-c7f8-2f5177fcc2f9"
      },
      "execution_count": null,
      "outputs": [
        {
          "output_type": "execute_result",
          "data": {
            "text/plain": [
              "[20, 35, 40]"
            ]
          },
          "metadata": {},
          "execution_count": 41
        }
      ]
    },
    {
      "cell_type": "code",
      "source": [
        "a"
      ],
      "metadata": {
        "colab": {
          "base_uri": "https://localhost:8080/"
        },
        "id": "YP6VOM9TJif6",
        "outputId": "ebe64437-dfb8-4ac7-fd17-4d1ba307e8c1"
      },
      "execution_count": null,
      "outputs": [
        {
          "output_type": "execute_result",
          "data": {
            "text/plain": [
              "[10, 20, 30, 40, 50, 60]"
            ]
          },
          "metadata": {},
          "execution_count": 42
        }
      ]
    },
    {
      "cell_type": "markdown",
      "source": [
        "numpy copies variables by **reference**, not by value"
      ],
      "metadata": {
        "id": "ShVPdHH4KO8q"
      }
    },
    {
      "cell_type": "code",
      "source": [
        "numpy_b[1] = numpy_b[1] + 5"
      ],
      "metadata": {
        "id": "08aJYKsiJy2D"
      },
      "execution_count": null,
      "outputs": []
    },
    {
      "cell_type": "code",
      "source": [
        "numpy_b"
      ],
      "metadata": {
        "colab": {
          "base_uri": "https://localhost:8080/"
        },
        "id": "KOGZF5DcJ4V1",
        "outputId": "ea638a1d-90e6-4ce2-de3e-05c556ae73ee"
      },
      "execution_count": null,
      "outputs": [
        {
          "output_type": "execute_result",
          "data": {
            "text/plain": [
              "array([20, 35, 40])"
            ]
          },
          "metadata": {},
          "execution_count": 53
        }
      ]
    },
    {
      "cell_type": "code",
      "source": [
        "numpy_a # the original ndarray is altered when the derived slice is altered"
      ],
      "metadata": {
        "colab": {
          "base_uri": "https://localhost:8080/"
        },
        "id": "ILPSsDHfJ523",
        "outputId": "d0bd41e5-a72c-4a44-ebb2-9b255039f075"
      },
      "execution_count": null,
      "outputs": [
        {
          "output_type": "execute_result",
          "data": {
            "text/plain": [
              "array([10, 20, 35, 40, 50, 60])"
            ]
          },
          "metadata": {},
          "execution_count": 54
        }
      ]
    },
    {
      "cell_type": "markdown",
      "source": [
        "## simple numpy ndarray functions"
      ],
      "metadata": {
        "id": "OCax3zZZLvqe"
      }
    },
    {
      "cell_type": "markdown",
      "source": [
        "### unary functions"
      ],
      "metadata": {
        "id": "Kb_8j6-KNbcM"
      }
    },
    {
      "cell_type": "code",
      "source": [
        "# absolute value\n",
        "arr = np.array([-2, 12, -25, 0])\n",
        "arr2 = np.abs(arr)\n",
        "arr2"
      ],
      "metadata": {
        "colab": {
          "base_uri": "https://localhost:8080/"
        },
        "id": "4PoXlzguLL0r",
        "outputId": "f896b6fc-888a-42f3-90ea-c1ed1ca6d298"
      },
      "execution_count": null,
      "outputs": [
        {
          "output_type": "execute_result",
          "data": {
            "text/plain": [
              "array([ 2, 12, 25,  0])"
            ]
          },
          "metadata": {},
          "execution_count": 55
        }
      ]
    },
    {
      "cell_type": "code",
      "source": [
        "# square\n",
        "arr = np.array([-1, 2, -3, 4])\n",
        "arr2 = np.square(arr)\n",
        "arr2"
      ],
      "metadata": {
        "colab": {
          "base_uri": "https://localhost:8080/"
        },
        "id": "1bQPIuySLrOb",
        "outputId": "eac5b06b-f4a5-41bb-c2a5-71554200ccc0"
      },
      "execution_count": null,
      "outputs": [
        {
          "output_type": "execute_result",
          "data": {
            "text/plain": [
              "array([ 1,  4,  9, 16])"
            ]
          },
          "metadata": {},
          "execution_count": 57
        }
      ]
    },
    {
      "cell_type": "code",
      "source": [
        "# square_root\n",
        "arr = np.array([[4, 9], [16, 25]])\n",
        "arr2 = np.sqrt(arr)\n",
        "arr2"
      ],
      "metadata": {
        "colab": {
          "base_uri": "https://localhost:8080/"
        },
        "id": "86NbCBjUMZGA",
        "outputId": "31889d16-ba5f-449a-8a0f-dd7c751e9bf1"
      },
      "execution_count": null,
      "outputs": [
        {
          "output_type": "execute_result",
          "data": {
            "text/plain": [
              "array([[2., 3.],\n",
              "       [4., 5.]])"
            ]
          },
          "metadata": {},
          "execution_count": 58
        }
      ]
    },
    {
      "cell_type": "markdown",
      "source": [
        "### binary functions"
      ],
      "metadata": {
        "id": "Q4gRQasBNL-I"
      }
    },
    {
      "cell_type": "code",
      "source": [
        "# addition\n",
        "arr1 = np.array([[10, 20], [30, 40]])\n",
        "arr2 = np.array([[1, 2], [3, 4]])\n",
        "np.add(arr1, arr2)"
      ],
      "metadata": {
        "colab": {
          "base_uri": "https://localhost:8080/"
        },
        "id": "I1Uo7TdBNJSW",
        "outputId": "e6be08e7-63ae-4507-8030-5ac08e70c9ec"
      },
      "execution_count": null,
      "outputs": [
        {
          "output_type": "execute_result",
          "data": {
            "text/plain": [
              "array([[11, 22],\n",
              "       [33, 44]])"
            ]
          },
          "metadata": {},
          "execution_count": 61
        }
      ]
    },
    {
      "cell_type": "code",
      "source": [
        "# subtraction\n",
        "np.subtract(arr1, arr2)"
      ],
      "metadata": {
        "colab": {
          "base_uri": "https://localhost:8080/"
        },
        "id": "fNAGD5EdRpr9",
        "outputId": "2f39aab5-c1a2-4bb6-a3f9-92dfe5fd7804"
      },
      "execution_count": null,
      "outputs": [
        {
          "output_type": "execute_result",
          "data": {
            "text/plain": [
              "array([[ 9, 18],\n",
              "       [27, 36]])"
            ]
          },
          "metadata": {},
          "execution_count": 62
        }
      ]
    },
    {
      "cell_type": "code",
      "source": [
        "# multiplication\n",
        "np.multiply(arr1, arr2)"
      ],
      "metadata": {
        "colab": {
          "base_uri": "https://localhost:8080/"
        },
        "id": "8feDWkG_R5V3",
        "outputId": "eb3f9055-6484-45f3-a1e4-b80f1b4221e3"
      },
      "execution_count": null,
      "outputs": [
        {
          "output_type": "execute_result",
          "data": {
            "text/plain": [
              "array([[ 10,  40],\n",
              "       [ 90, 160]])"
            ]
          },
          "metadata": {},
          "execution_count": 64
        }
      ]
    },
    {
      "cell_type": "code",
      "source": [
        "# division\n",
        "np.divide(arr1, arr2)"
      ],
      "metadata": {
        "colab": {
          "base_uri": "https://localhost:8080/"
        },
        "id": "kYOXYWr5SELj",
        "outputId": "11824ab8-1272-4a84-d488-4422e24c4a75"
      },
      "execution_count": null,
      "outputs": [
        {
          "output_type": "execute_result",
          "data": {
            "text/plain": [
              "array([[10., 10.],\n",
              "       [10., 10.]])"
            ]
          },
          "metadata": {},
          "execution_count": 65
        }
      ]
    },
    {
      "cell_type": "code",
      "source": [
        "# maximum\n",
        "arr1 = np.array([[10, 2], [3, 40]])\n",
        "arr2 = np.array([[1, 20], [30, 4]])\n",
        "np.maximum(arr1, arr2)"
      ],
      "metadata": {
        "colab": {
          "base_uri": "https://localhost:8080/"
        },
        "id": "hMmZv_zuSjLN",
        "outputId": "3830e38f-282a-4b04-fc92-e14257fd8e31"
      },
      "execution_count": null,
      "outputs": [
        {
          "output_type": "execute_result",
          "data": {
            "text/plain": [
              "array([[10, 20],\n",
              "       [30, 40]])"
            ]
          },
          "metadata": {},
          "execution_count": 66
        }
      ]
    },
    {
      "cell_type": "markdown",
      "source": [
        "there are many more numpy functions"
      ],
      "metadata": {
        "id": "45Aqfw7ESfL6"
      }
    },
    {
      "cell_type": "markdown",
      "source": [
        "## numpy uber example"
      ],
      "metadata": {
        "id": "sxrqps2VTTij"
      }
    },
    {
      "cell_type": "code",
      "source": [
        "driverLocations = np.array([[4, 5], [6, 6], [3, 1], [9, 5]])\n",
        "driverLocations"
      ],
      "metadata": {
        "colab": {
          "base_uri": "https://localhost:8080/"
        },
        "id": "z-BpF2CRS7y1",
        "outputId": "b2e04ce9-b9de-4e8c-b3ef-2b75c30535fa"
      },
      "execution_count": null,
      "outputs": [
        {
          "output_type": "execute_result",
          "data": {
            "text/plain": [
              "array([[4, 5],\n",
              "       [6, 6],\n",
              "       [3, 1],\n",
              "       [9, 5]])"
            ]
          },
          "metadata": {},
          "execution_count": 70
        }
      ]
    },
    {
      "cell_type": "code",
      "source": [
        "drivers = np.array([\"personA\", \"personB\", \"personC\", \"personD\"])"
      ],
      "metadata": {
        "id": "gh49odUfUD2p"
      },
      "execution_count": null,
      "outputs": []
    },
    {
      "cell_type": "code",
      "source": [
        "customer = np.array([6, 3])"
      ],
      "metadata": {
        "id": "WpJDxnyMUiIh"
      },
      "execution_count": null,
      "outputs": []
    },
    {
      "cell_type": "code",
      "source": [
        "driverDistances = driverLocations - customer\n",
        "driverDistances"
      ],
      "metadata": {
        "colab": {
          "base_uri": "https://localhost:8080/"
        },
        "id": "T1o14apKUsLZ",
        "outputId": "37e11895-2cad-477b-d645-2209a0c58c95"
      },
      "execution_count": null,
      "outputs": [
        {
          "output_type": "execute_result",
          "data": {
            "text/plain": [
              "array([[-2,  2],\n",
              "       [ 0,  3],\n",
              "       [-3, -2],\n",
              "       [ 3,  2]])"
            ]
          },
          "metadata": {},
          "execution_count": 81
        }
      ]
    },
    {
      "cell_type": "code",
      "source": [
        "driverDistances = np.abs(driverDistances).sum(axis = 1)\n",
        "driverDistances"
      ],
      "metadata": {
        "colab": {
          "base_uri": "https://localhost:8080/"
        },
        "id": "axhvJ-R7Ve6f",
        "outputId": "b161facb-c5f9-4919-f313-3abbc422bdb3"
      },
      "execution_count": null,
      "outputs": [
        {
          "output_type": "execute_result",
          "data": {
            "text/plain": [
              "array([4, 3, 5, 5])"
            ]
          },
          "metadata": {},
          "execution_count": 82
        }
      ]
    },
    {
      "cell_type": "code",
      "source": [
        "sorted = np.argsort(driverDistances) # returns an array of indices sorted by the values referenced by the indices\n",
        "sorted"
      ],
      "metadata": {
        "colab": {
          "base_uri": "https://localhost:8080/"
        },
        "id": "Q89AgMyHWP66",
        "outputId": "7f433123-f24b-4ef9-a56c-f266581fb56b"
      },
      "execution_count": null,
      "outputs": [
        {
          "output_type": "execute_result",
          "data": {
            "text/plain": [
              "array([1, 0, 2, 3])"
            ]
          },
          "metadata": {},
          "execution_count": 84
        }
      ]
    },
    {
      "cell_type": "code",
      "source": [
        "drivers[sorted[0]]"
      ],
      "metadata": {
        "colab": {
          "base_uri": "https://localhost:8080/",
          "height": 35
        },
        "id": "Xj9X9hQ9XBAI",
        "outputId": "342ccf0c-0d5c-41ee-d0f3-6cded47d16b6"
      },
      "execution_count": null,
      "outputs": [
        {
          "output_type": "execute_result",
          "data": {
            "text/plain": [
              "'personB'"
            ],
            "application/vnd.google.colaboratory.intrinsic+json": {
              "type": "string"
            }
          },
          "metadata": {},
          "execution_count": 85
        }
      ]
    },
    {
      "cell_type": "code",
      "source": [
        "def findDriver(distanceArr, driversArr, customerArr):\n",
        "  result = ''\n",
        "\n",
        "  xydiff = distanceArr - customerArr\n",
        "  distanceArr = np.abs(xydiff).sum(axis = 1)\n",
        "\n",
        "  sort = np.argsort(distanceArr)\n",
        "  \n",
        "  result = drivers[sort[0]]\n",
        "\n",
        "  return result\n",
        "\n",
        "print(findDriver(driverLocations, drivers, customer)) # this should return `personB`"
      ],
      "metadata": {
        "colab": {
          "base_uri": "https://localhost:8080/"
        },
        "id": "UjgOa9DeXQVT",
        "outputId": "83a63c95-5a90-465d-b7de-781c70102735"
      },
      "execution_count": null,
      "outputs": [
        {
          "output_type": "stream",
          "name": "stdout",
          "text": [
            "personB\n"
          ]
        }
      ]
    },
    {
      "cell_type": "code",
      "source": [
        "customers = np.array([[4, 5, 2, 1, 3],\n",
        "                      [3, 1, 5, 4, 2],\n",
        "                      [5, 5, 2, 2, 3],\n",
        "                      [4, 1, 4, 4, 1], \n",
        "                      [1, 1, 5, 4, 1],\n",
        "                      [4, 5, 3, 3, 1]])\n",
        "\n",
        "customerNames = np.array([\"Ann\", \"Ben\", 'Jordyn', \"Sam\", \"Hyunseo\", \"Ahmed\"])\n",
        "\n",
        "mikaela = np.array([3, 2, 4, 5, 4])\n",
        "patrik = np.array([4, 5, 1, 2, 3])\n"
      ],
      "metadata": {
        "id": "iswL40QrkIcg"
      },
      "execution_count": null,
      "outputs": []
    },
    {
      "cell_type": "code",
      "source": [
        "def findClosest(customers, customerNames, evalCustomer):\n",
        "  arrDiff = customers - evalCustomer\n",
        "\n",
        "  distanceArr = np.abs(arrDiff).sum(axis = 1)\n",
        "\n",
        "  sorted = np.argsort(distanceArr)\n",
        "\n",
        "  return customerNames[sorted[0]]"
      ],
      "metadata": {
        "id": "BkfIPHknk7kw"
      },
      "execution_count": null,
      "outputs": []
    },
    {
      "cell_type": "code",
      "source": [
        "findClosest(customers, customerNames, mikaela)"
      ],
      "metadata": {
        "colab": {
          "base_uri": "https://localhost:8080/",
          "height": 35
        },
        "id": "6Wo78baUmeA2",
        "outputId": "f7017144-1f27-4972-e73a-1a1000b754bb"
      },
      "execution_count": null,
      "outputs": [
        {
          "output_type": "execute_result",
          "data": {
            "text/plain": [
              "'Ben'"
            ],
            "application/vnd.google.colaboratory.intrinsic+json": {
              "type": "string"
            }
          },
          "metadata": {},
          "execution_count": 94
        }
      ]
    },
    {
      "cell_type": "code",
      "source": [
        "findClosest(customers, customerNames, patrik)"
      ],
      "metadata": {
        "colab": {
          "base_uri": "https://localhost:8080/",
          "height": 35
        },
        "id": "iqBMpqcQmqnx",
        "outputId": "7a2401be-dd58-47d3-9fb9-139cd5106298"
      },
      "execution_count": null,
      "outputs": [
        {
          "output_type": "execute_result",
          "data": {
            "text/plain": [
              "'Ann'"
            ],
            "application/vnd.google.colaboratory.intrinsic+json": {
              "type": "string"
            }
          },
          "metadata": {},
          "execution_count": 96
        }
      ]
    },
    {
      "cell_type": "code",
      "source": [
        "locations = np.array([[4, 5], [6, 6], [3, 1], [9, 5]])\n",
        "drones = np.array([\"wing_1a\", \"wing_2a\", \"wing_3a\", \"wing_4a\"])\n",
        "customer = np.array([6, 3])\n",
        "\n",
        "def euclidean(droneLocation, droneNames, x):\n",
        "  result = ''\n",
        "\n",
        "  distanceArr = np.square((droneLocation - x)).sum(axis = 1)\n",
        "\n",
        "  result = droneNames[np.argsort(distanceArr)[0]]\n",
        "\n",
        "  return result\n",
        "\n",
        "euclidean(locations, drones, customer)"
      ],
      "metadata": {
        "colab": {
          "base_uri": "https://localhost:8080/",
          "height": 52
        },
        "id": "xg7EUN0dntcQ",
        "outputId": "0270bcd1-b820-45a4-9a95-c60913409d39"
      },
      "execution_count": null,
      "outputs": [
        {
          "output_type": "stream",
          "name": "stdout",
          "text": [
            "[ 8  9 13 13]\n"
          ]
        },
        {
          "output_type": "execute_result",
          "data": {
            "text/plain": [
              "'wing_1a'"
            ],
            "application/vnd.google.colaboratory.intrinsic+json": {
              "type": "string"
            }
          },
          "metadata": {},
          "execution_count": 100
        }
      ]
    }
  ]
}