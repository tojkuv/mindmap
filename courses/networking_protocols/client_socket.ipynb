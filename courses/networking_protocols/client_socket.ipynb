{
 "cells": [
  {
   "cell_type": "code",
   "execution_count": 9,
   "metadata": {},
   "outputs": [
    {
     "name": "stdout",
     "output_type": "stream",
     "text": [
      "<socket.socket fd=78, family=AddressFamily.AF_INET, type=SocketKind.SOCK_STREAM, proto=0, laddr=('0.0.0.0', 0)>\n"
     ]
    },
    {
     "ename": "BlockingIOError",
     "evalue": "[Errno 115] Operation now in progress",
     "output_type": "error",
     "traceback": [
      "\u001b[0;31m---------------------------------------------------------------------------\u001b[0m",
      "\u001b[0;31mBlockingIOError\u001b[0m                           Traceback (most recent call last)",
      "Cell \u001b[0;32mIn[9], line 88\u001b[0m\n\u001b[1;32m     85\u001b[0m sel\u001b[39m.\u001b[39mregister(clientSocket, selectors\u001b[39m.\u001b[39mEVENT_WRITE, data \u001b[39m=\u001b[39m data)\n\u001b[1;32m     87\u001b[0m \u001b[39m# connect to the server\u001b[39;00m\n\u001b[0;32m---> 88\u001b[0m clientSocket\u001b[39m.\u001b[39;49mconnect((\u001b[39m\"\u001b[39;49m\u001b[39m131.94.128.43\u001b[39;49m\u001b[39m\"\u001b[39;49m, \u001b[39m54634\u001b[39;49m))\n\u001b[1;32m     91\u001b[0m \u001b[39m# read the events from the read and write events from the connection\u001b[39;00m\n\u001b[1;32m     92\u001b[0m events \u001b[39m=\u001b[39m sel\u001b[39m.\u001b[39mselect()\n",
      "\u001b[0;31mBlockingIOError\u001b[0m: [Errno 115] Operation now in progress"
     ]
    }
   ],
   "source": [
    "import argparse\n",
    "import socket\n",
    "import selectors\n",
    "import sys\n",
    "\n",
    "sel = selectors.DefaultSelector()\n",
    "\n",
    "counter = 0\n",
    "\n",
    "class ClientData:\n",
    "    def __init__(self, addr):\n",
    "        self.addr = addr\n",
    "        self.inb = b''\n",
    "        self.outb = b''\n",
    "\n",
    "    def __call__(self, addr, inb, outb):\n",
    "        print(\"client data was called\")\n",
    "\n",
    "\n",
    "def connect(key, mask):\n",
    "    # TODO: implement cli arguments\n",
    "    print(\"socket is not connected\")\n",
    "    key.fileobj.connect((\"131.94.128.43\", 54634))\n",
    "    print(\"socket is connected\")\n",
    "\n",
    "\n",
    "def serviceConnection(key, mask):\n",
    "    sock = key.fileobj\n",
    "    data = key.data\n",
    "\n",
    "    #TODO: wait for the client to receive 2 \"accio\\r\\n\" messages\n",
    "    if mask & selectors.EVENT_READ:\n",
    "        # TODO: implement 10 second timeout\n",
    "        try:\n",
    "            recv_data = sock.recv(1024)\n",
    "            if recv_data:\n",
    "                data.outb += recv_data\n",
    "            else:\n",
    "                print('closing connection to', data.addr)\n",
    "                sel.unregister(sock)\n",
    "                sock.close()\n",
    "        except KeyError:\n",
    "            sys.stderr.write('ERROR: ')\n",
    "    \n",
    "    # TODO: sent packages in 10_000 bytes\n",
    "    if mask & selectors.EVENT_WRITE:\n",
    "        if data.outb:\n",
    "            print('echoing', repr(data.outb), 'to', data.addr)\n",
    "            # TODO: implement 10 second timeout\n",
    "            try:\n",
    "                sent = sock.send(data.outb)\n",
    "                data.outb = data.outb[sent:]\n",
    "            except KeyError:\n",
    "                sys.stderr.write('ERROR: ')\n",
    "\n",
    "\n",
    "\n",
    "# TODO: implement commandline \"<HOSTNAME-OR-IP> <PORT> <FILENAME>\"\n",
    "parser = argparse.ArgumentParser(\n",
    "                    prog = 'ProgramName',\n",
    "                    description = 'What the program does',\n",
    "                    epilog = 'Text at the bottom of help')\n",
    "\n",
    "\n",
    "#TODO: exception handing for the hostname and port from the cli\n",
    "# the file is always correct\n",
    "# valid range for TCP port numbers (1-65535)\n",
    "# ports are only 2 bytes \n",
    "try:\n",
    "    pass\n",
    "except KeyError:\n",
    "    sys.stderr.write(\"ERROR: hostname or port is incorrect\")\n",
    "\n",
    "\n",
    "# TODO: change the client socket to blocking\n",
    "with socket.socket(socket.AF_INET, socket.SOCK_STREAM) as clientSocket:\n",
    "    clientSocket.setsockopt(socket.SOL_SOCKET, socket.SO_REUSEADDR, 1)\n",
    "    print(clientSocket)\n",
    "\n",
    "    # set socket to be non-blocking\n",
    "    clientSocket.setblocking(False)\n",
    "\n",
    "    # register the client socket with a clientData object\n",
    "    data = ClientData(\"131.94.128.43\")\n",
    "    sel.register(clientSocket, selectors.EVENT_WRITE, data = data)\n",
    "\n",
    "    # connect to the server\n",
    "    clientSocket.connect((\"131.94.128.43\", 54634))\n",
    "\n",
    "    # read the `read` and `write` events from the connection\n",
    "    events = sel.select()\n",
    "    while True:\n",
    "        for key, mask in events:\n",
    "            callback = key.data\n",
    "            callback(key, mask)"
   ]
  },
  {
   "cell_type": "code",
   "execution_count": 35,
   "metadata": {},
   "outputs": [
    {
     "ename": "KeyboardInterrupt",
     "evalue": "",
     "output_type": "error",
     "traceback": [
      "\u001b[0;31m---------------------------------------------------------------------------\u001b[0m",
      "\u001b[0;31mKeyboardInterrupt\u001b[0m                         Traceback (most recent call last)",
      "Cell \u001b[0;32mIn[35], line 29\u001b[0m\n\u001b[1;32m     26\u001b[0m sel\u001b[39m.\u001b[39mregister(sock, selectors\u001b[39m.\u001b[39mEVENT_READ, accept)\n\u001b[1;32m     28\u001b[0m \u001b[39mwhile\u001b[39;00m \u001b[39mTrue\u001b[39;00m:\n\u001b[0;32m---> 29\u001b[0m     events \u001b[39m=\u001b[39m sel\u001b[39m.\u001b[39;49mselect()\n\u001b[1;32m     30\u001b[0m     \u001b[39mfor\u001b[39;00m key, mask \u001b[39min\u001b[39;00m events:\n\u001b[1;32m     31\u001b[0m         callback \u001b[39m=\u001b[39m key\u001b[39m.\u001b[39mdata\n",
      "File \u001b[0;32m/usr/lib64/python3.10/selectors.py:469\u001b[0m, in \u001b[0;36mEpollSelector.select\u001b[0;34m(self, timeout)\u001b[0m\n\u001b[1;32m    467\u001b[0m ready \u001b[39m=\u001b[39m []\n\u001b[1;32m    468\u001b[0m \u001b[39mtry\u001b[39;00m:\n\u001b[0;32m--> 469\u001b[0m     fd_event_list \u001b[39m=\u001b[39m \u001b[39mself\u001b[39;49m\u001b[39m.\u001b[39;49m_selector\u001b[39m.\u001b[39;49mpoll(timeout, max_ev)\n\u001b[1;32m    470\u001b[0m \u001b[39mexcept\u001b[39;00m \u001b[39mInterruptedError\u001b[39;00m:\n\u001b[1;32m    471\u001b[0m     \u001b[39mreturn\u001b[39;00m ready\n",
      "\u001b[0;31mKeyboardInterrupt\u001b[0m: "
     ]
    }
   ],
   "source": [
    "import selectors\n",
    "import socket\n",
    "\n",
    "sel = selectors.DefaultSelector()\n",
    "\n",
    "def accept(sock, mask):\n",
    "    conn, addr = sock.accept()  # Should be ready\n",
    "    print('accepted', conn, 'from', addr)\n",
    "    conn.setblocking(False)\n",
    "    sel.register(conn, selectors.EVENT_READ, read)\n",
    "\n",
    "def read(conn, mask):\n",
    "    data = conn.recv(1000)  # Should be ready\n",
    "    if data:\n",
    "        print('echoing', repr(data), 'to', conn)\n",
    "        conn.send(data)  # Hope it won't block\n",
    "    else:\n",
    "        print('closing', conn)\n",
    "        sel.unregister(conn)\n",
    "        conn.close()\n",
    "\n",
    "sock = socket.socket()\n",
    "sock.bind(('localhost', 1234))\n",
    "sock.listen(100)\n",
    "sock.setblocking(False)\n",
    "sel.register(sock, selectors.EVENT_READ, accept)\n",
    "\n",
    "while True:\n",
    "    events = sel.select()\n",
    "    for key, mask in events:\n",
    "        callback = key.data\n",
    "        callback(key.fileobj, mask)"
   ]
  }
 ],
 "metadata": {
  "anaconda-cloud": {},
  "colab": {
   "collapsed_sections": [],
   "name": "Intro-to-sklearn-2022.ipynb",
   "provenance": []
  },
  "kernelspec": {
   "display_name": "Python 3",
   "language": "python",
   "name": "python3"
  },
  "language_info": {
   "codemirror_mode": {
    "name": "ipython",
    "version": 3
   },
   "file_extension": ".py",
   "mimetype": "text/x-python",
   "name": "python",
   "nbconvert_exporter": "python",
   "pygments_lexer": "ipython3",
   "version": "3.10.9 (main, Dec  7 2022, 00:00:00) [GCC 12.2.1 20221121 (Red Hat 12.2.1-4)]"
  },
  "vscode": {
   "interpreter": {
    "hash": "e7370f93d1d0cde622a1f8e1c04877d8463912d04d973331ad4851f04de6915a"
   }
  }
 },
 "nbformat": 4,
 "nbformat_minor": 1
}
