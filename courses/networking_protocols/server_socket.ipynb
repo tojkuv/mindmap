{
 "cells": [
  {
   "cell_type": "code",
   "execution_count": null,
   "metadata": {},
   "outputs": [],
   "source": [
    "import socket\n",
    "\n",
    "HOST = '127.0.0.1'\n",
    "PORT = 4326\n",
    "\n",
    "\n",
    "\n",
    "with socket.socket(socket.AF_INET, socket.SOCK_STREAM) as serverSocket:\n",
    "    # allows the socket's methods to be non-blocking\n",
    "    serverSocket.setsockopt(socket.SOL_SOCKET, socket.SO_REUSEADDR, 1)\n",
    "    print(serverSocket)\n",
    "\n",
    "\n",
    "    # local address and port binding on server\n",
    "    serverSocket.bind((HOST, PORT))\n",
    "\n",
    "    # socket connection will only listen for one connection\n",
    "    serverSocket.listen(5)\n",
    "\n",
    "    # set socket to be non-blocking\n",
    "    serverSocket.setblocking(False)\n",
    "\n",
    "    print(\"waiting for incomming connections on \", serverSocket.getsockname())\n",
    "\n",
    "    # TODO: implement the select method\n",
    "\n",
    "    # `accept` is an async method\n",
    "    acceptConnection(serverSocket)\n",
    "\n",
    "    with clientSocket:\n",
    "        print(\"accepted connection from: \", clientAddress)\n",
    "\n",
    "        while True:\n",
    "            # it is not guaranteed that all data transfered through tcp will arrive at its destination\n",
    "            # `recv` is an async function\n",
    "            # TODO: implement error handing (timeout event)\n",
    "            data = clientSocket.recv(1024)\n",
    "\n",
    "            # check that data was received\n",
    "            print(\"received %d bytes from the client\" % len(data))\n",
    "\n",
    "            if not data:\n",
    "                break\n",
    "\n",
    "            # TODO: implement error handing (timeout event)\n",
    "            len = clientSocket.send(data) # sends the same data back\n",
    "            print(\"sent %d bytes back to the client server\" % len)"
   ]
  },
  {
   "cell_type": "code",
   "execution_count": null,
   "metadata": {},
   "outputs": [],
   "source": [
    "# bytes formatting\n",
    "\n",
    "import struct\n",
    "\n",
    "var = struct.pack('!s', b\"client message\\r\\n\")\n",
    "print(var)"
   ]
  },
  {
   "cell_type": "code",
   "execution_count": 3,
   "metadata": {},
   "outputs": [],
   "source": [
    "import selectors\n",
    "\n",
    "sel = selectors.DefaultSelectors()\n",
    "\n",
    "class ClientData:\n",
    "    def __init__(self, addr):\n",
    "        self.addr = addr\n",
    "        self.inb = b''\n",
    "        self.outb = b''\n",
    "\n",
    "# use instead of the accept\n",
    "def acceptConnection(sock):\n",
    "    conn, addr = sock.accept()\n",
    "    print('accepted connection from %s' % addr)\n",
    "    \n",
    "    conn.setblocking(False)\n",
    "    \n",
    "    # concurrent data proccesing\n",
    "    data = ClientData(addr)\n",
    "    events = selectors.EVENT_READ | selectors.EVENT_WRITE\n",
    "    sel.register(conn, events, data = data)\n",
    "    \n",
    "def serviceConnection(key, mask):\n",
    "    sock = key.fileobj\n",
    "    data = key.data\n",
    "\n",
    "    if mask & selectors.EVENT_READ:\n",
    "        recv_data = sock.recv(1024)\n",
    "        if recv_data:\n",
    "            data.outb += recv_data\n",
    "        else:\n",
    "            print('closing connection to', data.addr)\n",
    "            sel.unregister(sock)\n",
    "            sock.close()\n",
    "    \n",
    "    if mask & selectors.EVENT_WRITE:\n",
    "        if data.outb:\n",
    "            print('echoing', repr(data.outb), 'to', data.addr)\n",
    "            sent = sock.send(data.outb)\n",
    "            data.outb = data.outb[sent:]"
   ]
  },
  {
   "cell_type": "code",
   "execution_count": null,
   "metadata": {},
   "outputs": [],
   "source": [
    "# connections concurrency options:\n",
    "# - threading - race conditions increase complexity\n",
    "# - select() - explicit flows, no race conditions\n",
    "\n",
    "import select\n",
    "\n",
    "\n",
    "sel = selectors.DefaultSelectors()\n",
    "sel.register(serverSocket, selectors.EVENT_READ, data = None)\n",
    "\n",
    "while True:\n",
    "    events = sel.select(timeout = 10)\n",
    "\n",
    "    for key, mask in events:\n",
    "        if key.data is None:\n",
    "            acceptConnection(key.fileobt)\n",
    "        else:\n",
    "            serviceConnection(key, mask)"
   ]
  }
 ],
 "metadata": {
  "anaconda-cloud": {},
  "colab": {
   "collapsed_sections": [],
   "name": "Intro-to-sklearn-2022.ipynb",
   "provenance": []
  },
  "kernelspec": {
   "display_name": "Python 3",
   "language": "python",
   "name": "python3"
  },
  "language_info": {
   "codemirror_mode": {
    "name": "ipython",
    "version": 3
   },
   "file_extension": ".py",
   "mimetype": "text/x-python",
   "name": "python",
   "nbconvert_exporter": "python",
   "pygments_lexer": "ipython3",
   "version": "3.10.9 (main, Dec  7 2022, 00:00:00) [GCC 12.2.1 20221121 (Red Hat 12.2.1-4)]"
  },
  "vscode": {
   "interpreter": {
    "hash": "e7370f93d1d0cde622a1f8e1c04877d8463912d04d973331ad4851f04de6915a"
   }
  }
 },
 "nbformat": 4,
 "nbformat_minor": 1
}
