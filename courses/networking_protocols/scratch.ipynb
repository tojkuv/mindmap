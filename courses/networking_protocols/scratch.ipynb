{
 "cells": [
  {
   "cell_type": "code",
   "execution_count": 95,
   "metadata": {},
   "outputs": [
    {
     "data": {
      "text/plain": [
       "'ab'"
      ]
     },
     "execution_count": 95,
     "metadata": {},
     "output_type": "execute_result"
    }
   ],
   "source": [
    "'a' 'b'"
   ]
  },
  {
   "cell_type": "code",
   "execution_count": 96,
   "metadata": {},
   "outputs": [
    {
     "data": {
      "text/plain": [
       "'NaNaNaNa\\n'"
      ]
     },
     "execution_count": 96,
     "metadata": {},
     "output_type": "execute_result"
    }
   ],
   "source": [
    "'Na' *4 + '\\n'"
   ]
  },
  {
   "cell_type": "code",
   "execution_count": 97,
   "metadata": {},
   "outputs": [
    {
     "data": {
      "text/plain": [
       "'foobar'"
      ]
     },
     "execution_count": 97,
     "metadata": {},
     "output_type": "execute_result"
    }
   ],
   "source": [
    "# the plus sign is standard string concatenation\n",
    "'foo' + 'bar'"
   ]
  },
  {
   "cell_type": "code",
   "execution_count": 98,
   "metadata": {},
   "outputs": [
    {
     "data": {
      "text/plain": [
       "'foo bar'"
      ]
     },
     "execution_count": 98,
     "metadata": {},
     "output_type": "execute_result"
    }
   ],
   "source": [
    "# the modulus sign signifies that the arguments of the string concatenation function will begin\n",
    "# this is similar to the print macros of rust\n",
    "'foo %s' % 'bar'"
   ]
  },
  {
   "cell_type": "code",
   "execution_count": 99,
   "metadata": {},
   "outputs": [
    {
     "data": {
      "text/plain": [
       "'foo bar'"
      ]
     },
     "execution_count": 99,
     "metadata": {},
     "output_type": "execute_result"
    }
   ],
   "source": [
    "# the arguments can be identified within tuples\n",
    "'%s %s' % ('foo', 'bar')"
   ]
  },
  {
   "cell_type": "code",
   "execution_count": 100,
   "metadata": {},
   "outputs": [
    {
     "data": {
      "text/plain": [
       "'43'"
      ]
     },
     "execution_count": 100,
     "metadata": {},
     "output_type": "execute_result"
    }
   ],
   "source": [
    "'%d' % 43"
   ]
  },
  {
   "cell_type": "code",
   "execution_count": 101,
   "metadata": {},
   "outputs": [
    {
     "data": {
      "text/plain": [
       "'23'"
      ]
     },
     "execution_count": 101,
     "metadata": {},
     "output_type": "execute_result"
    }
   ],
   "source": [
    "'%s' % str(23)"
   ]
  },
  {
   "cell_type": "code",
   "execution_count": 102,
   "metadata": {},
   "outputs": [
    {
     "data": {
      "text/plain": [
       "'cstrneai'"
      ]
     },
     "execution_count": 102,
     "metadata": {},
     "output_type": "execute_result"
    }
   ],
   "source": [
    "some_str = 'cstrneai'\n",
    "some_str[:]"
   ]
  },
  {
   "cell_type": "code",
   "execution_count": 103,
   "metadata": {},
   "outputs": [
    {
     "data": {
      "text/plain": [
       "'neai'"
      ]
     },
     "execution_count": 103,
     "metadata": {},
     "output_type": "execute_result"
    }
   ],
   "source": [
    "some_str[4:]"
   ]
  },
  {
   "cell_type": "code",
   "execution_count": 104,
   "metadata": {},
   "outputs": [
    {
     "data": {
      "text/plain": [
       "'cstr'"
      ]
     },
     "execution_count": 104,
     "metadata": {},
     "output_type": "execute_result"
    }
   ],
   "source": [
    "some_str[:4]"
   ]
  },
  {
   "cell_type": "code",
   "execution_count": 105,
   "metadata": {},
   "outputs": [
    {
     "data": {
      "text/plain": [
       "'trne'"
      ]
     },
     "execution_count": 105,
     "metadata": {},
     "output_type": "execute_result"
    }
   ],
   "source": [
    "some_str[2:6]"
   ]
  },
  {
   "cell_type": "code",
   "execution_count": 106,
   "metadata": {},
   "outputs": [
    {
     "data": {
      "text/plain": [
       "'ctna'"
      ]
     },
     "execution_count": 106,
     "metadata": {},
     "output_type": "execute_result"
    }
   ],
   "source": [
    "some_str[::2]"
   ]
  },
  {
   "cell_type": "code",
   "execution_count": 107,
   "metadata": {},
   "outputs": [
    {
     "data": {
      "text/plain": [
       "'sni'"
      ]
     },
     "execution_count": 107,
     "metadata": {},
     "output_type": "execute_result"
    }
   ],
   "source": [
    "some_str[1:8:3]"
   ]
  },
  {
   "cell_type": "code",
   "execution_count": 108,
   "metadata": {},
   "outputs": [
    {
     "data": {
      "text/plain": [
       "['this', 'is', 'a', 'sentence']"
      ]
     },
     "execution_count": 108,
     "metadata": {},
     "output_type": "execute_result"
    }
   ],
   "source": [
    "some_sentence = 'this,is,a,sentence'\n",
    "\n",
    "# the delimeter of the `split` method can passed as a string argument\n",
    "some_sentence.split(',')"
   ]
  },
  {
   "cell_type": "code",
   "execution_count": 109,
   "metadata": {},
   "outputs": [
    {
     "data": {
      "text/plain": [
       "'1234'"
      ]
     },
     "execution_count": 109,
     "metadata": {},
     "output_type": "execute_result"
    }
   ],
   "source": [
    "x = ['1', '2', '3', '4']\n",
    "\n",
    "# the join method can be called on a string to concatenate any number of strings\n",
    "''.join(x)"
   ]
  },
  {
   "cell_type": "code",
   "execution_count": 110,
   "metadata": {},
   "outputs": [
    {
     "data": {
      "text/plain": [
       "2"
      ]
     },
     "execution_count": 110,
     "metadata": {},
     "output_type": "execute_result"
    }
   ],
   "source": [
    "some_sentence.find('is')"
   ]
  },
  {
   "cell_type": "code",
   "execution_count": 111,
   "metadata": {},
   "outputs": [
    {
     "data": {
      "text/plain": [
       "True"
      ]
     },
     "execution_count": 111,
     "metadata": {},
     "output_type": "execute_result"
    }
   ],
   "source": [
    "some_sentence.startswith('this')"
   ]
  },
  {
   "cell_type": "code",
   "execution_count": 112,
   "metadata": {},
   "outputs": [
    {
     "data": {
      "text/plain": [
       "False"
      ]
     },
     "execution_count": 112,
     "metadata": {},
     "output_type": "execute_result"
    }
   ],
   "source": [
    "some_sentence.startswith('not')"
   ]
  },
  {
   "cell_type": "code",
   "execution_count": 113,
   "metadata": {},
   "outputs": [
    {
     "data": {
      "text/plain": [
       "5"
      ]
     },
     "execution_count": 113,
     "metadata": {},
     "output_type": "execute_result"
    }
   ],
   "source": [
    "some_sentence.rfind('is')"
   ]
  },
  {
   "cell_type": "code",
   "execution_count": 114,
   "metadata": {},
   "outputs": [
    {
     "data": {
      "text/plain": [
       "2"
      ]
     },
     "execution_count": 114,
     "metadata": {},
     "output_type": "execute_result"
    }
   ],
   "source": [
    "# count the number of occurances of the given substring\n",
    "some_sentence.count('i')"
   ]
  },
  {
   "cell_type": "code",
   "execution_count": 115,
   "metadata": {},
   "outputs": [
    {
     "data": {
      "text/plain": [
       "True"
      ]
     },
     "execution_count": 115,
     "metadata": {},
     "output_type": "execute_result"
    }
   ],
   "source": [
    "some_string = 'str'\n",
    "some_string.isalnum()"
   ]
  },
  {
   "cell_type": "code",
   "execution_count": 116,
   "metadata": {},
   "outputs": [
    {
     "data": {
      "text/plain": [
       "'str  '"
      ]
     },
     "execution_count": 116,
     "metadata": {},
     "output_type": "execute_result"
    }
   ],
   "source": [
    "some_string = '....str  '\n",
    "some_string.strip('.')"
   ]
  },
  {
   "cell_type": "code",
   "execution_count": 117,
   "metadata": {},
   "outputs": [
    {
     "data": {
      "text/plain": [
       "'This is a string'"
      ]
     },
     "execution_count": 117,
     "metadata": {},
     "output_type": "execute_result"
    }
   ],
   "source": [
    "some_string = 'this is a String'\n",
    "some_string.capitalize()"
   ]
  },
  {
   "cell_type": "code",
   "execution_count": 118,
   "metadata": {},
   "outputs": [
    {
     "data": {
      "text/plain": [
       "'This Is A String'"
      ]
     },
     "execution_count": 118,
     "metadata": {},
     "output_type": "execute_result"
    }
   ],
   "source": [
    "some_string.title()"
   ]
  },
  {
   "cell_type": "code",
   "execution_count": 119,
   "metadata": {},
   "outputs": [
    {
     "data": {
      "text/plain": [
       "'THIS IS A STRING'"
      ]
     },
     "execution_count": 119,
     "metadata": {},
     "output_type": "execute_result"
    }
   ],
   "source": [
    "some_string.upper()"
   ]
  },
  {
   "cell_type": "code",
   "execution_count": 120,
   "metadata": {},
   "outputs": [
    {
     "data": {
      "text/plain": [
       "'this is a string'"
      ]
     },
     "execution_count": 120,
     "metadata": {},
     "output_type": "execute_result"
    }
   ],
   "source": [
    "some_string.lower()"
   ]
  },
  {
   "cell_type": "code",
   "execution_count": 121,
   "metadata": {},
   "outputs": [
    {
     "data": {
      "text/plain": [
       "'THIS IS A sTRING'"
      ]
     },
     "execution_count": 121,
     "metadata": {},
     "output_type": "execute_result"
    }
   ],
   "source": [
    "some_string.swapcase()"
   ]
  },
  {
   "cell_type": "code",
   "execution_count": 122,
   "metadata": {},
   "outputs": [
    {
     "data": {
      "text/plain": [
       "'       this is a String       '"
      ]
     },
     "execution_count": 122,
     "metadata": {},
     "output_type": "execute_result"
    }
   ],
   "source": [
    "some_string.center(30)"
   ]
  },
  {
   "cell_type": "code",
   "execution_count": 123,
   "metadata": {},
   "outputs": [
    {
     "data": {
      "text/plain": [
       "'this is a String              '"
      ]
     },
     "execution_count": 123,
     "metadata": {},
     "output_type": "execute_result"
    }
   ],
   "source": [
    "some_string.ljust(30)"
   ]
  },
  {
   "cell_type": "code",
   "execution_count": 124,
   "metadata": {},
   "outputs": [
    {
     "data": {
      "text/plain": [
       "'              this is a String'"
      ]
     },
     "execution_count": 124,
     "metadata": {},
     "output_type": "execute_result"
    }
   ],
   "source": [
    "some_string.rjust(30)"
   ]
  },
  {
   "cell_type": "code",
   "execution_count": 125,
   "metadata": {},
   "outputs": [
    {
     "data": {
      "text/plain": [
       "'thxx xx a String'"
      ]
     },
     "execution_count": 125,
     "metadata": {},
     "output_type": "execute_result"
    }
   ],
   "source": [
    "some_string.replace('is', 'xx')"
   ]
  },
  {
   "cell_type": "code",
   "execution_count": 126,
   "metadata": {},
   "outputs": [
    {
     "data": {
      "text/plain": [
       "'thxx is a String'"
      ]
     },
     "execution_count": 126,
     "metadata": {},
     "output_type": "execute_result"
    }
   ],
   "source": [
    "some_string.replace('is', 'xx', 1)"
   ]
  },
  {
   "cell_type": "code",
   "execution_count": 127,
   "metadata": {},
   "outputs": [],
   "source": [
    "# in python:\n",
    "# lists are mutable\n",
    "# tuples are immutable\n",
    "# dictionaries are `key` and `value` pairs\n",
    "# sets contain only keys (sets from set theory)"
   ]
  },
  {
   "cell_type": "code",
   "execution_count": 128,
   "metadata": {},
   "outputs": [
    {
     "data": {
      "text/plain": [
       "3"
      ]
     },
     "execution_count": 128,
     "metadata": {},
     "output_type": "execute_result"
    }
   ],
   "source": [
    "some_list = [] # empty list\n",
    "another_list = list() # empty list\n",
    "\n",
    "weekend = ['saturday', 'sunday']\n",
    "weekdays = list(['monday', 'tuesday', 'wednesday', 'thrusday', 'friday'])\n",
    "year = list('2023')\n",
    "\n",
    "weekdays.index('thrusday')"
   ]
  },
  {
   "cell_type": "code",
   "execution_count": 129,
   "metadata": {},
   "outputs": [
    {
     "data": {
      "text/plain": [
       "1"
      ]
     },
     "execution_count": 129,
     "metadata": {},
     "output_type": "execute_result"
    }
   ],
   "source": [
    "weekdays.count('monday')"
   ]
  },
  {
   "cell_type": "code",
   "execution_count": 130,
   "metadata": {},
   "outputs": [
    {
     "data": {
      "text/plain": [
       "['wednesday', 'tuesday', 'thrusday', 'monday', 'friday']"
      ]
     },
     "execution_count": 130,
     "metadata": {},
     "output_type": "execute_result"
    }
   ],
   "source": [
    "weekdays.sort(reverse = True)\n",
    "weekdays"
   ]
  },
  {
   "cell_type": "code",
   "execution_count": 131,
   "metadata": {},
   "outputs": [
    {
     "data": {
      "text/plain": [
       "'1, 2, 3'"
      ]
     },
     "execution_count": 131,
     "metadata": {},
     "output_type": "execute_result"
    }
   ],
   "source": [
    "x = [1, 2, 3]\n",
    "', '.join(str(item) for item in x)"
   ]
  },
  {
   "cell_type": "code",
   "execution_count": 132,
   "metadata": {},
   "outputs": [
    {
     "name": "stdout",
     "output_type": "stream",
     "text": [
      "[9, 2, 3] [9, 2, 3] [1, 2, 3]\n"
     ]
    }
   ],
   "source": [
    "# python is copy reference by default\n",
    "a = [1, 2, 3]\n",
    "\n",
    "b = a\n",
    "c = a.copy()\n",
    "\n",
    "b[0] = 9\n",
    "print('%s %s %s' % (a, b, c))"
   ]
  },
  {
   "cell_type": "code",
   "execution_count": 133,
   "metadata": {},
   "outputs": [
    {
     "name": "stdout",
     "output_type": "stream",
     "text": [
      "12 some_string 3\n"
     ]
    }
   ],
   "source": [
    "# tuples are immutable\n",
    "# tuples are used by the interpreter to pass arguments to functions and methods\n",
    "\n",
    "empty_tuple = ()\n",
    "\n",
    "# tuples can be used for objects instead of classes for better performance and for a smaller memory blueprint\n",
    "some_tuple_object = (12, 'some_string', 3.1)\n",
    "\n",
    "some_integer, some_string, some_double = some_tuple_object\n",
    "\n",
    "print('%d %s %d' % (some_integer, some_string, some_double))"
   ]
  },
  {
   "cell_type": "code",
   "execution_count": 134,
   "metadata": {},
   "outputs": [
    {
     "data": {
      "text/plain": [
       "(9, 2, 3)"
      ]
     },
     "execution_count": 134,
     "metadata": {},
     "output_type": "execute_result"
    }
   ],
   "source": [
    "some_tuple = tuple(a)\n",
    "\n",
    "some_tuple"
   ]
  },
  {
   "cell_type": "code",
   "execution_count": 135,
   "metadata": {},
   "outputs": [
    {
     "data": {
      "text/plain": [
       "[9, 2, 3]"
      ]
     },
     "execution_count": 135,
     "metadata": {},
     "output_type": "execute_result"
    }
   ],
   "source": [
    "list(some_tuple)"
   ]
  },
  {
   "cell_type": "code",
   "execution_count": 136,
   "metadata": {},
   "outputs": [
    {
     "name": "stdout",
     "output_type": "stream",
     "text": [
      "1 2.3\n",
      "index does not exist\n"
     ]
    }
   ],
   "source": [
    "some_dictionary = {'key1': 1, 'key2': 2.3, 'key3': 'some_string'}\n",
    "\n",
    "print(some_dictionary['key1'], some_dictionary['key2'])\n",
    "\n",
    "try:\n",
    "    print(some_dictionary['key23'])\n",
    "except KeyError:\n",
    "    print('index does not exist')"
   ]
  },
  {
   "cell_type": "code",
   "execution_count": 137,
   "metadata": {},
   "outputs": [
    {
     "name": "stdout",
     "output_type": "stream",
     "text": [
      "some_string\n"
     ]
    }
   ],
   "source": [
    "print(some_dictionary.get('key3'))"
   ]
  },
  {
   "cell_type": "code",
   "execution_count": 138,
   "metadata": {},
   "outputs": [
    {
     "name": "stdout",
     "output_type": "stream",
     "text": [
      "not in the dictionary\n"
     ]
    }
   ],
   "source": [
    "print(some_dictionary.get('key32', 'not in the dictionary'))"
   ]
  },
  {
   "cell_type": "code",
   "execution_count": 139,
   "metadata": {},
   "outputs": [
    {
     "name": "stdout",
     "output_type": "stream",
     "text": [
      "dict_keys(['key1', 'key2', 'key3'])\n"
     ]
    }
   ],
   "source": [
    "print(some_dictionary.keys())"
   ]
  },
  {
   "cell_type": "code",
   "execution_count": 140,
   "metadata": {},
   "outputs": [
    {
     "name": "stdout",
     "output_type": "stream",
     "text": [
      "dict_values([1, 2.3, 'some_string'])\n"
     ]
    }
   ],
   "source": [
    "print(some_dictionary.values())"
   ]
  },
  {
   "cell_type": "code",
   "execution_count": 141,
   "metadata": {},
   "outputs": [
    {
     "name": "stdout",
     "output_type": "stream",
     "text": [
      "Help on function some_function in module __main__:\n",
      "\n",
      "some_function()\n",
      "    this functions does something.\n",
      "    :returns: int\n",
      "\n"
     ]
    }
   ],
   "source": [
    "# documentation for all functions is standard good practice\n",
    "def some_function():\n",
    "    '''\n",
    "    this functions does something.\n",
    "    :returns: int\n",
    "    '''\n",
    "    return \\\n",
    "        1\n",
    "\n",
    "help(some_function)"
   ]
  },
  {
   "cell_type": "code",
   "execution_count": 142,
   "metadata": {},
   "outputs": [
    {
     "name": "stdout",
     "output_type": "stream",
     "text": [
      "1 3\n",
      "1 3\n",
      "1 3\n",
      "ok\n",
      "not ok\n"
     ]
    }
   ],
   "source": [
    "x = 1\n",
    "y = 3\n",
    "\n",
    "if x == 1 and y == 3:\n",
    "    print('%d %d' % (x, y))\n",
    "\n",
    "if x == 1 or y == 2:\n",
    "    print('%d %d' % (x, y))\n",
    "\n",
    "if x == 2:\n",
    "    print('ok')\n",
    "elif x != 3 and y != 4:\n",
    "    print('%d %d' % (x, y))\n",
    "\n",
    "\n",
    "some_list = ['x', 'y', 'z']\n",
    "\n",
    "\n",
    "# `in` and `not in` keywords are similar to iterator filters methods in rust\n",
    "if 'x' in some_list:\n",
    "    print('ok')\n",
    "\n",
    "if 'c' not in some_list:\n",
    "    print('not ok')"
   ]
  },
  {
   "cell_type": "code",
   "execution_count": 143,
   "metadata": {},
   "outputs": [
    {
     "name": "stdout",
     "output_type": "stream",
     "text": [
      "False True\n"
     ]
    }
   ],
   "source": [
    "some_bool1 = bool(0)\n",
    "some_bool2 = bool(1)\n",
    "\n",
    "print('%s %s' % (some_bool1, some_bool2))"
   ]
  },
  {
   "cell_type": "code",
   "execution_count": 144,
   "metadata": {},
   "outputs": [
    {
     "name": "stdout",
     "output_type": "stream",
     "text": [
      "True True\n"
     ]
    }
   ],
   "source": [
    "some_bool1 = bool('0')\n",
    "some_bool2 = bool('1')\n",
    "\n",
    "print('%s %s' % (some_bool1, some_bool2))"
   ]
  },
  {
   "cell_type": "code",
   "execution_count": 145,
   "metadata": {},
   "outputs": [
    {
     "name": "stdout",
     "output_type": "stream",
     "text": [
      "1\n",
      "2\n",
      "3\n",
      "4\n"
     ]
    }
   ],
   "source": [
    "x = 1\n",
    "while x < 5:\n",
    "\n",
    "\n",
    "\n",
    "    \n",
    "    print(x)\n",
    "    x = x + 1"
   ]
  },
  {
   "cell_type": "code",
   "execution_count": 146,
   "metadata": {},
   "outputs": [],
   "source": [
    "def some_func():\n",
    "    pass # the pass keyword is used as a placeholder for a missing implementation. similar to the `todo!()` in rust"
   ]
  },
  {
   "cell_type": "code",
   "execution_count": 147,
   "metadata": {},
   "outputs": [
    {
     "name": "stdout",
     "output_type": "stream",
     "text": [
      "1\n",
      "2\n",
      "3\n",
      "4\n",
      "5\n",
      "6\n",
      "7\n",
      "8\n",
      "9\n"
     ]
    }
   ],
   "source": [
    "#  python iterators are lazily loaded\n",
    "for i in range(1, 10): # this is similar to `slices` in rust\n",
    "    print(i)"
   ]
  },
  {
   "cell_type": "code",
   "execution_count": 148,
   "metadata": {},
   "outputs": [
    {
     "name": "stdout",
     "output_type": "stream",
     "text": [
      "key1 1\n",
      "key3 3\n"
     ]
    }
   ],
   "source": [
    "some_dictionary = {'key1': 1, 'key2': 2, 'key3': 3,'key4': 4}\n",
    "\n",
    "for key, val in some_dictionary.items():\n",
    "    if val == 2:\n",
    "        continue\n",
    "\n",
    "    print('%s %d' % (key, val))\n",
    "\n",
    "    if val == 3:\n",
    "        break"
   ]
  },
  {
   "cell_type": "code",
   "execution_count": 149,
   "metadata": {},
   "outputs": [
    {
     "name": "stdout",
     "output_type": "stream",
     "text": [
      "14\n"
     ]
    }
   ],
   "source": [
    "def func(a, b, c = 10):\n",
    "    return a + b + c\n",
    "\n",
    "print(func(1, 3))"
   ]
  },
  {
   "cell_type": "code",
   "execution_count": 150,
   "metadata": {},
   "outputs": [
    {
     "name": "stdout",
     "output_type": "stream",
     "text": [
      "1 2 3\n"
     ]
    }
   ],
   "source": [
    "def label_function(a, b, c):\n",
    "    print('%d %d %d' % (a, b, c))\n",
    "\n",
    "label_function(1, 2, 3)"
   ]
  },
  {
   "cell_type": "code",
   "execution_count": 151,
   "metadata": {},
   "outputs": [
    {
     "name": "stdout",
     "output_type": "stream",
     "text": [
      "3 1 2\n"
     ]
    }
   ],
   "source": [
    "label_function(b = 1, c = 2, a = 3)"
   ]
  },
  {
   "cell_type": "code",
   "execution_count": 152,
   "metadata": {},
   "outputs": [
    {
     "name": "stdout",
     "output_type": "stream",
     "text": [
      "1 3 2\n"
     ]
    }
   ],
   "source": [
    "label_function(1, c = 2, b = 3)"
   ]
  },
  {
   "cell_type": "code",
   "execution_count": 153,
   "metadata": {},
   "outputs": [],
   "source": [
    "# labeled parameters cannot be followed by unlabeled parameters\n",
    "# label_function(c = 1, 2, 3)"
   ]
  },
  {
   "cell_type": "code",
   "execution_count": 154,
   "metadata": {},
   "outputs": [
    {
     "name": "stdout",
     "output_type": "stream",
     "text": [
      "(2, 3, 4)\n",
      "{'argz': 5, 'argx': 6}\n"
     ]
    }
   ],
   "source": [
    "# `*kargs` declares a dynamic amount of unnamed arguments that can be passed to a process\n",
    "# `**kwargs` declares a dynamic amount of named arguments that can be passed to a process\n",
    "\n",
    "def some_function(a, b = 1, *kargs, **kwargs):\n",
    "    print(kargs)\n",
    "    print(kwargs)\n",
    "\n",
    "some_function(1, 23, 2, 3, 4, argz = 5, argx = 6)"
   ]
  },
  {
   "cell_type": "code",
   "execution_count": 155,
   "metadata": {},
   "outputs": [
    {
     "name": "stdout",
     "output_type": "stream",
     "text": [
      "name_s\n",
      "24\n",
      "name_p\n",
      "42\n",
      "the class method was called\n",
      "greetings\n"
     ]
    }
   ],
   "source": [
    "class Person:\n",
    "    def __init__(self,  name, age):\n",
    "        self.name = name\n",
    "        self.age = age\n",
    "\n",
    "    def getName(self):\n",
    "        return self.name\n",
    "    \n",
    "    def getAge(self):\n",
    "        return self.age\n",
    "\n",
    "class OtherPersonType(Person):\n",
    "    def getAge(self):\n",
    "        return self.age + 10\n",
    "\n",
    "    @staticmethod\n",
    "    def greeting():\n",
    "        print('greetings')\n",
    "\n",
    "    @classmethod\n",
    "    def foo(cls):\n",
    "        print('the class method was called')\n",
    "\n",
    "\n",
    "some_person = Person('name_s', 24)\n",
    "print(some_person.name)\n",
    "print(some_person.getAge())\n",
    "\n",
    "some_other_person = OtherPersonType('name_p', 32)\n",
    "print(some_other_person.name)\n",
    "print(some_other_person.getAge())\n",
    "\n",
    "OtherPersonType.foo()\n",
    "\n",
    "OtherPersonType.greeting()"
   ]
  },
  {
   "attachments": {},
   "cell_type": "markdown",
   "metadata": {},
   "source": [
    "# socket connections"
   ]
  },
  {
   "attachments": {},
   "cell_type": "markdown",
   "metadata": {},
   "source": [
    "## server side"
   ]
  },
  {
   "cell_type": "code",
   "execution_count": null,
   "metadata": {},
   "outputs": [],
   "source": [
    "import socket\n",
    "\n",
    "serverSocket = socket.socket(socket.AF_INET, socket.SOCK_STREAM)\n",
    "print(serverSocket)\n",
    "\n",
    "\n",
    "\n",
    "\n",
    "# local address and port binding on server\n",
    "serverSocket.bind(('127.0.0.1', 4326))\n",
    "\n",
    "\n",
    "\n",
    "\n",
    "# socket connection will only listen for one connection\n",
    "serverSocket.listen(1)\n",
    "\n",
    "\n",
    "\n",
    "# `accept` is an async method\n",
    "clientSocket, clientAddress = serverSocket.accept()\n",
    "\n",
    "print(\"accepted connection from: \", clientAddress)\n",
    "\n",
    "\n",
    "\n",
    "# it is not guaranteed that all data transfered through tcp will arrive at its destination\n",
    "# `recv` is not an async function\n",
    "# TODO: implement error handing (timeout event)\n",
    "data = clientSocket.recv(1024)\n",
    "\n",
    "# check that data was received\n",
    "if data:\n",
    "    print(\"received %d bytes from the client\", len(data))\n",
    "\n",
    "    # TODO: implement error handing (timeout event)\n",
    "    len = clientSocket.send(data) # sends the same data back\n",
    "    print(\"sent %d bytes back to the client server\", len)\n",
    "\n",
    "\n",
    "\n",
    "# close client and server socket\n",
    "clientSocket.close()\n",
    "serverSocket.close()"
   ]
  },
  {
   "attachments": {},
   "cell_type": "markdown",
   "metadata": {},
   "source": [
    "## client side"
   ]
  },
  {
   "cell_type": "code",
   "execution_count": null,
   "metadata": {},
   "outputs": [],
   "source": [
    "import socket\n",
    "\n",
    "clientSocket = socket.socket(socket.AF_INET, socket.SOCK_STREAM)\n",
    "print(clientSocket)\n",
    "\n",
    "\n",
    "# connect to server with socket\n",
    "clientSocket.connect(\"127.0.0.1\", 4326)"
   ]
  },
  {
   "cell_type": "code",
   "execution_count": null,
   "metadata": {},
   "outputs": [],
   "source": [
    "import os\n",
    "import sys\n",
    "\n",
    "def main():\n",
    "    try:\n",
    "        for x in range(10000):\n",
    "            print(\"y\")\n",
    "        sys.stdout.flush()\n",
    "    except BrokenPipeError:\n",
    "\n",
    "        devnull = os.open(os.devnull, os.O_WRONLY)\n",
    "        os.dup2(devnull, sys.stdout.fileno())\n",
    "        sys.exit(1)  # Python exits with error code 1 on EPIPE\n",
    "\n",
    "if __name__ == '__main__':\n",
    "    main()"
   ]
  }
 ],
 "metadata": {
  "anaconda-cloud": {},
  "colab": {
   "collapsed_sections": [],
   "name": "Intro-to-sklearn-2022.ipynb",
   "provenance": []
  },
  "kernelspec": {
   "display_name": "Python 3",
   "language": "python",
   "name": "python3"
  },
  "language_info": {
   "codemirror_mode": {
    "name": "ipython",
    "version": 3
   },
   "file_extension": ".py",
   "mimetype": "text/x-python",
   "name": "python",
   "nbconvert_exporter": "python",
   "pygments_lexer": "ipython3",
   "version": "3.10.9"
  },
  "vscode": {
   "interpreter": {
    "hash": "e7370f93d1d0cde622a1f8e1c04877d8463912d04d973331ad4851f04de6915a"
   }
  }
 },
 "nbformat": 4,
 "nbformat_minor": 1
}
